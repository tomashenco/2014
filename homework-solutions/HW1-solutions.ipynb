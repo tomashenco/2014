{
 "cells": [
  {
   "cell_type": "markdown",
   "metadata": {},
   "source": [
    "# Homework 1. Exploratory Data Analysis\n",
    "\n",
    "Due: Thursday, September 18, 2014 11:59 PM\n",
    "\n",
    "<a href=https://raw.githubusercontent.com/cs109/2014/master/homework/HW1.ipynb download=HW1.ipynb> Download this assignment</a>\n",
    "\n",
    "---"
   ]
  },
  {
   "cell_type": "markdown",
   "metadata": {},
   "source": [
    "## Introduction\n",
    "\n",
    "In this homework we ask you three questions that we expect you to answer using data. For each question we ask you to complete a series of tasks that should help guide you through the data analysis. Complete these tasks and then write a short (100 words or less) answer to the question.\n",
    "\n",
    "#### Data\n",
    "For this assignment we will use two databases: \n",
    "\n",
    "1. The [Sean Lahman's Baseball Database](http://seanlahman.com/baseball-archive/statistics) which contains the \"complete batting and pitching statistics from 1871 to 2013, plus fielding statistics, standings, team stats, managerial records, post-season data, and more. For more details on the latest release, please [read the documentation](http://seanlahman.com/files/database/readme2012.txt).\"\n",
    "\n",
    "2. [Gapminder](http://www.gapminder.org) is a great resource that contains over [500 data sets](http://www.gapminder.org/data/) related to world indicators such as income, GDP and life expectancy. \n",
    "\n",
    "\n",
    "#### Purpose\n",
    "\n",
    "In this assignment, you will learn how to: \n",
    "\n",
    "a. Load in CSV files from the web. \n",
    "\n",
    "b. Create functions in python. \n",
    "\n",
    "C. Create plots and summary statistics for exploratory data analysis such as histograms, boxplots and scatter plots. \n",
    "\n",
    "\n",
    "#### Useful libraries for this assignment \n",
    "\n",
    "* [numpy](http://docs.scipy.org/doc/numpy-dev/user/index.html), for arrays\n",
    "* [pandas](http://pandas.pydata.org/), for data frames\n",
    "* [matplotlib](http://matplotlib.org/), for plotting\n",
    "\n",
    "---"
   ]
  },
  {
   "cell_type": "code",
   "execution_count": 2,
   "metadata": {
    "collapsed": false
   },
   "outputs": [],
   "source": [
    "# special IPython command to prepare the notebook for matplotlib\n",
    "%matplotlib inline \n",
    "\n",
    "import numpy as np\n",
    "import pandas as pd\n",
    "import matplotlib.pyplot as plt\n",
    "\n",
    "# For this assignment, we need to load in the following modules\n",
    "import requests\n",
    "import StringIO\n",
    "import zipfile\n",
    "import scipy.stats "
   ]
  },
  {
   "cell_type": "markdown",
   "metadata": {},
   "source": [
    "## Problem 1\n",
    "\n",
    "In Lecture 1, we showed a plot that provided evidence that the 2002 and 2003 Oakland A's, a team that used data science, had a competitive advantage. Since, others teams have started using data science as well. Use exploratory data analysis to determine if the competitive advantage has since disappeared. "
   ]
  },
  {
   "cell_type": "markdown",
   "metadata": {},
   "source": [
    "#### Problem 1(a) \n",
    "Load in [these CSV files](http://seanlahman.com/files/database/lahman-csv_2014-02-14.zip) from the [Sean Lahman's Baseball Database](http://seanlahman.com/baseball-archive/statistics). For this assignment, we will use the 'Salaries.csv' and 'Teams.csv' tables. Read these tables into a pandas `DataFrame` and show the head of each table. \n",
    "\n",
    "**Hint** Use the [requests](http://docs.python-requests.org/en/latest/), [StringIO](http://docs.python.org/2/library/stringio.html) and [zipfile](https://docs.python.org/2/library/zipfile.html) modules to get from the web.  "
   ]
  },
  {
   "cell_type": "code",
   "execution_count": 2,
   "metadata": {
    "collapsed": false
   },
   "outputs": [],
   "source": [
    "#your code here\n",
    "\n",
    "def getZIP(zipFileName):\n",
    "    r = requests.get(zipFileName).content\n",
    "    s = StringIO.StringIO(r)\n",
    "    zf = zipfile.ZipFile(s, 'r') # Read in a list of zipped files\n",
    "    return zf"
   ]
  },
  {
   "cell_type": "markdown",
   "metadata": {},
   "source": [
    "Here, we use the requests, StringIO and zipfile modules to extract all the text files from the web.  The zipfile model can create, read, write, append, and list ZIP files.  You did not have to create a function, but I did to make the solution cleaner. "
   ]
  },
  {
   "cell_type": "markdown",
   "metadata": {},
   "source": [
    "Using the URL linking to the .zip file, we can print all the files listed in the zipped folder. "
   ]
  },
  {
   "cell_type": "code",
   "execution_count": 3,
   "metadata": {
    "collapsed": false
   },
   "outputs": [
    {
     "name": "stdout",
     "output_type": "stream",
     "text": [
      "['SchoolsPlayers.csv', 'SeriesPost.csv', 'Teams.csv', 'TeamsFranchises.csv', 'TeamsHalf.csv', 'AllstarFull.csv', 'Appearances.csv', 'AwardsManagers.csv', 'AwardsPlayers.csv', 'AwardsShareManagers.csv', 'AwardsSharePlayers.csv', 'Batting.csv', 'BattingPost.csv', 'Fielding.csv', 'FieldingOF.csv', 'FieldingPost.csv', 'HallOfFame.csv', 'Managers.csv', 'ManagersHalf.csv', 'Master.csv', 'Pitching.csv', 'PitchingPost.csv', 'readme2013.txt', 'Salaries.csv', 'Schools.csv']\n"
     ]
    }
   ],
   "source": [
    "url = 'http://seanlahman.com/files/database/lahman-csv_2014-02-14.zip'\n",
    "zf = getZIP(url)\n",
    "print zf.namelist()"
   ]
  },
  {
   "cell_type": "code",
   "execution_count": 4,
   "metadata": {
    "collapsed": false
   },
   "outputs": [
    {
     "data": {
      "text/plain": [
       "'Salaries.csv'"
      ]
     },
     "execution_count": 4,
     "metadata": {},
     "output_type": "execute_result"
    }
   ],
   "source": [
    "tablenames = zf.namelist()\n",
    "tablenames[tablenames.index('Salaries.csv')]"
   ]
  },
  {
   "cell_type": "markdown",
   "metadata": {},
   "source": [
    "Next, we extract the 'Salaries.csv' file from the zipped folder. We use the `zf.open()` function to open a specific file and use `pd.read_csv()` to read the table into a pandas DataFrame. This table contains salaries labled by year, by player, by league and by team. "
   ]
  },
  {
   "cell_type": "code",
   "execution_count": 5,
   "metadata": {
    "collapsed": false
   },
   "outputs": [
    {
     "name": "stdout",
     "output_type": "stream",
     "text": [
      "Number of rows: 23956\n"
     ]
    },
    {
     "data": {
      "text/html": [
       "<div style=\"max-height:1000px;max-width:1500px;overflow:auto;\">\n",
       "<table border=\"1\" class=\"dataframe\">\n",
       "  <thead>\n",
       "    <tr style=\"text-align: right;\">\n",
       "      <th></th>\n",
       "      <th>yearID</th>\n",
       "      <th>teamID</th>\n",
       "      <th>lgID</th>\n",
       "      <th>playerID</th>\n",
       "      <th>salary</th>\n",
       "    </tr>\n",
       "  </thead>\n",
       "  <tbody>\n",
       "    <tr>\n",
       "      <th>0</th>\n",
       "      <td> 1985</td>\n",
       "      <td> BAL</td>\n",
       "      <td> AL</td>\n",
       "      <td> murraed02</td>\n",
       "      <td> 1472819</td>\n",
       "    </tr>\n",
       "    <tr>\n",
       "      <th>1</th>\n",
       "      <td> 1985</td>\n",
       "      <td> BAL</td>\n",
       "      <td> AL</td>\n",
       "      <td>  lynnfr01</td>\n",
       "      <td> 1090000</td>\n",
       "    </tr>\n",
       "    <tr>\n",
       "      <th>2</th>\n",
       "      <td> 1985</td>\n",
       "      <td> BAL</td>\n",
       "      <td> AL</td>\n",
       "      <td> ripkeca01</td>\n",
       "      <td>  800000</td>\n",
       "    </tr>\n",
       "    <tr>\n",
       "      <th>3</th>\n",
       "      <td> 1985</td>\n",
       "      <td> BAL</td>\n",
       "      <td> AL</td>\n",
       "      <td>  lacyle01</td>\n",
       "      <td>  725000</td>\n",
       "    </tr>\n",
       "    <tr>\n",
       "      <th>4</th>\n",
       "      <td> 1985</td>\n",
       "      <td> BAL</td>\n",
       "      <td> AL</td>\n",
       "      <td> flanami01</td>\n",
       "      <td>  641667</td>\n",
       "    </tr>\n",
       "  </tbody>\n",
       "</table>\n",
       "</div>"
      ],
      "text/plain": [
       "   yearID teamID lgID   playerID   salary\n",
       "0    1985    BAL   AL  murraed02  1472819\n",
       "1    1985    BAL   AL   lynnfr01  1090000\n",
       "2    1985    BAL   AL  ripkeca01   800000\n",
       "3    1985    BAL   AL   lacyle01   725000\n",
       "4    1985    BAL   AL  flanami01   641667"
      ]
     },
     "execution_count": 5,
     "metadata": {},
     "output_type": "execute_result"
    }
   ],
   "source": [
    "salaries = pd.read_csv(zf.open(tablenames[tablenames.index('Salaries.csv')]))\n",
    "print \"Number of rows: %i\" % salaries.shape[0]\n",
    "salaries.head()"
   ]
  },
  {
   "cell_type": "markdown",
   "metadata": {},
   "source": [
    "Finall, we extract the 'Teams.csv' file from the zipped folder. This table contains a large amount of information, but for our purposes, we are interested in the `yearID`, `teamID` and number of wins `W`. "
   ]
  },
  {
   "cell_type": "code",
   "execution_count": 6,
   "metadata": {
    "collapsed": false
   },
   "outputs": [
    {
     "name": "stdout",
     "output_type": "stream",
     "text": [
      "Number of rows: 2745\n"
     ]
    },
    {
     "data": {
      "text/html": [
       "<div style=\"max-height:1000px;max-width:1500px;overflow:auto;\">\n",
       "<table border=\"1\" class=\"dataframe\">\n",
       "  <thead>\n",
       "    <tr style=\"text-align: right;\">\n",
       "      <th></th>\n",
       "      <th>yearID</th>\n",
       "      <th>teamID</th>\n",
       "      <th>W</th>\n",
       "    </tr>\n",
       "  </thead>\n",
       "  <tbody>\n",
       "    <tr>\n",
       "      <th>0</th>\n",
       "      <td> 1871</td>\n",
       "      <td> PH1</td>\n",
       "      <td> 21</td>\n",
       "    </tr>\n",
       "    <tr>\n",
       "      <th>1</th>\n",
       "      <td> 1871</td>\n",
       "      <td> CH1</td>\n",
       "      <td> 19</td>\n",
       "    </tr>\n",
       "    <tr>\n",
       "      <th>2</th>\n",
       "      <td> 1871</td>\n",
       "      <td> BS1</td>\n",
       "      <td> 20</td>\n",
       "    </tr>\n",
       "    <tr>\n",
       "      <th>3</th>\n",
       "      <td> 1871</td>\n",
       "      <td> WS3</td>\n",
       "      <td> 15</td>\n",
       "    </tr>\n",
       "    <tr>\n",
       "      <th>4</th>\n",
       "      <td> 1871</td>\n",
       "      <td> NY2</td>\n",
       "      <td> 16</td>\n",
       "    </tr>\n",
       "  </tbody>\n",
       "</table>\n",
       "</div>"
      ],
      "text/plain": [
       "   yearID teamID   W\n",
       "0    1871    PH1  21\n",
       "1    1871    CH1  19\n",
       "2    1871    BS1  20\n",
       "3    1871    WS3  15\n",
       "4    1871    NY2  16"
      ]
     },
     "execution_count": 6,
     "metadata": {},
     "output_type": "execute_result"
    }
   ],
   "source": [
    "teams = pd.read_csv(zf.open(tablenames[tablenames.index('Teams.csv')]))\n",
    "teams = teams[['yearID', 'teamID', 'W']]\n",
    "print \"Number of rows: %i\" % teams.shape[0]\n",
    "teams.head()"
   ]
  },
  {
   "cell_type": "markdown",
   "metadata": {},
   "source": [
    "#### Problem 1(b)\n",
    "\n",
    "Summarize the Salaries DataFrame to show the total salaries for each team for each year. Show the head of the new summarized DataFrame. "
   ]
  },
  {
   "cell_type": "code",
   "execution_count": 7,
   "metadata": {
    "collapsed": false
   },
   "outputs": [
    {
     "data": {
      "text/html": [
       "<div style=\"max-height:1000px;max-width:1500px;overflow:auto;\">\n",
       "<table border=\"1\" class=\"dataframe\">\n",
       "  <thead>\n",
       "    <tr style=\"text-align: right;\">\n",
       "      <th></th>\n",
       "      <th>yearID</th>\n",
       "      <th>teamID</th>\n",
       "      <th>salary</th>\n",
       "    </tr>\n",
       "  </thead>\n",
       "  <tbody>\n",
       "    <tr>\n",
       "      <th>0</th>\n",
       "      <td> 1985</td>\n",
       "      <td> ATL</td>\n",
       "      <td> 14807000</td>\n",
       "    </tr>\n",
       "    <tr>\n",
       "      <th>1</th>\n",
       "      <td> 1985</td>\n",
       "      <td> BAL</td>\n",
       "      <td> 11560712</td>\n",
       "    </tr>\n",
       "    <tr>\n",
       "      <th>2</th>\n",
       "      <td> 1985</td>\n",
       "      <td> BOS</td>\n",
       "      <td> 10897560</td>\n",
       "    </tr>\n",
       "    <tr>\n",
       "      <th>3</th>\n",
       "      <td> 1985</td>\n",
       "      <td> CAL</td>\n",
       "      <td> 14427894</td>\n",
       "    </tr>\n",
       "    <tr>\n",
       "      <th>4</th>\n",
       "      <td> 1985</td>\n",
       "      <td> CHA</td>\n",
       "      <td>  9846178</td>\n",
       "    </tr>\n",
       "  </tbody>\n",
       "</table>\n",
       "</div>"
      ],
      "text/plain": [
       "   yearID teamID    salary\n",
       "0    1985    ATL  14807000\n",
       "1    1985    BAL  11560712\n",
       "2    1985    BOS  10897560\n",
       "3    1985    CAL  14427894\n",
       "4    1985    CHA   9846178"
      ]
     },
     "execution_count": 7,
     "metadata": {},
     "output_type": "execute_result"
    }
   ],
   "source": [
    "#your code here\n",
    "\n",
    "totSalaries = salaries.groupby(['yearID','teamID'], as_index=False).sum()\n",
    "totSalaries.head()"
   ]
  },
  {
   "cell_type": "markdown",
   "metadata": {},
   "source": [
    "#### Problem 1(c)\n",
    "\n",
    "Merge the new summarized Salaries DataFrame and Teams DataFrame together to create a new DataFrame\n",
    "showing wins and total salaries for each team for each year year. Show the head of the new merged DataFrame.\n",
    "\n",
    "**Hint**: Merge the DataFrames using `teamID` and `yearID`."
   ]
  },
  {
   "cell_type": "markdown",
   "metadata": {},
   "source": [
    "To merge these two DataFrames, we can use the `merge` function to join together DataFrame objects `on` a set of column names (must be found in both DataFrames) and `how` (union, intersection, only rows from one data set or the other). Below, we use the arguments `how=\"inner\"` to take the intersection of the rows and `on=['yearID', 'teamID']` the column names `yearID` and `teamID` which can be found in both DataFrames. "
   ]
  },
  {
   "cell_type": "code",
   "execution_count": 8,
   "metadata": {
    "collapsed": false
   },
   "outputs": [
    {
     "data": {
      "text/html": [
       "<div style=\"max-height:1000px;max-width:1500px;overflow:auto;\">\n",
       "<table border=\"1\" class=\"dataframe\">\n",
       "  <thead>\n",
       "    <tr style=\"text-align: right;\">\n",
       "      <th></th>\n",
       "      <th>yearID</th>\n",
       "      <th>teamID</th>\n",
       "      <th>salary</th>\n",
       "      <th>W</th>\n",
       "    </tr>\n",
       "  </thead>\n",
       "  <tbody>\n",
       "    <tr>\n",
       "      <th>0</th>\n",
       "      <td> 1985</td>\n",
       "      <td> ATL</td>\n",
       "      <td> 14807000</td>\n",
       "      <td> 66</td>\n",
       "    </tr>\n",
       "    <tr>\n",
       "      <th>1</th>\n",
       "      <td> 1985</td>\n",
       "      <td> BAL</td>\n",
       "      <td> 11560712</td>\n",
       "      <td> 83</td>\n",
       "    </tr>\n",
       "    <tr>\n",
       "      <th>2</th>\n",
       "      <td> 1985</td>\n",
       "      <td> BOS</td>\n",
       "      <td> 10897560</td>\n",
       "      <td> 81</td>\n",
       "    </tr>\n",
       "    <tr>\n",
       "      <th>3</th>\n",
       "      <td> 1985</td>\n",
       "      <td> CAL</td>\n",
       "      <td> 14427894</td>\n",
       "      <td> 90</td>\n",
       "    </tr>\n",
       "    <tr>\n",
       "      <th>4</th>\n",
       "      <td> 1985</td>\n",
       "      <td> CHA</td>\n",
       "      <td>  9846178</td>\n",
       "      <td> 85</td>\n",
       "    </tr>\n",
       "  </tbody>\n",
       "</table>\n",
       "</div>"
      ],
      "text/plain": [
       "   yearID teamID    salary   W\n",
       "0    1985    ATL  14807000  66\n",
       "1    1985    BAL  11560712  83\n",
       "2    1985    BOS  10897560  81\n",
       "3    1985    CAL  14427894  90\n",
       "4    1985    CHA   9846178  85"
      ]
     },
     "execution_count": 8,
     "metadata": {},
     "output_type": "execute_result"
    }
   ],
   "source": [
    "joined = pd.merge(totSalaries, teams, how=\"inner\", on=['yearID', 'teamID'])\n",
    "joined.head()"
   ]
  },
  {
   "cell_type": "markdown",
   "metadata": {},
   "source": [
    "#### Problem 1(d)\n",
    "\n",
    "How would you graphically display the relationship between total wins and total salaries for a given year? What kind of plot would be best? Choose a plot to show this relationship and specifically annotate the Oakland baseball team on the on the plot. Show this plot across multiple years. In which years can you detect a competitive advantage from the Oakland baseball team of using data science? When did this end? \n",
    "\n",
    "**Hints**: Use a `for` loop to consider multiple years. Use the `teamID` (three letter representation of the team name) to save space on the plot.  "
   ]
  },
  {
   "cell_type": "code",
   "execution_count": 9,
   "metadata": {
    "collapsed": false
   },
   "outputs": [],
   "source": [
    "#your code here"
   ]
  },
  {
   "cell_type": "markdown",
   "metadata": {},
   "source": [
    "Using our summarized DataFrame in 1(c), we will create a scatter plot to graphically display the relationship between total wins and total salaries for a given year. Because each team is represented by one point, we can annotate specific points by the team name. In this case, we will consider the Oakland baseball team.  The `teamID` for Oakland is OAK, so we will add the `OAK` annotation on the scatter plot.  You could have used any color, shapes, etc for the annotation of the team name. "
   ]
  },
  {
   "cell_type": "code",
   "execution_count": 10,
   "metadata": {
    "collapsed": false
   },
   "outputs": [
    {
     "data": {
      "image/png": "[encoded data removed]",
      "text/plain": [
       "<matplotlib.figure.Figure at 0x1039b6e90>"
      ]
     },
     "metadata": {},
     "output_type": "display_data"
    },
    {
     "data": {
      "image/png": "[encoded data removed]",
      "text/plain": [
       "<matplotlib.figure.Figure at 0x10a0655d0>"
      ]
     },
     "metadata": {},
     "output_type": "display_data"
    },
    {
     "data": {
      "image/png": "[encoded data removed]",
      "text/plain": [
       "<matplotlib.figure.Figure at 0x103997490>"
      ]
     },
     "metadata": {},
     "output_type": "display_data"
    },
    {
     "data": {
      "image/png": "[encoded data removed]",
      "text/plain": [
       "<matplotlib.figure.Figure at 0x10a44a350>"
      ]
     },
     "metadata": {},
     "output_type": "display_data"
    }
   ],
   "source": [
    "teamName = 'OAK'\n",
    "years = np.arange(2000, 2004)\n",
    "\n",
    "for yr in years: \n",
    "    df = joined[joined['yearID'] == yr]\n",
    "    plt.scatter(df['salary'] / 1e6, df['W'])\n",
    "    plt.title('Wins versus Salaries in year ' + str(yr))\n",
    "    plt.xlabel('Total Salary (in millions)')\n",
    "    plt.ylabel('Wins')\n",
    "    plt.xlim(0, 180)\n",
    "    plt.ylim(30, 130)\n",
    "    plt.grid()\n",
    "    plt.annotate(teamName, \n",
    "        xy = (df['salary'][df['teamID'] == teamName] / 1e6,  df['W'][df['teamID'] == teamName]), \n",
    "        xytext = (-20, 20), textcoords = 'offset points', ha = 'right', va = 'bottom',\n",
    "        bbox = dict(boxstyle = 'round,pad=0.5', fc = 'yellow', alpha = 0.5),\n",
    "        arrowprops = dict(arrowstyle = '->', facecolor = 'black' , connectionstyle = 'arc3,rad=0'))\n",
    "    \n",
    "    plt.show()"
   ]
  },
  {
   "cell_type": "markdown",
   "metadata": {},
   "source": [
    "We see a competitive advantage can be detected in years 2001-2003 for the Oakland baseball team, because in those years Oakland spent much less in salary compared to other teams, but stood out with the number of wins.  "
   ]
  },
  {
   "cell_type": "markdown",
   "metadata": {},
   "source": [
    "#### Problem 1(e):\n",
    "\n",
    "**For AC209 Students**: Fit a linear regression to the data from each year and obtain the residuals. Plot the residuals against time to detect patterns that support your answer in 1(d). "
   ]
  },
  {
   "cell_type": "code",
   "execution_count": 11,
   "metadata": {
    "collapsed": false
   },
   "outputs": [],
   "source": [
    "#your code here"
   ]
  },
  {
   "cell_type": "markdown",
   "metadata": {},
   "source": [
    "For each year, we perform the following: \n",
    "\n",
    "1. Calculate the least squares estimate of the coefficients in a linear regression model where x = salaries (in millions) and y = total wins. \n",
    "2. Calculate the residuals for each team: $$e_i = y_i - \\hat{y}_i$$\n",
    "3. Plot the residuals for each team across time. \n"
   ]
  },
  {
   "cell_type": "code",
   "execution_count": 1,
   "metadata": {
    "collapsed": false
   },
   "outputs": [
    {
     "ename": "NameError",
     "evalue": "name 'np' is not defined",
     "output_type": "error",
     "traceback": [
      "\u001b[0;31m---------------------------------------------------------------------------\u001b[0m",
      "\u001b[0;31mNameError\u001b[0m                                 Traceback (most recent call last)",
      "\u001b[0;32m<ipython-input-1-6b13ac8acd10>\u001b[0m in \u001b[0;36m<module>\u001b[0;34m()\u001b[0m\n\u001b[1;32m      1\u001b[0m \u001b[0mteamName\u001b[0m \u001b[0;34m=\u001b[0m \u001b[0;34m'OAK'\u001b[0m\u001b[0;34m\u001b[0m\u001b[0m\n\u001b[0;32m----> 2\u001b[0;31m \u001b[0myears\u001b[0m \u001b[0;34m=\u001b[0m \u001b[0mnp\u001b[0m\u001b[0;34m.\u001b[0m\u001b[0marange\u001b[0m\u001b[0;34m(\u001b[0m\u001b[0;36m1999\u001b[0m\u001b[0;34m,\u001b[0m \u001b[0;36m2005\u001b[0m\u001b[0;34m)\u001b[0m\u001b[0;34m\u001b[0m\u001b[0m\n\u001b[0m\u001b[1;32m      3\u001b[0m \u001b[0mresidData\u001b[0m \u001b[0;34m=\u001b[0m \u001b[0mpd\u001b[0m\u001b[0;34m.\u001b[0m\u001b[0mDataFrame\u001b[0m\u001b[0;34m(\u001b[0m\u001b[0;34m)\u001b[0m\u001b[0;34m\u001b[0m\u001b[0m\n\u001b[1;32m      4\u001b[0m \u001b[0;34m\u001b[0m\u001b[0m\n\u001b[1;32m      5\u001b[0m \u001b[0;32mfor\u001b[0m \u001b[0myr\u001b[0m \u001b[0;32min\u001b[0m \u001b[0myears\u001b[0m\u001b[0;34m:\u001b[0m\u001b[0;34m\u001b[0m\u001b[0m\n",
      "\u001b[0;31mNameError\u001b[0m: name 'np' is not defined"
     ]
    }
   ],
   "source": [
    "teamName = 'OAK'\n",
    "years = np.arange(1999, 2005)\n",
    "residData = pd.DataFrame()\n",
    "\n",
    "for yr in years: \n",
    "    df = joined[joined['yearID'] == yr]\n",
    "    x_list = df['salary'].values / 1e6\n",
    "    y_list = df['W'].values\n",
    "\n",
    "    # least squares estimates\n",
    "    A = np.array([x_list, np.ones(len(x_list))])\n",
    "    y = y_list\n",
    "    w = np.linalg.lstsq(A.T,y)[0] # coefficients\n",
    "    yhat = (w[0]*x_list+w[1]) # regression line\n",
    "    residData[yr] = y - yhat\n",
    "  \n",
    "residData.index = df['teamID']\n",
    "residData = residData.T\n",
    "residData.index = residData.index.format()\n",
    "\n",
    "residData.plot(title = 'Residuals from least squares estimates across years', figsize = (15, 8),\n",
    "               color=map(lambda x: 'blue' if x=='OAK' else 'gray',df.teamID))\n",
    "plt.xlabel('Year')\n",
    "plt.ylabel('Residuals')\n",
    "plt.show()"
   ]
  },
  {
   "cell_type": "markdown",
   "metadata": {},
   "source": [
    "## Discussion for Problem 1\n",
    "\n",
    "*Write a brief discussion of your conclusions to the questions and tasks above in 100 words or less.*\n",
    "\n",
    "Considering the plots from 1(d) and 1(e), we see the Oakland baseball team stood out amongst the other baseball teams in terms of their ability to win a large amount of games with a small budget from 2001-2003.  Upon futher reading, we can attributed this to Billy Beane's effort to use \"sabermetrics\" (or the empirical analysis of baseball data) at the Oakland A's. He was able to find the most undervalued players and baseball and hire them on a reduced budget.  \n",
    "\n",
    "---\n"
   ]
  },
  {
   "cell_type": "markdown",
   "metadata": {},
   "source": [
    "## Problem 2\n",
    "\n",
    "Several media reports have demonstrated the income inequality has increased in the US during this last decade. Here we will look at global data. Use exploratory data analysis to determine if the gap between Africa/Latin America/Asia and Europe/NorthAmerica has increased, decreased or stayed the same during the last two decades. "
   ]
  },
  {
   "cell_type": "markdown",
   "metadata": {},
   "source": [
    "#### Problem 2(a)\n",
    "\n",
    "Using the list of countries by continent from [World Atlas](http://www.worldatlas.com/cntycont.htm) data, load in the `countries.csv` file into a pandas DataFrame and name this data set as `countries`.  This data set can be found on Github in the 2014_data repository [here](https://github.com/cs109/2014_data/blob/master/countries.csv). "
   ]
  },
  {
   "cell_type": "code",
   "execution_count": 3,
   "metadata": {
    "collapsed": false
   },
   "outputs": [
    {
     "data": {
      "text/html": [
       "<div style=\"max-height:1000px;max-width:1500px;overflow:auto;\">\n",
       "<table border=\"1\" class=\"dataframe\">\n",
       "  <thead>\n",
       "    <tr style=\"text-align: right;\">\n",
       "      <th></th>\n",
       "      <th>Country</th>\n",
       "      <th>Region</th>\n",
       "    </tr>\n",
       "  </thead>\n",
       "  <tbody>\n",
       "    <tr>\n",
       "      <th>0</th>\n",
       "      <td>  Algeria</td>\n",
       "      <td> AFRICA</td>\n",
       "    </tr>\n",
       "    <tr>\n",
       "      <th>1</th>\n",
       "      <td>   Angola</td>\n",
       "      <td> AFRICA</td>\n",
       "    </tr>\n",
       "    <tr>\n",
       "      <th>2</th>\n",
       "      <td>    Benin</td>\n",
       "      <td> AFRICA</td>\n",
       "    </tr>\n",
       "    <tr>\n",
       "      <th>3</th>\n",
       "      <td> Botswana</td>\n",
       "      <td> AFRICA</td>\n",
       "    </tr>\n",
       "    <tr>\n",
       "      <th>4</th>\n",
       "      <td>  Burkina</td>\n",
       "      <td> AFRICA</td>\n",
       "    </tr>\n",
       "  </tbody>\n",
       "</table>\n",
       "</div>"
      ],
      "text/plain": [
       "    Country  Region\n",
       "0   Algeria  AFRICA\n",
       "1    Angola  AFRICA\n",
       "2     Benin  AFRICA\n",
       "3  Botswana  AFRICA\n",
       "4   Burkina  AFRICA"
      ]
     },
     "execution_count": 3,
     "metadata": {},
     "output_type": "execute_result"
    }
   ],
   "source": [
    "#your code here\n",
    "\n",
    "url = \"https://raw.githubusercontent.com/cs109/2014_data/master/countries.csv\"\n",
    "s = StringIO.StringIO(requests.get(url).content)\n",
    "countries = pd.read_csv(s)\n",
    "countries.head()"
   ]
  },
  {
   "cell_type": "markdown",
   "metadata": {},
   "source": [
    "Using the [data available on Gapminder](http://www.gapminder.org/data/), load in the [Income per person (GDP/capita, PPP$ inflation-adjusted)](https://spreadsheets.google.com/pub?key=phAwcNAVuyj1jiMAkmq1iMg&gid=0) as a pandas DataFrame and name this data set as `income`.\n",
    "\n",
    "**Hint**: Consider using the pandas function `pandas.read_excel()` to read in the .xlsx file directly."
   ]
  },
  {
   "cell_type": "code",
   "execution_count": 4,
   "metadata": {
    "collapsed": false
   },
   "outputs": [
    {
     "data": {
      "text/html": [
       "<div style=\"max-height:1000px;max-width:1500px;overflow:auto;\">\n",
       "<table border=\"1\" class=\"dataframe\">\n",
       "  <thead>\n",
       "    <tr style=\"text-align: right;\">\n",
       "      <th></th>\n",
       "      <th>gdp pc test</th>\n",
       "      <th>1800</th>\n",
       "      <th>1801</th>\n",
       "      <th>1802</th>\n",
       "      <th>1803</th>\n",
       "      <th>1804</th>\n",
       "      <th>1805</th>\n",
       "      <th>1806</th>\n",
       "      <th>1807</th>\n",
       "      <th>1808</th>\n",
       "      <th>...</th>\n",
       "      <th>2003</th>\n",
       "      <th>2004</th>\n",
       "      <th>2005</th>\n",
       "      <th>2006</th>\n",
       "      <th>2007</th>\n",
       "      <th>2008</th>\n",
       "      <th>2009</th>\n",
       "      <th>2010</th>\n",
       "      <th>2011</th>\n",
       "      <th>2012</th>\n",
       "    </tr>\n",
       "  </thead>\n",
       "  <tbody>\n",
       "    <tr>\n",
       "      <th>0</th>\n",
       "      <td>              Abkhazia</td>\n",
       "      <td>        NaN</td>\n",
       "      <td>        NaN</td>\n",
       "      <td>        NaN</td>\n",
       "      <td>        NaN</td>\n",
       "      <td>        NaN</td>\n",
       "      <td>        NaN</td>\n",
       "      <td>        NaN</td>\n",
       "      <td>        NaN</td>\n",
       "      <td>        NaN</td>\n",
       "      <td>...</td>\n",
       "      <td>         NaN</td>\n",
       "      <td>         NaN</td>\n",
       "      <td>  NaN</td>\n",
       "      <td>         NaN</td>\n",
       "      <td>         NaN</td>\n",
       "      <td>         NaN</td>\n",
       "      <td>         NaN</td>\n",
       "      <td>         NaN</td>\n",
       "      <td>         NaN</td>\n",
       "      <td>         NaN</td>\n",
       "    </tr>\n",
       "    <tr>\n",
       "      <th>1</th>\n",
       "      <td>           Afghanistan</td>\n",
       "      <td> 472.053500</td>\n",
       "      <td> 472.053500</td>\n",
       "      <td> 472.053500</td>\n",
       "      <td> 472.053500</td>\n",
       "      <td> 472.053500</td>\n",
       "      <td> 472.053500</td>\n",
       "      <td> 472.053500</td>\n",
       "      <td> 472.053500</td>\n",
       "      <td> 472.053500</td>\n",
       "      <td>...</td>\n",
       "      <td>  785.127571</td>\n",
       "      <td>  804.717458</td>\n",
       "      <td>  874</td>\n",
       "      <td>  887.914578</td>\n",
       "      <td>  983.652314</td>\n",
       "      <td>  984.805841</td>\n",
       "      <td> 1154.859365</td>\n",
       "      <td> 1214.613653</td>\n",
       "      <td> 1261.354184</td>\n",
       "      <td> 1349.696941</td>\n",
       "    </tr>\n",
       "    <tr>\n",
       "      <th>2</th>\n",
       "      <td> Akrotiri and Dhekelia</td>\n",
       "      <td>        NaN</td>\n",
       "      <td>        NaN</td>\n",
       "      <td>        NaN</td>\n",
       "      <td>        NaN</td>\n",
       "      <td>        NaN</td>\n",
       "      <td>        NaN</td>\n",
       "      <td>        NaN</td>\n",
       "      <td>        NaN</td>\n",
       "      <td>        NaN</td>\n",
       "      <td>...</td>\n",
       "      <td>         NaN</td>\n",
       "      <td>         NaN</td>\n",
       "      <td>  NaN</td>\n",
       "      <td>         NaN</td>\n",
       "      <td>         NaN</td>\n",
       "      <td>         NaN</td>\n",
       "      <td>         NaN</td>\n",
       "      <td>         NaN</td>\n",
       "      <td>         NaN</td>\n",
       "      <td>         NaN</td>\n",
       "    </tr>\n",
       "    <tr>\n",
       "      <th>3</th>\n",
       "      <td>               Albania</td>\n",
       "      <td> 601.215222</td>\n",
       "      <td> 601.839631</td>\n",
       "      <td> 602.464688</td>\n",
       "      <td> 603.090394</td>\n",
       "      <td> 603.716751</td>\n",
       "      <td> 604.343757</td>\n",
       "      <td> 604.971415</td>\n",
       "      <td> 605.599725</td>\n",
       "      <td> 606.228687</td>\n",
       "      <td>...</td>\n",
       "      <td> 4855.210024</td>\n",
       "      <td> 5115.252837</td>\n",
       "      <td> 5369</td>\n",
       "      <td> 5652.049321</td>\n",
       "      <td> 5958.021197</td>\n",
       "      <td> 6365.530359</td>\n",
       "      <td> 6550.896164</td>\n",
       "      <td> 6746.445312</td>\n",
       "      <td> 6914.267317</td>\n",
       "      <td> 6969.306283</td>\n",
       "    </tr>\n",
       "    <tr>\n",
       "      <th>4</th>\n",
       "      <td>               Algeria</td>\n",
       "      <td> 766.253664</td>\n",
       "      <td> 766.234779</td>\n",
       "      <td> 766.215895</td>\n",
       "      <td> 766.197011</td>\n",
       "      <td> 766.178127</td>\n",
       "      <td> 766.159244</td>\n",
       "      <td> 766.140362</td>\n",
       "      <td> 766.121480</td>\n",
       "      <td> 766.102598</td>\n",
       "      <td>...</td>\n",
       "      <td> 5576.851564</td>\n",
       "      <td> 5790.967692</td>\n",
       "      <td> 6011</td>\n",
       "      <td> 6022.270940</td>\n",
       "      <td> 6133.782763</td>\n",
       "      <td> 6162.719840</td>\n",
       "      <td> 6173.729741</td>\n",
       "      <td> 6300.648214</td>\n",
       "      <td> 6354.640523</td>\n",
       "      <td> 6419.127829</td>\n",
       "    </tr>\n",
       "  </tbody>\n",
       "</table>\n",
       "<p>5 rows × 214 columns</p>\n",
       "</div>"
      ],
      "text/plain": [
       "             gdp pc test        1800        1801        1802        1803  \\\n",
       "0               Abkhazia         NaN         NaN         NaN         NaN   \n",
       "1            Afghanistan  472.053500  472.053500  472.053500  472.053500   \n",
       "2  Akrotiri and Dhekelia         NaN         NaN         NaN         NaN   \n",
       "3                Albania  601.215222  601.839631  602.464688  603.090394   \n",
       "4                Algeria  766.253664  766.234779  766.215895  766.197011   \n",
       "\n",
       "         1804        1805        1806        1807        1808     ...      \\\n",
       "0         NaN         NaN         NaN         NaN         NaN     ...       \n",
       "1  472.053500  472.053500  472.053500  472.053500  472.053500     ...       \n",
       "2         NaN         NaN         NaN         NaN         NaN     ...       \n",
       "3  603.716751  604.343757  604.971415  605.599725  606.228687     ...       \n",
       "4  766.178127  766.159244  766.140362  766.121480  766.102598     ...       \n",
       "\n",
       "          2003         2004  2005         2006         2007         2008  \\\n",
       "0          NaN          NaN   NaN          NaN          NaN          NaN   \n",
       "1   785.127571   804.717458   874   887.914578   983.652314   984.805841   \n",
       "2          NaN          NaN   NaN          NaN          NaN          NaN   \n",
       "3  4855.210024  5115.252837  5369  5652.049321  5958.021197  6365.530359   \n",
       "4  5576.851564  5790.967692  6011  6022.270940  6133.782763  6162.719840   \n",
       "\n",
       "          2009         2010         2011         2012  \n",
       "0          NaN          NaN          NaN          NaN  \n",
       "1  1154.859365  1214.613653  1261.354184  1349.696941  \n",
       "2          NaN          NaN          NaN          NaN  \n",
       "3  6550.896164  6746.445312  6914.267317  6969.306283  \n",
       "4  6173.729741  6300.648214  6354.640523  6419.127829  \n",
       "\n",
       "[5 rows x 214 columns]"
      ]
     },
     "execution_count": 4,
     "metadata": {},
     "output_type": "execute_result"
    }
   ],
   "source": [
    "#your code here\n",
    "\n",
    "income_link = 'https://spreadsheets.google.com/pub?key=phAwcNAVuyj1jiMAkmq1iMg&output=xls'\n",
    "source = StringIO.StringIO(requests.get(income_link).content)\n",
    "income = pd.read_excel(source, sheetname = \"Data\")\n",
    "income.head()"
   ]
  },
  {
   "cell_type": "markdown",
   "metadata": {},
   "source": [
    "Transform the data set to have years as the rows and countries as the columns. Show the head of this data set when it is loaded. "
   ]
  },
  {
   "cell_type": "code",
   "execution_count": 5,
   "metadata": {
    "collapsed": false
   },
   "outputs": [
    {
     "data": {
      "text/html": [
       "<div style=\"max-height:1000px;max-width:1500px;overflow:auto;\">\n",
       "<table border=\"1\" class=\"dataframe\">\n",
       "  <thead>\n",
       "    <tr style=\"text-align: right;\">\n",
       "      <th>gdp pc test</th>\n",
       "      <th>Abkhazia</th>\n",
       "      <th>Afghanistan</th>\n",
       "      <th>Akrotiri and Dhekelia</th>\n",
       "      <th>Albania</th>\n",
       "      <th>Algeria</th>\n",
       "      <th>American Samoa</th>\n",
       "      <th>Andorra</th>\n",
       "      <th>Angola</th>\n",
       "      <th>Anguilla</th>\n",
       "      <th>Antigua and Barbuda</th>\n",
       "      <th>...</th>\n",
       "      <th>Western Sahara</th>\n",
       "      <th>Vietnam</th>\n",
       "      <th>Virgin Islands (U.S.)</th>\n",
       "      <th>Yemen Arab Republic (Former)</th>\n",
       "      <th>Yemen Democratic (Former)</th>\n",
       "      <th>Yemen, Rep.</th>\n",
       "      <th>Yugoslavia</th>\n",
       "      <th>Zambia</th>\n",
       "      <th>Zimbabwe</th>\n",
       "      <th>Åland</th>\n",
       "    </tr>\n",
       "  </thead>\n",
       "  <tbody>\n",
       "    <tr>\n",
       "      <th>1800</th>\n",
       "      <td>NaN</td>\n",
       "      <td> 472.0535</td>\n",
       "      <td>NaN</td>\n",
       "      <td> 601.215222</td>\n",
       "      <td> 766.253664</td>\n",
       "      <td> 674.453726</td>\n",
       "      <td> 1260.123256</td>\n",
       "      <td> 359.932582</td>\n",
       "      <td> 775.668711</td>\n",
       "      <td> 538.376199</td>\n",
       "      <td>...</td>\n",
       "      <td>NaN</td>\n",
       "      <td> 459.708986</td>\n",
       "      <td>NaN</td>\n",
       "      <td>NaN</td>\n",
       "      <td>NaN</td>\n",
       "      <td> 661.902376</td>\n",
       "      <td>NaN</td>\n",
       "      <td> 364.464811</td>\n",
       "      <td> 372.818338</td>\n",
       "      <td>NaN</td>\n",
       "    </tr>\n",
       "    <tr>\n",
       "      <th>1801</th>\n",
       "      <td>NaN</td>\n",
       "      <td> 472.0535</td>\n",
       "      <td>NaN</td>\n",
       "      <td> 601.839631</td>\n",
       "      <td> 766.234779</td>\n",
       "      <td> 674.453726</td>\n",
       "      <td> 1262.214402</td>\n",
       "      <td> 359.932582</td>\n",
       "      <td> 775.668711</td>\n",
       "      <td> 538.376199</td>\n",
       "      <td>...</td>\n",
       "      <td>NaN</td>\n",
       "      <td> 459.708986</td>\n",
       "      <td>NaN</td>\n",
       "      <td>NaN</td>\n",
       "      <td>NaN</td>\n",
       "      <td> 662.058563</td>\n",
       "      <td>NaN</td>\n",
       "      <td> 364.464811</td>\n",
       "      <td> 372.818338</td>\n",
       "      <td>NaN</td>\n",
       "    </tr>\n",
       "    <tr>\n",
       "      <th>1802</th>\n",
       "      <td>NaN</td>\n",
       "      <td> 472.0535</td>\n",
       "      <td>NaN</td>\n",
       "      <td> 602.464688</td>\n",
       "      <td> 766.215895</td>\n",
       "      <td> 674.453726</td>\n",
       "      <td> 1264.309018</td>\n",
       "      <td> 359.932582</td>\n",
       "      <td> 775.668711</td>\n",
       "      <td> 538.376199</td>\n",
       "      <td>...</td>\n",
       "      <td>NaN</td>\n",
       "      <td> 459.708986</td>\n",
       "      <td>NaN</td>\n",
       "      <td>NaN</td>\n",
       "      <td>NaN</td>\n",
       "      <td> 662.214787</td>\n",
       "      <td>NaN</td>\n",
       "      <td> 364.464811</td>\n",
       "      <td> 372.818338</td>\n",
       "      <td>NaN</td>\n",
       "    </tr>\n",
       "    <tr>\n",
       "      <th>1803</th>\n",
       "      <td>NaN</td>\n",
       "      <td> 472.0535</td>\n",
       "      <td>NaN</td>\n",
       "      <td> 603.090394</td>\n",
       "      <td> 766.197011</td>\n",
       "      <td> 674.453726</td>\n",
       "      <td> 1266.407109</td>\n",
       "      <td> 359.932582</td>\n",
       "      <td> 775.668711</td>\n",
       "      <td> 538.376199</td>\n",
       "      <td>...</td>\n",
       "      <td>NaN</td>\n",
       "      <td> 459.708986</td>\n",
       "      <td>NaN</td>\n",
       "      <td>NaN</td>\n",
       "      <td>NaN</td>\n",
       "      <td> 662.371047</td>\n",
       "      <td>NaN</td>\n",
       "      <td> 364.464811</td>\n",
       "      <td> 372.818338</td>\n",
       "      <td>NaN</td>\n",
       "    </tr>\n",
       "    <tr>\n",
       "      <th>1804</th>\n",
       "      <td>NaN</td>\n",
       "      <td> 472.0535</td>\n",
       "      <td>NaN</td>\n",
       "      <td> 603.716751</td>\n",
       "      <td> 766.178127</td>\n",
       "      <td> 674.453726</td>\n",
       "      <td> 1268.508683</td>\n",
       "      <td> 359.932582</td>\n",
       "      <td> 775.668711</td>\n",
       "      <td> 538.376199</td>\n",
       "      <td>...</td>\n",
       "      <td>NaN</td>\n",
       "      <td> 459.708986</td>\n",
       "      <td>NaN</td>\n",
       "      <td>NaN</td>\n",
       "      <td>NaN</td>\n",
       "      <td> 662.527345</td>\n",
       "      <td>NaN</td>\n",
       "      <td> 364.464811</td>\n",
       "      <td> 372.818338</td>\n",
       "      <td>NaN</td>\n",
       "    </tr>\n",
       "  </tbody>\n",
       "</table>\n",
       "<p>5 rows × 260 columns</p>\n",
       "</div>"
      ],
      "text/plain": [
       "gdp pc test  Abkhazia  Afghanistan  Akrotiri and Dhekelia     Albania  \\\n",
       "1800              NaN     472.0535                    NaN  601.215222   \n",
       "1801              NaN     472.0535                    NaN  601.839631   \n",
       "1802              NaN     472.0535                    NaN  602.464688   \n",
       "1803              NaN     472.0535                    NaN  603.090394   \n",
       "1804              NaN     472.0535                    NaN  603.716751   \n",
       "\n",
       "gdp pc test     Algeria  American Samoa      Andorra      Angola    Anguilla  \\\n",
       "1800         766.253664      674.453726  1260.123256  359.932582  775.668711   \n",
       "1801         766.234779      674.453726  1262.214402  359.932582  775.668711   \n",
       "1802         766.215895      674.453726  1264.309018  359.932582  775.668711   \n",
       "1803         766.197011      674.453726  1266.407109  359.932582  775.668711   \n",
       "1804         766.178127      674.453726  1268.508683  359.932582  775.668711   \n",
       "\n",
       "gdp pc test  Antigua and Barbuda         ...           Western Sahara  \\\n",
       "1800                  538.376199         ...                      NaN   \n",
       "1801                  538.376199         ...                      NaN   \n",
       "1802                  538.376199         ...                      NaN   \n",
       "1803                  538.376199         ...                      NaN   \n",
       "1804                  538.376199         ...                      NaN   \n",
       "\n",
       "gdp pc test     Vietnam  Virgin Islands (U.S.)  Yemen Arab Republic (Former)  \\\n",
       "1800         459.708986                    NaN                           NaN   \n",
       "1801         459.708986                    NaN                           NaN   \n",
       "1802         459.708986                    NaN                           NaN   \n",
       "1803         459.708986                    NaN                           NaN   \n",
       "1804         459.708986                    NaN                           NaN   \n",
       "\n",
       "gdp pc test  Yemen Democratic (Former)  Yemen, Rep.  Yugoslavia      Zambia  \\\n",
       "1800                               NaN   661.902376         NaN  364.464811   \n",
       "1801                               NaN   662.058563         NaN  364.464811   \n",
       "1802                               NaN   662.214787         NaN  364.464811   \n",
       "1803                               NaN   662.371047         NaN  364.464811   \n",
       "1804                               NaN   662.527345         NaN  364.464811   \n",
       "\n",
       "gdp pc test    Zimbabwe  Åland  \n",
       "1800         372.818338    NaN  \n",
       "1801         372.818338    NaN  \n",
       "1802         372.818338    NaN  \n",
       "1803         372.818338    NaN  \n",
       "1804         372.818338    NaN  \n",
       "\n",
       "[5 rows x 260 columns]"
      ]
     },
     "execution_count": 5,
     "metadata": {},
     "output_type": "execute_result"
    }
   ],
   "source": [
    "#your code here\n",
    "\n",
    "income.index=income[income.columns[0]] # Make the countries as the index\n",
    "income = income.drop(income.columns[0], axis = 1) \n",
    "income.columns = map(lambda x: int(x), income.columns) # Convert years from floats to ints\n",
    "income = income.transpose()\n",
    "income.head()"
   ]
  },
  {
   "cell_type": "markdown",
   "metadata": {},
   "source": [
    "#### Problem 2(b)\n",
    "\n",
    "Graphically display the distribution of income per person across all countries in the world for any given year (e.g. 2000).  What kind of plot would be best? "
   ]
  },
  {
   "cell_type": "code",
   "execution_count": 6,
   "metadata": {
    "collapsed": false
   },
   "outputs": [],
   "source": [
    "#your code here"
   ]
  },
  {
   "cell_type": "markdown",
   "metadata": {},
   "source": [
    "Here we use a histogram to plot the distribution of income per person in a given year across all the countries on the dollar scale and the log10(dollar) scale. "
   ]
  },
  {
   "cell_type": "code",
   "execution_count": 10,
   "metadata": {
    "collapsed": false
   },
   "outputs": [
    {
     "data": {
      "image/png": "[encoded data removed]",
      "text/plain": [
       "<matplotlib.figure.Figure at 0x10976c6d0>"
      ]
     },
     "metadata": {},
     "output_type": "display_data"
    },
    {
     "data": {
      "image/png": "[encoded data removed]",
      "text/plain": [
       "<matplotlib.figure.Figure at 0x1098b4050>"
      ]
     },
     "metadata": {},
     "output_type": "display_data"
    }
   ],
   "source": [
    "year = 2000\n",
    "plt.plot(subplots=True)\n",
    "plt.hist(income.ix[year].dropna().values, bins = 20)\n",
    "plt.title('Year: %i' % year)\n",
    "plt.xlabel('Income per person')\n",
    "plt.ylabel('Frequency')\n",
    "plt.show()\n",
    "\n",
    "plt.hist(np.log10(income.ix[year].dropna().values), bins = 20)\n",
    "plt.title('Year: %i' % year)\n",
    "plt.xlabel('Income per person (log10 scale)')\n",
    "plt.ylabel('Frequency')\n",
    "plt.show()\n"
   ]
  },
  {
   "cell_type": "markdown",
   "metadata": {},
   "source": [
    "#### Problem 2(c)\n",
    "\n",
    "Write a function to merge the `countries` and `income` data sets for any given year. "
   ]
  },
  {
   "cell_type": "code",
   "execution_count": 18,
   "metadata": {
    "collapsed": false
   },
   "outputs": [
    {
     "data": {
      "text/html": [
       "<div style=\"max-height:1000px;max-width:1500px;overflow:auto;\">\n",
       "<table border=\"1\" class=\"dataframe\">\n",
       "  <thead>\n",
       "    <tr style=\"text-align: right;\">\n",
       "      <th></th>\n",
       "      <th>Income</th>\n",
       "      <th>Country</th>\n",
       "      <th>Region</th>\n",
       "    </tr>\n",
       "  </thead>\n",
       "  <tbody>\n",
       "    <tr>\n",
       "      <th>0</th>\n",
       "      <td>  1214.61</td>\n",
       "      <td> Afghanistan</td>\n",
       "      <td>   ASIA</td>\n",
       "    </tr>\n",
       "    <tr>\n",
       "      <th>1</th>\n",
       "      <td>  6746.45</td>\n",
       "      <td>     Albania</td>\n",
       "      <td> EUROPE</td>\n",
       "    </tr>\n",
       "    <tr>\n",
       "      <th>2</th>\n",
       "      <td>  6300.65</td>\n",
       "      <td>     Algeria</td>\n",
       "      <td> AFRICA</td>\n",
       "    </tr>\n",
       "    <tr>\n",
       "      <th>3</th>\n",
       "      <td> 33052.28</td>\n",
       "      <td>     Andorra</td>\n",
       "      <td> EUROPE</td>\n",
       "    </tr>\n",
       "    <tr>\n",
       "      <th>4</th>\n",
       "      <td>  5497.62</td>\n",
       "      <td>      Angola</td>\n",
       "      <td> AFRICA</td>\n",
       "    </tr>\n",
       "  </tbody>\n",
       "</table>\n",
       "</div>"
      ],
      "text/plain": [
       "     Income      Country  Region\n",
       "0   1214.61  Afghanistan    ASIA\n",
       "1   6746.45      Albania  EUROPE\n",
       "2   6300.65      Algeria  AFRICA\n",
       "3  33052.28      Andorra  EUROPE\n",
       "4   5497.62       Angola  AFRICA"
      ]
     },
     "execution_count": 18,
     "metadata": {},
     "output_type": "execute_result"
    }
   ],
   "source": [
    "\"\"\"\n",
    "Function\n",
    "--------\n",
    "mergeByYear\n",
    "\n",
    "Return a merged DataFrame containing the income, \n",
    "country name and region for a given year. \n",
    "\n",
    "Parameters\n",
    "----------\n",
    "year : int\n",
    "    The year of interest\n",
    "\n",
    "Returns\n",
    "-------\n",
    "a DataFrame\n",
    "   A pandas DataFrame with three columns titled \n",
    "   'Country', 'Region', and 'Income'. \n",
    "\n",
    "Example\n",
    "-------\n",
    ">>> mergeByYear(2010)\n",
    "\"\"\"\n",
    "#your code here\n",
    "\n",
    "def mergeByYear(year):\n",
    "    data = pd.DataFrame(income.ix[year].values, columns = ['Income'])\n",
    "    data['Country'] = income.columns\n",
    "    joined = pd.merge(data, countries, how=\"inner\", on=['Country'])\n",
    "    joined.Income = np.round(joined.Income, 2)\n",
    "    return joined\n",
    "\n",
    "mergeByYear(2010).head()"
   ]
  },
  {
   "cell_type": "markdown",
   "metadata": {},
   "source": [
    "#### Problem 2(d) \n",
    "\n",
    "Use exploratory data analysis tools such as histograms and boxplots to explore the distribution of the income per person by region data set from 2(c) for a given year. Describe how these change through the recent years?\n",
    "\n",
    "**Hint**: Use a `for` loop to consider multiple years.  "
   ]
  },
  {
   "cell_type": "code",
   "execution_count": 19,
   "metadata": {
    "collapsed": false
   },
   "outputs": [
    {
     "data": {
      "image/png": "[encoded data removed]",
      "text/plain": [
       "<matplotlib.figure.Figure at 0x10a5304d0>"
      ]
     },
     "metadata": {},
     "output_type": "display_data"
    },
    {
     "data": {
      "image/png": "[encoded data removed]",
      "text/plain": [
       "<matplotlib.figure.Figure at 0x10a703f10>"
      ]
     },
     "metadata": {},
     "output_type": "display_data"
    },
    {
     "data": {
      "image/png": "[encoded data removed]",
      "text/plain": [
       "<matplotlib.figure.Figure at 0x10b2071d0>"
      ]
     },
     "metadata": {},
     "output_type": "display_data"
    },
    {
     "data": {
      "image/png": "[encoded data removed]",
      "text/plain": [
       "<matplotlib.figure.Figure at 0x10b2feb50>"
      ]
     },
     "metadata": {},
     "output_type": "display_data"
    },
    {
     "data": {
      "image/png": "[encoded data removed]",
      "text/plain": [
       "<matplotlib.figure.Figure at 0x10b559510>"
      ]
     },
     "metadata": {},
     "output_type": "display_data"
    },
    {
     "data": {
      "image/png": "[encoded data removed]",
      "text/plain": [
       "<matplotlib.figure.Figure at 0x10b6a4e90>"
      ]
     },
     "metadata": {},
     "output_type": "display_data"
    }
   ],
   "source": [
    "#your code here\n",
    "\n",
    "years = np.arange(1950, 2010, 10)\n",
    "\n",
    "for yr in years:\n",
    "    df = mergeByYear(yr)\n",
    "    df.boxplot('Income', by = 'Region', rot = 90)\n",
    "    plt.title(\"Year:\" + str(yr))\n",
    "    plt.ylabel('Income per person (log10 scale)')\n",
    "    plt.ylim(10**2, 10.5 **5)\n",
    "    plt.yscale('log')"
   ]
  },
  {
   "cell_type": "markdown",
   "metadata": {},
   "source": [
    "In recent years, Africa and Asia have an upwards trend in average income per person while other continents have stayed more constant through the 20th century. "
   ]
  },
  {
   "cell_type": "markdown",
   "metadata": {},
   "source": [
    "## Discussion for Problem 2\n",
    "\n",
    "*Write a brief discussion of your conclusions to the questions and tasks above in 100 words or less.*\n",
    "\n",
    "In most continents (especially Africa and Asia), we see that the distribution of incomes is very skewed: most countries are in a group of low-income states with a fat tail of high-income countries that remains approximately constant throughout the 20th century.  In 2(b) we used a histogram to look at the income distribution of all countries in the world for a given year saw a non-normal distribution. In 2(d) we used boxplots to take a closer look at the income distribution of countries grouped by regions across decades.  We saw upward trends in average income per person across certain regions (e.g. Africa) as we moved through the 20th century.\n",
    "\n",
    "---\n"
   ]
  },
  {
   "cell_type": "markdown",
   "metadata": {},
   "source": [
    "## Problem 3\n",
    "\n",
    "In general, if group A has larger values than group B on average, does this mean the largest values are from group A? Discuss after completing each of the problems below. "
   ]
  },
  {
   "cell_type": "markdown",
   "metadata": {},
   "source": [
    "#### Problem 3(a)\n",
    "\n",
    "Assume you have two list of numbers, X and Y, with distribution approximately normal. X and Y have standard deviation equal to 1, but the average of X is different from the average of Y.  If the difference in the average of X and the average of Y is larger than 0, how does the proportion of X > a compare to the proportion of Y > a? "
   ]
  },
  {
   "cell_type": "markdown",
   "metadata": {},
   "source": [
    "Write a function that analytically calculates the ratio of these two proportions: Pr(X > a)/Pr(Y > a) as function of the difference in the average of X and the average of Y. \n",
    "\n",
    "**Hint**: Use the `scipy.stats` module for useful functions related to a normal random variable such as the probability density function, cumulative distribution function and survival function. \n",
    "\n",
    "**Update**: Assume Y is normally distributed with mean equal to 0. "
   ]
  },
  {
   "cell_type": "markdown",
   "metadata": {},
   "source": [
    "Show the curve for different values of a (a = 2,3,4 and 5)."
   ]
  },
  {
   "cell_type": "code",
   "execution_count": 20,
   "metadata": {
    "collapsed": false
   },
   "outputs": [],
   "source": [
    "\"\"\"\n",
    "Function\n",
    "--------\n",
    "ratioNormals\n",
    "\n",
    "Return ratio of these two proportions: \n",
    "    Pr(X > a)/Pr(Y > a) as function of \n",
    "    the difference in the average of X \n",
    "    and the average of Y. \n",
    "\n",
    "Parameters\n",
    "----------\n",
    "diff : difference in the average of X \n",
    "    and the average of Y. \n",
    "a : cutoff value\n",
    "\n",
    "Returns\n",
    "-------\n",
    "Returns ratio of these two proportions: \n",
    "    Pr(X > a)/Pr(Y > a)\n",
    "    \n",
    "Example\n",
    "-------\n",
    ">>> ratioNormals(diff = 1, a = 2)\n",
    "\"\"\"\n",
    "#your code here\n",
    "\n",
    "def ratioNormals(diff, a):\n",
    "    X = scipy.stats.norm(loc=diff, scale=1)\n",
    "    Y = scipy.stats.norm(loc=0, scale=1) \n",
    "    return X.sf(a) / Y.sf(a)"
   ]
  },
  {
   "cell_type": "code",
   "execution_count": 21,
   "metadata": {
    "collapsed": false
   },
   "outputs": [
    {
     "data": {
      "image/png": "[encoded data removed]",
      "text/plain": [
       "<matplotlib.figure.Figure at 0x10d0265d0>"
      ]
     },
     "metadata": {},
     "output_type": "display_data"
    }
   ],
   "source": [
    "#your code here\n",
    "\n",
    "# let diff range from 0 to 5 \n",
    "diffs = np.linspace(0, 5, 50)\n",
    "a_values = range(2,6)\n",
    "\n",
    "# Plot separate curves for \n",
    "# Pr(X > a) / Pr(Y > a) as a function of diff\n",
    "# for all given values of a\n",
    "plt.figure(figsize=(8,5));\n",
    "for a in a_values:\n",
    "    ratios = [ratioNormals(diff, a) for diff in diffs]\n",
    "    plt.plot(diffs, ratios)\n",
    "    \n",
    "# Labels\n",
    "plt.legend([\"a={}\".format(a) for a in a_values], loc=0);\n",
    "plt.xlabel('Diff');\n",
    "plt.ylabel('Pr(X>a) / Pr(Y>a)');\n",
    "plt.title('Ratio of Pr(X > a) to Pr(Y > a) as a Function of Diff');\n",
    "\n",
    "# Using a log scale so you can actually see the curves\n",
    "plt.yscale('log')"
   ]
  },
  {
   "cell_type": "markdown",
   "metadata": {},
   "source": [
    "#### Problem 3(b)\n",
    "\n",
    "Now consider the distribution of income per person from two regions: Asia and South America. Estimate the average income per person across the countries in those two regions. Which region has the larger average of income per person across the countries in that region? \n",
    "\n",
    "**Update**: Use the year 2012. "
   ]
  },
  {
   "cell_type": "code",
   "execution_count": 22,
   "metadata": {
    "collapsed": false
   },
   "outputs": [
    {
     "data": {
      "text/html": [
       "<div style=\"max-height:1000px;max-width:1500px;overflow:auto;\">\n",
       "<table border=\"1\" class=\"dataframe\">\n",
       "  <thead>\n",
       "    <tr style=\"text-align: right;\">\n",
       "      <th></th>\n",
       "      <th>Region</th>\n",
       "      <th>Income</th>\n",
       "    </tr>\n",
       "  </thead>\n",
       "  <tbody>\n",
       "    <tr>\n",
       "      <th>1</th>\n",
       "      <td>          ASIA</td>\n",
       "      <td> 14510.04</td>\n",
       "    </tr>\n",
       "    <tr>\n",
       "      <th>5</th>\n",
       "      <td> SOUTH AMERICA</td>\n",
       "      <td>  9471.47</td>\n",
       "    </tr>\n",
       "  </tbody>\n",
       "</table>\n",
       "</div>"
      ],
      "text/plain": [
       "          Region    Income\n",
       "1           ASIA  14510.04\n",
       "5  SOUTH AMERICA   9471.47"
      ]
     },
     "execution_count": 22,
     "metadata": {},
     "output_type": "execute_result"
    }
   ],
   "source": [
    "#your code here\n",
    "\n",
    "merged = mergeByYear(2012).groupby('Region', as_index=False).mean()\n",
    "merged = merged.loc[(merged.Region == \"ASIA\") | (merged.Region == \"SOUTH AMERICA\")]\n",
    "merged.Income = np.round(merged.Income, 2)\n",
    "merged"
   ]
  },
  {
   "cell_type": "markdown",
   "metadata": {},
   "source": [
    "Asia has a larger income compared to South America. We can also create boxplots to see the income distribution of the two continents on the dollar scale and log10(dollar) scale. "
   ]
  },
  {
   "cell_type": "code",
   "execution_count": 23,
   "metadata": {
    "collapsed": false
   },
   "outputs": [
    {
     "data": {
      "text/plain": [
       "<matplotlib.text.Text at 0x10b09ba90>"
      ]
     },
     "execution_count": 23,
     "metadata": {},
     "output_type": "execute_result"
    },
    {
     "data": {
      "image/png": "[encoded data removed]",
      "text/plain": [
       "<matplotlib.figure.Figure at 0x10a053a50>"
      ]
     },
     "metadata": {},
     "output_type": "display_data"
    }
   ],
   "source": [
    "df = mergeByYear(2012)\n",
    "df = df.loc[(df.Region == \"ASIA\") | (df.Region == \"SOUTH AMERICA\")]\n",
    "df.boxplot('Income', by = 'Region', rot = 90)\n",
    "plt.ylabel('Income per person (dollars)')"
   ]
  },
  {
   "cell_type": "code",
   "execution_count": 24,
   "metadata": {
    "collapsed": false
   },
   "outputs": [
    {
     "data": {
      "image/png": "[encoded data removed]",
      "text/plain": [
       "<matplotlib.figure.Figure at 0x10a3ff690>"
      ]
     },
     "metadata": {},
     "output_type": "display_data"
    }
   ],
   "source": [
    "df = mergeByYear(2012)\n",
    "df = df.loc[(df.Region == \"ASIA\") | (df.Region == \"SOUTH AMERICA\")]\n",
    "df.boxplot('Income', by = 'Region', rot = 90)\n",
    "plt.ylabel('Income per person (log10 scale)')\n",
    "plt.yscale('log')"
   ]
  },
  {
   "cell_type": "markdown",
   "metadata": {},
   "source": [
    "#### Problem 3(c) \n",
    "\n",
    "Calculate the proportion of countries with income per person that is greater than 10,000 dollars. Which region has a larger proportion of countries with income per person greater than 10,000 dollars? If the answer here is different from the answer in 3(b), explain why in light of your answer to 3(a).\n",
    "\n",
    "**Update**: Use the year 2012. "
   ]
  },
  {
   "cell_type": "code",
   "execution_count": 25,
   "metadata": {
    "collapsed": false
   },
   "outputs": [
    {
     "data": {
      "text/html": [
       "<div style=\"max-height:1000px;max-width:1500px;overflow:auto;\">\n",
       "<table border=\"1\" class=\"dataframe\">\n",
       "  <thead>\n",
       "    <tr style=\"text-align: right;\">\n",
       "      <th></th>\n",
       "      <th>Region</th>\n",
       "      <th>Mean</th>\n",
       "      <th>P(X &gt; 10000)</th>\n",
       "    </tr>\n",
       "  </thead>\n",
       "  <tbody>\n",
       "    <tr>\n",
       "      <th>1</th>\n",
       "      <td>          ASIA</td>\n",
       "      <td> 14510.04</td>\n",
       "      <td> 0.3684</td>\n",
       "    </tr>\n",
       "    <tr>\n",
       "      <th>5</th>\n",
       "      <td> SOUTH AMERICA</td>\n",
       "      <td>  9471.47</td>\n",
       "      <td> 0.4167</td>\n",
       "    </tr>\n",
       "  </tbody>\n",
       "</table>\n",
       "</div>"
      ],
      "text/plain": [
       "          Region      Mean  P(X > 10000)\n",
       "1           ASIA  14510.04        0.3684\n",
       "5  SOUTH AMERICA   9471.47        0.4167"
      ]
     },
     "execution_count": 25,
     "metadata": {},
     "output_type": "execute_result"
    }
   ],
   "source": [
    "def ratioCountries(groupedData, a):\n",
    "    prop = [len(group.Income[group.Income >= a]) / float(len(group.Income.dropna())) for key, group in groupedData]\n",
    "    z = pd.DataFrame(groupedData.mean().index, columns = ['Region'])\n",
    "    z['Mean'] = np.round(groupedData.mean().values,2)\n",
    "    z['P(X > %g)' % a] = np.round(prop, 4)\n",
    "    return z\n",
    "\n",
    "df = mergeByYear(2012).groupby('Region')\n",
    "df_ratio = ratioCountries(df, 1e4)\n",
    "df_ratio = df_ratio[(df_ratio.Region == 'ASIA') | (df_ratio.Region == 'SOUTH AMERICA')]\n",
    "df_ratio"
   ]
  },
  {
   "cell_type": "markdown",
   "metadata": {},
   "source": [
    "South America has a larger proportion of countries greater than 10,000 dollars compared to Asia. This is different from the answer in 3(b). Because Asia does not have a normal distribution, the theory in Problem in 3(a) is not applicable here.  "
   ]
  },
  {
   "cell_type": "markdown",
   "metadata": {},
   "source": [
    "#### Problem 3(d)\n",
    "\n",
    "**For AC209 Students**: Re-run this analysis in Problem 3 but compute the average income per person for each region, instead of the average of the reported incomes per person across countries in the region. Why are these two different? Hint: use this [data set](https://spreadsheets.google.com/pub?key=phAwcNAVuyj0XOoBL_n5tAQ&gid=0). "
   ]
  },
  {
   "cell_type": "code",
   "execution_count": 26,
   "metadata": {
    "collapsed": false
   },
   "outputs": [
    {
     "data": {
      "text/html": [
       "<div style=\"max-height:1000px;max-width:1500px;overflow:auto;\">\n",
       "<table border=\"1\" class=\"dataframe\">\n",
       "  <thead>\n",
       "    <tr style=\"text-align: right;\">\n",
       "      <th></th>\n",
       "      <th>Country</th>\n",
       "      <th>1700</th>\n",
       "      <th>1730</th>\n",
       "      <th>1750</th>\n",
       "      <th>1785</th>\n",
       "      <th>1786</th>\n",
       "      <th>1787</th>\n",
       "      <th>1788</th>\n",
       "      <th>1789</th>\n",
       "      <th>1790</th>\n",
       "      <th>...</th>\n",
       "      <th>2004</th>\n",
       "      <th>2005</th>\n",
       "      <th>2006</th>\n",
       "      <th>2007</th>\n",
       "      <th>2008</th>\n",
       "      <th>2009</th>\n",
       "      <th>2010</th>\n",
       "      <th>2011</th>\n",
       "      <th>2012</th>\n",
       "      <th>2013</th>\n",
       "    </tr>\n",
       "  </thead>\n",
       "  <tbody>\n",
       "    <tr>\n",
       "      <th>0</th>\n",
       "      <td>              Abkhazia</td>\n",
       "      <td>     NaN</td>\n",
       "      <td>NaN</td>\n",
       "      <td>NaN</td>\n",
       "      <td>NaN</td>\n",
       "      <td>NaN</td>\n",
       "      <td>NaN</td>\n",
       "      <td>NaN</td>\n",
       "      <td>NaN</td>\n",
       "      <td>NaN</td>\n",
       "      <td>...</td>\n",
       "      <td>      NaN</td>\n",
       "      <td>      NaN</td>\n",
       "      <td>      NaN</td>\n",
       "      <td>      NaN</td>\n",
       "      <td>      NaN</td>\n",
       "      <td>      NaN</td>\n",
       "      <td>      NaN</td>\n",
       "      <td>      NaN</td>\n",
       "      <td>      NaN</td>\n",
       "      <td>      NaN</td>\n",
       "    </tr>\n",
       "    <tr>\n",
       "      <th>1</th>\n",
       "      <td>           Afghanistan</td>\n",
       "      <td>     NaN</td>\n",
       "      <td>NaN</td>\n",
       "      <td>NaN</td>\n",
       "      <td>NaN</td>\n",
       "      <td>NaN</td>\n",
       "      <td>NaN</td>\n",
       "      <td>NaN</td>\n",
       "      <td>NaN</td>\n",
       "      <td>NaN</td>\n",
       "      <td>...</td>\n",
       "      <td> 26693486</td>\n",
       "      <td> 27614718</td>\n",
       "      <td> 28420974</td>\n",
       "      <td> 29145841</td>\n",
       "      <td> 29839994</td>\n",
       "      <td> 30577756</td>\n",
       "      <td> 31411743</td>\n",
       "      <td> 32358260</td>\n",
       "      <td> 33397058</td>\n",
       "      <td> 34499915</td>\n",
       "    </tr>\n",
       "    <tr>\n",
       "      <th>2</th>\n",
       "      <td> Akrotiri and Dhekelia</td>\n",
       "      <td>     NaN</td>\n",
       "      <td>NaN</td>\n",
       "      <td>NaN</td>\n",
       "      <td>NaN</td>\n",
       "      <td>NaN</td>\n",
       "      <td>NaN</td>\n",
       "      <td>NaN</td>\n",
       "      <td>NaN</td>\n",
       "      <td>NaN</td>\n",
       "      <td>...</td>\n",
       "      <td>      NaN</td>\n",
       "      <td>    15700</td>\n",
       "      <td>      NaN</td>\n",
       "      <td>      NaN</td>\n",
       "      <td>    15700</td>\n",
       "      <td>      NaN</td>\n",
       "      <td>      NaN</td>\n",
       "      <td>      NaN</td>\n",
       "      <td>      NaN</td>\n",
       "      <td>      NaN</td>\n",
       "    </tr>\n",
       "    <tr>\n",
       "      <th>3</th>\n",
       "      <td>               Albania</td>\n",
       "      <td>  300000</td>\n",
       "      <td>NaN</td>\n",
       "      <td>NaN</td>\n",
       "      <td>NaN</td>\n",
       "      <td>NaN</td>\n",
       "      <td>NaN</td>\n",
       "      <td>NaN</td>\n",
       "      <td>NaN</td>\n",
       "      <td>NaN</td>\n",
       "      <td>...</td>\n",
       "      <td>  3124861</td>\n",
       "      <td>  3141800</td>\n",
       "      <td>  3156607</td>\n",
       "      <td>  3169665</td>\n",
       "      <td>  3181397</td>\n",
       "      <td>  3192723</td>\n",
       "      <td>  3204284</td>\n",
       "      <td>  3215988</td>\n",
       "      <td>  3227373</td>\n",
       "      <td>  3238316</td>\n",
       "    </tr>\n",
       "    <tr>\n",
       "      <th>4</th>\n",
       "      <td>               Algeria</td>\n",
       "      <td> 1750000</td>\n",
       "      <td>NaN</td>\n",
       "      <td>NaN</td>\n",
       "      <td>NaN</td>\n",
       "      <td>NaN</td>\n",
       "      <td>NaN</td>\n",
       "      <td>NaN</td>\n",
       "      <td>NaN</td>\n",
       "      <td>NaN</td>\n",
       "      <td>...</td>\n",
       "      <td> 32396048</td>\n",
       "      <td> 32888449</td>\n",
       "      <td> 33391954</td>\n",
       "      <td> 33906605</td>\n",
       "      <td> 34428028</td>\n",
       "      <td> 34950168</td>\n",
       "      <td> 35468208</td>\n",
       "      <td> 35980193</td>\n",
       "      <td> 36485828</td>\n",
       "      <td> 36983924</td>\n",
       "    </tr>\n",
       "  </tbody>\n",
       "</table>\n",
       "<p>5 rows × 233 columns</p>\n",
       "</div>"
      ],
      "text/plain": [
       "                 Country     1700  1730  1750  1785  1786  1787  1788  1789  \\\n",
       "0               Abkhazia      NaN   NaN   NaN   NaN   NaN   NaN   NaN   NaN   \n",
       "1            Afghanistan      NaN   NaN   NaN   NaN   NaN   NaN   NaN   NaN   \n",
       "2  Akrotiri and Dhekelia      NaN   NaN   NaN   NaN   NaN   NaN   NaN   NaN   \n",
       "3                Albania   300000   NaN   NaN   NaN   NaN   NaN   NaN   NaN   \n",
       "4                Algeria  1750000   NaN   NaN   NaN   NaN   NaN   NaN   NaN   \n",
       "\n",
       "   1790  ...       2004      2005      2006      2007      2008      2009  \\\n",
       "0   NaN  ...        NaN       NaN       NaN       NaN       NaN       NaN   \n",
       "1   NaN  ...   26693486  27614718  28420974  29145841  29839994  30577756   \n",
       "2   NaN  ...        NaN     15700       NaN       NaN     15700       NaN   \n",
       "3   NaN  ...    3124861   3141800   3156607   3169665   3181397   3192723   \n",
       "4   NaN  ...   32396048  32888449  33391954  33906605  34428028  34950168   \n",
       "\n",
       "       2010      2011      2012      2013  \n",
       "0       NaN       NaN       NaN       NaN  \n",
       "1  31411743  32358260  33397058  34499915  \n",
       "2       NaN       NaN       NaN       NaN  \n",
       "3   3204284   3215988   3227373   3238316  \n",
       "4  35468208  35980193  36485828  36983924  \n",
       "\n",
       "[5 rows x 233 columns]"
      ]
     },
     "execution_count": 26,
     "metadata": {},
     "output_type": "execute_result"
    }
   ],
   "source": [
    "#your code here\n",
    "\n",
    "# First import the population data:\n",
    "population_link = 'https://spreadsheets.google.com/pub?key=phAwcNAVuyj0XOoBL_n5tAQ&output=xls'\n",
    "source = StringIO.StringIO(requests.get(population_link).content)\n",
    "population = pd.read_excel(source, sheetname = \"Data\")\n",
    "\n",
    "# Put years as index and countries as column names\n",
    "population.columns = ['Country'] + map(int, list(population.columns)[1:])\n",
    "population.head()"
   ]
  },
  {
   "cell_type": "markdown",
   "metadata": {},
   "source": [
    "Consider we have $M$ regions.  Let $R_j$ be the number of countries in the $j^{th}$ region where $j = 1, \\ldots, M$.  \n",
    "\n",
    "If the income per person in a country $i$ is $I_i$, we previously calculated the average income per person over $R_j$ countries in the $j^{th}$ region using the following formula: \n",
    "    $$\\bar{S}_j = \\frac{1}{R_j}\\sum_{i=1}^{R_j} I_i$$\n",
    "Now, we want to consider the average income in a given region adjusting for each countries' population $N_i$. Therefore, we use the following formula to calculate an average income in a given region $R_j$ adjusting for the population in each country: \n",
    "     $$ \\bar{S}_j = \\frac{S_1 + S_2 + \\ldots + S_{R_j}}{N_1 + N_2 + \\ldots + N_{R_j} } = \\frac{N_1 * I_1 + N_2 * I_2 + \\ldots + N_{R_j} * I_{R_j}}{N_1 + N_2 + \\ldots + N_{R_j} }$$\n",
    "    \n",
    "We start by creating a function similar to `mergeByYear()` from 2(c) which merges the income for each country in a given region, but also includes the population for each country. "
   ]
  },
  {
   "cell_type": "code",
   "execution_count": 27,
   "metadata": {
    "collapsed": false
   },
   "outputs": [
    {
     "data": {
      "text/html": [
       "<div style=\"max-height:1000px;max-width:1500px;overflow:auto;\">\n",
       "<table border=\"1\" class=\"dataframe\">\n",
       "  <thead>\n",
       "    <tr style=\"text-align: right;\">\n",
       "      <th></th>\n",
       "      <th>Income</th>\n",
       "      <th>Country</th>\n",
       "      <th>Region</th>\n",
       "      <th>TotalPopulation</th>\n",
       "      <th>AdjustedIncome</th>\n",
       "    </tr>\n",
       "  </thead>\n",
       "  <tbody>\n",
       "    <tr>\n",
       "      <th>0</th>\n",
       "      <td> 1349.70</td>\n",
       "      <td> Afghanistan</td>\n",
       "      <td>   ASIA</td>\n",
       "      <td> 33397058</td>\n",
       "      <td>  11.13</td>\n",
       "    </tr>\n",
       "    <tr>\n",
       "      <th>1</th>\n",
       "      <td> 6969.31</td>\n",
       "      <td>     Albania</td>\n",
       "      <td> EUROPE</td>\n",
       "      <td>  3227373</td>\n",
       "      <td>  37.68</td>\n",
       "    </tr>\n",
       "    <tr>\n",
       "      <th>2</th>\n",
       "      <td> 6419.13</td>\n",
       "      <td>     Algeria</td>\n",
       "      <td> AFRICA</td>\n",
       "      <td> 36485828</td>\n",
       "      <td> 246.02</td>\n",
       "    </tr>\n",
       "    <tr>\n",
       "      <th>3</th>\n",
       "      <td>     NaN</td>\n",
       "      <td>     Andorra</td>\n",
       "      <td> EUROPE</td>\n",
       "      <td>    87518</td>\n",
       "      <td>    NaN</td>\n",
       "    </tr>\n",
       "    <tr>\n",
       "      <th>4</th>\n",
       "      <td> 5838.16</td>\n",
       "      <td>      Angola</td>\n",
       "      <td> AFRICA</td>\n",
       "      <td> 20162517</td>\n",
       "      <td> 123.65</td>\n",
       "    </tr>\n",
       "  </tbody>\n",
       "</table>\n",
       "</div>"
      ],
      "text/plain": [
       "    Income      Country  Region  TotalPopulation  AdjustedIncome\n",
       "0  1349.70  Afghanistan    ASIA         33397058           11.13\n",
       "1  6969.31      Albania  EUROPE          3227373           37.68\n",
       "2  6419.13      Algeria  AFRICA         36485828          246.02\n",
       "3      NaN      Andorra  EUROPE            87518             NaN\n",
       "4  5838.16       Angola  AFRICA         20162517          123.65"
      ]
     },
     "execution_count": 27,
     "metadata": {},
     "output_type": "execute_result"
    }
   ],
   "source": [
    "def mergeByYearWithPop(year):\n",
    "\n",
    "    # income DataFrame\n",
    "    income_df = pd.DataFrame(income.ix[year].values, columns = ['Income'])\n",
    "    income_df['Country'] = income.columns\n",
    "\n",
    "    # merge income DataFrame and countries\n",
    "    joined = pd.merge(income_df, countries, how=\"inner\", on=['Country'])\n",
    "    \n",
    "    # population DataFrame\n",
    "    population_df = population[['Country',year]]\n",
    "\n",
    "    # merge population DataFrame and joined DataFrame \n",
    "    joined = pd.merge(joined, population_df, how=\"inner\", on=['Country'])\n",
    "    joined.columns = list(joined.columns[:-1])+['TotalPopulation']\n",
    "    joined.Income = np.round(joined.Income, 2)\n",
    "    \n",
    "    def func(df):\n",
    "        totPop = df.sum()['TotalPopulation']\n",
    "        dfout = df\n",
    "        dfout['AdjustedIncome'] = df.Income * df.TotalPopulation / float(totPop)\n",
    "        dfout.AdjustedIncome = np.round(dfout.AdjustedIncome, 2)\n",
    "        return dfout\n",
    "        \n",
    "    # Group by region\n",
    "    returnDataFrame = joined.groupby('Region').apply(func)\n",
    "        \n",
    "    return returnDataFrame\n",
    "\n",
    "mergeByYearWithPop(2012).head()"
   ]
  },
  {
   "cell_type": "code",
   "execution_count": 28,
   "metadata": {
    "collapsed": false
   },
   "outputs": [
    {
     "data": {
      "text/html": [
       "<div style=\"max-height:1000px;max-width:1500px;overflow:auto;\">\n",
       "<table border=\"1\" class=\"dataframe\">\n",
       "  <thead>\n",
       "    <tr style=\"text-align: right;\">\n",
       "      <th></th>\n",
       "      <th>Income</th>\n",
       "      <th>TotalPopulation</th>\n",
       "      <th>AdjustedIncome</th>\n",
       "    </tr>\n",
       "  </thead>\n",
       "  <tbody>\n",
       "    <tr>\n",
       "      <th>ASIA</th>\n",
       "      <td> 14510.04</td>\n",
       "      <td> 4048448110</td>\n",
       "      <td>  6731.66</td>\n",
       "    </tr>\n",
       "    <tr>\n",
       "      <th>SOUTH AMERICA</th>\n",
       "      <td>  9471.47</td>\n",
       "      <td>  400557572</td>\n",
       "      <td> 10550.87</td>\n",
       "    </tr>\n",
       "  </tbody>\n",
       "</table>\n",
       "</div>"
      ],
      "text/plain": [
       "                 Income  TotalPopulation  AdjustedIncome\n",
       "ASIA           14510.04       4048448110         6731.66\n",
       "SOUTH AMERICA   9471.47        400557572        10550.87"
      ]
     },
     "execution_count": 28,
     "metadata": {},
     "output_type": "execute_result"
    }
   ],
   "source": [
    "df = mergeByYearWithPop(2012).groupby('Region').sum()\n",
    "df.Income = mergeByYear(2012).groupby('Region').mean().Income\n",
    "df.Income = np.round(df.Income, 2)\n",
    "df = df.ix[['ASIA', 'SOUTH AMERICA']]\n",
    "df"
   ]
  },
  {
   "cell_type": "markdown",
   "metadata": {},
   "source": [
    "In 3(b) we computed the average income per person in each of the regions. The first column in the table above contains the averages from 3(b) (i.e. without adjusting for population). Column 2 contains the total population in the given region. The last column is the average income per person in each of the regions (adjusted for population).  \n",
    "\n",
    "To compare the boxplots from 3(b), here we plot the income per person for a given region (adjusted for population) on the log10 scale. "
   ]
  },
  {
   "cell_type": "code",
   "execution_count": 29,
   "metadata": {
    "collapsed": false
   },
   "outputs": [
    {
     "data": {
      "text/plain": [
       "<matplotlib.text.Text at 0x10ba6d250>"
      ]
     },
     "execution_count": 29,
     "metadata": {},
     "output_type": "execute_result"
    },
    {
     "data": {
      "image/png": "[encoded data removed]",
      "text/plain": [
       "<matplotlib.figure.Figure at 0x10a77af50>"
      ]
     },
     "metadata": {},
     "output_type": "display_data"
    }
   ],
   "source": [
    "df = mergeByYearWithPop(2012)\n",
    "df.AdjustedIncome = df['AdjustedIncome']\n",
    "df = df[(df.Region == 'ASIA') | (df.Region == 'SOUTH AMERICA')]\n",
    "df.boxplot('AdjustedIncome', by = 'Region', rot = 90)\n",
    "plt.yscale('log')\n",
    "plt.ylabel('Income per person adjusted for population (log10 scale)')"
   ]
  },
  {
   "cell_type": "markdown",
   "metadata": {},
   "source": [
    "Next let's repeat the analysis in 3(c)."
   ]
  },
  {
   "cell_type": "code",
   "execution_count": 30,
   "metadata": {
    "collapsed": false
   },
   "outputs": [],
   "source": [
    "def ratioCountries(groupedData, a):\n",
    "    prop = [len(group.AdjustedIncome[group.AdjustedIncome >= a]) / float(len(group.AdjustedIncome.dropna())) for key, group in groupedData]\n",
    "    z = pd.DataFrame(groupedData.mean().index, columns = ['Region'])\n",
    "    z['AdjustedIncome'] = np.round(groupedData.AdjustedIncome.sum().values,2)\n",
    "    z['P(X > %g)' % a] = np.round(prop,4)\n",
    "    return z"
   ]
  },
  {
   "cell_type": "code",
   "execution_count": 31,
   "metadata": {
    "collapsed": false
   },
   "outputs": [
    {
     "data": {
      "text/html": [
       "<div style=\"max-height:1000px;max-width:1500px;overflow:auto;\">\n",
       "<table border=\"1\" class=\"dataframe\">\n",
       "  <thead>\n",
       "    <tr style=\"text-align: right;\">\n",
       "      <th></th>\n",
       "      <th>Region</th>\n",
       "      <th>AdjustedIncome</th>\n",
       "      <th>P(X &gt; 10000)</th>\n",
       "    </tr>\n",
       "  </thead>\n",
       "  <tbody>\n",
       "    <tr>\n",
       "      <th>1</th>\n",
       "      <td>          ASIA</td>\n",
       "      <td>  6731.66</td>\n",
       "      <td> 0</td>\n",
       "    </tr>\n",
       "    <tr>\n",
       "      <th>5</th>\n",
       "      <td> SOUTH AMERICA</td>\n",
       "      <td> 10550.87</td>\n",
       "      <td> 0</td>\n",
       "    </tr>\n",
       "  </tbody>\n",
       "</table>\n",
       "</div>"
      ],
      "text/plain": [
       "          Region  AdjustedIncome  P(X > 10000)\n",
       "1           ASIA         6731.66             0\n",
       "5  SOUTH AMERICA        10550.87             0"
      ]
     },
     "execution_count": 31,
     "metadata": {},
     "output_type": "execute_result"
    }
   ],
   "source": [
    "df = mergeByYearWithPop(2012).groupby('Region')\n",
    "df_ratio = ratioCountries(df, 1e4)\n",
    "df_ratio = df_ratio[(df_ratio.Region == 'ASIA') | (df_ratio.Region == 'SOUTH AMERICA')]\n",
    "df_ratio\n"
   ]
  },
  {
   "cell_type": "markdown",
   "metadata": {},
   "source": [
    "If we lower the value `a` from 10,000 to 1,000:"
   ]
  },
  {
   "cell_type": "code",
   "execution_count": 32,
   "metadata": {
    "collapsed": false
   },
   "outputs": [
    {
     "data": {
      "text/html": [
       "<div style=\"max-height:1000px;max-width:1500px;overflow:auto;\">\n",
       "<table border=\"1\" class=\"dataframe\">\n",
       "  <thead>\n",
       "    <tr style=\"text-align: right;\">\n",
       "      <th></th>\n",
       "      <th>Region</th>\n",
       "      <th>AdjustedIncome</th>\n",
       "      <th>P(X &gt; 1000)</th>\n",
       "    </tr>\n",
       "  </thead>\n",
       "  <tbody>\n",
       "    <tr>\n",
       "      <th>1</th>\n",
       "      <td>          ASIA</td>\n",
       "      <td>  6731.66</td>\n",
       "      <td> 0.0526</td>\n",
       "    </tr>\n",
       "    <tr>\n",
       "      <th>5</th>\n",
       "      <td> SOUTH AMERICA</td>\n",
       "      <td> 10550.87</td>\n",
       "      <td> 0.1667</td>\n",
       "    </tr>\n",
       "  </tbody>\n",
       "</table>\n",
       "</div>"
      ],
      "text/plain": [
       "          Region  AdjustedIncome  P(X > 1000)\n",
       "1           ASIA         6731.66       0.0526\n",
       "5  SOUTH AMERICA        10550.87       0.1667"
      ]
     },
     "execution_count": 32,
     "metadata": {},
     "output_type": "execute_result"
    }
   ],
   "source": [
    "df = mergeByYearWithPop(2012).groupby('Region')\n",
    "df_ratio = ratioCountries(df, 1e3)\n",
    "df_ratio = df_ratio[(df_ratio.Region == 'ASIA') | (df_ratio.Region == 'SOUTH AMERICA')]\n",
    "df_ratio"
   ]
  },
  {
   "cell_type": "markdown",
   "metadata": {},
   "source": [
    "The solutions to Problem 3(d) are different because here we are correcting for the countries with the largest populations.  "
   ]
  },
  {
   "cell_type": "markdown",
   "metadata": {},
   "source": [
    "## Discussion for Problem 3\n",
    "\n",
    "*Write a brief discussion of your conclusions to the questions and tasks above in 100 words or less.*\n",
    "\n",
    "---\n",
    "\n",
    "The start of Problem 3 asked: *If group A has larger values than group B on average, does this mean the largest values are from group A?*.  After completely Problem 3, we see the answer is no.  In 2012, Asia had a larger average income per person compared to South America, but because the distributions of Asia and South America are different (e.g. Asia is not normally distributed), we saw the probability of seeing extreme values in Asia is smaller than the probability of seeing extreme values in South America.  When we adjust the incomes for the population of each country, we are correcting for the problem of outliers or the countries with the largest populations. "
   ]
  },
  {
   "cell_type": "code",
   "execution_count": 32,
   "metadata": {
    "collapsed": false
   },
   "outputs": [],
   "source": []
  }
 ],
 "metadata": {
  "kernelspec": {
   "display_name": "Python 2",
   "language": "python",
   "name": "python2"
  },
  "language_info": {
   "codemirror_mode": {
    "name": "ipython",
    "version": 2
   },
   "file_extension": ".py",
   "mimetype": "text/x-python",
   "name": "python",
   "nbconvert_exporter": "python",
   "pygments_lexer": "ipython2",
   "version": "2.7.11"
  }
 },
 "nbformat": 4,
 "nbformat_minor": 0
}
