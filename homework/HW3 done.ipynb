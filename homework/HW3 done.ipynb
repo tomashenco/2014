{
 "cells": [
  {
   "cell_type": "markdown",
   "metadata": {},
   "source": [
    "# Homework 3: Prediction and Classification\n",
    "\n",
    "Due: Thursday, October 16, 2014 11:59 PM\n",
    "\n",
    "<a href=https://raw.githubusercontent.com/cs109/2014/master/homework/HW3.ipynb download=HW3.ipynb> Download this assignment</a>\n",
    "\n",
    "#### Submission Instructions\n",
    "To submit your homework, create a folder named lastname_firstinitial_hw# and place your IPython notebooks, data files, and any other files in this folder. Your IPython Notebooks should be completely executed with the results visible in the notebook. We should not have to run any code. Compress the folder (please use .zip compression) and submit to the CS109 dropbox in the appropriate folder. If we cannot access your work because these directions are not followed correctly, we will not grade your work.\n",
    "\n",
    "---\n"
   ]
  },
  {
   "cell_type": "markdown",
   "metadata": {},
   "source": [
    "# Introduction\n",
    "\n",
    "In this assignment you will be using regression and classification to explore different data sets.  \n",
    "\n",
    "**First**: You will use data from before 2002 in the [Sean Lahman's Baseball Database](http://seanlahman.com/baseball-archive/statistics) to create a metric for picking baseball players using linear regression. This is same database we used in Homework 1. This database contains the \"complete batting and pitching statistics from 1871 to 2013, plus fielding statistics, standings, team stats, managerial records, post-season data, and more\". [Documentation provided here](http://seanlahman.com/files/database/readme2012.txt).\n",
    "\n",
    "![\"Sabermetrics Science\"](http://saberseminar.com/wp-content/uploads/2012/01/saber-web.jpg)\n",
    "http://saberseminar.com/wp-content/uploads/2012/01/saber-web.jpg\n",
    "\n",
    "**Second**: You will use the famous [iris](http://en.wikipedia.org/wiki/Iris_flower_data_set) data set to perform a $k$-neareast neighbor classification using cross validation.  While it was introduced in 1936, it is still [one of the most popular](http://archive.ics.uci.edu/ml/) example data sets in the machine learning community. Wikipedia describes the data set as follows: \"The data set consists of 50 samples from each of three species of Iris (Iris setosa, Iris virginica and Iris versicolor). Four features were measured from each sample: the length and the width of the sepals and petals, in centimetres.\" Here is an illustration what the four features measure:\n",
    "\n",
    "![\"iris data features\"](http://sebastianraschka.com/Images/2014_python_lda/iris_petal_sepal.png)\n",
    "http://sebastianraschka.com/Images/2014_python_lda/iris_petal_sepal.png\n",
    "\n",
    "**Third**: You will investigate the influence of higher dimensional spaces on the classification using another standard data set in machine learning called the The [digits data set](http://scikit-learn.org/stable/modules/generated/sklearn.datasets.load_digits.html).  This data set is similar to the MNIST data set discussed in the lecture. The main difference is, that each digit is represented by an 8x8 pixel image patch, which is considerably smaller than the 28x28 pixels from MNIST. In addition, the gray values are restricted to 16 different values (4 bit), instead of 256 (8 bit) for MNIST. \n",
    "\n",
    "**Finally**: In preparation for Homework 4, we want you to read through the following articles related to predicting the 2014 Senate Midterm Elections. \n",
    "\n",
    "* [Nate Silver's Methodology at while at NYT](http://fivethirtyeight.blogs.nytimes.com/methodology/)\n",
    "* [How The FiveThirtyEight Senate Forecast Model Works](http://fivethirtyeight.com/features/how-the-fivethirtyeight-senate-forecast-model-works/)\n",
    "* [Pollster Ratings v4.0: Methodology](http://fivethirtyeight.com/features/pollster-ratings-v40-methodology/)\n",
    "* [Pollster Ratings v4.0: Results](http://fivethirtyeight.com/features/pollster-ratings-v40-results/)\n",
    "* [Nate Silver versus Sam Wang](http://www.washingtonpost.com/blogs/plum-line/wp/2014/09/17/nate-silver-versus-sam-wang/)\n",
    "* [More Nate Silver versus Sam Wang](http://www.dailykos.com/story/2014/09/09/1328288/-Get-Ready-To-Rumbllllle-Battle-Of-The-Nerds-Nate-Silver-VS-Sam-Wang)\n",
    "* [Nate Silver explains critisims of Sam Wang](http://politicalwire.com/archives/2014/10/02/nate_silver_rebuts_sam_wang.html)\n",
    "* [Background on the feud between Nate Silver and Sam Wang](http://talkingpointsmemo.com/dc/nate-silver-sam-wang-feud)\n",
    "* [Are there swing voters?]( http://www.stat.columbia.edu/~gelman/research/unpublished/swing_voters.pdf)\n",
    "\n",
    "\n",
    "\n",
    "---"
   ]
  },
  {
   "cell_type": "markdown",
   "metadata": {},
   "source": [
    "## Load Python modules"
   ]
  },
  {
   "cell_type": "code",
   "execution_count": 1,
   "metadata": {
    "collapsed": false
   },
   "outputs": [],
   "source": [
    "# special IPython command to prepare the notebook for matplotlib\n",
    "%matplotlib inline \n",
    "\n",
    "import requests \n",
    "import StringIO\n",
    "import zipfile\n",
    "import numpy as np\n",
    "import pandas as pd # pandas\n",
    "import matplotlib.pyplot as plt # module for plotting\n",
    "from scipy import stats as st \n",
    "\n",
    "# If this module is not already installed, you may need to install it. \n",
    "# You can do this by typing 'pip install seaborn' in the command line\n",
    "import seaborn as sns \n",
    "\n",
    "import sklearn\n",
    "import sklearn.datasets\n",
    "import sklearn.cross_validation\n",
    "import sklearn.decomposition\n",
    "import sklearn.grid_search\n",
    "import sklearn.neighbors\n",
    "import sklearn.metrics"
   ]
  },
  {
   "cell_type": "markdown",
   "metadata": {},
   "source": [
    "# Problem 1: Sabermetrics\n",
    "\n",
    "Using data preceding the 2002 season pick 10 offensive players keeping the payroll under $20 million (assign each player the median salary). Predict how many games this team would win in a 162 game season.  \n",
    "\n",
    "In this problem we will be returning to the [Sean Lahman's Baseball Database](http://seanlahman.com/baseball-archive/statistics) that we used in Homework 1.  From this database, we will be extract five data sets containing information such as yearly stats and standing, batting statistics, fielding statistics, player names, player salaries and biographical information. You will explore the data in this database from before 2002 and create a metric for picking players. "
   ]
  },
  {
   "cell_type": "markdown",
   "metadata": {},
   "source": [
    "#### Problem 1(a) \n",
    "\n",
    "Load in [these CSV files](http://seanlahman.com/files/database/lahman-csv_2014-02-14.zip) from the [Sean Lahman's Baseball Database](http://seanlahman.com/baseball-archive/statistics). For this assignment, we will use the 'Teams.csv', 'Batting.csv', 'Salaries.csv', 'Fielding.csv', 'Master.csv' tables. Read these tables into separate pandas DataFrames with the following names. \n",
    "\n",
    "CSV file name | Name of pandas DataFrame\n",
    ":---: | :---: \n",
    "Teams.csv | teams\n",
    "Batting.csv | players\n",
    "Salaries.csv | salaries\n",
    "Fielding.csv | fielding\n",
    "Master.csv | master"
   ]
  },
  {
   "cell_type": "code",
   "execution_count": 2,
   "metadata": {
    "collapsed": true
   },
   "outputs": [],
   "source": [
    "import os\n",
    "path = '/Users/tomasz.dobrzycki/Downloads/lahman-csv_2014-02-14'"
   ]
  },
  {
   "cell_type": "code",
   "execution_count": 3,
   "metadata": {
    "collapsed": false
   },
   "outputs": [
    {
     "data": {
      "text/html": [
       "<div>\n",
       "<table border=\"1\" class=\"dataframe\">\n",
       "  <thead>\n",
       "    <tr style=\"text-align: right;\">\n",
       "      <th></th>\n",
       "      <th>yearID</th>\n",
       "      <th>lgID</th>\n",
       "      <th>teamID</th>\n",
       "      <th>franchID</th>\n",
       "      <th>divID</th>\n",
       "      <th>Rank</th>\n",
       "      <th>G</th>\n",
       "      <th>Ghome</th>\n",
       "      <th>W</th>\n",
       "      <th>L</th>\n",
       "      <th>...</th>\n",
       "      <th>DP</th>\n",
       "      <th>FP</th>\n",
       "      <th>name</th>\n",
       "      <th>park</th>\n",
       "      <th>attendance</th>\n",
       "      <th>BPF</th>\n",
       "      <th>PPF</th>\n",
       "      <th>teamIDBR</th>\n",
       "      <th>teamIDlahman45</th>\n",
       "      <th>teamIDretro</th>\n",
       "    </tr>\n",
       "  </thead>\n",
       "  <tbody>\n",
       "    <tr>\n",
       "      <th>0</th>\n",
       "      <td>1871</td>\n",
       "      <td>NaN</td>\n",
       "      <td>PH1</td>\n",
       "      <td>PNA</td>\n",
       "      <td>NaN</td>\n",
       "      <td>1</td>\n",
       "      <td>28</td>\n",
       "      <td>NaN</td>\n",
       "      <td>21</td>\n",
       "      <td>7</td>\n",
       "      <td>...</td>\n",
       "      <td>NaN</td>\n",
       "      <td>0.84</td>\n",
       "      <td>Philadelphia Athletics</td>\n",
       "      <td>Jefferson Street Grounds</td>\n",
       "      <td>NaN</td>\n",
       "      <td>102</td>\n",
       "      <td>98</td>\n",
       "      <td>ATH</td>\n",
       "      <td>PH1</td>\n",
       "      <td>PH1</td>\n",
       "    </tr>\n",
       "    <tr>\n",
       "      <th>1</th>\n",
       "      <td>1871</td>\n",
       "      <td>NaN</td>\n",
       "      <td>CH1</td>\n",
       "      <td>CNA</td>\n",
       "      <td>NaN</td>\n",
       "      <td>2</td>\n",
       "      <td>28</td>\n",
       "      <td>NaN</td>\n",
       "      <td>19</td>\n",
       "      <td>9</td>\n",
       "      <td>...</td>\n",
       "      <td>NaN</td>\n",
       "      <td>0.82</td>\n",
       "      <td>Chicago White Stockings</td>\n",
       "      <td>Union Base-Ball Grounds</td>\n",
       "      <td>NaN</td>\n",
       "      <td>104</td>\n",
       "      <td>102</td>\n",
       "      <td>CHI</td>\n",
       "      <td>CH1</td>\n",
       "      <td>CH1</td>\n",
       "    </tr>\n",
       "    <tr>\n",
       "      <th>2</th>\n",
       "      <td>1871</td>\n",
       "      <td>NaN</td>\n",
       "      <td>BS1</td>\n",
       "      <td>BNA</td>\n",
       "      <td>NaN</td>\n",
       "      <td>3</td>\n",
       "      <td>31</td>\n",
       "      <td>NaN</td>\n",
       "      <td>20</td>\n",
       "      <td>10</td>\n",
       "      <td>...</td>\n",
       "      <td>NaN</td>\n",
       "      <td>0.83</td>\n",
       "      <td>Boston Red Stockings</td>\n",
       "      <td>South End Grounds I</td>\n",
       "      <td>NaN</td>\n",
       "      <td>103</td>\n",
       "      <td>98</td>\n",
       "      <td>BOS</td>\n",
       "      <td>BS1</td>\n",
       "      <td>BS1</td>\n",
       "    </tr>\n",
       "    <tr>\n",
       "      <th>3</th>\n",
       "      <td>1871</td>\n",
       "      <td>NaN</td>\n",
       "      <td>WS3</td>\n",
       "      <td>OLY</td>\n",
       "      <td>NaN</td>\n",
       "      <td>4</td>\n",
       "      <td>32</td>\n",
       "      <td>NaN</td>\n",
       "      <td>15</td>\n",
       "      <td>15</td>\n",
       "      <td>...</td>\n",
       "      <td>NaN</td>\n",
       "      <td>0.85</td>\n",
       "      <td>Washington Olympics</td>\n",
       "      <td>Olympics Grounds</td>\n",
       "      <td>NaN</td>\n",
       "      <td>94</td>\n",
       "      <td>98</td>\n",
       "      <td>OLY</td>\n",
       "      <td>WS3</td>\n",
       "      <td>WS3</td>\n",
       "    </tr>\n",
       "    <tr>\n",
       "      <th>4</th>\n",
       "      <td>1871</td>\n",
       "      <td>NaN</td>\n",
       "      <td>NY2</td>\n",
       "      <td>NNA</td>\n",
       "      <td>NaN</td>\n",
       "      <td>5</td>\n",
       "      <td>33</td>\n",
       "      <td>NaN</td>\n",
       "      <td>16</td>\n",
       "      <td>17</td>\n",
       "      <td>...</td>\n",
       "      <td>NaN</td>\n",
       "      <td>0.83</td>\n",
       "      <td>New York Mutuals</td>\n",
       "      <td>Union Grounds (Brooklyn)</td>\n",
       "      <td>NaN</td>\n",
       "      <td>90</td>\n",
       "      <td>88</td>\n",
       "      <td>NYU</td>\n",
       "      <td>NY2</td>\n",
       "      <td>NY2</td>\n",
       "    </tr>\n",
       "  </tbody>\n",
       "</table>\n",
       "<p>5 rows × 48 columns</p>\n",
       "</div>"
      ],
      "text/plain": [
       "   yearID lgID teamID franchID divID  Rank   G  Ghome   W   L     ...       \\\n",
       "0    1871  NaN    PH1      PNA   NaN     1  28    NaN  21   7     ...        \n",
       "1    1871  NaN    CH1      CNA   NaN     2  28    NaN  19   9     ...        \n",
       "2    1871  NaN    BS1      BNA   NaN     3  31    NaN  20  10     ...        \n",
       "3    1871  NaN    WS3      OLY   NaN     4  32    NaN  15  15     ...        \n",
       "4    1871  NaN    NY2      NNA   NaN     5  33    NaN  16  17     ...        \n",
       "\n",
       "   DP    FP                     name                      park  attendance  \\\n",
       "0 NaN  0.84   Philadelphia Athletics  Jefferson Street Grounds         NaN   \n",
       "1 NaN  0.82  Chicago White Stockings   Union Base-Ball Grounds         NaN   \n",
       "2 NaN  0.83     Boston Red Stockings       South End Grounds I         NaN   \n",
       "3 NaN  0.85      Washington Olympics          Olympics Grounds         NaN   \n",
       "4 NaN  0.83         New York Mutuals  Union Grounds (Brooklyn)         NaN   \n",
       "\n",
       "   BPF  PPF  teamIDBR  teamIDlahman45  teamIDretro  \n",
       "0  102   98       ATH             PH1          PH1  \n",
       "1  104  102       CHI             CH1          CH1  \n",
       "2  103   98       BOS             BS1          BS1  \n",
       "3   94   98       OLY             WS3          WS3  \n",
       "4   90   88       NYU             NY2          NY2  \n",
       "\n",
       "[5 rows x 48 columns]"
      ]
     },
     "execution_count": 3,
     "metadata": {},
     "output_type": "execute_result"
    }
   ],
   "source": [
    "teams = pd.read_csv(os.path.join(path, 'Teams.csv'))\n",
    "teams.head()"
   ]
  },
  {
   "cell_type": "code",
   "execution_count": 4,
   "metadata": {
    "collapsed": false
   },
   "outputs": [
    {
     "data": {
      "text/html": [
       "<div>\n",
       "<table border=\"1\" class=\"dataframe\">\n",
       "  <thead>\n",
       "    <tr style=\"text-align: right;\">\n",
       "      <th></th>\n",
       "      <th>playerID</th>\n",
       "      <th>yearID</th>\n",
       "      <th>stint</th>\n",
       "      <th>teamID</th>\n",
       "      <th>lgID</th>\n",
       "      <th>G</th>\n",
       "      <th>G_batting</th>\n",
       "      <th>AB</th>\n",
       "      <th>R</th>\n",
       "      <th>H</th>\n",
       "      <th>...</th>\n",
       "      <th>SB</th>\n",
       "      <th>CS</th>\n",
       "      <th>BB</th>\n",
       "      <th>SO</th>\n",
       "      <th>IBB</th>\n",
       "      <th>HBP</th>\n",
       "      <th>SH</th>\n",
       "      <th>SF</th>\n",
       "      <th>GIDP</th>\n",
       "      <th>G_old</th>\n",
       "    </tr>\n",
       "  </thead>\n",
       "  <tbody>\n",
       "    <tr>\n",
       "      <th>0</th>\n",
       "      <td>aardsda01</td>\n",
       "      <td>2004</td>\n",
       "      <td>1</td>\n",
       "      <td>SFN</td>\n",
       "      <td>NL</td>\n",
       "      <td>11</td>\n",
       "      <td>11.0</td>\n",
       "      <td>0.0</td>\n",
       "      <td>0.0</td>\n",
       "      <td>0.0</td>\n",
       "      <td>...</td>\n",
       "      <td>0.0</td>\n",
       "      <td>0.0</td>\n",
       "      <td>0.0</td>\n",
       "      <td>0.0</td>\n",
       "      <td>0.0</td>\n",
       "      <td>0.0</td>\n",
       "      <td>0.0</td>\n",
       "      <td>0.0</td>\n",
       "      <td>0.0</td>\n",
       "      <td>11.0</td>\n",
       "    </tr>\n",
       "    <tr>\n",
       "      <th>1</th>\n",
       "      <td>aardsda01</td>\n",
       "      <td>2006</td>\n",
       "      <td>1</td>\n",
       "      <td>CHN</td>\n",
       "      <td>NL</td>\n",
       "      <td>45</td>\n",
       "      <td>43.0</td>\n",
       "      <td>2.0</td>\n",
       "      <td>0.0</td>\n",
       "      <td>0.0</td>\n",
       "      <td>...</td>\n",
       "      <td>0.0</td>\n",
       "      <td>0.0</td>\n",
       "      <td>0.0</td>\n",
       "      <td>0.0</td>\n",
       "      <td>0.0</td>\n",
       "      <td>0.0</td>\n",
       "      <td>1.0</td>\n",
       "      <td>0.0</td>\n",
       "      <td>0.0</td>\n",
       "      <td>45.0</td>\n",
       "    </tr>\n",
       "    <tr>\n",
       "      <th>2</th>\n",
       "      <td>aardsda01</td>\n",
       "      <td>2007</td>\n",
       "      <td>1</td>\n",
       "      <td>CHA</td>\n",
       "      <td>AL</td>\n",
       "      <td>25</td>\n",
       "      <td>2.0</td>\n",
       "      <td>0.0</td>\n",
       "      <td>0.0</td>\n",
       "      <td>0.0</td>\n",
       "      <td>...</td>\n",
       "      <td>0.0</td>\n",
       "      <td>0.0</td>\n",
       "      <td>0.0</td>\n",
       "      <td>0.0</td>\n",
       "      <td>0.0</td>\n",
       "      <td>0.0</td>\n",
       "      <td>0.0</td>\n",
       "      <td>0.0</td>\n",
       "      <td>0.0</td>\n",
       "      <td>2.0</td>\n",
       "    </tr>\n",
       "    <tr>\n",
       "      <th>3</th>\n",
       "      <td>aardsda01</td>\n",
       "      <td>2008</td>\n",
       "      <td>1</td>\n",
       "      <td>BOS</td>\n",
       "      <td>AL</td>\n",
       "      <td>47</td>\n",
       "      <td>5.0</td>\n",
       "      <td>1.0</td>\n",
       "      <td>0.0</td>\n",
       "      <td>0.0</td>\n",
       "      <td>...</td>\n",
       "      <td>0.0</td>\n",
       "      <td>0.0</td>\n",
       "      <td>0.0</td>\n",
       "      <td>1.0</td>\n",
       "      <td>0.0</td>\n",
       "      <td>0.0</td>\n",
       "      <td>0.0</td>\n",
       "      <td>0.0</td>\n",
       "      <td>0.0</td>\n",
       "      <td>5.0</td>\n",
       "    </tr>\n",
       "    <tr>\n",
       "      <th>4</th>\n",
       "      <td>aardsda01</td>\n",
       "      <td>2009</td>\n",
       "      <td>1</td>\n",
       "      <td>SEA</td>\n",
       "      <td>AL</td>\n",
       "      <td>73</td>\n",
       "      <td>3.0</td>\n",
       "      <td>0.0</td>\n",
       "      <td>0.0</td>\n",
       "      <td>0.0</td>\n",
       "      <td>...</td>\n",
       "      <td>0.0</td>\n",
       "      <td>0.0</td>\n",
       "      <td>0.0</td>\n",
       "      <td>0.0</td>\n",
       "      <td>0.0</td>\n",
       "      <td>0.0</td>\n",
       "      <td>0.0</td>\n",
       "      <td>0.0</td>\n",
       "      <td>0.0</td>\n",
       "      <td>NaN</td>\n",
       "    </tr>\n",
       "  </tbody>\n",
       "</table>\n",
       "<p>5 rows × 24 columns</p>\n",
       "</div>"
      ],
      "text/plain": [
       "    playerID  yearID  stint teamID lgID   G  G_batting   AB    R    H  ...    \\\n",
       "0  aardsda01    2004      1    SFN   NL  11       11.0  0.0  0.0  0.0  ...     \n",
       "1  aardsda01    2006      1    CHN   NL  45       43.0  2.0  0.0  0.0  ...     \n",
       "2  aardsda01    2007      1    CHA   AL  25        2.0  0.0  0.0  0.0  ...     \n",
       "3  aardsda01    2008      1    BOS   AL  47        5.0  1.0  0.0  0.0  ...     \n",
       "4  aardsda01    2009      1    SEA   AL  73        3.0  0.0  0.0  0.0  ...     \n",
       "\n",
       "    SB   CS   BB   SO  IBB  HBP   SH   SF  GIDP  G_old  \n",
       "0  0.0  0.0  0.0  0.0  0.0  0.0  0.0  0.0   0.0   11.0  \n",
       "1  0.0  0.0  0.0  0.0  0.0  0.0  1.0  0.0   0.0   45.0  \n",
       "2  0.0  0.0  0.0  0.0  0.0  0.0  0.0  0.0   0.0    2.0  \n",
       "3  0.0  0.0  0.0  1.0  0.0  0.0  0.0  0.0   0.0    5.0  \n",
       "4  0.0  0.0  0.0  0.0  0.0  0.0  0.0  0.0   0.0    NaN  \n",
       "\n",
       "[5 rows x 24 columns]"
      ]
     },
     "execution_count": 4,
     "metadata": {},
     "output_type": "execute_result"
    }
   ],
   "source": [
    "players = pd.read_csv(os.path.join(path, 'Batting.csv'))\n",
    "players.head()"
   ]
  },
  {
   "cell_type": "code",
   "execution_count": 5,
   "metadata": {
    "collapsed": false
   },
   "outputs": [
    {
     "data": {
      "text/html": [
       "<div>\n",
       "<table border=\"1\" class=\"dataframe\">\n",
       "  <thead>\n",
       "    <tr style=\"text-align: right;\">\n",
       "      <th></th>\n",
       "      <th>yearID</th>\n",
       "      <th>teamID</th>\n",
       "      <th>lgID</th>\n",
       "      <th>playerID</th>\n",
       "      <th>salary</th>\n",
       "    </tr>\n",
       "  </thead>\n",
       "  <tbody>\n",
       "    <tr>\n",
       "      <th>0</th>\n",
       "      <td>1985</td>\n",
       "      <td>BAL</td>\n",
       "      <td>AL</td>\n",
       "      <td>murraed02</td>\n",
       "      <td>1472819</td>\n",
       "    </tr>\n",
       "    <tr>\n",
       "      <th>1</th>\n",
       "      <td>1985</td>\n",
       "      <td>BAL</td>\n",
       "      <td>AL</td>\n",
       "      <td>lynnfr01</td>\n",
       "      <td>1090000</td>\n",
       "    </tr>\n",
       "    <tr>\n",
       "      <th>2</th>\n",
       "      <td>1985</td>\n",
       "      <td>BAL</td>\n",
       "      <td>AL</td>\n",
       "      <td>ripkeca01</td>\n",
       "      <td>800000</td>\n",
       "    </tr>\n",
       "    <tr>\n",
       "      <th>3</th>\n",
       "      <td>1985</td>\n",
       "      <td>BAL</td>\n",
       "      <td>AL</td>\n",
       "      <td>lacyle01</td>\n",
       "      <td>725000</td>\n",
       "    </tr>\n",
       "    <tr>\n",
       "      <th>4</th>\n",
       "      <td>1985</td>\n",
       "      <td>BAL</td>\n",
       "      <td>AL</td>\n",
       "      <td>flanami01</td>\n",
       "      <td>641667</td>\n",
       "    </tr>\n",
       "  </tbody>\n",
       "</table>\n",
       "</div>"
      ],
      "text/plain": [
       "   yearID teamID lgID   playerID   salary\n",
       "0    1985    BAL   AL  murraed02  1472819\n",
       "1    1985    BAL   AL   lynnfr01  1090000\n",
       "2    1985    BAL   AL  ripkeca01   800000\n",
       "3    1985    BAL   AL   lacyle01   725000\n",
       "4    1985    BAL   AL  flanami01   641667"
      ]
     },
     "execution_count": 5,
     "metadata": {},
     "output_type": "execute_result"
    }
   ],
   "source": [
    "salaries = pd.read_csv(os.path.join(path, 'Salaries.csv'))\n",
    "salaries.head()"
   ]
  },
  {
   "cell_type": "code",
   "execution_count": 6,
   "metadata": {
    "collapsed": false
   },
   "outputs": [
    {
     "data": {
      "text/html": [
       "<div>\n",
       "<table border=\"1\" class=\"dataframe\">\n",
       "  <thead>\n",
       "    <tr style=\"text-align: right;\">\n",
       "      <th></th>\n",
       "      <th>playerID</th>\n",
       "      <th>yearID</th>\n",
       "      <th>stint</th>\n",
       "      <th>teamID</th>\n",
       "      <th>lgID</th>\n",
       "      <th>POS</th>\n",
       "      <th>G</th>\n",
       "      <th>GS</th>\n",
       "      <th>InnOuts</th>\n",
       "      <th>PO</th>\n",
       "      <th>A</th>\n",
       "      <th>E</th>\n",
       "      <th>DP</th>\n",
       "      <th>PB</th>\n",
       "      <th>WP</th>\n",
       "      <th>SB</th>\n",
       "      <th>CS</th>\n",
       "      <th>ZR</th>\n",
       "    </tr>\n",
       "  </thead>\n",
       "  <tbody>\n",
       "    <tr>\n",
       "      <th>0</th>\n",
       "      <td>ansonca01</td>\n",
       "      <td>1871</td>\n",
       "      <td>1</td>\n",
       "      <td>RC1</td>\n",
       "      <td>NaN</td>\n",
       "      <td>1B</td>\n",
       "      <td>1</td>\n",
       "      <td>NaN</td>\n",
       "      <td>NaN</td>\n",
       "      <td>7.0</td>\n",
       "      <td>0.0</td>\n",
       "      <td>0.0</td>\n",
       "      <td>0.0</td>\n",
       "      <td>NaN</td>\n",
       "      <td>NaN</td>\n",
       "      <td>NaN</td>\n",
       "      <td>NaN</td>\n",
       "      <td>NaN</td>\n",
       "    </tr>\n",
       "    <tr>\n",
       "      <th>1</th>\n",
       "      <td>biermch01</td>\n",
       "      <td>1871</td>\n",
       "      <td>1</td>\n",
       "      <td>FW1</td>\n",
       "      <td>NaN</td>\n",
       "      <td>1B</td>\n",
       "      <td>1</td>\n",
       "      <td>NaN</td>\n",
       "      <td>NaN</td>\n",
       "      <td>9.0</td>\n",
       "      <td>0.0</td>\n",
       "      <td>2.0</td>\n",
       "      <td>0.0</td>\n",
       "      <td>NaN</td>\n",
       "      <td>NaN</td>\n",
       "      <td>NaN</td>\n",
       "      <td>NaN</td>\n",
       "      <td>NaN</td>\n",
       "    </tr>\n",
       "    <tr>\n",
       "      <th>2</th>\n",
       "      <td>carleji01</td>\n",
       "      <td>1871</td>\n",
       "      <td>1</td>\n",
       "      <td>CL1</td>\n",
       "      <td>NaN</td>\n",
       "      <td>1B</td>\n",
       "      <td>29</td>\n",
       "      <td>NaN</td>\n",
       "      <td>NaN</td>\n",
       "      <td>295.0</td>\n",
       "      <td>4.0</td>\n",
       "      <td>34.0</td>\n",
       "      <td>10.0</td>\n",
       "      <td>NaN</td>\n",
       "      <td>NaN</td>\n",
       "      <td>NaN</td>\n",
       "      <td>NaN</td>\n",
       "      <td>NaN</td>\n",
       "    </tr>\n",
       "    <tr>\n",
       "      <th>3</th>\n",
       "      <td>connone01</td>\n",
       "      <td>1871</td>\n",
       "      <td>1</td>\n",
       "      <td>TRO</td>\n",
       "      <td>NaN</td>\n",
       "      <td>1B</td>\n",
       "      <td>4</td>\n",
       "      <td>NaN</td>\n",
       "      <td>NaN</td>\n",
       "      <td>35.0</td>\n",
       "      <td>1.0</td>\n",
       "      <td>5.0</td>\n",
       "      <td>1.0</td>\n",
       "      <td>NaN</td>\n",
       "      <td>NaN</td>\n",
       "      <td>NaN</td>\n",
       "      <td>NaN</td>\n",
       "      <td>NaN</td>\n",
       "    </tr>\n",
       "    <tr>\n",
       "      <th>4</th>\n",
       "      <td>cravebi01</td>\n",
       "      <td>1871</td>\n",
       "      <td>1</td>\n",
       "      <td>TRO</td>\n",
       "      <td>NaN</td>\n",
       "      <td>1B</td>\n",
       "      <td>2</td>\n",
       "      <td>NaN</td>\n",
       "      <td>NaN</td>\n",
       "      <td>18.0</td>\n",
       "      <td>1.0</td>\n",
       "      <td>1.0</td>\n",
       "      <td>1.0</td>\n",
       "      <td>NaN</td>\n",
       "      <td>NaN</td>\n",
       "      <td>NaN</td>\n",
       "      <td>NaN</td>\n",
       "      <td>NaN</td>\n",
       "    </tr>\n",
       "  </tbody>\n",
       "</table>\n",
       "</div>"
      ],
      "text/plain": [
       "    playerID  yearID  stint teamID lgID POS   G  GS  InnOuts     PO    A  \\\n",
       "0  ansonca01    1871      1    RC1  NaN  1B   1 NaN      NaN    7.0  0.0   \n",
       "1  biermch01    1871      1    FW1  NaN  1B   1 NaN      NaN    9.0  0.0   \n",
       "2  carleji01    1871      1    CL1  NaN  1B  29 NaN      NaN  295.0  4.0   \n",
       "3  connone01    1871      1    TRO  NaN  1B   4 NaN      NaN   35.0  1.0   \n",
       "4  cravebi01    1871      1    TRO  NaN  1B   2 NaN      NaN   18.0  1.0   \n",
       "\n",
       "      E    DP  PB  WP  SB  CS  ZR  \n",
       "0   0.0   0.0 NaN NaN NaN NaN NaN  \n",
       "1   2.0   0.0 NaN NaN NaN NaN NaN  \n",
       "2  34.0  10.0 NaN NaN NaN NaN NaN  \n",
       "3   5.0   1.0 NaN NaN NaN NaN NaN  \n",
       "4   1.0   1.0 NaN NaN NaN NaN NaN  "
      ]
     },
     "execution_count": 6,
     "metadata": {},
     "output_type": "execute_result"
    }
   ],
   "source": [
    "fielding = pd.read_csv(os.path.join(path, 'Fielding.csv'))\n",
    "fielding.head()"
   ]
  },
  {
   "cell_type": "code",
   "execution_count": 7,
   "metadata": {
    "collapsed": false
   },
   "outputs": [
    {
     "data": {
      "text/html": [
       "<div>\n",
       "<table border=\"1\" class=\"dataframe\">\n",
       "  <thead>\n",
       "    <tr style=\"text-align: right;\">\n",
       "      <th></th>\n",
       "      <th>playerID</th>\n",
       "      <th>birthYear</th>\n",
       "      <th>birthMonth</th>\n",
       "      <th>birthDay</th>\n",
       "      <th>birthCountry</th>\n",
       "      <th>birthState</th>\n",
       "      <th>birthCity</th>\n",
       "      <th>deathYear</th>\n",
       "      <th>deathMonth</th>\n",
       "      <th>deathDay</th>\n",
       "      <th>...</th>\n",
       "      <th>nameLast</th>\n",
       "      <th>nameGiven</th>\n",
       "      <th>weight</th>\n",
       "      <th>height</th>\n",
       "      <th>bats</th>\n",
       "      <th>throws</th>\n",
       "      <th>debut</th>\n",
       "      <th>finalGame</th>\n",
       "      <th>retroID</th>\n",
       "      <th>bbrefID</th>\n",
       "    </tr>\n",
       "  </thead>\n",
       "  <tbody>\n",
       "    <tr>\n",
       "      <th>0</th>\n",
       "      <td>aardsda01</td>\n",
       "      <td>1981.0</td>\n",
       "      <td>12.0</td>\n",
       "      <td>27.0</td>\n",
       "      <td>USA</td>\n",
       "      <td>CO</td>\n",
       "      <td>Denver</td>\n",
       "      <td>NaN</td>\n",
       "      <td>NaN</td>\n",
       "      <td>NaN</td>\n",
       "      <td>...</td>\n",
       "      <td>Aardsma</td>\n",
       "      <td>David Allan</td>\n",
       "      <td>205.0</td>\n",
       "      <td>75.0</td>\n",
       "      <td>R</td>\n",
       "      <td>R</td>\n",
       "      <td>2004-04-06</td>\n",
       "      <td>2013-09-28</td>\n",
       "      <td>aardd001</td>\n",
       "      <td>aardsda01</td>\n",
       "    </tr>\n",
       "    <tr>\n",
       "      <th>1</th>\n",
       "      <td>aaronha01</td>\n",
       "      <td>1934.0</td>\n",
       "      <td>2.0</td>\n",
       "      <td>5.0</td>\n",
       "      <td>USA</td>\n",
       "      <td>AL</td>\n",
       "      <td>Mobile</td>\n",
       "      <td>NaN</td>\n",
       "      <td>NaN</td>\n",
       "      <td>NaN</td>\n",
       "      <td>...</td>\n",
       "      <td>Aaron</td>\n",
       "      <td>Henry Louis</td>\n",
       "      <td>180.0</td>\n",
       "      <td>72.0</td>\n",
       "      <td>R</td>\n",
       "      <td>R</td>\n",
       "      <td>1954-04-13</td>\n",
       "      <td>1976-10-03</td>\n",
       "      <td>aaroh101</td>\n",
       "      <td>aaronha01</td>\n",
       "    </tr>\n",
       "    <tr>\n",
       "      <th>2</th>\n",
       "      <td>aaronto01</td>\n",
       "      <td>1939.0</td>\n",
       "      <td>8.0</td>\n",
       "      <td>5.0</td>\n",
       "      <td>USA</td>\n",
       "      <td>AL</td>\n",
       "      <td>Mobile</td>\n",
       "      <td>1984.0</td>\n",
       "      <td>8.0</td>\n",
       "      <td>16.0</td>\n",
       "      <td>...</td>\n",
       "      <td>Aaron</td>\n",
       "      <td>Tommie Lee</td>\n",
       "      <td>190.0</td>\n",
       "      <td>75.0</td>\n",
       "      <td>R</td>\n",
       "      <td>R</td>\n",
       "      <td>1962-04-10</td>\n",
       "      <td>1971-09-26</td>\n",
       "      <td>aarot101</td>\n",
       "      <td>aaronto01</td>\n",
       "    </tr>\n",
       "    <tr>\n",
       "      <th>3</th>\n",
       "      <td>aasedo01</td>\n",
       "      <td>1954.0</td>\n",
       "      <td>9.0</td>\n",
       "      <td>8.0</td>\n",
       "      <td>USA</td>\n",
       "      <td>CA</td>\n",
       "      <td>Orange</td>\n",
       "      <td>NaN</td>\n",
       "      <td>NaN</td>\n",
       "      <td>NaN</td>\n",
       "      <td>...</td>\n",
       "      <td>Aase</td>\n",
       "      <td>Donald William</td>\n",
       "      <td>190.0</td>\n",
       "      <td>75.0</td>\n",
       "      <td>R</td>\n",
       "      <td>R</td>\n",
       "      <td>1977-07-26</td>\n",
       "      <td>1990-10-03</td>\n",
       "      <td>aased001</td>\n",
       "      <td>aasedo01</td>\n",
       "    </tr>\n",
       "    <tr>\n",
       "      <th>4</th>\n",
       "      <td>abadan01</td>\n",
       "      <td>1972.0</td>\n",
       "      <td>8.0</td>\n",
       "      <td>25.0</td>\n",
       "      <td>USA</td>\n",
       "      <td>FL</td>\n",
       "      <td>Palm Beach</td>\n",
       "      <td>NaN</td>\n",
       "      <td>NaN</td>\n",
       "      <td>NaN</td>\n",
       "      <td>...</td>\n",
       "      <td>Abad</td>\n",
       "      <td>Fausto Andres</td>\n",
       "      <td>184.0</td>\n",
       "      <td>73.0</td>\n",
       "      <td>L</td>\n",
       "      <td>L</td>\n",
       "      <td>2001-09-10</td>\n",
       "      <td>2006-04-13</td>\n",
       "      <td>abada001</td>\n",
       "      <td>abadan01</td>\n",
       "    </tr>\n",
       "  </tbody>\n",
       "</table>\n",
       "<p>5 rows × 24 columns</p>\n",
       "</div>"
      ],
      "text/plain": [
       "    playerID  birthYear  birthMonth  birthDay birthCountry birthState  \\\n",
       "0  aardsda01     1981.0        12.0      27.0          USA         CO   \n",
       "1  aaronha01     1934.0         2.0       5.0          USA         AL   \n",
       "2  aaronto01     1939.0         8.0       5.0          USA         AL   \n",
       "3   aasedo01     1954.0         9.0       8.0          USA         CA   \n",
       "4   abadan01     1972.0         8.0      25.0          USA         FL   \n",
       "\n",
       "    birthCity  deathYear  deathMonth  deathDay    ...     nameLast  \\\n",
       "0      Denver        NaN         NaN       NaN    ...      Aardsma   \n",
       "1      Mobile        NaN         NaN       NaN    ...        Aaron   \n",
       "2      Mobile     1984.0         8.0      16.0    ...        Aaron   \n",
       "3      Orange        NaN         NaN       NaN    ...         Aase   \n",
       "4  Palm Beach        NaN         NaN       NaN    ...         Abad   \n",
       "\n",
       "        nameGiven weight height bats throws       debut   finalGame   retroID  \\\n",
       "0     David Allan  205.0   75.0    R      R  2004-04-06  2013-09-28  aardd001   \n",
       "1     Henry Louis  180.0   72.0    R      R  1954-04-13  1976-10-03  aaroh101   \n",
       "2      Tommie Lee  190.0   75.0    R      R  1962-04-10  1971-09-26  aarot101   \n",
       "3  Donald William  190.0   75.0    R      R  1977-07-26  1990-10-03  aased001   \n",
       "4   Fausto Andres  184.0   73.0    L      L  2001-09-10  2006-04-13  abada001   \n",
       "\n",
       "     bbrefID  \n",
       "0  aardsda01  \n",
       "1  aaronha01  \n",
       "2  aaronto01  \n",
       "3   aasedo01  \n",
       "4   abadan01  \n",
       "\n",
       "[5 rows x 24 columns]"
      ]
     },
     "execution_count": 7,
     "metadata": {},
     "output_type": "execute_result"
    }
   ],
   "source": [
    "master = pd.read_csv(os.path.join(path, 'Master.csv'))\n",
    "master.head()"
   ]
  },
  {
   "cell_type": "markdown",
   "metadata": {},
   "source": [
    "#### Problem 1(b)\n",
    "\n",
    "Calculate the median salary for each player and create a pandas DataFrame called `medianSalaries` with four columns: (1) the player ID, (2) the first name of the player, (3) the last name of the player and (4) the median salary of the player. Show the head of the `medianSalaries` DataFrame.   "
   ]
  },
  {
   "cell_type": "code",
   "execution_count": 8,
   "metadata": {
    "collapsed": false
   },
   "outputs": [
    {
     "data": {
      "text/html": [
       "<div>\n",
       "<table border=\"1\" class=\"dataframe\">\n",
       "  <thead>\n",
       "    <tr style=\"text-align: right;\">\n",
       "      <th></th>\n",
       "      <th>playerID</th>\n",
       "      <th>nameFirst</th>\n",
       "      <th>nameLast</th>\n",
       "      <th>salary</th>\n",
       "    </tr>\n",
       "  </thead>\n",
       "  <tbody>\n",
       "    <tr>\n",
       "      <th>0</th>\n",
       "      <td>aardsda01</td>\n",
       "      <td>David</td>\n",
       "      <td>Aardsma</td>\n",
       "      <td>419000.0</td>\n",
       "    </tr>\n",
       "    <tr>\n",
       "      <th>3</th>\n",
       "      <td>aasedo01</td>\n",
       "      <td>Don</td>\n",
       "      <td>Aase</td>\n",
       "      <td>612500.0</td>\n",
       "    </tr>\n",
       "    <tr>\n",
       "      <th>4</th>\n",
       "      <td>abadan01</td>\n",
       "      <td>Andy</td>\n",
       "      <td>Abad</td>\n",
       "      <td>327000.0</td>\n",
       "    </tr>\n",
       "    <tr>\n",
       "      <th>5</th>\n",
       "      <td>abadfe01</td>\n",
       "      <td>Fernando</td>\n",
       "      <td>Abad</td>\n",
       "      <td>451500.0</td>\n",
       "    </tr>\n",
       "    <tr>\n",
       "      <th>13</th>\n",
       "      <td>abbotje01</td>\n",
       "      <td>Jeff</td>\n",
       "      <td>Abbott</td>\n",
       "      <td>255000.0</td>\n",
       "    </tr>\n",
       "  </tbody>\n",
       "</table>\n",
       "</div>"
      ],
      "text/plain": [
       "     playerID nameFirst nameLast    salary\n",
       "0   aardsda01     David  Aardsma  419000.0\n",
       "3    aasedo01       Don     Aase  612500.0\n",
       "4    abadan01      Andy     Abad  327000.0\n",
       "5    abadfe01  Fernando     Abad  451500.0\n",
       "13  abbotje01      Jeff   Abbott  255000.0"
      ]
     },
     "execution_count": 8,
     "metadata": {},
     "output_type": "execute_result"
    }
   ],
   "source": [
    "first_part = pd.DataFrame(salaries.groupby('playerID').median()['salary'])\n",
    "first_merge = first_part.merge(master, how='inner', left_index=True, right_on='playerID')\n",
    "medianSalaries = first_merge[['playerID', 'nameFirst', 'nameLast', 'salary']]\n",
    "medianSalaries.head()"
   ]
  },
  {
   "cell_type": "markdown",
   "metadata": {},
   "source": [
    "#### Problem 1(c)\n",
    "\n",
    "Now, consider only team/season combinations in which the teams played 162 Games. Exclude all data from before 1947. Compute the per plate appearance rates for singles, doubles, triples, HR, and BB. Create a new pandas DataFrame called `stats` that has the teamID, yearID, wins and these rates.\n",
    "\n",
    "**Hint**: Singles are hits that are not doubles, triples, nor HR. Plate appearances are base on balls plus at bats."
   ]
  },
  {
   "cell_type": "code",
   "execution_count": 9,
   "metadata": {
    "collapsed": false
   },
   "outputs": [
    {
     "data": {
      "text/html": [
       "<div>\n",
       "<table border=\"1\" class=\"dataframe\">\n",
       "  <thead>\n",
       "    <tr style=\"text-align: right;\">\n",
       "      <th></th>\n",
       "      <th>teamID</th>\n",
       "      <th>yearID</th>\n",
       "      <th>W</th>\n",
       "      <th>1B rate</th>\n",
       "      <th>2B rate</th>\n",
       "      <th>3B rate</th>\n",
       "      <th>HR rate</th>\n",
       "      <th>BB rate</th>\n",
       "    </tr>\n",
       "  </thead>\n",
       "  <tbody>\n",
       "    <tr>\n",
       "      <th>1366</th>\n",
       "      <td>LAA</td>\n",
       "      <td>1961</td>\n",
       "      <td>70</td>\n",
       "      <td>0.147748</td>\n",
       "      <td>0.035708</td>\n",
       "      <td>0.003604</td>\n",
       "      <td>0.030958</td>\n",
       "      <td>0.111548</td>\n",
       "    </tr>\n",
       "    <tr>\n",
       "      <th>1367</th>\n",
       "      <td>KC1</td>\n",
       "      <td>1961</td>\n",
       "      <td>61</td>\n",
       "      <td>0.164751</td>\n",
       "      <td>0.035982</td>\n",
       "      <td>0.007829</td>\n",
       "      <td>0.014993</td>\n",
       "      <td>0.096618</td>\n",
       "    </tr>\n",
       "    <tr>\n",
       "      <th>1377</th>\n",
       "      <td>NYA</td>\n",
       "      <td>1962</td>\n",
       "      <td>96</td>\n",
       "      <td>0.167148</td>\n",
       "      <td>0.038536</td>\n",
       "      <td>0.004656</td>\n",
       "      <td>0.031952</td>\n",
       "      <td>0.093770</td>\n",
       "    </tr>\n",
       "    <tr>\n",
       "      <th>1379</th>\n",
       "      <td>LAA</td>\n",
       "      <td>1962</td>\n",
       "      <td>86</td>\n",
       "      <td>0.159482</td>\n",
       "      <td>0.038027</td>\n",
       "      <td>0.005737</td>\n",
       "      <td>0.022455</td>\n",
       "      <td>0.098672</td>\n",
       "    </tr>\n",
       "    <tr>\n",
       "      <th>1381</th>\n",
       "      <td>CHA</td>\n",
       "      <td>1962</td>\n",
       "      <td>85</td>\n",
       "      <td>0.165797</td>\n",
       "      <td>0.040756</td>\n",
       "      <td>0.009129</td>\n",
       "      <td>0.014998</td>\n",
       "      <td>0.101076</td>\n",
       "    </tr>\n",
       "  </tbody>\n",
       "</table>\n",
       "</div>"
      ],
      "text/plain": [
       "     teamID  yearID   W   1B rate   2B rate   3B rate   HR rate   BB rate\n",
       "1366    LAA    1961  70  0.147748  0.035708  0.003604  0.030958  0.111548\n",
       "1367    KC1    1961  61  0.164751  0.035982  0.007829  0.014993  0.096618\n",
       "1377    NYA    1962  96  0.167148  0.038536  0.004656  0.031952  0.093770\n",
       "1379    LAA    1962  86  0.159482  0.038027  0.005737  0.022455  0.098672\n",
       "1381    CHA    1962  85  0.165797  0.040756  0.009129  0.014998  0.101076"
      ]
     },
     "execution_count": 9,
     "metadata": {},
     "output_type": "execute_result"
    }
   ],
   "source": [
    "filtered = teams[np.logical_and(teams['yearID'] >= 1947, teams['G'] == 162)].copy()\n",
    "filtered['1B'] = filtered['H'] - filtered['2B'] - filtered['3B'] - filtered['HR']\n",
    "filtered['PPA'] = filtered['BB'] + filtered['AB']\n",
    "\n",
    "filtered['1B rate'] = filtered['1B'] / filtered['PPA']\n",
    "filtered['2B rate'] = filtered['2B'] / filtered['PPA']\n",
    "filtered['3B rate'] = filtered['3B'] / filtered['PPA']\n",
    "filtered['HR rate'] = filtered['HR'] / filtered['PPA']\n",
    "filtered['BB rate'] = filtered['BB'] / filtered['PPA']\n",
    "\n",
    "stats = filtered[['teamID', 'yearID', 'W', '1B rate', '2B rate', '3B rate', 'HR rate', 'BB rate']].copy()\n",
    "stats.head()"
   ]
  },
  {
   "cell_type": "markdown",
   "metadata": {},
   "source": [
    "#### Problem 1(d)\n",
    "\n",
    "Is there a noticeable time trend in the rates computed in Problem 1(c)? "
   ]
  },
  {
   "cell_type": "code",
   "execution_count": 10,
   "metadata": {
    "collapsed": false
   },
   "outputs": [],
   "source": [
    "from statsmodels.nonparametric.api import lowess"
   ]
  },
  {
   "cell_type": "code",
   "execution_count": 11,
   "metadata": {
    "collapsed": false,
    "scrolled": true
   },
   "outputs": [
    {
     "data": {
      "image/png": "[encoded data removed]",
      "text/plain": [
       "<matplotlib.figure.Figure at 0x119099750>"
      ]
     },
     "metadata": {},
     "output_type": "display_data"
    }
   ],
   "source": [
    "stats.plot(kind='scatter', x='yearID', y='1B rate', figsize=(15, 8))\n",
    "smoothed_1b = lowess(stats['1B rate'], stats['yearID'])\n",
    "plt.plot(smoothed_1b[:, 0], smoothed_1b[:, 1], 'r-')\n",
    "plt.show()"
   ]
  },
  {
   "cell_type": "code",
   "execution_count": 12,
   "metadata": {
    "collapsed": false,
    "scrolled": true
   },
   "outputs": [
    {
     "data": {
      "image/png": "[encoded data removed]",
      "text/plain": [
       "<matplotlib.figure.Figure at 0x103a50950>"
      ]
     },
     "metadata": {},
     "output_type": "display_data"
    }
   ],
   "source": [
    "stats.plot(kind='scatter', x='yearID', y='2B rate', figsize=(15, 8))\n",
    "smoothed_2b = lowess(stats['2B rate'], stats['yearID'])\n",
    "plt.plot(smoothed_2b[:, 0], smoothed_2b[:, 1], 'r-')\n",
    "plt.show()"
   ]
  },
  {
   "cell_type": "code",
   "execution_count": 13,
   "metadata": {
    "collapsed": false,
    "scrolled": true
   },
   "outputs": [
    {
     "data": {
      "image/png": "[encoded data removed]",
      "text/plain": [
       "<matplotlib.figure.Figure at 0x103a64050>"
      ]
     },
     "metadata": {},
     "output_type": "display_data"
    }
   ],
   "source": [
    "stats.plot(kind='scatter', x='yearID', y='3B rate', figsize=(15, 8))\n",
    "smoothed_3b = lowess(stats['3B rate'], stats['yearID'])\n",
    "plt.plot(smoothed_3b[:, 0], smoothed_3b[:, 1], 'r-')\n",
    "plt.show()"
   ]
  },
  {
   "cell_type": "code",
   "execution_count": 14,
   "metadata": {
    "collapsed": false,
    "scrolled": true
   },
   "outputs": [
    {
     "data": {
      "image/png": "[encoded data removed]",
      "text/plain": [
       "<matplotlib.figure.Figure at 0x114cc5b50>"
      ]
     },
     "metadata": {},
     "output_type": "display_data"
    }
   ],
   "source": [
    "stats.plot(kind='scatter', x='yearID', y='HR rate', figsize=(15, 8))\n",
    "smoothed_hr = lowess(stats['HR rate'], stats['yearID'])\n",
    "plt.plot(smoothed_hr[:, 0], smoothed_hr[:, 1], 'r-')\n",
    "plt.show()"
   ]
  },
  {
   "cell_type": "code",
   "execution_count": 15,
   "metadata": {
    "collapsed": false,
    "scrolled": true
   },
   "outputs": [
    {
     "data": {
      "image/png": "[encoded data removed]",
      "text/plain": [
       "<matplotlib.figure.Figure at 0x115160d90>"
      ]
     },
     "metadata": {},
     "output_type": "display_data"
    }
   ],
   "source": [
    "stats.plot(kind='scatter', x='yearID', y='BB rate', figsize=(15, 8))\n",
    "smoothed_bb = lowess(stats['BB rate'], stats['yearID'])\n",
    "plt.plot(smoothed_bb[:, 0], smoothed_bb[:, 1], 'r-')\n",
    "plt.show()"
   ]
  },
  {
   "cell_type": "code",
   "execution_count": 16,
   "metadata": {
    "collapsed": false
   },
   "outputs": [
    {
     "data": {
      "image/png": "[encoded data removed]",
      "text/plain": [
       "<matplotlib.figure.Figure at 0x115213ad0>"
      ]
     },
     "metadata": {},
     "output_type": "display_data"
    }
   ],
   "source": [
    "plt.figure(figsize=(15, 8))\n",
    "plt.plot(smoothed_1b[:, 0], smoothed_1b[:, 1], 'r-')\n",
    "plt.plot(smoothed_2b[:, 0], smoothed_2b[:, 1], 'b-')\n",
    "plt.plot(smoothed_3b[:, 0], smoothed_3b[:, 1], 'g-')\n",
    "plt.plot(smoothed_hr[:, 0], smoothed_hr[:, 1], 'k-')\n",
    "plt.plot(smoothed_bb[:, 0], smoothed_bb[:, 1], 'y-')\n",
    "plt.xlabel('year')\n",
    "plt.ylabel('rates')\n",
    "plt.legend(['1B', '2B', '3B', 'HR', 'BB'])\n",
    "plt.show()"
   ]
  },
  {
   "cell_type": "markdown",
   "metadata": {},
   "source": [
    "#### Problem 1(e) \n",
    "\n",
    "Using the `stats` DataFrame from Problem 1(c), adjust the singles per PA rates so that the average across teams for each year is 0. Do the same for the doubles, triples, HR, and BB rates. "
   ]
  },
  {
   "cell_type": "code",
   "execution_count": 17,
   "metadata": {
    "collapsed": false
   },
   "outputs": [
    {
     "data": {
      "text/html": [
       "<div>\n",
       "<table border=\"1\" class=\"dataframe\">\n",
       "  <thead>\n",
       "    <tr style=\"text-align: right;\">\n",
       "      <th></th>\n",
       "      <th>teamID</th>\n",
       "      <th>yearID</th>\n",
       "      <th>W</th>\n",
       "      <th>1B rate</th>\n",
       "      <th>2B rate</th>\n",
       "      <th>3B rate</th>\n",
       "      <th>HR rate</th>\n",
       "      <th>BB rate</th>\n",
       "      <th>1B norm</th>\n",
       "      <th>2B norm</th>\n",
       "      <th>3B norm</th>\n",
       "      <th>HR norm</th>\n",
       "      <th>BB norm</th>\n",
       "    </tr>\n",
       "  </thead>\n",
       "  <tbody>\n",
       "    <tr>\n",
       "      <th>1366</th>\n",
       "      <td>LAA</td>\n",
       "      <td>1961</td>\n",
       "      <td>70</td>\n",
       "      <td>0.147748</td>\n",
       "      <td>0.035708</td>\n",
       "      <td>0.003604</td>\n",
       "      <td>0.030958</td>\n",
       "      <td>0.111548</td>\n",
       "      <td>-0.008502</td>\n",
       "      <td>-0.000137</td>\n",
       "      <td>-0.002113</td>\n",
       "      <td>0.007983</td>\n",
       "      <td>0.007465</td>\n",
       "    </tr>\n",
       "    <tr>\n",
       "      <th>1367</th>\n",
       "      <td>KC1</td>\n",
       "      <td>1961</td>\n",
       "      <td>61</td>\n",
       "      <td>0.164751</td>\n",
       "      <td>0.035982</td>\n",
       "      <td>0.007829</td>\n",
       "      <td>0.014993</td>\n",
       "      <td>0.096618</td>\n",
       "      <td>0.008502</td>\n",
       "      <td>0.000137</td>\n",
       "      <td>0.002113</td>\n",
       "      <td>-0.007983</td>\n",
       "      <td>-0.007465</td>\n",
       "    </tr>\n",
       "    <tr>\n",
       "      <th>1377</th>\n",
       "      <td>NYA</td>\n",
       "      <td>1962</td>\n",
       "      <td>96</td>\n",
       "      <td>0.167148</td>\n",
       "      <td>0.038536</td>\n",
       "      <td>0.004656</td>\n",
       "      <td>0.031952</td>\n",
       "      <td>0.093770</td>\n",
       "      <td>0.001516</td>\n",
       "      <td>0.002683</td>\n",
       "      <td>-0.002121</td>\n",
       "      <td>0.008141</td>\n",
       "      <td>0.005180</td>\n",
       "    </tr>\n",
       "    <tr>\n",
       "      <th>1379</th>\n",
       "      <td>LAA</td>\n",
       "      <td>1962</td>\n",
       "      <td>86</td>\n",
       "      <td>0.159482</td>\n",
       "      <td>0.038027</td>\n",
       "      <td>0.005737</td>\n",
       "      <td>0.022455</td>\n",
       "      <td>0.098672</td>\n",
       "      <td>-0.006150</td>\n",
       "      <td>0.002174</td>\n",
       "      <td>-0.001040</td>\n",
       "      <td>-0.001356</td>\n",
       "      <td>0.010082</td>\n",
       "    </tr>\n",
       "    <tr>\n",
       "      <th>1381</th>\n",
       "      <td>CHA</td>\n",
       "      <td>1962</td>\n",
       "      <td>85</td>\n",
       "      <td>0.165797</td>\n",
       "      <td>0.040756</td>\n",
       "      <td>0.009129</td>\n",
       "      <td>0.014998</td>\n",
       "      <td>0.101076</td>\n",
       "      <td>0.000165</td>\n",
       "      <td>0.004904</td>\n",
       "      <td>0.002352</td>\n",
       "      <td>-0.008813</td>\n",
       "      <td>0.012486</td>\n",
       "    </tr>\n",
       "  </tbody>\n",
       "</table>\n",
       "</div>"
      ],
      "text/plain": [
       "     teamID  yearID   W   1B rate   2B rate   3B rate   HR rate   BB rate  \\\n",
       "1366    LAA    1961  70  0.147748  0.035708  0.003604  0.030958  0.111548   \n",
       "1367    KC1    1961  61  0.164751  0.035982  0.007829  0.014993  0.096618   \n",
       "1377    NYA    1962  96  0.167148  0.038536  0.004656  0.031952  0.093770   \n",
       "1379    LAA    1962  86  0.159482  0.038027  0.005737  0.022455  0.098672   \n",
       "1381    CHA    1962  85  0.165797  0.040756  0.009129  0.014998  0.101076   \n",
       "\n",
       "       1B norm   2B norm   3B norm   HR norm   BB norm  \n",
       "1366 -0.008502 -0.000137 -0.002113  0.007983  0.007465  \n",
       "1367  0.008502  0.000137  0.002113 -0.007983 -0.007465  \n",
       "1377  0.001516  0.002683 -0.002121  0.008141  0.005180  \n",
       "1379 -0.006150  0.002174 -0.001040 -0.001356  0.010082  \n",
       "1381  0.000165  0.004904  0.002352 -0.008813  0.012486  "
      ]
     },
     "execution_count": 17,
     "metadata": {},
     "output_type": "execute_result"
    }
   ],
   "source": [
    "def mean_normalize(df):\n",
    "    rates = df[['1B rate', '2B rate', '3B rate', 'HR rate', 'BB rate']]\n",
    "    df[['1B norm', '2B norm', '3B norm', 'HR norm', 'BB norm']] = rates - rates.mean()\n",
    "    return df\n",
    "    \n",
    "stats = stats.groupby('yearID').apply(mean_normalize)\n",
    "stats.head()"
   ]
  },
  {
   "cell_type": "markdown",
   "metadata": {},
   "source": [
    "#### Problem 1(f)\n",
    "\n",
    "Build a simple linear regression model to predict the number of wins from the average adjusted singles, double, triples, HR, and BB rates. To decide which of these terms to include fit the model to data from 2002 and compute the average squared residuals from predictions to years past 2002. Use the fitted model to define a new sabermetric summary: offensive predicted wins (OPW). Hint: the new summary should be a linear combination of one to five of the five rates.\n"
   ]
  },
  {
   "cell_type": "code",
   "execution_count": 18,
   "metadata": {
    "collapsed": false,
    "scrolled": true
   },
   "outputs": [
    {
     "data": {
      "text/plain": [
       "(0.12720114274262109, 6.2985801370449594e-05)"
      ]
     },
     "execution_count": 18,
     "metadata": {},
     "output_type": "execute_result"
    },
    {
     "data": {
      "image/png": "[encoded data removed]",
      "text/plain": [
       "<matplotlib.figure.Figure at 0x115d92890>"
      ]
     },
     "metadata": {},
     "output_type": "display_data"
    }
   ],
   "source": [
    "stats.plot(kind='scatter', x='1B norm', y='W', figsize=(15, 8))\n",
    "st.pearsonr(stats['1B norm'], stats['W'])"
   ]
  },
  {
   "cell_type": "code",
   "execution_count": 19,
   "metadata": {
    "collapsed": false
   },
   "outputs": [
    {
     "data": {
      "text/plain": [
       "83.823042489760894"
      ]
     },
     "execution_count": 19,
     "metadata": {},
     "output_type": "execute_result"
    }
   ],
   "source": [
    "train = stats[stats['yearID'] < 2002].copy()\n",
    "test = stats[stats['yearID'] >= 2002].copy()\n",
    "\n",
    "X_train = np.column_stack((np.repeat(1, train.shape[0]), train[['1B norm', '2B norm', '3B norm', 'HR norm', \n",
    "                                                               'BB norm']].values))\n",
    "Y_train = train['W'].values\n",
    "\n",
    "X_test = np.column_stack([np.repeat(1, test.shape[0]), test[['1B norm', '2B norm', '3B norm', 'HR norm', \n",
    "                                                            'BB norm']].values])\n",
    "Y_test = test['W'].values\n",
    "\n",
    "beta = np.linalg.inv(np.dot(X_train.T, X_train)).dot(X_train.T).dot(Y_train)\n",
    "\n",
    "h = X_test.dot(beta)\n",
    "np.mean((Y_test - h) **2)"
   ]
  },
  {
   "cell_type": "code",
   "execution_count": 20,
   "metadata": {
    "collapsed": true
   },
   "outputs": [],
   "source": [
    "from sklearn import linear_model\n",
    "from itertools import combinations as comb"
   ]
  },
  {
   "cell_type": "code",
   "execution_count": 21,
   "metadata": {
    "collapsed": false
   },
   "outputs": [
    {
     "name": "stdout",
     "output_type": "stream",
     "text": [
      "['1B norm'] 134.813992021\n",
      "['2B norm'] 125.185282122\n",
      "['3B norm'] 134.492496484\n",
      "['HR norm'] 113.159756634\n",
      "['BB norm'] 111.444422028\n",
      "['1B norm', '2B norm'] 126.498059644\n",
      "['1B norm', '3B norm'] 135.648988722\n",
      "['1B norm', 'HR norm'] 107.514394841\n",
      "['1B norm', 'BB norm'] 108.145116769\n",
      "['2B norm', '3B norm'] 126.023763553\n",
      "['2B norm', 'HR norm'] 109.285260124\n",
      "['2B norm', 'BB norm'] 107.11121488\n",
      "['3B norm', 'HR norm'] 114.663144381\n",
      "['3B norm', 'BB norm'] 115.538671137\n",
      "['HR norm', 'BB norm'] 100.725218268\n",
      "['1B norm', '2B norm', '3B norm'] 126.682429684\n",
      "['1B norm', '2B norm', 'HR norm'] 103.084569947\n",
      "['1B norm', '2B norm', 'BB norm'] 102.145501062\n",
      "['1B norm', '3B norm', 'HR norm'] 107.086781952\n",
      "['1B norm', '3B norm', 'BB norm'] 109.990919158\n",
      "['1B norm', 'HR norm', 'BB norm'] 87.3138802497\n",
      "['2B norm', '3B norm', 'HR norm'] 109.948167445\n",
      "['2B norm', '3B norm', 'BB norm'] 108.954837485\n",
      "['2B norm', 'HR norm', 'BB norm'] 98.3900108993\n",
      "['3B norm', 'HR norm', 'BB norm'] 103.835216408\n",
      "['1B norm', '2B norm', '3B norm', 'HR norm'] 102.799827217\n",
      "['1B norm', '2B norm', '3B norm', 'BB norm'] 102.821117164\n",
      "['1B norm', '2B norm', 'HR norm', 'BB norm'] 84.251777078\n",
      "['1B norm', '3B norm', 'HR norm', 'BB norm'] 87.4454536579\n",
      "['2B norm', '3B norm', 'HR norm', 'BB norm'] 99.6450200122\n",
      "['1B norm', '2B norm', '3B norm', 'HR norm', 'BB norm'] 83.8230424898\n"
     ]
    }
   ],
   "source": [
    "lr = linear_model.LinearRegression()\n",
    "\n",
    "train = stats[stats['yearID'] < 2002].copy()\n",
    "test = stats[stats['yearID'] >= 2002].copy()\n",
    "\n",
    "all_tags = ['1B norm', '2B norm', '3B norm', 'HR norm', 'BB norm']\n",
    "for r in range(1, len(all_tags)+1):\n",
    "    comb_tags = comb(all_tags, r)\n",
    "    for tags in comb_tags:\n",
    "        tags = list(tags)\n",
    "        X_train = train[tags].values\n",
    "        Y_train = train['W'].values\n",
    "\n",
    "        X_test = test[tags].values\n",
    "        Y_test = test['W'].values\n",
    "\n",
    "        lr.fit(X_train, Y_train)\n",
    "        print tags, np.mean((Y_test - lr.predict(X_test)) **2)"
   ]
  },
  {
   "cell_type": "code",
   "execution_count": 61,
   "metadata": {
    "collapsed": false
   },
   "outputs": [
    {
     "name": "stdout",
     "output_type": "stream",
     "text": [
      "['1B norm', '2B norm', '3B norm', 'HR norm', 'BB norm'] 83.8230424898\n"
     ]
    }
   ],
   "source": [
    "lr_final = linear_model.LinearRegression()\n",
    "tags = ['1B norm', '2B norm', '3B norm', 'HR norm', 'BB norm']\n",
    "\n",
    "train = stats[stats['yearID'] < 2002].copy()\n",
    "test = stats[stats['yearID'] >= 2002].copy()\n",
    "X_train = train[tags].values\n",
    "Y_train = train['W'].values\n",
    "\n",
    "X_test = test[tags].values\n",
    "Y_test = test['W'].values\n",
    "\n",
    "lr_final.fit(X_train, Y_train)\n",
    "print tags, np.mean((Y_test - lr_final.predict(X_test)) **2)"
   ]
  },
  {
   "cell_type": "markdown",
   "metadata": {},
   "source": [
    "** Your answer here: **"
   ]
  },
  {
   "cell_type": "markdown",
   "metadata": {},
   "source": [
    "#### Problem 1(g)\n",
    "\n",
    "Now we will create a similar database for individual players. Consider only player/year combinations in which the player had at least 500 plate appearances. Consider only the years we considered for the calculations above (after 1947 and seasons with 162 games). For each player/year compute singles, doubles, triples, HR, BB per plate appearance rates. Create a new pandas DataFrame called `playerstats` that has the playerID, yearID and the rates of these stats.  Remove the average for each year as for these rates as done in Problem 1(e). "
   ]
  },
  {
   "cell_type": "code",
   "execution_count": 32,
   "metadata": {
    "collapsed": false
   },
   "outputs": [],
   "source": [
    "playerstats = players.copy()\n",
    "playerstats['1B'] = playerstats['H'] - playerstats['2B'] - playerstats['3B'] - playerstats['HR']\n",
    "playerstats['PPA'] = playerstats['BB'] + playerstats['AB']\n",
    "\n",
    "playerstats['1B'] /= playerstats['PPA']\n",
    "playerstats['2B'] /= playerstats['PPA']\n",
    "playerstats['3B'] /= playerstats['PPA']\n",
    "playerstats['HR'] /= playerstats['PPA']\n",
    "playerstats['BB'] /= playerstats['PPA']"
   ]
  },
  {
   "cell_type": "code",
   "execution_count": 33,
   "metadata": {
    "collapsed": true
   },
   "outputs": [],
   "source": [
    "def mean_norm(df):\n",
    "    temp = df[['1B', '2B', '3B', 'HR', 'BB']].copy()\n",
    "    df[['1B', '2B', '3B', 'HR', 'BB']] = temp - temp.mean()\n",
    "    return df\n",
    "\n",
    "playerstats = playerstats.groupby('yearID').apply(mean_norm)"
   ]
  },
  {
   "cell_type": "code",
   "execution_count": 34,
   "metadata": {
    "collapsed": false
   },
   "outputs": [],
   "source": [
    "years = stats['yearID'].unique()\n",
    "playerstats = playerstats[(playerstats['yearID'].isin(years)) & (playerstats['PPA'] >= 500)]\n",
    "playerstats = playerstats[['playerID', 'yearID', '1B', '2B', '3B', 'HR', 'BB']]"
   ]
  },
  {
   "cell_type": "markdown",
   "metadata": {},
   "source": [
    "Show the head of the `playerstats` DataFrame. "
   ]
  },
  {
   "cell_type": "code",
   "execution_count": 35,
   "metadata": {
    "collapsed": false
   },
   "outputs": [
    {
     "data": {
      "text/html": [
       "<div>\n",
       "<table border=\"1\" class=\"dataframe\">\n",
       "  <thead>\n",
       "    <tr style=\"text-align: right;\">\n",
       "      <th></th>\n",
       "      <th>playerID</th>\n",
       "      <th>yearID</th>\n",
       "      <th>1B</th>\n",
       "      <th>2B</th>\n",
       "      <th>3B</th>\n",
       "      <th>HR</th>\n",
       "      <th>BB</th>\n",
       "    </tr>\n",
       "  </thead>\n",
       "  <tbody>\n",
       "    <tr>\n",
       "      <th>14</th>\n",
       "      <td>aaronha01</td>\n",
       "      <td>1961</td>\n",
       "      <td>0.032074</td>\n",
       "      <td>0.031914</td>\n",
       "      <td>0.011445</td>\n",
       "      <td>0.037051</td>\n",
       "      <td>0.010977</td>\n",
       "    </tr>\n",
       "    <tr>\n",
       "      <th>15</th>\n",
       "      <td>aaronha01</td>\n",
       "      <td>1962</td>\n",
       "      <td>0.031029</td>\n",
       "      <td>0.018412</td>\n",
       "      <td>0.004987</td>\n",
       "      <td>0.054309</td>\n",
       "      <td>0.021792</td>\n",
       "    </tr>\n",
       "    <tr>\n",
       "      <th>16</th>\n",
       "      <td>aaronha01</td>\n",
       "      <td>1963</td>\n",
       "      <td>0.043843</td>\n",
       "      <td>0.015457</td>\n",
       "      <td>0.000983</td>\n",
       "      <td>0.047713</td>\n",
       "      <td>0.043690</td>\n",
       "    </tr>\n",
       "    <tr>\n",
       "      <th>17</th>\n",
       "      <td>aaronha01</td>\n",
       "      <td>1964</td>\n",
       "      <td>0.074401</td>\n",
       "      <td>0.024702</td>\n",
       "      <td>-0.000682</td>\n",
       "      <td>0.026237</td>\n",
       "      <td>0.029436</td>\n",
       "    </tr>\n",
       "    <tr>\n",
       "      <th>18</th>\n",
       "      <td>aaronha01</td>\n",
       "      <td>1965</td>\n",
       "      <td>0.044324</td>\n",
       "      <td>0.040156</td>\n",
       "      <td>-0.002303</td>\n",
       "      <td>0.037857</td>\n",
       "      <td>0.030639</td>\n",
       "    </tr>\n",
       "  </tbody>\n",
       "</table>\n",
       "</div>"
      ],
      "text/plain": [
       "     playerID  yearID        1B        2B        3B        HR        BB\n",
       "14  aaronha01    1961  0.032074  0.031914  0.011445  0.037051  0.010977\n",
       "15  aaronha01    1962  0.031029  0.018412  0.004987  0.054309  0.021792\n",
       "16  aaronha01    1963  0.043843  0.015457  0.000983  0.047713  0.043690\n",
       "17  aaronha01    1964  0.074401  0.024702 -0.000682  0.026237  0.029436\n",
       "18  aaronha01    1965  0.044324  0.040156 -0.002303  0.037857  0.030639"
      ]
     },
     "execution_count": 35,
     "metadata": {},
     "output_type": "execute_result"
    }
   ],
   "source": [
    "playerstats.head()"
   ]
  },
  {
   "cell_type": "markdown",
   "metadata": {},
   "source": [
    "#### Problem 1(h)\n",
    "\n",
    "Using the `playerstats` DataFrame created in Problem 1(g), create a new DataFrame called `playerLS` containing the player's lifetime stats. This DataFrame should contain the playerID, the year the player's career started, the year the player's career ended and the player's lifetime average for each of the quantities (singles, doubles, triples, HR, BB). For simplicity we will simply compute the avaerage of the rates by year (a more correct way is to go back to the totals). "
   ]
  },
  {
   "cell_type": "code",
   "execution_count": 80,
   "metadata": {
    "collapsed": false
   },
   "outputs": [],
   "source": [
    "player_mean = playerstats.groupby('playerID').mean()\n",
    "player_min = playerstats.groupby('playerID').min()\n",
    "player_max = playerstats.groupby('playerID').max()\n",
    "\n",
    "playerLS = pd.DataFrame(columns=['playerID', 'start', 'end', '1B', '2B', '3B', 'HR', 'BB'])\n",
    "playerLS['playerID'] = player_min.index\n",
    "playerLS['start'] = player_min['yearID'].values\n",
    "playerLS['end'] = player_max['yearID'].values\n",
    "playerLS[['1B', '2B', '3B', 'HR', 'BB']] = player_mean[['1B', '2B', '3B', 'HR', 'BB']].values"
   ]
  },
  {
   "cell_type": "markdown",
   "metadata": {},
   "source": [
    "Show the head of the `playerLS` DataFrame. "
   ]
  },
  {
   "cell_type": "code",
   "execution_count": 81,
   "metadata": {
    "collapsed": false
   },
   "outputs": [
    {
     "data": {
      "text/html": [
       "<div>\n",
       "<table border=\"1\" class=\"dataframe\">\n",
       "  <thead>\n",
       "    <tr style=\"text-align: right;\">\n",
       "      <th></th>\n",
       "      <th>playerID</th>\n",
       "      <th>start</th>\n",
       "      <th>end</th>\n",
       "      <th>1B</th>\n",
       "      <th>2B</th>\n",
       "      <th>3B</th>\n",
       "      <th>HR</th>\n",
       "      <th>BB</th>\n",
       "    </tr>\n",
       "  </thead>\n",
       "  <tbody>\n",
       "    <tr>\n",
       "      <th>0</th>\n",
       "      <td>aaronha01</td>\n",
       "      <td>1961</td>\n",
       "      <td>1975</td>\n",
       "      <td>0.028479</td>\n",
       "      <td>0.020775</td>\n",
       "      <td>0.001002</td>\n",
       "      <td>0.044226</td>\n",
       "      <td>0.038560</td>\n",
       "    </tr>\n",
       "    <tr>\n",
       "      <th>1</th>\n",
       "      <td>abreubo01</td>\n",
       "      <td>1998</td>\n",
       "      <td>2011</td>\n",
       "      <td>0.024372</td>\n",
       "      <td>0.023061</td>\n",
       "      <td>0.002814</td>\n",
       "      <td>0.013731</td>\n",
       "      <td>0.077817</td>\n",
       "    </tr>\n",
       "    <tr>\n",
       "      <th>2</th>\n",
       "      <td>ackledu01</td>\n",
       "      <td>2012</td>\n",
       "      <td>2012</td>\n",
       "      <td>0.026401</td>\n",
       "      <td>0.001326</td>\n",
       "      <td>-0.000392</td>\n",
       "      <td>0.002387</td>\n",
       "      <td>0.027635</td>\n",
       "    </tr>\n",
       "    <tr>\n",
       "      <th>3</th>\n",
       "      <td>adairje01</td>\n",
       "      <td>1962</td>\n",
       "      <td>1965</td>\n",
       "      <td>0.054240</td>\n",
       "      <td>0.018908</td>\n",
       "      <td>0.001699</td>\n",
       "      <td>0.002378</td>\n",
       "      <td>-0.020120</td>\n",
       "    </tr>\n",
       "    <tr>\n",
       "      <th>4</th>\n",
       "      <td>adamsru01</td>\n",
       "      <td>2005</td>\n",
       "      <td>2005</td>\n",
       "      <td>0.022521</td>\n",
       "      <td>0.016080</td>\n",
       "      <td>0.005954</td>\n",
       "      <td>-0.002201</td>\n",
       "      <td>0.030343</td>\n",
       "    </tr>\n",
       "  </tbody>\n",
       "</table>\n",
       "</div>"
      ],
      "text/plain": [
       "    playerID  start   end        1B        2B        3B        HR        BB\n",
       "0  aaronha01   1961  1975  0.028479  0.020775  0.001002  0.044226  0.038560\n",
       "1  abreubo01   1998  2011  0.024372  0.023061  0.002814  0.013731  0.077817\n",
       "2  ackledu01   2012  2012  0.026401  0.001326 -0.000392  0.002387  0.027635\n",
       "3  adairje01   1962  1965  0.054240  0.018908  0.001699  0.002378 -0.020120\n",
       "4  adamsru01   2005  2005  0.022521  0.016080  0.005954 -0.002201  0.030343"
      ]
     },
     "execution_count": 81,
     "metadata": {},
     "output_type": "execute_result"
    }
   ],
   "source": [
    "playerLS.head()"
   ]
  },
  {
   "cell_type": "markdown",
   "metadata": {},
   "source": [
    "#### Problem 1(i)\n",
    "\n",
    "Compute the OPW for each player based on the average rates in the `playerLS` DataFrame. You can interpret this summary statistic as the predicted wins for a team with 9 batters exactly like the player in question. Add this column to the playerLS DataFrame. Call this colum OPW."
   ]
  },
  {
   "cell_type": "code",
   "execution_count": 82,
   "metadata": {
    "collapsed": false
   },
   "outputs": [
    {
     "data": {
      "text/html": [
       "<div>\n",
       "<table border=\"1\" class=\"dataframe\">\n",
       "  <thead>\n",
       "    <tr style=\"text-align: right;\">\n",
       "      <th></th>\n",
       "      <th>playerID</th>\n",
       "      <th>start</th>\n",
       "      <th>end</th>\n",
       "      <th>1B</th>\n",
       "      <th>2B</th>\n",
       "      <th>3B</th>\n",
       "      <th>HR</th>\n",
       "      <th>BB</th>\n",
       "      <th>OPW</th>\n",
       "    </tr>\n",
       "  </thead>\n",
       "  <tbody>\n",
       "    <tr>\n",
       "      <th>0</th>\n",
       "      <td>aaronha01</td>\n",
       "      <td>1961</td>\n",
       "      <td>1975</td>\n",
       "      <td>0.028479</td>\n",
       "      <td>0.020775</td>\n",
       "      <td>0.001002</td>\n",
       "      <td>0.044226</td>\n",
       "      <td>0.038560</td>\n",
       "      <td>164.466900</td>\n",
       "    </tr>\n",
       "    <tr>\n",
       "      <th>1</th>\n",
       "      <td>abreubo01</td>\n",
       "      <td>1998</td>\n",
       "      <td>2011</td>\n",
       "      <td>0.024372</td>\n",
       "      <td>0.023061</td>\n",
       "      <td>0.002814</td>\n",
       "      <td>0.013731</td>\n",
       "      <td>0.077817</td>\n",
       "      <td>159.584262</td>\n",
       "    </tr>\n",
       "    <tr>\n",
       "      <th>2</th>\n",
       "      <td>ackledu01</td>\n",
       "      <td>2012</td>\n",
       "      <td>2012</td>\n",
       "      <td>0.026401</td>\n",
       "      <td>0.001326</td>\n",
       "      <td>-0.000392</td>\n",
       "      <td>0.002387</td>\n",
       "      <td>0.027635</td>\n",
       "      <td>111.240985</td>\n",
       "    </tr>\n",
       "    <tr>\n",
       "      <th>3</th>\n",
       "      <td>adairje01</td>\n",
       "      <td>1962</td>\n",
       "      <td>1965</td>\n",
       "      <td>0.054240</td>\n",
       "      <td>0.018908</td>\n",
       "      <td>0.001699</td>\n",
       "      <td>0.002378</td>\n",
       "      <td>-0.020120</td>\n",
       "      <td>112.198841</td>\n",
       "    </tr>\n",
       "    <tr>\n",
       "      <th>4</th>\n",
       "      <td>adamsru01</td>\n",
       "      <td>2005</td>\n",
       "      <td>2005</td>\n",
       "      <td>0.022521</td>\n",
       "      <td>0.016080</td>\n",
       "      <td>0.005954</td>\n",
       "      <td>-0.002201</td>\n",
       "      <td>0.030343</td>\n",
       "      <td>120.990715</td>\n",
       "    </tr>\n",
       "  </tbody>\n",
       "</table>\n",
       "</div>"
      ],
      "text/plain": [
       "    playerID  start   end        1B        2B        3B        HR        BB  \\\n",
       "0  aaronha01   1961  1975  0.028479  0.020775  0.001002  0.044226  0.038560   \n",
       "1  abreubo01   1998  2011  0.024372  0.023061  0.002814  0.013731  0.077817   \n",
       "2  ackledu01   2012  2012  0.026401  0.001326 -0.000392  0.002387  0.027635   \n",
       "3  adairje01   1962  1965  0.054240  0.018908  0.001699  0.002378 -0.020120   \n",
       "4  adamsru01   2005  2005  0.022521  0.016080  0.005954 -0.002201  0.030343   \n",
       "\n",
       "          OPW  \n",
       "0  164.466900  \n",
       "1  159.584262  \n",
       "2  111.240985  \n",
       "3  112.198841  \n",
       "4  120.990715  "
      ]
     },
     "execution_count": 82,
     "metadata": {},
     "output_type": "execute_result"
    }
   ],
   "source": [
    "playerLS['OPW'] = lr_final.predict(playerLS[['1B', '2B', '3B', 'HR', 'BB']])\n",
    "playerLS.head()"
   ]
  },
  {
   "cell_type": "markdown",
   "metadata": {},
   "source": [
    "#### Problem 1(j)\n",
    "\n",
    "Add four columns to the `playerLS` DataFrame that contains the player's position (C, 1B, 2B, 3B, SS, LF, CF, RF, or OF), first name, last name and median salary. "
   ]
  },
  {
   "cell_type": "code",
   "execution_count": 87,
   "metadata": {
    "collapsed": false
   },
   "outputs": [
    {
     "data": {
      "text/html": [
       "<div>\n",
       "<table border=\"1\" class=\"dataframe\">\n",
       "  <thead>\n",
       "    <tr style=\"text-align: right;\">\n",
       "      <th></th>\n",
       "      <th>playerID</th>\n",
       "      <th>nameFirst</th>\n",
       "      <th>nameLast</th>\n",
       "      <th>salary</th>\n",
       "    </tr>\n",
       "  </thead>\n",
       "  <tbody>\n",
       "    <tr>\n",
       "      <th>0</th>\n",
       "      <td>aardsda01</td>\n",
       "      <td>David</td>\n",
       "      <td>Aardsma</td>\n",
       "      <td>419000.0</td>\n",
       "    </tr>\n",
       "    <tr>\n",
       "      <th>3</th>\n",
       "      <td>aasedo01</td>\n",
       "      <td>Don</td>\n",
       "      <td>Aase</td>\n",
       "      <td>612500.0</td>\n",
       "    </tr>\n",
       "    <tr>\n",
       "      <th>4</th>\n",
       "      <td>abadan01</td>\n",
       "      <td>Andy</td>\n",
       "      <td>Abad</td>\n",
       "      <td>327000.0</td>\n",
       "    </tr>\n",
       "    <tr>\n",
       "      <th>5</th>\n",
       "      <td>abadfe01</td>\n",
       "      <td>Fernando</td>\n",
       "      <td>Abad</td>\n",
       "      <td>451500.0</td>\n",
       "    </tr>\n",
       "    <tr>\n",
       "      <th>13</th>\n",
       "      <td>abbotje01</td>\n",
       "      <td>Jeff</td>\n",
       "      <td>Abbott</td>\n",
       "      <td>255000.0</td>\n",
       "    </tr>\n",
       "  </tbody>\n",
       "</table>\n",
       "</div>"
      ],
      "text/plain": [
       "     playerID nameFirst nameLast    salary\n",
       "0   aardsda01     David  Aardsma  419000.0\n",
       "3    aasedo01       Don     Aase  612500.0\n",
       "4    abadan01      Andy     Abad  327000.0\n",
       "5    abadfe01  Fernando     Abad  451500.0\n",
       "13  abbotje01      Jeff   Abbott  255000.0"
      ]
     },
     "execution_count": 87,
     "metadata": {},
     "output_type": "execute_result"
    }
   ],
   "source": [
    "medianSalaries.head()"
   ]
  },
  {
   "cell_type": "code",
   "execution_count": 88,
   "metadata": {
    "collapsed": false
   },
   "outputs": [
    {
     "data": {
      "text/html": [
       "<div>\n",
       "<table border=\"1\" class=\"dataframe\">\n",
       "  <thead>\n",
       "    <tr style=\"text-align: right;\">\n",
       "      <th></th>\n",
       "      <th>playerID</th>\n",
       "      <th>start</th>\n",
       "      <th>end</th>\n",
       "      <th>1B</th>\n",
       "      <th>2B</th>\n",
       "      <th>3B</th>\n",
       "      <th>HR</th>\n",
       "      <th>BB</th>\n",
       "      <th>OPW</th>\n",
       "      <th>POS</th>\n",
       "      <th>nameFirst</th>\n",
       "      <th>nameLast</th>\n",
       "      <th>salary</th>\n",
       "    </tr>\n",
       "  </thead>\n",
       "  <tbody>\n",
       "    <tr>\n",
       "      <th>0</th>\n",
       "      <td>abreubo01</td>\n",
       "      <td>1998</td>\n",
       "      <td>2011</td>\n",
       "      <td>0.024372</td>\n",
       "      <td>0.023061</td>\n",
       "      <td>0.002814</td>\n",
       "      <td>0.013731</td>\n",
       "      <td>0.077817</td>\n",
       "      <td>159.584262</td>\n",
       "      <td>LF</td>\n",
       "      <td>Bobby</td>\n",
       "      <td>Abreu</td>\n",
       "      <td>9000000.0</td>\n",
       "    </tr>\n",
       "    <tr>\n",
       "      <th>1</th>\n",
       "      <td>ackledu01</td>\n",
       "      <td>2012</td>\n",
       "      <td>2012</td>\n",
       "      <td>0.026401</td>\n",
       "      <td>0.001326</td>\n",
       "      <td>-0.000392</td>\n",
       "      <td>0.002387</td>\n",
       "      <td>0.027635</td>\n",
       "      <td>111.240985</td>\n",
       "      <td>1B</td>\n",
       "      <td>Dustin</td>\n",
       "      <td>Ackley</td>\n",
       "      <td>2400000.0</td>\n",
       "    </tr>\n",
       "    <tr>\n",
       "      <th>2</th>\n",
       "      <td>adamsru01</td>\n",
       "      <td>2005</td>\n",
       "      <td>2005</td>\n",
       "      <td>0.022521</td>\n",
       "      <td>0.016080</td>\n",
       "      <td>0.005954</td>\n",
       "      <td>-0.002201</td>\n",
       "      <td>0.030343</td>\n",
       "      <td>120.990715</td>\n",
       "      <td>SS</td>\n",
       "      <td>Russ</td>\n",
       "      <td>Adams</td>\n",
       "      <td>329500.0</td>\n",
       "    </tr>\n",
       "    <tr>\n",
       "      <th>3</th>\n",
       "      <td>alfoned01</td>\n",
       "      <td>1997</td>\n",
       "      <td>2004</td>\n",
       "      <td>0.045256</td>\n",
       "      <td>0.014158</td>\n",
       "      <td>-0.001512</td>\n",
       "      <td>0.011195</td>\n",
       "      <td>0.040351</td>\n",
       "      <td>139.997929</td>\n",
       "      <td>2B</td>\n",
       "      <td>Edgardo</td>\n",
       "      <td>Alfonzo</td>\n",
       "      <td>4112500.0</td>\n",
       "    </tr>\n",
       "    <tr>\n",
       "      <th>4</th>\n",
       "      <td>alicelu01</td>\n",
       "      <td>2000</td>\n",
       "      <td>2000</td>\n",
       "      <td>0.060775</td>\n",
       "      <td>0.007701</td>\n",
       "      <td>0.009373</td>\n",
       "      <td>-0.009428</td>\n",
       "      <td>0.021957</td>\n",
       "      <td>130.445946</td>\n",
       "      <td>2B</td>\n",
       "      <td>Luis</td>\n",
       "      <td>Alicea</td>\n",
       "      <td>750000.0</td>\n",
       "    </tr>\n",
       "  </tbody>\n",
       "</table>\n",
       "</div>"
      ],
      "text/plain": [
       "    playerID  start   end        1B        2B        3B        HR        BB  \\\n",
       "0  abreubo01   1998  2011  0.024372  0.023061  0.002814  0.013731  0.077817   \n",
       "1  ackledu01   2012  2012  0.026401  0.001326 -0.000392  0.002387  0.027635   \n",
       "2  adamsru01   2005  2005  0.022521  0.016080  0.005954 -0.002201  0.030343   \n",
       "3  alfoned01   1997  2004  0.045256  0.014158 -0.001512  0.011195  0.040351   \n",
       "4  alicelu01   2000  2000  0.060775  0.007701  0.009373 -0.009428  0.021957   \n",
       "\n",
       "          OPW POS nameFirst nameLast     salary  \n",
       "0  159.584262  LF     Bobby    Abreu  9000000.0  \n",
       "1  111.240985  1B    Dustin   Ackley  2400000.0  \n",
       "2  120.990715  SS      Russ    Adams   329500.0  \n",
       "3  139.997929  2B   Edgardo  Alfonzo  4112500.0  \n",
       "4  130.445946  2B      Luis   Alicea   750000.0  "
      ]
     },
     "execution_count": 88,
     "metadata": {},
     "output_type": "execute_result"
    }
   ],
   "source": [
    "positions = pd.DataFrame(fielding.groupby('playerID')['POS'].apply(lambda x: x.iloc[0]))\n",
    "playerLS_full = playerLS.merge(positions, how='inner', left_on='playerID', right_index=True)\n",
    "playerLS_full = playerLS_full.merge(medianSalaries, how='inner', left_on='playerID', right_on='playerID')\n",
    "playerLS_full.head()"
   ]
  },
  {
   "cell_type": "markdown",
   "metadata": {},
   "source": [
    "#### Problem 1(k)\n",
    "\n",
    "Subset the `playerLS` DataFrame for players active in 2002 and 2003 and played at least three years. Plot and describe the relationship bewteen the median salary (in millions) and the predicted number of wins. "
   ]
  },
  {
   "cell_type": "code",
   "execution_count": 192,
   "metadata": {
    "collapsed": false
   },
   "outputs": [
    {
     "data": {
      "text/plain": [
       "<matplotlib.axes._subplots.AxesSubplot at 0x115ae82d0>"
      ]
     },
     "execution_count": 192,
     "metadata": {},
     "output_type": "execute_result"
    },
    {
     "data": {
      "image/png": "[encoded data removed]",
      "text/plain": [
       "<matplotlib.figure.Figure at 0x1152fb1d0>"
      ]
     },
     "metadata": {},
     "output_type": "display_data"
    }
   ],
   "source": [
    "playerLS_subset = playerLS_full[(playerLS_full['end'] - playerLS_full['start'] >= 3) & (playerLS_full['start'] <= 2002)\n",
    "                               & (playerLS_full['end'] >= 2003)].copy()\n",
    "playerLS_subset['salary'] /= 1e6\n",
    "playerLS_subset.plot(kind='scatter', x='salary', y='OPW', figsize=(15, 8))"
   ]
  },
  {
   "cell_type": "markdown",
   "metadata": {},
   "source": [
    "#### Problem 1(l)\n",
    "Pick one players from one of each of these 10 position C, 1B, 2B, 3B, SS, LF, CF, RF, DH, or OF keeping the total median salary of all 10 players below 20 million. Report their averaged predicted wins and total salary."
   ]
  },
  {
   "cell_type": "code",
   "execution_count": 196,
   "metadata": {
    "collapsed": false
   },
   "outputs": [
    {
     "data": {
      "text/html": [
       "<div>\n",
       "<table border=\"1\" class=\"dataframe\">\n",
       "  <thead>\n",
       "    <tr style=\"text-align: right;\">\n",
       "      <th></th>\n",
       "      <th>playerID</th>\n",
       "      <th>start</th>\n",
       "      <th>end</th>\n",
       "      <th>1B</th>\n",
       "      <th>2B</th>\n",
       "      <th>3B</th>\n",
       "      <th>HR</th>\n",
       "      <th>BB</th>\n",
       "      <th>OPW</th>\n",
       "      <th>POS</th>\n",
       "      <th>nameFirst</th>\n",
       "      <th>nameLast</th>\n",
       "      <th>salary</th>\n",
       "      <th>resid</th>\n",
       "    </tr>\n",
       "  </thead>\n",
       "  <tbody>\n",
       "    <tr>\n",
       "      <th>0</th>\n",
       "      <td>abreubo01</td>\n",
       "      <td>1998</td>\n",
       "      <td>2011</td>\n",
       "      <td>0.024372</td>\n",
       "      <td>0.023061</td>\n",
       "      <td>0.002814</td>\n",
       "      <td>0.013731</td>\n",
       "      <td>0.077817</td>\n",
       "      <td>159.584262</td>\n",
       "      <td>LF</td>\n",
       "      <td>Bobby</td>\n",
       "      <td>Abreu</td>\n",
       "      <td>9.0000</td>\n",
       "      <td>15.163192</td>\n",
       "    </tr>\n",
       "    <tr>\n",
       "      <th>3</th>\n",
       "      <td>alfoned01</td>\n",
       "      <td>1997</td>\n",
       "      <td>2004</td>\n",
       "      <td>0.045256</td>\n",
       "      <td>0.014158</td>\n",
       "      <td>-0.001512</td>\n",
       "      <td>0.011195</td>\n",
       "      <td>0.040351</td>\n",
       "      <td>139.997929</td>\n",
       "      <td>2B</td>\n",
       "      <td>Edgardo</td>\n",
       "      <td>Alfonzo</td>\n",
       "      <td>4.1125</td>\n",
       "      <td>13.422806</td>\n",
       "    </tr>\n",
       "    <tr>\n",
       "      <th>9</th>\n",
       "      <td>aloumo01</td>\n",
       "      <td>1993</td>\n",
       "      <td>2004</td>\n",
       "      <td>0.034804</td>\n",
       "      <td>0.016488</td>\n",
       "      <td>0.001295</td>\n",
       "      <td>0.026945</td>\n",
       "      <td>0.029678</td>\n",
       "      <td>146.795570</td>\n",
       "      <td>CF</td>\n",
       "      <td>Moises</td>\n",
       "      <td>Alou</td>\n",
       "      <td>5.1350</td>\n",
       "      <td>10.357475</td>\n",
       "    </tr>\n",
       "    <tr>\n",
       "      <th>13</th>\n",
       "      <td>anderga01</td>\n",
       "      <td>1996</td>\n",
       "      <td>2009</td>\n",
       "      <td>0.050817</td>\n",
       "      <td>0.023463</td>\n",
       "      <td>0.000635</td>\n",
       "      <td>0.014100</td>\n",
       "      <td>-0.023417</td>\n",
       "      <td>119.677585</td>\n",
       "      <td>LF</td>\n",
       "      <td>Garret</td>\n",
       "      <td>Anderson</td>\n",
       "      <td>3.2500</td>\n",
       "      <td>-24.743485</td>\n",
       "    </tr>\n",
       "    <tr>\n",
       "      <th>21</th>\n",
       "      <td>aurilri01</td>\n",
       "      <td>1999</td>\n",
       "      <td>2003</td>\n",
       "      <td>0.038441</td>\n",
       "      <td>0.014165</td>\n",
       "      <td>-0.000177</td>\n",
       "      <td>0.017980</td>\n",
       "      <td>0.003210</td>\n",
       "      <td>124.737085</td>\n",
       "      <td>SS</td>\n",
       "      <td>Rich</td>\n",
       "      <td>Aurilia</td>\n",
       "      <td>1.3000</td>\n",
       "      <td>-1.569714</td>\n",
       "    </tr>\n",
       "  </tbody>\n",
       "</table>\n",
       "</div>"
      ],
      "text/plain": [
       "     playerID  start   end        1B        2B        3B        HR        BB  \\\n",
       "0   abreubo01   1998  2011  0.024372  0.023061  0.002814  0.013731  0.077817   \n",
       "3   alfoned01   1997  2004  0.045256  0.014158 -0.001512  0.011195  0.040351   \n",
       "9    aloumo01   1993  2004  0.034804  0.016488  0.001295  0.026945  0.029678   \n",
       "13  anderga01   1996  2009  0.050817  0.023463  0.000635  0.014100 -0.023417   \n",
       "21  aurilri01   1999  2003  0.038441  0.014165 -0.000177  0.017980  0.003210   \n",
       "\n",
       "           OPW POS nameFirst  nameLast  salary      resid  \n",
       "0   159.584262  LF     Bobby     Abreu  9.0000  15.163192  \n",
       "3   139.997929  2B   Edgardo   Alfonzo  4.1125  13.422806  \n",
       "9   146.795570  CF    Moises      Alou  5.1350  10.357475  \n",
       "13  119.677585  LF    Garret  Anderson  3.2500 -24.743485  \n",
       "21  124.737085  SS      Rich   Aurilia  1.3000  -1.569714  "
      ]
     },
     "execution_count": 196,
     "metadata": {},
     "output_type": "execute_result"
    }
   ],
   "source": [
    "playerLS_subset['resid'] = playerLS_subset['OPW']\n",
    "\n",
    "def norm_OPW(df):\n",
    "    temp = df['resid']\n",
    "    df['resid'] = temp - temp.mean()\n",
    "    return df\n",
    "\n",
    "playerLS_subset = playerLS_subset.groupby('POS').apply(norm_OPW)\n",
    "playerLS_subset.head()"
   ]
  },
  {
   "cell_type": "code",
   "execution_count": 211,
   "metadata": {
    "collapsed": false
   },
   "outputs": [
    {
     "data": {
      "text/html": [
       "<div>\n",
       "<table border=\"1\" class=\"dataframe\">\n",
       "  <thead>\n",
       "    <tr style=\"text-align: right;\">\n",
       "      <th></th>\n",
       "      <th>playerID</th>\n",
       "      <th>start</th>\n",
       "      <th>end</th>\n",
       "      <th>1B</th>\n",
       "      <th>2B</th>\n",
       "      <th>3B</th>\n",
       "      <th>HR</th>\n",
       "      <th>BB</th>\n",
       "      <th>OPW</th>\n",
       "      <th>POS</th>\n",
       "      <th>nameFirst</th>\n",
       "      <th>nameLast</th>\n",
       "      <th>salary</th>\n",
       "      <th>resid</th>\n",
       "    </tr>\n",
       "  </thead>\n",
       "  <tbody>\n",
       "    <tr>\n",
       "      <th>750</th>\n",
       "      <td>relafde01</td>\n",
       "      <td>1998</td>\n",
       "      <td>2003</td>\n",
       "      <td>0.031142</td>\n",
       "      <td>0.013679</td>\n",
       "      <td>0.003870</td>\n",
       "      <td>-0.004127</td>\n",
       "      <td>-0.000056</td>\n",
       "      <td>104.790921</td>\n",
       "      <td>2B</td>\n",
       "      <td>Desi</td>\n",
       "      <td>Relaford</td>\n",
       "      <td>0.6875</td>\n",
       "      <td>-10.199218</td>\n",
       "    </tr>\n",
       "    <tr>\n",
       "      <th>205</th>\n",
       "      <td>cruzde01</td>\n",
       "      <td>1999</td>\n",
       "      <td>2003</td>\n",
       "      <td>0.047806</td>\n",
       "      <td>0.025028</td>\n",
       "      <td>0.000188</td>\n",
       "      <td>0.002361</td>\n",
       "      <td>-0.044766</td>\n",
       "      <td>97.426503</td>\n",
       "      <td>SS</td>\n",
       "      <td>Deivi</td>\n",
       "      <td>Cruz</td>\n",
       "      <td>0.7000</td>\n",
       "      <td>-13.768997</td>\n",
       "    </tr>\n",
       "    <tr>\n",
       "      <th>914</th>\n",
       "      <td>walketo04</td>\n",
       "      <td>1998</td>\n",
       "      <td>2003</td>\n",
       "      <td>0.049230</td>\n",
       "      <td>0.029853</td>\n",
       "      <td>0.002197</td>\n",
       "      <td>0.000318</td>\n",
       "      <td>0.010330</td>\n",
       "      <td>129.213306</td>\n",
       "      <td>2B</td>\n",
       "      <td>Todd</td>\n",
       "      <td>Walker</td>\n",
       "      <td>0.7500</td>\n",
       "      <td>-9.917820</td>\n",
       "    </tr>\n",
       "    <tr>\n",
       "      <th>536</th>\n",
       "      <td>leetr01</td>\n",
       "      <td>1998</td>\n",
       "      <td>2003</td>\n",
       "      <td>0.024455</td>\n",
       "      <td>0.012868</td>\n",
       "      <td>0.000053</td>\n",
       "      <td>0.013921</td>\n",
       "      <td>0.037730</td>\n",
       "      <td>131.252953</td>\n",
       "      <td>1B</td>\n",
       "      <td>Travis</td>\n",
       "      <td>Lee</td>\n",
       "      <td>0.8000</td>\n",
       "      <td>-16.182644</td>\n",
       "    </tr>\n",
       "    <tr>\n",
       "      <th>86</th>\n",
       "      <td>booneaa01</td>\n",
       "      <td>1999</td>\n",
       "      <td>2005</td>\n",
       "      <td>0.017112</td>\n",
       "      <td>0.013554</td>\n",
       "      <td>0.001480</td>\n",
       "      <td>0.014927</td>\n",
       "      <td>0.000237</td>\n",
       "      <td>111.043489</td>\n",
       "      <td>2B</td>\n",
       "      <td>Aaron</td>\n",
       "      <td>Boone</td>\n",
       "      <td>0.9250</td>\n",
       "      <td>-9.129906</td>\n",
       "    </tr>\n",
       "  </tbody>\n",
       "</table>\n",
       "</div>"
      ],
      "text/plain": [
       "      playerID  start   end        1B        2B        3B        HR        BB  \\\n",
       "750  relafde01   1998  2003  0.031142  0.013679  0.003870 -0.004127 -0.000056   \n",
       "205   cruzde01   1999  2003  0.047806  0.025028  0.000188  0.002361 -0.044766   \n",
       "914  walketo04   1998  2003  0.049230  0.029853  0.002197  0.000318  0.010330   \n",
       "536    leetr01   1998  2003  0.024455  0.012868  0.000053  0.013921  0.037730   \n",
       "86   booneaa01   1999  2005  0.017112  0.013554  0.001480  0.014927  0.000237   \n",
       "\n",
       "            OPW POS nameFirst  nameLast  salary      resid  \n",
       "750  104.790921  2B      Desi  Relaford  0.6875 -10.199218  \n",
       "205   97.426503  SS     Deivi      Cruz  0.7000 -13.768997  \n",
       "914  129.213306  2B      Todd    Walker  0.7500  -9.917820  \n",
       "536  131.252953  1B    Travis       Lee  0.8000 -16.182644  \n",
       "86   111.043489  2B     Aaron     Boone  0.9250  -9.129906  "
      ]
     },
     "execution_count": 211,
     "metadata": {},
     "output_type": "execute_result"
    }
   ],
   "source": [
    "def calc_resid(df):\n",
    "    lr = linear_model.LinearRegression()\n",
    "    X = df['salary'].values.reshape(-1, 1)\n",
    "    y = df['resid'].values.reshape(-1, 1)\n",
    "    lr.fit(X, y)\n",
    "    df['resid'] = lr.predict(X)\n",
    "    return df\n",
    "\n",
    "playerLS_resid = playerLS_subset.groupby('POS').apply(calc_resid).sort_values('salary', ascending=True)\n",
    "playerLS_resid.head()"
   ]
  },
  {
   "cell_type": "code",
   "execution_count": 212,
   "metadata": {
    "collapsed": false
   },
   "outputs": [
    {
     "data": {
      "text/html": [
       "<div>\n",
       "<table border=\"1\" class=\"dataframe\">\n",
       "  <thead>\n",
       "    <tr style=\"text-align: right;\">\n",
       "      <th></th>\n",
       "      <th>playerID</th>\n",
       "      <th>start</th>\n",
       "      <th>end</th>\n",
       "      <th>1B</th>\n",
       "      <th>2B</th>\n",
       "      <th>3B</th>\n",
       "      <th>HR</th>\n",
       "      <th>BB</th>\n",
       "      <th>OPW</th>\n",
       "      <th>POS</th>\n",
       "      <th>nameFirst</th>\n",
       "      <th>nameLast</th>\n",
       "      <th>salary</th>\n",
       "      <th>resid</th>\n",
       "    </tr>\n",
       "  </thead>\n",
       "  <tbody>\n",
       "    <tr>\n",
       "      <th>694</th>\n",
       "      <td>paytoja01</td>\n",
       "      <td>2000</td>\n",
       "      <td>2006</td>\n",
       "      <td>0.058631</td>\n",
       "      <td>0.009851</td>\n",
       "      <td>0.002201</td>\n",
       "      <td>0.010057</td>\n",
       "      <td>-0.006238</td>\n",
       "      <td>124.363584</td>\n",
       "      <td>LF</td>\n",
       "      <td>Jay</td>\n",
       "      <td>Payton</td>\n",
       "      <td>1.850000</td>\n",
       "      <td>-15.067639</td>\n",
       "    </tr>\n",
       "    <tr>\n",
       "      <th>403</th>\n",
       "      <td>hattesc01</td>\n",
       "      <td>2002</td>\n",
       "      <td>2006</td>\n",
       "      <td>0.039743</td>\n",
       "      <td>0.010786</td>\n",
       "      <td>-0.001977</td>\n",
       "      <td>0.005232</td>\n",
       "      <td>0.051552</td>\n",
       "      <td>135.615622</td>\n",
       "      <td>C</td>\n",
       "      <td>Scott</td>\n",
       "      <td>Hatteberg</td>\n",
       "      <td>0.975000</td>\n",
       "      <td>-8.376742</td>\n",
       "    </tr>\n",
       "    <tr>\n",
       "      <th>445</th>\n",
       "      <td>ibanera01</td>\n",
       "      <td>2002</td>\n",
       "      <td>2011</td>\n",
       "      <td>0.029853</td>\n",
       "      <td>0.020866</td>\n",
       "      <td>0.002427</td>\n",
       "      <td>0.020484</td>\n",
       "      <td>0.018352</td>\n",
       "      <td>136.296944</td>\n",
       "      <td>DH</td>\n",
       "      <td>Raul</td>\n",
       "      <td>Ibanez</td>\n",
       "      <td>3.458334</td>\n",
       "      <td>-7.359145</td>\n",
       "    </tr>\n",
       "    <tr>\n",
       "      <th>205</th>\n",
       "      <td>cruzde01</td>\n",
       "      <td>1999</td>\n",
       "      <td>2003</td>\n",
       "      <td>0.047806</td>\n",
       "      <td>0.025028</td>\n",
       "      <td>0.000188</td>\n",
       "      <td>0.002361</td>\n",
       "      <td>-0.044766</td>\n",
       "      <td>97.426503</td>\n",
       "      <td>SS</td>\n",
       "      <td>Deivi</td>\n",
       "      <td>Cruz</td>\n",
       "      <td>0.700000</td>\n",
       "      <td>-13.768997</td>\n",
       "    </tr>\n",
       "    <tr>\n",
       "      <th>783</th>\n",
       "      <td>salmoti01</td>\n",
       "      <td>1993</td>\n",
       "      <td>2003</td>\n",
       "      <td>0.005984</td>\n",
       "      <td>0.015714</td>\n",
       "      <td>-0.000719</td>\n",
       "      <td>0.026232</td>\n",
       "      <td>0.074745</td>\n",
       "      <td>151.486249</td>\n",
       "      <td>OF</td>\n",
       "      <td>Tim</td>\n",
       "      <td>Salmon</td>\n",
       "      <td>5.250000</td>\n",
       "      <td>2.526450</td>\n",
       "    </tr>\n",
       "    <tr>\n",
       "      <th>207</th>\n",
       "      <td>cruzjo02</td>\n",
       "      <td>2000</td>\n",
       "      <td>2004</td>\n",
       "      <td>-0.005008</td>\n",
       "      <td>0.012860</td>\n",
       "      <td>0.003958</td>\n",
       "      <td>0.023213</td>\n",
       "      <td>0.044034</td>\n",
       "      <td>131.408484</td>\n",
       "      <td>CF</td>\n",
       "      <td>Jose</td>\n",
       "      <td>Cruz</td>\n",
       "      <td>1.500000</td>\n",
       "      <td>-8.517072</td>\n",
       "    </tr>\n",
       "    <tr>\n",
       "      <th>536</th>\n",
       "      <td>leetr01</td>\n",
       "      <td>1998</td>\n",
       "      <td>2003</td>\n",
       "      <td>0.024455</td>\n",
       "      <td>0.012868</td>\n",
       "      <td>0.000053</td>\n",
       "      <td>0.013921</td>\n",
       "      <td>0.037730</td>\n",
       "      <td>131.252953</td>\n",
       "      <td>1B</td>\n",
       "      <td>Travis</td>\n",
       "      <td>Lee</td>\n",
       "      <td>0.800000</td>\n",
       "      <td>-16.182644</td>\n",
       "    </tr>\n",
       "    <tr>\n",
       "      <th>750</th>\n",
       "      <td>relafde01</td>\n",
       "      <td>1998</td>\n",
       "      <td>2003</td>\n",
       "      <td>0.031142</td>\n",
       "      <td>0.013679</td>\n",
       "      <td>0.003870</td>\n",
       "      <td>-0.004127</td>\n",
       "      <td>-0.000056</td>\n",
       "      <td>104.790921</td>\n",
       "      <td>2B</td>\n",
       "      <td>Desi</td>\n",
       "      <td>Relaford</td>\n",
       "      <td>0.687500</td>\n",
       "      <td>-10.199218</td>\n",
       "    </tr>\n",
       "    <tr>\n",
       "      <th>659</th>\n",
       "      <td>nevinph01</td>\n",
       "      <td>2000</td>\n",
       "      <td>2004</td>\n",
       "      <td>0.028680</td>\n",
       "      <td>0.017514</td>\n",
       "      <td>-0.002450</td>\n",
       "      <td>0.035939</td>\n",
       "      <td>0.039042</td>\n",
       "      <td>152.266416</td>\n",
       "      <td>3B</td>\n",
       "      <td>Phil</td>\n",
       "      <td>Nevin</td>\n",
       "      <td>1.250000</td>\n",
       "      <td>-0.706189</td>\n",
       "    </tr>\n",
       "  </tbody>\n",
       "</table>\n",
       "</div>"
      ],
      "text/plain": [
       "      playerID  start   end        1B        2B        3B        HR        BB  \\\n",
       "694  paytoja01   2000  2006  0.058631  0.009851  0.002201  0.010057 -0.006238   \n",
       "403  hattesc01   2002  2006  0.039743  0.010786 -0.001977  0.005232  0.051552   \n",
       "445  ibanera01   2002  2011  0.029853  0.020866  0.002427  0.020484  0.018352   \n",
       "205   cruzde01   1999  2003  0.047806  0.025028  0.000188  0.002361 -0.044766   \n",
       "783  salmoti01   1993  2003  0.005984  0.015714 -0.000719  0.026232  0.074745   \n",
       "207   cruzjo02   2000  2004 -0.005008  0.012860  0.003958  0.023213  0.044034   \n",
       "536    leetr01   1998  2003  0.024455  0.012868  0.000053  0.013921  0.037730   \n",
       "750  relafde01   1998  2003  0.031142  0.013679  0.003870 -0.004127 -0.000056   \n",
       "659  nevinph01   2000  2004  0.028680  0.017514 -0.002450  0.035939  0.039042   \n",
       "\n",
       "            OPW POS nameFirst   nameLast    salary      resid  \n",
       "694  124.363584  LF       Jay     Payton  1.850000 -15.067639  \n",
       "403  135.615622   C     Scott  Hatteberg  0.975000  -8.376742  \n",
       "445  136.296944  DH      Raul     Ibanez  3.458334  -7.359145  \n",
       "205   97.426503  SS     Deivi       Cruz  0.700000 -13.768997  \n",
       "783  151.486249  OF       Tim     Salmon  5.250000   2.526450  \n",
       "207  131.408484  CF      Jose       Cruz  1.500000  -8.517072  \n",
       "536  131.252953  1B    Travis        Lee  0.800000 -16.182644  \n",
       "750  104.790921  2B      Desi   Relaford  0.687500 -10.199218  \n",
       "659  152.266416  3B      Phil      Nevin  1.250000  -0.706189  "
      ]
     },
     "execution_count": 212,
     "metadata": {},
     "output_type": "execute_result"
    }
   ],
   "source": [
    "position_groups = playerLS_resid.groupby('POS')\n",
    "picked_players = pd.DataFrame([position_groups.get_group(x).iloc[0] for x in position_groups.groups])\n",
    "picked_players"
   ]
  },
  {
   "cell_type": "code",
   "execution_count": 227,
   "metadata": {
    "collapsed": false
   },
   "outputs": [
    {
     "data": {
      "text/html": [
       "<div>\n",
       "<table border=\"1\" class=\"dataframe\">\n",
       "  <thead>\n",
       "    <tr style=\"text-align: right;\">\n",
       "      <th></th>\n",
       "      <th>indices</th>\n",
       "      <th>OPW</th>\n",
       "    </tr>\n",
       "  </thead>\n",
       "  <tbody>\n",
       "    <tr>\n",
       "      <th>0</th>\n",
       "      <td>[694, 445, 783, 403, 428, 427, 532, 704, 951]</td>\n",
       "      <td>129.311420</td>\n",
       "    </tr>\n",
       "    <tr>\n",
       "      <th>1</th>\n",
       "      <td>[694, 445, 783, 403, 428, 427, 532, 951, 750]</td>\n",
       "      <td>129.373982</td>\n",
       "    </tr>\n",
       "    <tr>\n",
       "      <th>2</th>\n",
       "      <td>[694, 445, 783, 403, 428, 427, 532, 750, 205]</td>\n",
       "      <td>127.242070</td>\n",
       "    </tr>\n",
       "    <tr>\n",
       "      <th>3</th>\n",
       "      <td>[694, 445, 783, 403, 428, 427, 532, 205, 914]</td>\n",
       "      <td>129.955668</td>\n",
       "    </tr>\n",
       "    <tr>\n",
       "      <th>4</th>\n",
       "      <td>[694, 445, 783, 403, 428, 532, 205, 914, 536]</td>\n",
       "      <td>130.653576</td>\n",
       "    </tr>\n",
       "  </tbody>\n",
       "</table>\n",
       "</div>"
      ],
      "text/plain": [
       "                                         indices         OPW\n",
       "0  [694, 445, 783, 403, 428, 427, 532, 704, 951]  129.311420\n",
       "1  [694, 445, 783, 403, 428, 427, 532, 951, 750]  129.373982\n",
       "2  [694, 445, 783, 403, 428, 427, 532, 750, 205]  127.242070\n",
       "3  [694, 445, 783, 403, 428, 427, 532, 205, 914]  129.955668\n",
       "4  [694, 445, 783, 403, 428, 532, 205, 914, 536]  130.653576"
      ]
     },
     "execution_count": 227,
     "metadata": {},
     "output_type": "execute_result"
    }
   ],
   "source": [
    "players_filtered = playerLS_resid.copy()\n",
    "players_left = players_filtered[~players_filtered.isin(picked_players)].dropna()\n",
    "budget = 20.0\n",
    "picks = [[picked_players.index.values, picked_players['OPW'].mean()]]\n",
    "\n",
    "while len(players_left) > 0:\n",
    "    first_row = players_left.iloc[0]\n",
    "    picked_players = picked_players[picked_players['POS'] != first_row.POS]\n",
    "    picked_players = picked_players.append(first_row)\n",
    "    if picked_players['salary'].sum() > budget:\n",
    "        break\n",
    "    players_left.drop(players_left.index[0], inplace=True)\n",
    "    picks.append([picked_players.index.values, picked_players['OPW'].mean()])\n",
    "    \n",
    "top_picks = pd.DataFrame(picks, columns=['indices', 'OPW'])\n",
    "top_picks.head()"
   ]
  },
  {
   "cell_type": "code",
   "execution_count": 237,
   "metadata": {
    "collapsed": false
   },
   "outputs": [
    {
     "name": "stdout",
     "output_type": "stream",
     "text": [
      "Predicted wins: 137.018398773\n",
      "Total salary: 18458333.5\n"
     ]
    },
    {
     "data": {
      "text/html": [
       "<div>\n",
       "<table border=\"1\" class=\"dataframe\">\n",
       "  <thead>\n",
       "    <tr style=\"text-align: right;\">\n",
       "      <th></th>\n",
       "      <th>playerID</th>\n",
       "      <th>start</th>\n",
       "      <th>end</th>\n",
       "      <th>1B</th>\n",
       "      <th>2B</th>\n",
       "      <th>3B</th>\n",
       "      <th>HR</th>\n",
       "      <th>BB</th>\n",
       "      <th>OPW</th>\n",
       "      <th>POS</th>\n",
       "      <th>nameFirst</th>\n",
       "      <th>nameLast</th>\n",
       "      <th>salary</th>\n",
       "    </tr>\n",
       "  </thead>\n",
       "  <tbody>\n",
       "    <tr>\n",
       "      <th>694</th>\n",
       "      <td>paytoja01</td>\n",
       "      <td>2000</td>\n",
       "      <td>2006</td>\n",
       "      <td>0.058631</td>\n",
       "      <td>0.009851</td>\n",
       "      <td>0.002201</td>\n",
       "      <td>0.010057</td>\n",
       "      <td>-0.006238</td>\n",
       "      <td>124.363584</td>\n",
       "      <td>LF</td>\n",
       "      <td>Jay</td>\n",
       "      <td>Payton</td>\n",
       "      <td>1850000.0</td>\n",
       "    </tr>\n",
       "    <tr>\n",
       "      <th>445</th>\n",
       "      <td>ibanera01</td>\n",
       "      <td>2002</td>\n",
       "      <td>2011</td>\n",
       "      <td>0.029853</td>\n",
       "      <td>0.020866</td>\n",
       "      <td>0.002427</td>\n",
       "      <td>0.020484</td>\n",
       "      <td>0.018352</td>\n",
       "      <td>136.296944</td>\n",
       "      <td>DH</td>\n",
       "      <td>Raul</td>\n",
       "      <td>Ibanez</td>\n",
       "      <td>3458333.5</td>\n",
       "    </tr>\n",
       "    <tr>\n",
       "      <th>783</th>\n",
       "      <td>salmoti01</td>\n",
       "      <td>1993</td>\n",
       "      <td>2003</td>\n",
       "      <td>0.005984</td>\n",
       "      <td>0.015714</td>\n",
       "      <td>-0.000719</td>\n",
       "      <td>0.026232</td>\n",
       "      <td>0.074745</td>\n",
       "      <td>151.486249</td>\n",
       "      <td>OF</td>\n",
       "      <td>Tim</td>\n",
       "      <td>Salmon</td>\n",
       "      <td>5250000.0</td>\n",
       "    </tr>\n",
       "    <tr>\n",
       "      <th>532</th>\n",
       "      <td>lawtoma02</td>\n",
       "      <td>1997</td>\n",
       "      <td>2004</td>\n",
       "      <td>0.022662</td>\n",
       "      <td>0.018964</td>\n",
       "      <td>0.001051</td>\n",
       "      <td>0.009811</td>\n",
       "      <td>0.061857</td>\n",
       "      <td>143.214391</td>\n",
       "      <td>CF</td>\n",
       "      <td>Matt</td>\n",
       "      <td>Lawton</td>\n",
       "      <td>1850000.0</td>\n",
       "    </tr>\n",
       "    <tr>\n",
       "      <th>536</th>\n",
       "      <td>leetr01</td>\n",
       "      <td>1998</td>\n",
       "      <td>2003</td>\n",
       "      <td>0.024455</td>\n",
       "      <td>0.012868</td>\n",
       "      <td>0.000053</td>\n",
       "      <td>0.013921</td>\n",
       "      <td>0.037730</td>\n",
       "      <td>131.252953</td>\n",
       "      <td>1B</td>\n",
       "      <td>Travis</td>\n",
       "      <td>Lee</td>\n",
       "      <td>800000.0</td>\n",
       "    </tr>\n",
       "    <tr>\n",
       "      <th>500</th>\n",
       "      <td>kennead01</td>\n",
       "      <td>2000</td>\n",
       "      <td>2009</td>\n",
       "      <td>0.054523</td>\n",
       "      <td>0.013662</td>\n",
       "      <td>0.005298</td>\n",
       "      <td>-0.000989</td>\n",
       "      <td>-0.004553</td>\n",
       "      <td>119.021120</td>\n",
       "      <td>2B</td>\n",
       "      <td>Adam</td>\n",
       "      <td>Kennedy</td>\n",
       "      <td>1250000.0</td>\n",
       "    </tr>\n",
       "    <tr>\n",
       "      <th>659</th>\n",
       "      <td>nevinph01</td>\n",
       "      <td>2000</td>\n",
       "      <td>2004</td>\n",
       "      <td>0.028680</td>\n",
       "      <td>0.017514</td>\n",
       "      <td>-0.002450</td>\n",
       "      <td>0.035939</td>\n",
       "      <td>0.039042</td>\n",
       "      <td>152.266416</td>\n",
       "      <td>3B</td>\n",
       "      <td>Phil</td>\n",
       "      <td>Nevin</td>\n",
       "      <td>1250000.0</td>\n",
       "    </tr>\n",
       "    <tr>\n",
       "      <th>21</th>\n",
       "      <td>aurilri01</td>\n",
       "      <td>1999</td>\n",
       "      <td>2003</td>\n",
       "      <td>0.038441</td>\n",
       "      <td>0.014165</td>\n",
       "      <td>-0.000177</td>\n",
       "      <td>0.017980</td>\n",
       "      <td>0.003210</td>\n",
       "      <td>124.737085</td>\n",
       "      <td>SS</td>\n",
       "      <td>Rich</td>\n",
       "      <td>Aurilia</td>\n",
       "      <td>1300000.0</td>\n",
       "    </tr>\n",
       "    <tr>\n",
       "      <th>851</th>\n",
       "      <td>sweenmi01</td>\n",
       "      <td>1999</td>\n",
       "      <td>2005</td>\n",
       "      <td>0.046567</td>\n",
       "      <td>0.030143</td>\n",
       "      <td>-0.002622</td>\n",
       "      <td>0.024542</td>\n",
       "      <td>0.024845</td>\n",
       "      <td>150.526848</td>\n",
       "      <td>C</td>\n",
       "      <td>Mike</td>\n",
       "      <td>Sweeney</td>\n",
       "      <td>1450000.0</td>\n",
       "    </tr>\n",
       "  </tbody>\n",
       "</table>\n",
       "</div>"
      ],
      "text/plain": [
       "      playerID  start   end        1B        2B        3B        HR        BB  \\\n",
       "694  paytoja01   2000  2006  0.058631  0.009851  0.002201  0.010057 -0.006238   \n",
       "445  ibanera01   2002  2011  0.029853  0.020866  0.002427  0.020484  0.018352   \n",
       "783  salmoti01   1993  2003  0.005984  0.015714 -0.000719  0.026232  0.074745   \n",
       "532  lawtoma02   1997  2004  0.022662  0.018964  0.001051  0.009811  0.061857   \n",
       "536    leetr01   1998  2003  0.024455  0.012868  0.000053  0.013921  0.037730   \n",
       "500  kennead01   2000  2009  0.054523  0.013662  0.005298 -0.000989 -0.004553   \n",
       "659  nevinph01   2000  2004  0.028680  0.017514 -0.002450  0.035939  0.039042   \n",
       "21   aurilri01   1999  2003  0.038441  0.014165 -0.000177  0.017980  0.003210   \n",
       "851  sweenmi01   1999  2005  0.046567  0.030143 -0.002622  0.024542  0.024845   \n",
       "\n",
       "            OPW POS nameFirst nameLast     salary  \n",
       "694  124.363584  LF       Jay   Payton  1850000.0  \n",
       "445  136.296944  DH      Raul   Ibanez  3458333.5  \n",
       "783  151.486249  OF       Tim   Salmon  5250000.0  \n",
       "532  143.214391  CF      Matt   Lawton  1850000.0  \n",
       "536  131.252953  1B    Travis      Lee   800000.0  \n",
       "500  119.021120  2B      Adam  Kennedy  1250000.0  \n",
       "659  152.266416  3B      Phil    Nevin  1250000.0  \n",
       "21   124.737085  SS      Rich  Aurilia  1300000.0  \n",
       "851  150.526848   C      Mike  Sweeney  1450000.0  "
      ]
     },
     "execution_count": 237,
     "metadata": {},
     "output_type": "execute_result"
    }
   ],
   "source": [
    "top_pick = top_picks.loc[top_picks['OPW'].argmax()]['indices']\n",
    "picked_players = playerLS_full.iloc[top_pick]\n",
    "print 'Predicted wins:', picked_players['OPW'].mean()\n",
    "print 'Total salary:', picked_players['salary'].sum()\n",
    "picked_players"
   ]
  },
  {
   "cell_type": "markdown",
   "metadata": {},
   "source": [
    "#### Problem 1(m)\n",
    "What do these players outperform in? Singles, doubles, triples HR or BB?"
   ]
  },
  {
   "cell_type": "code",
   "execution_count": 17,
   "metadata": {
    "collapsed": false
   },
   "outputs": [],
   "source": [
    "### Your code here ###"
   ]
  },
  {
   "cell_type": "markdown",
   "metadata": {},
   "source": [
    "** Your answer here: **"
   ]
  },
  {
   "cell_type": "markdown",
   "metadata": {},
   "source": [
    "## Discussion for Problem 1\n",
    "\n",
    "*Write a brief discussion of your conclusions to the questions and tasks above in 100 words or less.*\n",
    "\n",
    "---"
   ]
  },
  {
   "cell_type": "markdown",
   "metadata": {},
   "source": [
    "# Problem 2:  $k$-Nearest Neighbors and Cross Validation \n",
    "\n",
    "What is the optimal $k$ for predicting species using $k$-nearest neighbor classification \n",
    "on the four features provided by the iris dataset.\n",
    "\n",
    "In this problem you will get to know the famous iris data set, and use cross validation to select the optimal $k$ for a $k$-nearest neighbor classification. This problem set makes heavy use of the [sklearn](http://scikit-learn.org/stable/) library. In addition to Pandas, it is one of the most useful libraries for data scientists! After completing this homework assignment you will know all the basics to get started with your own machine learning projects in sklearn. \n",
    "\n",
    "Future lectures will give further background information on different classifiers and their specific strengths and weaknesses, but when you have the basics for sklearn down, changing the classifier will boil down to exchanging one to two lines of code.\n",
    "\n",
    "The data set is so popular, that sklearn provides an extra function to load it:"
   ]
  },
  {
   "cell_type": "code",
   "execution_count": 2,
   "metadata": {
    "collapsed": false
   },
   "outputs": [
    {
     "name": "stdout",
     "output_type": "stream",
     "text": [
      "(150, 4) (150,)\n"
     ]
    }
   ],
   "source": [
    "#load the iris data set\n",
    "iris = sklearn.datasets.load_iris()\n",
    "\n",
    "X = iris.data  \n",
    "Y = iris.target\n",
    "\n",
    "print X.shape, Y.shape"
   ]
  },
  {
   "cell_type": "markdown",
   "metadata": {},
   "source": [
    "#### Problem 2(a) \n",
    "Split the data into a train and a test set. Use a random selection of 33% of the samples as test data. Sklearn provides the [`train_test_split`](http://scikit-learn.org/stable/modules/generated/sklearn.cross_validation.train_test_split.html) function for this purpose. Print the dimensions of all the train and test data sets you have created. "
   ]
  },
  {
   "cell_type": "code",
   "execution_count": 7,
   "metadata": {
    "collapsed": false
   },
   "outputs": [
    {
     "name": "stdout",
     "output_type": "stream",
     "text": [
      "(100, 4) (50, 4) (100,) (50,)\n"
     ]
    }
   ],
   "source": [
    "X_train, X_test, Y_train, Y_test = sklearn.cross_validation.train_test_split(X, Y, test_size=0.33)\n",
    "print X_train.shape, X_test.shape, Y_train.shape, Y_test.shape"
   ]
  },
  {
   "cell_type": "markdown",
   "metadata": {},
   "source": [
    "#### Problem 2(b)\n",
    "\n",
    "Examine the data further by looking at the projections to the first two principal components of the data. Use the [`TruncatedSVD`](http://scikit-learn.org/stable/modules/generated/sklearn.decomposition.TruncatedSVD.html) function for this purpose, and create a scatter plot. Use the colors on the scatter plot to represent the different classes in the target data. "
   ]
  },
  {
   "cell_type": "code",
   "execution_count": 19,
   "metadata": {
    "collapsed": false
   },
   "outputs": [],
   "source": [
    "svd = sklearn.decomposition.TruncatedSVD(n_components=2, random_state=0)\n",
    "X_Train_centered = X_train - np.mean(X_train, axis=0)\n",
    "X_train2D = svd.fit_transform(X_Train_centered)"
   ]
  },
  {
   "cell_type": "code",
   "execution_count": 56,
   "metadata": {
    "collapsed": false
   },
   "outputs": [
    {
     "data": {
      "image/png": "[encoded data removed]",
      "text/plain": [
       "<matplotlib.figure.Figure at 0x118d40510>"
      ]
     },
     "metadata": {},
     "output_type": "display_data"
    }
   ],
   "source": [
    "plt.figure(figsize=(15, 8))\n",
    "plt.scatter(x=X_train2D[:, 0], y=X_train2D[:, 1], c=Y_train, cmap=plt.cm.prism)\n",
    "plt.xlabel('PC1')\n",
    "plt.ylabel('PC2')\n",
    "plt.title('First two PC of input train data')\n",
    "plt.show()"
   ]
  },
  {
   "cell_type": "markdown",
   "metadata": {},
   "source": [
    "#### Problem 2(c) \n",
    "\n",
    "In the lecture we discussed how to use cross validation to estimate the optimal value for $k$ (the number of nearest neighbors to base the classification on). Use ***ten fold cross validation*** to estimate the optimal value for $k$ for the iris data set. \n",
    "\n",
    "**Note**: For your convenience sklearn does not only include the [KNN classifier](http://scikit-learn.org/stable/modules/generated/sklearn.neighbors.KNeighborsClassifier.html), but also a [grid search function](http://scikit-learn.org/stable/modules/generated/sklearn.grid_search.GridSearchCV.html#sklearn.grid_search.GridSearchCV). The function is called grid search, because if you have to optimize more than one parameter, it is common practice to define a range of possible values for each parameter. An exhaustive search then runs over the complete grid defined by all the possible parameter combinations. This can get very computation heavy, but luckily our KNN classifier only requires tuning of a single parameter for this problem set. "
   ]
  },
  {
   "cell_type": "code",
   "execution_count": 51,
   "metadata": {
    "collapsed": false
   },
   "outputs": [
    {
     "data": {
      "text/plain": [
       "GridSearchCV(cv=sklearn.cross_validation.KFold(n=100, n_folds=10, shuffle=False, random_state=None),\n",
       "       error_score='raise',\n",
       "       estimator=KNeighborsClassifier(algorithm='auto', leaf_size=30, metric='minkowski',\n",
       "           metric_params=None, n_jobs=1, n_neighbors=5, p=2,\n",
       "           weights='uniform'),\n",
       "       fit_params={}, iid=True, n_jobs=4,\n",
       "       param_grid={'n_neighbors': array([ 1,  2,  3,  4,  5,  6,  7,  8,  9, 10, 11, 12, 13, 14, 15, 16, 17,\n",
       "       18, 19, 20])},\n",
       "       pre_dispatch='2*n_jobs', refit=True, scoring=None, verbose=0)"
      ]
     },
     "execution_count": 51,
     "metadata": {},
     "output_type": "execute_result"
    }
   ],
   "source": [
    "knn = sklearn.neighbors.KNeighborsClassifier()\n",
    "cv = sklearn.cross_validation.KFold(X_train.shape[0], n_folds=10)\n",
    "ks = np.arange(20)+1\n",
    "parameters = {'n_neighbors': ks}\n",
    "grid = sklearn.grid_search.GridSearchCV(knn, parameters, cv=cv, n_jobs=4)\n",
    "grid.fit(X_train, Y_train)"
   ]
  },
  {
   "cell_type": "markdown",
   "metadata": {},
   "source": [
    "#### Problem 2(d)\n",
    "\n",
    "Visualize the result by plotting the score results versus values for $k$. "
   ]
  },
  {
   "cell_type": "code",
   "execution_count": 52,
   "metadata": {
    "collapsed": false
   },
   "outputs": [
    {
     "data": {
      "image/png": "[encoded data removed]",
      "text/plain": [
       "<matplotlib.figure.Figure at 0x118d40c90>"
      ]
     },
     "metadata": {},
     "output_type": "display_data"
    }
   ],
   "source": [
    "a = grid.grid_scores_\n",
    "scores = np.array([b.cv_validation_scores for b in a])\n",
    "scores_mean = scores.mean(axis=1)\n",
    "scores_std = scores.std(axis=1)\n",
    "\n",
    "plt.figure(figsize=(15, 8))\n",
    "plt.ylim([0.5, 1.0])\n",
    "plt.fill_between(ks, scores_mean-scores_std, scores_mean+scores_std, color='g', alpha=0.1)\n",
    "plt.plot(ks, scores_mean, 'o-', color='g')\n",
    "plt.show()"
   ]
  },
  {
   "cell_type": "markdown",
   "metadata": {},
   "source": [
    "Verify that the grid search has indeed chosen the right parameter value for $k$."
   ]
  },
  {
   "cell_type": "code",
   "execution_count": 53,
   "metadata": {
    "collapsed": false
   },
   "outputs": [
    {
     "data": {
      "text/plain": [
       "{'n_neighbors': 7}"
      ]
     },
     "execution_count": 53,
     "metadata": {},
     "output_type": "execute_result"
    }
   ],
   "source": [
    "grid.best_params_"
   ]
  },
  {
   "cell_type": "markdown",
   "metadata": {},
   "source": [
    "#### Problem 2(e)\n",
    "\n",
    "Test the performance of our tuned KNN classifier on the test set."
   ]
  },
  {
   "cell_type": "code",
   "execution_count": 55,
   "metadata": {
    "collapsed": false
   },
   "outputs": [],
   "source": [
    "knn = sklearn.neighbors.KNeighborsClassifier(n_neighbors=7)\n",
    "knn.fit(X_train, Y_train)\n",
    "Y_pred = knn.predict(X_test)"
   ]
  },
  {
   "cell_type": "code",
   "execution_count": 58,
   "metadata": {
    "collapsed": false
   },
   "outputs": [
    {
     "name": "stdout",
     "output_type": "stream",
     "text": [
      "Accuracy: 0.98\n",
      "Confusion matrix: [[20  0  0]\n",
      " [ 0 14  0]\n",
      " [ 0  1 15]]\n"
     ]
    }
   ],
   "source": [
    "print 'Accuracy:', sklearn.metrics.accuracy_score(Y_pred, Y_test)\n",
    "print 'Confusion matrix:', sklearn.metrics.confusion_matrix(Y_pred, Y_test)"
   ]
  },
  {
   "cell_type": "markdown",
   "metadata": {},
   "source": [
    "## Discussion for Problem 2\n",
    "\n",
    "*Write a brief discussion of your conclusions to the questions and tasks above in 100 words or less.*\n",
    "\n",
    "---"
   ]
  },
  {
   "cell_type": "markdown",
   "metadata": {},
   "source": [
    "# Problem 3: The Curse and Blessing of Higher Dimensions\n",
    "\n",
    "In this problem we will investigate the influence of higher dimensional spaces on the classification. The data set is again one of the standard data sets from sklearn. The [digits data set](http://scikit-learn.org/stable/modules/generated/sklearn.datasets.load_digits.html) is similar to the MNIST data set discussed in the lecture. The main difference is, that each digit is represented by an 8x8 pixel image patch, which is considerably smaller than the 28x28 pixels from MNIST. In addition, the gray values are restricted to 16 different values (4 bit), instead of 256 (8 bit) for MNIST. \n",
    "\n",
    "First we again load our data set."
   ]
  },
  {
   "cell_type": "code",
   "execution_count": 59,
   "metadata": {
    "collapsed": false
   },
   "outputs": [
    {
     "name": "stdout",
     "output_type": "stream",
     "text": [
      "(1797, 64) (1797,)\n"
     ]
    }
   ],
   "source": [
    "digits = sklearn.datasets.load_digits()\n",
    "\n",
    "X = digits.data  \n",
    "Y = digits.target\n",
    "\n",
    "print X.shape, Y.shape"
   ]
  },
  {
   "cell_type": "markdown",
   "metadata": {},
   "source": [
    "#### Problem 3(a) \n",
    "\n",
    "Start with the same steps as in Problem 2. Split the data into train and test set. Use 33% of the samples as test data. Print the dimensions of all the train and test data sets you created. "
   ]
  },
  {
   "cell_type": "code",
   "execution_count": 61,
   "metadata": {
    "collapsed": false
   },
   "outputs": [
    {
     "name": "stdout",
     "output_type": "stream",
     "text": [
      "(1203, 64) (594, 64) (1203,) (594,)\n"
     ]
    }
   ],
   "source": [
    "X_train, X_test, Y_train, Y_test = sklearn.cross_validation.train_test_split(X, Y, test_size=0.33)\n",
    "print X_train.shape, X_test.shape, Y_train.shape, Y_test.shape"
   ]
  },
  {
   "cell_type": "markdown",
   "metadata": {},
   "source": [
    "#### Problem 3(b) \n",
    "\n",
    "Similar to Problem 2(b), create a scatter plot of the projections to the first two PCs.  Use the colors on the scatter plot to represent the different classes in the target data. How well can we separate the classes?\n",
    "\n",
    "**Hint**: Use a `Colormap` in matplotlib to represent the diferent classes in the target data. "
   ]
  },
  {
   "cell_type": "code",
   "execution_count": 62,
   "metadata": {
    "collapsed": false
   },
   "outputs": [],
   "source": [
    "svd = sklearn.decomposition.TruncatedSVD(n_components=2, random_state=0)\n",
    "X_train_centered = X_train - np.mean(X_train, axis=0)\n",
    "X_train2D = svd.fit_transform(X_train_centered)"
   ]
  },
  {
   "cell_type": "code",
   "execution_count": 67,
   "metadata": {
    "collapsed": false
   },
   "outputs": [
    {
     "data": {
      "image/png": "[encoded data removed]",
      "text/plain": [
       "<matplotlib.figure.Figure at 0x119d592d0>"
      ]
     },
     "metadata": {},
     "output_type": "display_data"
    }
   ],
   "source": [
    "plt.figure(figsize=(15, 8))\n",
    "plt.scatter(X_train2D[:, 0], X_train2D[:, 1], c=Y_train, cmap=plt.cm.prism_r)\n",
    "plt.xlabel('PC1')\n",
    "plt.ylabel('PC2')\n",
    "plt.title('First two PCs of digits data')\n",
    "plt.show()"
   ]
  },
  {
   "cell_type": "markdown",
   "metadata": {},
   "source": [
    "Create individual scatter plots using only two classes at a time to explore which classes are most difficult to distinguish in terms of class separability.  You do not need to create scatter plots for all pairwise comparisons, but at least show one. "
   ]
  },
  {
   "cell_type": "code",
   "execution_count": 80,
   "metadata": {
    "collapsed": false
   },
   "outputs": [
    {
     "data": {
      "image/png": "[encoded data removed]",
      "text/plain": [
       "<matplotlib.figure.Figure at 0x118ab2050>"
      ]
     },
     "metadata": {},
     "output_type": "display_data"
    }
   ],
   "source": [
    "mask = np.bitwise_or(Y_train==1, Y_train==7)\n",
    "\n",
    "plt.figure(figsize=(15, 8))\n",
    "plt.scatter(X_train2D[mask][:, 0], X_train2D[mask][:, 1], c=Y_train[mask], cmap=plt.cm.prism_r)\n",
    "plt.xlabel('PC1')\n",
    "plt.ylabel('PC2')\n",
    "plt.title('First two PCs of digits data of 1s and 7s')\n",
    "plt.show()"
   ]
  },
  {
   "cell_type": "markdown",
   "metadata": {},
   "source": [
    "Give a brief interpretation of the scatter plot. Which classes look like hard to distinguish? Do both feature dimensions contribute to the class separability? "
   ]
  },
  {
   "cell_type": "markdown",
   "metadata": {},
   "source": [
    "** Your answer here: **"
   ]
  },
  {
   "cell_type": "markdown",
   "metadata": {},
   "source": [
    "#### Problem 3(c) \n",
    "\n",
    "Write a **ten-fold cross validation** to estimate the optimal value for $k$ for the digits data set. *However*, this time we are interested in the influence of the number of dimensions we project the data down as well. \n",
    "\n",
    "Extend the cross validation as done for the iris data set, to optimize $k$ for different dimensional projections of the data. Create a boxplot showing test scores for the optimal $k$ for each $d$-dimensional subspace with $d$ ranging from one to ten. The plot should have the scores on the y-axis and the different dimensions $d$ on the x-axis. You can use your favorite plot function for the boxplots. [Seaborn](http://web.stanford.edu/~mwaskom/software/seaborn/index.html) is worth having a look at though. It is a great library for statistical visualization and of course also comes with a [`boxplot`](http://web.stanford.edu/~mwaskom/software/seaborn/generated/seaborn.boxplot.html) function that has simple means for changing the labels on the x-axis."
   ]
  },
  {
   "cell_type": "code",
   "execution_count": 106,
   "metadata": {
    "collapsed": false
   },
   "outputs": [
    {
     "data": {
      "text/plain": [
       "array([[ 0.17355372,  0.11570248,  0.12396694,  0.175     ,  0.2       ,\n",
       "         0.16666667,  0.21666667,  0.1       ,  0.18333333,  0.10833333],\n",
       "       [ 0.39669421,  0.3553719 ,  0.41322314,  0.38333333,  0.40833333,\n",
       "         0.41666667,  0.4       ,  0.45      ,  0.41666667,  0.45      ],\n",
       "       [ 0.73553719,  0.59504132,  0.66115702,  0.70833333,  0.74166667,\n",
       "         0.69166667,  0.7       ,  0.66666667,  0.71666667,  0.69166667],\n",
       "       [ 0.80165289,  0.72727273,  0.81818182,  0.80833333,  0.825     ,\n",
       "         0.79166667,  0.81666667,  0.78333333,  0.81666667,  0.81666667],\n",
       "       [ 0.88429752,  0.83471074,  0.90909091,  0.90833333,  0.875     ,\n",
       "         0.875     ,  0.90833333,  0.875     ,  0.85833333,  0.88333333],\n",
       "       [ 0.9338843 ,  0.8677686 ,  0.94214876,  0.93333333,  0.93333333,\n",
       "         0.89166667,  0.94166667,  0.95      ,  0.89166667,  0.91666667],\n",
       "       [ 0.95867769,  0.91735537,  0.9338843 ,  0.95      ,  0.91666667,\n",
       "         0.90833333,  0.95833333,  0.95833333,  0.90833333,  0.90833333],\n",
       "       [ 0.98347107,  0.92561983,  0.94214876,  0.95833333,  0.94166667,\n",
       "         0.93333333,  0.975     ,  0.975     ,  0.94166667,  0.93333333],\n",
       "       [ 0.97520661,  0.96694215,  0.96694215,  0.93333333,  0.94166667,\n",
       "         0.94166667,  0.98333333,  0.95833333,  0.94166667,  0.94166667],\n",
       "       [ 0.99173554,  0.98347107,  0.98347107,  0.96666667,  0.94166667,\n",
       "         0.96666667,  0.975     ,  0.96666667,  0.96666667,  0.95833333],\n",
       "       [ 0.98347107,  0.96694215,  0.96694215,  0.98333333,  0.96666667,\n",
       "         0.95833333,  1.        ,  0.98333333,  0.98333333,  0.94166667],\n",
       "       [ 0.98347107,  0.97520661,  0.97520661,  0.98333333,  0.96666667,\n",
       "         0.95833333,  1.        ,  0.98333333,  0.96666667,  0.96666667],\n",
       "       [ 0.98347107,  0.97520661,  0.99173554,  0.975     ,  0.95      ,\n",
       "         0.95833333,  1.        ,  0.99166667,  0.975     ,  0.96666667],\n",
       "       [ 0.98347107,  0.97520661,  0.99173554,  0.98333333,  0.95833333,\n",
       "         0.96666667,  0.99166667,  0.98333333,  0.975     ,  0.96666667],\n",
       "       [ 1.        ,  0.97520661,  0.97520661,  0.975     ,  0.96666667,\n",
       "         0.98333333,  0.99166667,  0.99166667,  0.975     ,  0.975     ],\n",
       "       [ 1.        ,  0.97520661,  0.97520661,  0.98333333,  0.96666667,\n",
       "         0.99166667,  0.99166667,  0.99166667,  0.98333333,  0.975     ],\n",
       "       [ 0.99173554,  0.98347107,  0.98347107,  0.98333333,  0.96666667,\n",
       "         0.99166667,  0.99166667,  1.        ,  0.98333333,  0.98333333],\n",
       "       [ 0.99173554,  0.98347107,  0.97520661,  0.99166667,  0.95833333,\n",
       "         0.99166667,  0.99166667,  0.99166667,  0.99166667,  0.98333333],\n",
       "       [ 1.        ,  0.97520661,  0.99173554,  0.99166667,  0.975     ,\n",
       "         0.98333333,  0.99166667,  0.98333333,  0.98333333,  0.98333333],\n",
       "       [ 0.99173554,  0.97520661,  0.99173554,  0.99166667,  0.96666667,\n",
       "         0.98333333,  0.99166667,  0.98333333,  0.98333333,  0.98333333]])"
      ]
     },
     "execution_count": 106,
     "metadata": {},
     "output_type": "execute_result"
    }
   ],
   "source": [
    "dimensions = np.arange(20)+1\n",
    "ks = np.arange(20)+1\n",
    "parameters = {'n_neighbors' : ks}\n",
    "scores = []\n",
    "for d in dimensions:\n",
    "    svd = sklearn.decomposition.TruncatedSVD(n_components=d)\n",
    "    X_kD = svd.fit_transform(X_train)\n",
    "    cv = sklearn.cross_validation.KFold(X_kD.shape[0], n_folds=10)\n",
    "    estimator = sklearn.neighbors.KNeighborsClassifier()\n",
    "    \n",
    "    grid = sklearn.grid_search.GridSearchCV(estimator, parameters, cv=cv, n_jobs=4)\n",
    "    grid.fit(X_kD, Y_train)\n",
    "    a = [b.cv_validation_scores for b in grid.grid_scores_]\n",
    "    \n",
    "    best_k = grid.best_params_['n_neighbors']\n",
    "    scores.append(a[best_k-1])\n",
    "\n",
    "scores = np.array(scores)\n",
    "scores"
   ]
  },
  {
   "cell_type": "code",
   "execution_count": 107,
   "metadata": {
    "collapsed": false
   },
   "outputs": [
    {
     "data": {
      "image/png": "[encoded data removed]",
      "text/plain": [
       "<matplotlib.figure.Figure at 0x11a047850>"
      ]
     },
     "metadata": {},
     "output_type": "display_data"
    }
   ],
   "source": [
    "plt.figure(figsize=(15, 8))\n",
    "plt.boxplot(scores.T)\n",
    "plt.xlabel('Dimension')\n",
    "plt.ylabel('Score')\n",
    "plt.title('Dimension influence for optimal k')\n",
    "plt.show()"
   ]
  },
  {
   "cell_type": "markdown",
   "metadata": {},
   "source": [
    "Write a short interpretation of the generated plot, answering the following questions:\n",
    "\n",
    "* What trend do you see in the plot for increasing dimensions?\n",
    "\n",
    "* Why do you think this is happening?"
   ]
  },
  {
   "cell_type": "markdown",
   "metadata": {},
   "source": [
    "** Your answer here: **"
   ]
  },
  {
   "cell_type": "markdown",
   "metadata": {},
   "source": [
    "#### Problem 3(d) \n",
    "\n",
    "**For AC209 Students**: Change the boxplot we generated above to also show the optimal value for $k$ chosen by the cross validation grid search. "
   ]
  },
  {
   "cell_type": "code",
   "execution_count": 31,
   "metadata": {
    "collapsed": false
   },
   "outputs": [],
   "source": [
    "### Your code here ### "
   ]
  },
  {
   "cell_type": "markdown",
   "metadata": {},
   "source": [
    "Write a short interpretation answering the following questions:\n",
    "\n",
    "* Which trend do you observe for the optimal value of $k$?\n",
    "\n",
    "* Why do you think this is happening?"
   ]
  },
  {
   "cell_type": "markdown",
   "metadata": {},
   "source": [
    "** Your answer here: **"
   ]
  },
  {
   "cell_type": "markdown",
   "metadata": {},
   "source": [
    "## Discussion for Problem 3\n",
    "\n",
    "*Write a brief discussion of your conclusions to the questions and tasks above in 100 words or less.*\n",
    "\n",
    "---"
   ]
  },
  {
   "cell_type": "markdown",
   "metadata": {},
   "source": [
    "# Submission Instructions\n",
    "\n",
    "To submit your homework, create a folder named **lastname_firstinitial_hw#** and place your IPython notebooks, data files, and any other files in this folder. Your IPython Notebooks should be completely executed with the results visible in the notebook. We should not have to run any code.  Compress the folder (please use .zip compression) and submit to the CS109 dropbox in the appropriate folder. *If we cannot access your work because these directions are not followed correctly, we will not grade your work.*\n"
   ]
  },
  {
   "cell_type": "code",
   "execution_count": 31,
   "metadata": {
    "collapsed": false
   },
   "outputs": [],
   "source": []
  }
 ],
 "metadata": {
  "kernelspec": {
   "display_name": "Python 2",
   "language": "python",
   "name": "python2"
  },
  "language_info": {
   "codemirror_mode": {
    "name": "ipython",
    "version": 2
   },
   "file_extension": ".py",
   "mimetype": "text/x-python",
   "name": "python",
   "nbconvert_exporter": "python",
   "pygments_lexer": "ipython2",
   "version": "2.7.12"
  }
 },
 "nbformat": 4,
 "nbformat_minor": 0
}
