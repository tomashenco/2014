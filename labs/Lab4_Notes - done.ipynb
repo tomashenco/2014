{
 "cells": [
  {
   "cell_type": "code",
   "execution_count": 157,
   "metadata": {
    "collapsed": false
   },
   "outputs": [],
   "source": [
    "import urllib2 # module to read in HTML\n",
    "import bs4 # BeautifulSoup: module to parse HTML and XML\n",
    "import json # \n",
    "import datetime as dt # module for manipulating dates and times\n",
    "import pandas as pd\n",
    "import numpy as np\n",
    "from matplotlib import pyplot as plt\n",
    "import requests\n",
    "import StringIO\n",
    "\n",
    "# special IPython command to prepare the notebook for matplotlib\n",
    "%matplotlib inline "
   ]
  },
  {
   "cell_type": "markdown",
   "metadata": {},
   "source": [
    "## Recall from from lab last week 09/19/2014\n",
    "\n",
    "Previously discussed: \n",
    "\n",
    "* More pandas, matplotlib for exploratory data analysis\n",
    "* Brief introduction to numpy and scipy\n",
    "* Working on the command line\n",
    "* Overview of git and Github"
   ]
  },
  {
   "cell_type": "markdown",
   "metadata": {},
   "source": [
    "## Today, we will discuss the following:\n",
    "\n",
    "* urllib2 - reads in HTML\n",
    "* BeautifulSoup - use to parse HTML and XML code\n",
    "    * Reddit\n",
    "* JSON examples\n",
    "    * World Cup\n",
    "\n",
    "<a href=https://raw.githubusercontent.com/cs109/2014/master/labs/Lab4_Notes.ipynb download=Lab4_Notes.ipynb> Download this notebook from Github </a>"
   ]
  },
  {
   "cell_type": "markdown",
   "metadata": {},
   "source": [
    "# urllib2\n",
    "\n",
    "[urllib2](https://docs.python.org/2/library/urllib2.html) is a useful module to get information about and retrieving data from the web. The function `urlopen()` opens a URL (similar to opening a file). The file-like object has some of the methods as a file object. For example, to read the entire HTML of the webpage into a single string, use the method `read()`. `readlines()` can read in the text line by line. While `read()` reads in the HTML code and and `close()` closes the URL connection. \n"
   ]
  },
  {
   "cell_type": "code",
   "execution_count": 2,
   "metadata": {
    "collapsed": false
   },
   "outputs": [],
   "source": [
    "x = urllib2.urlopen(\"http://www.google.com\")\n",
    "htmlSource = x.read()\n",
    "x.close()"
   ]
  },
  {
   "cell_type": "code",
   "execution_count": 3,
   "metadata": {
    "collapsed": false
   },
   "outputs": [
    {
     "data": {
      "text/plain": [
       "str"
      ]
     },
     "execution_count": 3,
     "metadata": {},
     "output_type": "execute_result"
    }
   ],
   "source": [
    "type(htmlSource)"
   ]
  },
  {
   "cell_type": "code",
   "execution_count": 4,
   "metadata": {
    "collapsed": false
   },
   "outputs": [
    {
     "name": "stdout",
     "output_type": "stream",
     "text": [
      "<!doctype html><html itemscope=\"\" itemtype=\"http://schema.org/WebPage\" lang=\"en-GB\"><head><meta content=\"text/html; charset=UTF-8\" http-equiv=\"Content-Type\"><meta content=\"/images/branding/googleg/1x/googleg_standard_color_128dp.png\" itemprop=\"image\"><title>Google</title><script>(function(){window.google={kEI:'vyJIV5fpKuSTgAaaw5-ICw',kEXPI:'1350654,1350960,3700258,3700388,3700389,4029815,4031109,4032678,4036509,4036527,4038012,4039268,4040135,4043492,4045841,4048347,4052304,4054551,4056038,4057739,4058337,4059767,4060015,4061155,4061181,4061552,4061924,4062333,4062662,4062987,4063112,4063126,4063131,4063879,4063960,4064131,4064449,4064495,4064501,4064702,4064815,4064904,4064930,4065406,4065786,4065794,4065855,4065919,4066101,4066654,4066671,4066686,4066776,4066963,4067274,4067518,4067629,4067678,4067702,4067860,4067938,4068022,4068042,4068067,4068186,4068256,4068452,4068777,8300096,8300272,8300366,8503209,8503585,8504350,8504456,8504874,8504892,8504930,10200083',authuser:0,kscs:'c9c918f0_24'};google.kHL='en-GB';})();(function(){google.lc=[];google.li=0;google.getEI=function(a){for(var b;a&&(!a.getAttribute||!(b=a.getAttribute(\"eid\")));)a=a.parentNode;return b||google.kEI};google.getLEI=function(a){for(var b=null;a&&(!a.getAttribute||!(b=a.getAttribute(\"leid\")));)a=a.parentNode;return b};google.https=function(){return\"https:\"==window.location.protocol};google.ml=function(){return null};google.wl=function(a,b){try{google.ml(Error(a),!1,b)}catch(c){}};google.time=function(){return(new Date).getTime()};google.log=function(a,b,c,e,g){a=google.logUrl(a,b,c,e,g);if(\"\"!=a){b=new Image;var d=google.lc,f=google.li;d[f]=b;b.onerror=b.onload=b.onabort=function(){delete d[f]};window.google&&window.google.vel&&window.google.vel.lu&&window.google.vel.lu(a);b.src=a;google.li=f+1}};google.logUrl=function(a,b,c,e,g){var d=\"\",f=google.ls||\"\";if(!c&&-1==b.search(\"&ei=\")){var h=google.getEI(e),d=\"&ei=\"+h;-1==b.search(\"&lei=\")&&((e=google.getLEI(e))?d+=\"&lei=\"+e:h!=google.kEI&&(d+=\"&lei=\"+google.kEI))}a=c||\"/\"+(g||\"gen_204\")+\"?atyp=i&ct=\"+a+\"&cad=\"+b+d+f+\"&zx=\"+google.time();/^http:/i.test(a)&&google.https()&&(google.ml(Error(\"a\"),!1,{src:a,glmm:1}),a=\"\");return a};google.y={};google.x=function(a,b){google.y[a.id]=[a,b];return!1};google.load=function(a,b,c){google.x({id:a+k++},function(){google.load(a,b,c)})};var k=0;})();var _gjwl=location;function _gjuc(){var a=_gjwl.href.indexOf(\"#\");if(0<=a&&(a=_gjwl.href.substring(a),0<a.indexOf(\"&q=\")||0<=a.indexOf(\"#q=\"))&&(a=a.substring(1),-1==a.indexOf(\"#\"))){for(var d=0;d<a.length;){var b=d;\"&\"==a.charAt(b)&&++b;var c=a.indexOf(\"&\",b);-1==c&&(c=a.length);b=a.substring(b,c);if(0==b.indexOf(\"fp=\"))a=a.substring(0,d)+a.substring(c,a.length),c=d;else if(\"cad=h\"==b)return 0;d=c}_gjwl.href=\"/search?\"+a+\"&cad=h\";return 1}return 0}\n",
      "function _gjh(){!_gjuc()&&window.google&&google.x&&google.x({id:\"GJH\"},function(){google.nav&&google.nav.gjh&&google.nav.gjh()})};window._gjh&&_gjh();</script><style>#gbar,#guser{font-size:13px;padding-top:1px !important;}#gbar{height:22px}#guser{padding-bottom:7px !important;text-align:right}.gbh,.gbd{border-top:1px solid #c9d7f1;font-size:1px}.gbh{height:0;position:absolute;top:24px;width:100%}@media all{.gb1{height:22px;margin-right:.5em;vertical-align:top}#gbar{float:left}}a.gb1,a.gb4{text-decoration:underline !important}a.gb1,a.gb4{color:#00c !important}.gbi .gb4{color:#dd8e27 !important}.gbf .gb4{color:#900 !important}\n",
      "</style><style>body,td,a,p,.h{font-family:arial,sans-serif}body{margin:0;overflow-y:scroll}#gog{padding:3px 8px 0}td{line-height:.8em}.gac_m td{line-height:17px}form{margin-bottom:20px}.h{color:#36c}.q{color:#00c}.ts td{padding:0}.ts{border-collapse:collapse}em{font-weight:bold;font-style:normal}.lst{height:25px;width:496px}.gsfi,.lst{font:18px arial,sans-serif}.gsfs{font:17px arial,sans-serif}.ds{display:inline-box;display:inline-block;margin:3px 0 4px;margin-left:4px}input{font-family:inherit}a.gb1,a.gb2,a.gb3,a.gb4{color:#11c !important}body{background:#fff;color:black}a{color:#11c;text-decoration:none}a:hover,a:active{text-decoration:underline}.fl a{color:#36c}a:visited{color:#551a8b}a.gb1,a.gb4{text-decoration:underline}a.gb3:hover{text-decoration:none}#ghead a.gb2:hover{color:#fff !important}.sblc{padding-top:5px}.sblc a{display:block;margin:2px 0;margin-left:13px;font-size:11px}.lsbb{background:#eee;border:solid 1px;border-color:#ccc #999 #999 #ccc;height:30px}.lsbb{display:block}.ftl,#fll a{display:inline-block;margin:0 12px}.lsb{background:url(/images/nav_logo229.png) 0 -261px repeat-x;border:none;color:#000;cursor:pointer;height:30px;margin:0;outline:0;font:15px arial,sans-serif;vertical-align:top}.lsb:active{background:#ccc}.lst:focus{outline:none}</style><script></script><link href=\"/images/branding/product/ico/googleg_lodp.ico\" rel=\"shortcut icon\"></head><body bgcolor=\"#fff\"><script>(function(){var src='/images/nav_logo229.png';var iesg=false;document.body.onload = function(){window.n && window.n();if (document.images){new Image().src=src;}\n",
      "if (!iesg){document.f&&document.f.q.focus();document.gbqf&&document.gbqf.q.focus();}\n",
      "}\n",
      "})();</script><div id=\"mngb\">    <div id=gbar><nobr><b class=gb1>Search</b> <a class=gb1 href=\"http://www.google.co.uk/imghp?hl=en&tab=wi\">Images</a> <a class=gb1 href=\"http://maps.google.co.uk/maps?hl=en&tab=wl\">Maps</a> <a class=gb1 href=\"https://play.google.com/?hl=en&tab=w8\">Play</a> <a class=gb1 href=\"http://www.youtube.com/?gl=GB&tab=w1\">YouTube</a> <a class=gb1 href=\"http://news.google.co.uk/nwshp?hl=en&tab=wn\">News</a> <a class=gb1 href=\"https://mail.google.com/mail/?tab=wm\">Gmail</a> <a class=gb1 href=\"https://drive.google.com/?tab=wo\">Drive</a> <a class=gb1 style=\"text-decoration:none\" href=\"https://www.google.co.uk/intl/en/options/\"><u>More</u> &raquo;</a></nobr></div><div id=guser width=100%><nobr><span id=gbn class=gbi></span><span id=gbf class=gbf></span><span id=gbe></span><a href=\"http://www.google.co.uk/history/optout?hl=en\" class=gb4>Web History</a> | <a  href=\"/preferences?hl=en\" class=gb4>Settings</a> | <a target=_top id=gb_70 href=\"https://accounts.google.com/ServiceLogin?hl=en&passive=true&continue=http://www.google.co.uk/%3Fgfe_rd%3Dcr%26ei%3DvyJIV8uNJ8PU8geYvarQAg\" class=gb4>Sign in</a></nobr></div><div class=gbh style=left:0></div><div class=gbh style=right:0></div>    </div><center><br clear=\"all\" id=\"lgpd\"><div id=\"lga\"><div style=\"padding:28px 0 3px\"><div style=\"height:110px;width:276px;background:url(/images/branding/googlelogo/1x/googlelogo_white_background_color_272x92dp.png) no-repeat\" title=\"Google\" align=\"left\" id=\"hplogo\" onload=\"window.lol&&lol()\"><div style=\"color:#777;font-size:16px;font-weight:bold;position:relative;top:70px;left:218px\" nowrap=\"\">UK</div></div></div><br></div><form action=\"/search\" name=\"f\"><table cellpadding=\"0\" cellspacing=\"0\"><tr valign=\"top\"><td width=\"25%\">&nbsp;</td><td align=\"center\" nowrap=\"\"><input name=\"ie\" value=\"ISO-8859-1\" type=\"hidden\"><input value=\"en-GB\" name=\"hl\" type=\"hidden\"><input name=\"source\" type=\"hidden\" value=\"hp\"><input name=\"biw\" type=\"hidden\"><input name=\"bih\" type=\"hidden\"><div class=\"ds\" style=\"height:32px;margin:4px 0\"><input style=\"color:#000;margin:0;padding:5px 8px 0 6px;vertical-align:top\" autocomplete=\"off\" class=\"lst\" value=\"\" title=\"Google Search\" maxlength=\"2048\" name=\"q\" size=\"57\"></div><br style=\"line-height:0\"><span class=\"ds\"><span class=\"lsbb\"><input class=\"lsb\" value=\"Google Search\" name=\"btnG\" type=\"submit\"></span></span><span class=\"ds\"><span class=\"lsbb\"><input class=\"lsb\" value=\"I'm Feeling Lucky\" name=\"btnI\" onclick=\"if(this.form.q.value)this.checked=1; else top.location='/doodles/'\" type=\"submit\"></span></span></td><td class=\"fl sblc\" align=\"left\" nowrap=\"\" width=\"25%\"><a href=\"/advanced_search?hl=en-GB&amp;authuser=0\">Advanced search</a><a href=\"/language_tools?hl=en-GB&amp;authuser=0\">Language tools</a></td></tr></table><input id=\"gbv\" name=\"gbv\" type=\"hidden\" value=\"1\"></form><div id=\"gac_scont\"></div><div style=\"font-size:83%;min-height:3.5em\"><br></div><span id=\"footer\"><div style=\"font-size:10pt\"><div style=\"margin:19px auto;text-align:center\" id=\"fll\"><a href=\"/intl/en/ads/\">Advertising�Programmes</a><a href=\"/services/\">Business Solutions</a><a href=\"https://plus.google.com/103583604759580854844\" rel=\"publisher\">+Google</a><a href=\"/intl/en/about.html\">About Google</a><a href=\"http://www.google.co.uk/setprefdomain?prefdom=US&amp;sig=__b2OUJV9iWd38BqUaSev_iO-AOrw%3D\" id=\"fehl\">Google.com</a></div></div><p style=\"color:#767676;font-size:8pt\">&copy; 2016 - <a href=\"/intl/en/policies/privacy/\">Privacy</a> - <a href=\"/intl/en/policies/terms/\">Terms</a></p></span></center><script>(function(){window.google.cdo={height:0,width:0};(function(){var a=window.innerWidth,b=window.innerHeight;if(!a||!b)var c=window.document,d=\"CSS1Compat\"==c.compatMode?c.documentElement:c.body,a=d.clientWidth,b=d.clientHeight;a&&b&&(a!=google.cdo.width||b!=google.cdo.height)&&google.log(\"\",\"\",\"/client_204?&atyp=i&biw=\"+a+\"&bih=\"+b+\"&ei=\"+google.kEI);})();})();</script><div id=\"xjsd\"></div><div id=\"xjsi\"><script>(function(){function c(b){window.setTimeout(function(){var a=document.createElement(\"script\");a.src=b;document.getElementById(\"xjsd\").appendChild(a)},0)}google.dljp=function(b,a){google.xjsu=b;c(a)};google.dlj=c;})();(function(){window.google.xjsrm=[];})();if(google.y)google.y.first=[];if(!google.xjs){window._=window._||{};window._._DumpException=function(e){throw e};if(google.timers&&google.timers.load.t){google.timers.load.t.xjsls=new Date().getTime();}google.dljp('/xjs/_/js/k\\x3dxjs.hp.en_US.QxCglLczvR4.O/m\\x3dsb_he,d/rt\\x3dj/d\\x3d1/t\\x3dzcms/rs\\x3dACT90oEHmX3ffUG3bADq_utuXdJ9rrrkEA','/xjs/_/js/k\\x3dxjs.hp.en_US.QxCglLczvR4.O/m\\x3dsb_he,d/rt\\x3dj/d\\x3d1/t\\x3dzcms/rs\\x3dACT90oEHmX3ffUG3bADq_utuXdJ9rrrkEA');google.xjs=1;}google.pmc={\"sb_he\":{\"agen\":true,\"cgen\":true,\"client\":\"heirloom-hp\",\"dh\":true,\"dhqt\":true,\"ds\":\"\",\"fl\":true,\"host\":\"google.co.uk\",\"isbh\":28,\"jam\":0,\"jsonp\":true,\"msgs\":{\"cibl\":\"Clear Search\",\"dym\":\"Did you mean:\",\"lcky\":\"I\\u0026#39;m Feeling Lucky\",\"lml\":\"Learn more\",\"oskt\":\"Input tools\",\"psrc\":\"This search was removed from your \\u003Ca href=\\\"/history\\\"\\u003EWeb History\\u003C/a\\u003E\",\"psrl\":\"Remove\",\"sbit\":\"Search by image\",\"srch\":\"Google Search\"},\"ovr\":{},\"pq\":\"\",\"refpd\":true,\"rfs\":[],\"scd\":10,\"sce\":5,\"stok\":\"swn18vcICAlqYNXubvUrsY9-b5U\"},\"d\":{}};google.y.first.push(function(){if(google.med){google.med('init');google.initHistory();google.med('history');}});if(google.j&&google.j.en&&google.j.xi){window.setTimeout(google.j.xi,0);}\n",
      "</script></div></body></html>\n"
     ]
    }
   ],
   "source": [
    "print htmlSource"
   ]
  },
  {
   "cell_type": "markdown",
   "metadata": {},
   "source": [
    "# BeautifulSoup\n",
    "\n",
    "Once you have the HTML source code, you have to parse it and clean it up.\n",
    "\n",
    "[BeautifulSoup](http://www.crummy.com/software/BeautifulSoup/bs4/doc/) is a really useful python module for parsing HTML and XML files.  Let's try a few examples. \n",
    "\n",
    "For this section, we will be working with the HTML code from [Reddit](http://www.reddit.com). "
   ]
  },
  {
   "cell_type": "code",
   "execution_count": 10,
   "metadata": {
    "collapsed": false
   },
   "outputs": [
    {
     "name": "stdout",
     "output_type": "stream",
     "text": [
      "{\"kind\": \"Listing\", \"data\": {\"modhash\": \"\", \"children\": [{\"kind\": \"t1\", \"data\": {\"subreddit_id\": \"t5_2t1b7\", \"link_title\": \"howcarworks.com - learn all about how cars work\", \"banned_by\": null, \"removal_reason\": null, \"link_id\": \"t3_3wjyyc\", \"link_author\": \"cosmicservant\", \"likes\": null, \"replies\": \"\", \"user_reports\": [], \"saved\": false, \"id\": \"cxz0xn4\", \"gilded\": 0, \"archived\": false, \"stickied\": false, \"author\": \"spilcm\", \"parent_id\": \"t3_3wjyyc\", \"score\": 1, \"approved_by\": null, \"over_18\": false, \"report_reasons\": null, \"controversiality\": 0, \"body\": \"This great for a novice like me :)\", \"edited\": false, \"author_flair_css_class\": null, \"downs\": 0, \"body_html\": \"&lt;div class=\\\"md\\\"&gt;&lt;p&gt;This great for a novice like me :)&lt;/p&gt;\\n&lt;/div&gt;\", \"quarantine\": false, \"subreddit\": \"UsefulWebsites\", \"score_hidden\": false, \"name\": \"t1_cxz0xn4\", \"created\": 1450153738.0, \"author_flair_text\": null, \"link_url\": \"http://www.howacarworks.com\", \"created_utc\": 1450124938.0, \"ups\": 1, \"mod_reports\": [], \"num_reports\": null, \"distinguished\": null}}, {\"kind\": \"t1\", \"data\": {\"subreddit_id\": \"t5_2qh0y\", \"link_title\": \"Pythonapi collects API / wrappers.\", \"banned_by\": null, \"removal_reason\": null, \"link_id\": \"t3_3v73ib\", \"link_author\": \"spilcm\", \"likes\": null, \"replies\": \"\", \"user_reports\": [], \"saved\": false, \"id\": \"cxz0us6\", \"gilded\": 0, \"archived\": false, \"stickied\": false, \"author\": \"spilcm\", \"parent_id\": \"t1_cxok2hy\", \"score\": 1, \"approved_by\": null, \"over_18\": false, \"report_reasons\": null, \"controversiality\": 0, \"body\": \"Updated! \", \"edited\": false, \"author_flair_css_class\": null, \"downs\": 0, \"body_html\": \"&lt;div class=\\\"md\\\"&gt;&lt;p&gt;Updated! &lt;/p&gt;\\n&lt;/div&gt;\", \"quarantine\": false, \"subreddit\": \"Python\", \"score_hidden\": false, \"name\": \"t1_cxz0us6\", \"created\": 1450153612.0, \"author_flair_text\": null, \"link_url\": \"http://www.pythonapi.com/\", \"created_utc\": 1450124812.0, \"ups\": 1, \"mod_reports\": [], \"num_reports\": null, \"distinguished\": null}}, {\"kind\": \"t1\", \"data\": {\"subreddit_id\": \"t5_2t1b7\", \"link_title\": \"Original Air Dates Of TV Shows\", \"banned_by\": null, \"removal_reason\": null, \"link_id\": \"t3_3o07p3\", \"link_author\": \"JustBlue\", \"likes\": null, \"replies\": \"\", \"user_reports\": [], \"saved\": false, \"id\": \"cxmssj6\", \"gilded\": 0, \"archived\": false, \"stickied\": false, \"author\": \"spilcm\", \"parent_id\": \"t3_3o07p3\", \"score\": 1, \"approved_by\": null, \"over_18\": false, \"report_reasons\": null, \"controversiality\": 0, \"body\": \"Looks good! Do you use any API to scrape the information?\", \"edited\": false, \"author_flair_css_class\": null, \"downs\": 0, \"body_html\": \"&lt;div class=\\\"md\\\"&gt;&lt;p&gt;Looks good! Do you use any API to scrape the information?&lt;/p&gt;\\n&lt;/div&gt;\", \"quarantine\": false, \"subreddit\": \"UsefulWebsites\", \"score_hidden\": false, \"name\": \"t1_cxmssj6\", \"created\": 1449254510.0, \"author_flair_text\": null, \"link_url\": \"http://www.airdates.tv/\", \"created_utc\": 1449225710.0, \"ups\": 1, \"mod_reports\": [], \"num_reports\": null, \"distinguished\": null}}, {\"kind\": \"t1\", \"data\": {\"subreddit_id\": \"t5_2t1b7\", \"link_title\": \"Helps you to find out what to eat tonight\", \"banned_by\": null, \"removal_reason\": null, \"link_id\": \"t3_3uuu3g\", \"link_author\": \"spilcm\", \"likes\": null, \"replies\": \"\", \"user_reports\": [], \"saved\": false, \"id\": \"cxlm9mt\", \"gilded\": 0, \"archived\": false, \"stickied\": false, \"author\": \"spilcm\", \"parent_id\": \"t1_cxiwlq9\", \"score\": 1, \"approved_by\": null, \"over_18\": false, \"report_reasons\": null, \"controversiality\": 0, \"body\": \"Sorry for that. \", \"edited\": false, \"author_flair_css_class\": null, \"downs\": 0, \"body_html\": \"&lt;div class=\\\"md\\\"&gt;&lt;p&gt;Sorry for that. &lt;/p&gt;\\n&lt;/div&gt;\", \"quarantine\": false, \"subreddit\": \"UsefulWebsites\", \"score_hidden\": false, \"name\": \"t1_cxlm9mt\", \"created\": 1449178749.0, \"author_flair_text\": null, \"link_url\": \"http://whatamigoingtoeat.com/\", \"created_utc\": 1449149949.0, \"ups\": 1, \"mod_reports\": [], \"num_reports\": null, \"distinguished\": null}}, {\"kind\": \"t1\", \"data\": {\"subreddit_id\": \"t5_2qh0y\", \"link_title\": \"Django 1.9 Released\", \"banned_by\": null, \"removal_reason\": null, \"link_id\": \"t3_3v2n4m\", \"link_author\": \"g-money-cheats\", \"likes\": null, \"replies\": \"\", \"user_reports\": [], \"saved\": false, \"id\": \"cxku2k2\", \"gilded\": 0, \"archived\": false, \"stickied\": false, \"author\": \"spilcm\", \"parent_id\": \"t3_3v2n4m\", \"score\": 1, \"approved_by\": null, \"over_18\": false, \"report_reasons\": null, \"controversiality\": 0, \"body\": \"was just starting to pick up Django again, looks like a good timing. :)\", \"edited\": false, \"author_flair_css_class\": null, \"downs\": 0, \"body_html\": \"&lt;div class=\\\"md\\\"&gt;&lt;p&gt;was just starting to pick up Django again, looks like a good timing. :)&lt;/p&gt;\\n&lt;/div&gt;\", \"quarantine\": false, \"subreddit\": \"Python\", \"score_hidden\": false, \"name\": \"t1_cxku2k2\", \"created\": 1449119135.0, \"author_flair_text\": null, \"link_url\": \"https://www.djangoproject.com/weblog/2015/dec/01/django-19-released/\", \"created_utc\": 1449090335.0, \"ups\": 1, \"mod_reports\": [], \"num_reports\": null, \"distinguished\": null}}, {\"kind\": \"t1\", \"data\": {\"subreddit_id\": \"t5_2qh1i\", \"link_title\": \"What small websites do you visit?\", \"banned_by\": null, \"removal_reason\": null, \"link_id\": \"t3_3hn0a7\", \"link_author\": \"hank_hiIl\", \"likes\": null, \"replies\": \"\", \"user_reports\": [], \"saved\": false, \"id\": \"cxhwj6q\", \"gilded\": 0, \"archived\": false, \"stickied\": false, \"author\": \"spilcm\", \"parent_id\": \"t3_3hn0a7\", \"score\": 1, \"approved_by\": null, \"over_18\": false, \"report_reasons\": null, \"controversiality\": 0, \"body\": \"http://www.whyineedajob.com/ - for finding cool gadgets\\nhttp://searchconcert.com/ - for finding available concert tickets\\nhttp://tvlistr.com/  - for TV shows thats airing today\\n\", \"edited\": false, \"author_flair_css_class\": null, \"downs\": 0, \"body_html\": \"&lt;div class=\\\"md\\\"&gt;&lt;p&gt;&lt;a href=\\\"http://www.whyineedajob.com/\\\"&gt;http://www.whyineedajob.com/&lt;/a&gt; - for finding cool gadgets\\n&lt;a href=\\\"http://searchconcert.com/\\\"&gt;http://searchconcert.com/&lt;/a&gt; - for finding available concert tickets\\n&lt;a href=\\\"http://tvlistr.com/\\\"&gt;http://tvlistr.com/&lt;/a&gt;  - for TV shows thats airing today&lt;/p&gt;\\n&lt;/div&gt;\", \"quarantine\": false, \"subreddit\": \"AskReddit\", \"score_hidden\": false, \"name\": \"t1_cxhwj6q\", \"created\": 1448922342.0, \"author_flair_text\": null, \"link_url\": \"https://www.reddit.com/r/AskReddit/comments/3hn0a7/what_small_websites_do_you_visit/\", \"created_utc\": 1448893542.0, \"ups\": 1, \"mod_reports\": [], \"num_reports\": null, \"distinguished\": null}}, {\"kind\": \"t1\", \"data\": {\"subreddit_id\": \"t5_2qh0y\", \"link_title\": \"TVlistr - TV Shows Airing Today\", \"banned_by\": null, \"removal_reason\": null, \"link_id\": \"t3_3ureqe\", \"link_author\": \"spilcm\", \"likes\": null, \"replies\": \"\", \"user_reports\": [], \"saved\": false, \"id\": \"cxhqtfp\", \"gilded\": 0, \"archived\": false, \"stickied\": false, \"author\": \"spilcm\", \"parent_id\": \"t1_cxhp98m\", \"score\": 1, \"approved_by\": null, \"over_18\": false, \"report_reasons\": null, \"controversiality\": 0, \"body\": \"Thanks. I'm using the API from TMDB.\", \"edited\": false, \"author_flair_css_class\": null, \"downs\": 0, \"body_html\": \"&lt;div class=\\\"md\\\"&gt;&lt;p&gt;Thanks. I&amp;#39;m using the API from TMDB.&lt;/p&gt;\\n&lt;/div&gt;\", \"quarantine\": false, \"subreddit\": \"Python\", \"score_hidden\": false, \"name\": \"t1_cxhqtfp\", \"created\": 1448901306.0, \"author_flair_text\": null, \"link_url\": \"http://tvlistr.com/\", \"created_utc\": 1448872506.0, \"ups\": 1, \"mod_reports\": [], \"num_reports\": null, \"distinguished\": null}}, {\"kind\": \"t1\", \"data\": {\"subreddit_id\": \"t5_31g1m\", \"link_title\": \"bashscanner: scans servers for outdated software and potential exploits.\", \"banned_by\": null, \"removal_reason\": null, \"link_id\": \"t3_3tjtyw\", \"link_author\": \"matvp91\", \"likes\": null, \"replies\": \"\", \"user_reports\": [], \"saved\": false, \"id\": \"cxcj4df\", \"gilded\": 0, \"archived\": true, \"stickied\": false, \"author\": \"spilcm\", \"parent_id\": \"t3_3tjtyw\", \"score\": 1, \"approved_by\": null, \"over_18\": false, \"report_reasons\": null, \"controversiality\": 0, \"body\": \"Pretty neat!\", \"edited\": false, \"author_flair_css_class\": null, \"downs\": 0, \"body_html\": \"&lt;div class=\\\"md\\\"&gt;&lt;p&gt;Pretty neat!&lt;/p&gt;\\n&lt;/div&gt;\", \"quarantine\": false, \"subreddit\": \"coolgithubprojects\", \"score_hidden\": false, \"name\": \"t1_cxcj4df\", \"created\": 1448486074.0, \"author_flair_text\": null, \"link_url\": \"https://github.com/PatrolServer/bashscanner\", \"created_utc\": 1448457274.0, \"ups\": 1, \"mod_reports\": [], \"num_reports\": null, \"distinguished\": null}}, {\"kind\": \"t1\", \"data\": {\"subreddit_id\": \"t5_2r8ot\", \"link_title\": \"Playing with APIs tutorial\", \"banned_by\": null, \"removal_reason\": null, \"link_id\": \"t3_3gmr3h\", \"link_author\": \"kmossco\", \"likes\": null, \"replies\": \"\", \"user_reports\": [], \"saved\": false, \"id\": \"cu1ct2j\", \"gilded\": 0, \"archived\": true, \"stickied\": false, \"author\": \"spilcm\", \"parent_id\": \"t1_ctzpl93\", \"score\": 1, \"approved_by\": null, \"over_18\": false, \"report_reasons\": null, \"controversiality\": 0, \"body\": \"Thanks jwjody, I have updated the posts to use the Requests built-in decoder instead of the JSON module. \", \"edited\": false, \"author_flair_css_class\": null, \"downs\": 0, \"body_html\": \"&lt;div class=\\\"md\\\"&gt;&lt;p&gt;Thanks jwjody, I have updated the posts to use the Requests built-in decoder instead of the JSON module. &lt;/p&gt;\\n&lt;/div&gt;\", \"quarantine\": false, \"subreddit\": \"learnpython\", \"score_hidden\": false, \"name\": \"t1_cu1ct2j\", \"created\": 1439478932.0, \"author_flair_text\": null, \"link_url\": \"https://www.reddit.com/r/learnpython/comments/3gmr3h/playing_with_apis_tutorial/\", \"created_utc\": 1439450132.0, \"ups\": 1, \"mod_reports\": [], \"num_reports\": null, \"distinguished\": null}}, {\"kind\": \"t1\", \"data\": {\"subreddit_id\": \"t5_2r8ot\", \"link_title\": \"Playing with APIs tutorial\", \"banned_by\": null, \"removal_reason\": null, \"link_id\": \"t3_3gmr3h\", \"link_author\": \"kmossco\", \"likes\": null, \"replies\": \"\", \"user_reports\": [], \"saved\": false, \"id\": \"cu0q6sh\", \"gilded\": 0, \"archived\": true, \"stickied\": false, \"author\": \"spilcm\", \"parent_id\": \"t3_3gmr3h\", \"score\": 1, \"approved_by\": null, \"over_18\": false, \"report_reasons\": null, \"controversiality\": 0, \"body\": \"Thanks for posting this. Today I added a new post on how to setup a VPS with nginx on it. (We need nginx later on to serve the Flask application.)\", \"edited\": false, \"author_flair_css_class\": null, \"downs\": 0, \"body_html\": \"&lt;div class=\\\"md\\\"&gt;&lt;p&gt;Thanks for posting this. Today I added a new post on how to setup a VPS with nginx on it. (We need nginx later on to serve the Flask application.)&lt;/p&gt;\\n&lt;/div&gt;\", \"quarantine\": false, \"subreddit\": \"learnpython\", \"score_hidden\": false, \"name\": \"t1_cu0q6sh\", \"created\": 1439436420.0, \"author_flair_text\": null, \"link_url\": \"https://www.reddit.com/r/learnpython/comments/3gmr3h/playing_with_apis_tutorial/\", \"created_utc\": 1439407620.0, \"ups\": 1, \"mod_reports\": [], \"num_reports\": null, \"distinguished\": null}}, {\"kind\": \"t1\", \"data\": {\"subreddit_id\": \"t5_2r8ot\", \"link_title\": \"Playing with APIs tutorial\", \"banned_by\": null, \"removal_reason\": null, \"link_id\": \"t3_3gmr3h\", \"link_author\": \"kmossco\", \"likes\": null, \"replies\": \"\", \"user_reports\": [], \"saved\": false, \"id\": \"cu0q0g0\", \"gilded\": 0, \"archived\": true, \"stickied\": false, \"author\": \"spilcm\", \"parent_id\": \"t1_cu0hpa7\", \"score\": 1, \"approved_by\": null, \"over_18\": false, \"report_reasons\": null, \"controversiality\": 0, \"body\": \"The Flask portion of the tutorial is on its way :)\", \"edited\": false, \"author_flair_css_class\": null, \"downs\": 0, \"body_html\": \"&lt;div class=\\\"md\\\"&gt;&lt;p&gt;The Flask portion of the tutorial is on its way :)&lt;/p&gt;\\n&lt;/div&gt;\", \"quarantine\": false, \"subreddit\": \"learnpython\", \"score_hidden\": false, \"name\": \"t1_cu0q0g0\", \"created\": 1439436174.0, \"author_flair_text\": null, \"link_url\": \"https://www.reddit.com/r/learnpython/comments/3gmr3h/playing_with_apis_tutorial/\", \"created_utc\": 1439407374.0, \"ups\": 1, \"mod_reports\": [], \"num_reports\": null, \"distinguished\": null}}, {\"kind\": \"t1\", \"data\": {\"subreddit_id\": \"t5_2r8ot\", \"link_title\": \"Need help with UnicodeDecodeError\", \"banned_by\": null, \"removal_reason\": null, \"link_id\": \"t3_3gpyho\", \"link_author\": \"[deleted]\", \"likes\": null, \"replies\": \"\", \"user_reports\": [], \"saved\": false, \"id\": \"cu0cl6s\", \"gilded\": 0, \"archived\": true, \"stickied\": false, \"author\": \"spilcm\", \"parent_id\": \"t3_3gpyho\", \"score\": 1, \"approved_by\": null, \"over_18\": false, \"report_reasons\": null, \"controversiality\": 0, \"body\": \"You could try to create a sanitize function. Something like this should do it:\\n\\ndef sanitize(str):\\n    return str.encode('ascii','ignore')\\n\", \"edited\": false, \"author_flair_css_class\": null, \"downs\": 0, \"body_html\": \"&lt;div class=\\\"md\\\"&gt;&lt;p&gt;You could try to create a sanitize function. Something like this should do it:&lt;/p&gt;\\n\\n&lt;p&gt;def sanitize(str):\\n    return str.encode(&amp;#39;ascii&amp;#39;,&amp;#39;ignore&amp;#39;)&lt;/p&gt;\\n&lt;/div&gt;\", \"quarantine\": false, \"subreddit\": \"learnpython\", \"score_hidden\": false, \"name\": \"t1_cu0cl6s\", \"created\": 1439416232.0, \"author_flair_text\": null, \"link_url\": \"https://www.reddit.com/r/learnpython/comments/3gpyho/need_help_with_unicodedecodeerror/\", \"created_utc\": 1439387432.0, \"ups\": 1, \"mod_reports\": [], \"num_reports\": null, \"distinguished\": null}}, {\"kind\": \"t1\", \"data\": {\"subreddit_id\": \"t5_2qh0y\", \"link_title\": \"How to build a website application using Python\", \"banned_by\": null, \"removal_reason\": null, \"link_id\": \"t3_3ggep9\", \"link_author\": \"spilcm\", \"likes\": null, \"replies\": \"\", \"user_reports\": [], \"saved\": false, \"id\": \"cty7s4j\", \"gilded\": 0, \"archived\": true, \"stickied\": false, \"author\": \"spilcm\", \"parent_id\": \"t1_cty7hqy\", \"score\": 5, \"approved_by\": null, \"over_18\": false, \"report_reasons\": null, \"controversiality\": 0, \"body\": \"I'm a huge fan of Django, but for this small project, I went with Flask. \", \"edited\": false, \"author_flair_css_class\": null, \"downs\": 0, \"body_html\": \"&lt;div class=\\\"md\\\"&gt;&lt;p&gt;I&amp;#39;m a huge fan of Django, but for this small project, I went with Flask. &lt;/p&gt;\\n&lt;/div&gt;\", \"quarantine\": false, \"subreddit\": \"Python\", \"score_hidden\": false, \"name\": \"t1_cty7s4j\", \"created\": 1439259737.0, \"author_flair_text\": null, \"link_url\": \"http://superduper.me/how-to-build-a-website-application-using-python/\", \"created_utc\": 1439230937.0, \"ups\": 5, \"mod_reports\": [], \"num_reports\": null, \"distinguished\": null}}, {\"kind\": \"t1\", \"data\": {\"subreddit_id\": \"t5_2r9lc\", \"link_title\": \"How are you handling security updates?\", \"banned_by\": null, \"removal_reason\": null, \"link_id\": \"t3_3ccjcz\", \"link_author\": \"joshlove\", \"likes\": null, \"replies\": \"\", \"user_reports\": [], \"saved\": false, \"id\": \"ctaqh66\", \"gilded\": 0, \"archived\": true, \"stickied\": false, \"author\": \"spilcm\", \"parent_id\": \"t1_csv0mwu\", \"score\": 1, \"approved_by\": null, \"over_18\": false, \"report_reasons\": null, \"controversiality\": 0, \"body\": \"Thanks for all the work! Is there a way to enable the function to apply patches from the UI?\\n\\n\", \"edited\": false, \"author_flair_css_class\": null, \"downs\": 0, \"body_html\": \"&lt;div class=\\\"md\\\"&gt;&lt;p&gt;Thanks for all the work! Is there a way to enable the function to apply patches from the UI?&lt;/p&gt;\\n&lt;/div&gt;\", \"quarantine\": false, \"subreddit\": \"linuxadmin\", \"score_hidden\": false, \"name\": \"t1_ctaqh66\", \"created\": 1437502949.0, \"author_flair_text\": null, \"link_url\": \"https://www.reddit.com/r/linuxadmin/comments/3ccjcz/how_are_you_handling_security_updates/\", \"created_utc\": 1437474149.0, \"ups\": 1, \"mod_reports\": [], \"num_reports\": null, \"distinguished\": null}}, {\"kind\": \"t1\", \"data\": {\"subreddit_id\": \"t5_2qh84\", \"link_title\": \"I just launched a website; a beginners guide to Amazon Web Services. I would really appreciate any feedback / comments.\", \"banned_by\": null, \"removal_reason\": null, \"link_id\": \"t3_3aygzc\", \"link_author\": \"spilcm\", \"likes\": null, \"replies\": \"\", \"user_reports\": [], \"saved\": false, \"id\": \"csigm2y\", \"gilded\": 0, \"archived\": true, \"stickied\": false, \"author\": \"spilcm\", \"parent_id\": \"t1_csh54wk\", \"score\": 1, \"approved_by\": null, \"over_18\": false, \"report_reasons\": null, \"controversiality\": 0, \"body\": \"Thanks for the feedback. I will definitely do that. \", \"edited\": false, \"author_flair_css_class\": null, \"downs\": 0, \"body_html\": \"&lt;div class=\\\"md\\\"&gt;&lt;p&gt;Thanks for the feedback. I will definitely do that. &lt;/p&gt;\\n&lt;/div&gt;\", \"quarantine\": false, \"subreddit\": \"aws\", \"score_hidden\": false, \"name\": \"t1_csigm2y\", \"created\": 1435283126.0, \"author_flair_text\": null, \"link_url\": \"http://awstartup.com/\", \"created_utc\": 1435254326.0, \"ups\": 1, \"mod_reports\": [], \"num_reports\": null, \"distinguished\": null}}, {\"kind\": \"t1\", \"data\": {\"subreddit_id\": \"t5_2qh84\", \"link_title\": \"I just launched a website; a beginners guide to Amazon Web Services. I would really appreciate any feedback / comments.\", \"banned_by\": null, \"removal_reason\": null, \"link_id\": \"t3_3aygzc\", \"link_author\": \"spilcm\", \"likes\": null, \"replies\": \"\", \"user_reports\": [], \"saved\": false, \"id\": \"cshd5xp\", \"gilded\": 0, \"archived\": true, \"stickied\": false, \"author\": \"spilcm\", \"parent_id\": \"t1_cshbxgr\", \"score\": 0, \"approved_by\": null, \"over_18\": false, \"report_reasons\": null, \"controversiality\": 0, \"body\": \"You are right. I am actually writing one, but it takes some time considering all 40+ services AWS is offering ;)\\n\", \"edited\": false, \"author_flair_css_class\": null, \"downs\": 0, \"body_html\": \"&lt;div class=\\\"md\\\"&gt;&lt;p&gt;You are right. I am actually writing one, but it takes some time considering all 40+ services AWS is offering ;)&lt;/p&gt;\\n&lt;/div&gt;\", \"quarantine\": false, \"subreddit\": \"aws\", \"score_hidden\": false, \"name\": \"t1_cshd5xp\", \"created\": 1435201034.0, \"author_flair_text\": null, \"link_url\": \"http://awstartup.com/\", \"created_utc\": 1435172234.0, \"ups\": 0, \"mod_reports\": [], \"num_reports\": null, \"distinguished\": null}}, {\"kind\": \"t1\", \"data\": {\"subreddit_id\": \"t5_2qh84\", \"link_title\": \"I just launched a website; a beginners guide to Amazon Web Services. I would really appreciate any feedback / comments.\", \"banned_by\": null, \"removal_reason\": null, \"link_id\": \"t3_3aygzc\", \"link_author\": \"spilcm\", \"likes\": null, \"replies\": \"\", \"user_reports\": [], \"saved\": false, \"id\": \"cshapwz\", \"gilded\": 0, \"archived\": true, \"stickied\": false, \"author\": \"spilcm\", \"parent_id\": \"t1_csh7tz6\", \"score\": 4, \"approved_by\": null, \"over_18\": false, \"report_reasons\": null, \"controversiality\": 0, \"body\": \"Aws provide excellent documentation and guides, but it can also be a bit overwhelming for beginners. I'll try to make it a bit clearer.\", \"edited\": false, \"author_flair_css_class\": null, \"downs\": 0, \"body_html\": \"&lt;div class=\\\"md\\\"&gt;&lt;p&gt;Aws provide excellent documentation and guides, but it can also be a bit overwhelming for beginners. I&amp;#39;ll try to make it a bit clearer.&lt;/p&gt;\\n&lt;/div&gt;\", \"quarantine\": false, \"subreddit\": \"aws\", \"score_hidden\": false, \"name\": \"t1_cshapwz\", \"created\": 1435197469.0, \"author_flair_text\": null, \"link_url\": \"http://awstartup.com/\", \"created_utc\": 1435168669.0, \"ups\": 4, \"mod_reports\": [], \"num_reports\": null, \"distinguished\": null}}, {\"kind\": \"t1\", \"data\": {\"subreddit_id\": \"t5_2rzmn\", \"link_title\": \"I just launched a new website created for people that are interested and curious about what DevOps is. I would really appreciate any feedback / comments you guys have on the website.\", \"banned_by\": null, \"removal_reason\": null, \"link_id\": \"t3_2g4p45\", \"link_author\": \"spilcm\", \"likes\": null, \"replies\": \"\", \"user_reports\": [], \"saved\": false, \"id\": \"ckg9lk4\", \"gilded\": 0, \"archived\": true, \"stickied\": false, \"author\": \"spilcm\", \"parent_id\": \"t1_ckfv7dw\", \"score\": 1, \"approved_by\": null, \"over_18\": false, \"report_reasons\": null, \"controversiality\": 0, \"body\": \"I may have a bit of a bias of python, so any suggestion of Ruby (or anything else) are \\nvery welcome. :)\", \"edited\": false, \"author_flair_css_class\": null, \"downs\": 0, \"body_html\": \"&lt;div class=\\\"md\\\"&gt;&lt;p&gt;I may have a bit of a bias of python, so any suggestion of Ruby (or anything else) are \\nvery welcome. :)&lt;/p&gt;\\n&lt;/div&gt;\", \"quarantine\": false, \"subreddit\": \"devops\", \"score_hidden\": false, \"name\": \"t1_ckg9lk4\", \"created\": 1410559047.0, \"author_flair_text\": null, \"link_url\": \"http://www.devopsforbeginners.com/\", \"created_utc\": 1410530247.0, \"ups\": 1, \"mod_reports\": [], \"num_reports\": null, \"distinguished\": null}}, {\"kind\": \"t1\", \"data\": {\"subreddit_id\": \"t5_2rzmn\", \"link_title\": \"I just launched a new website created for people that are interested and curious about what DevOps is. I would really appreciate any feedback / comments you guys have on the website.\", \"banned_by\": null, \"removal_reason\": null, \"link_id\": \"t3_2g4p45\", \"link_author\": \"spilcm\", \"likes\": null, \"replies\": \"\", \"user_reports\": [], \"saved\": false, \"id\": \"ckg9hqq\", \"gilded\": 0, \"archived\": true, \"stickied\": false, \"author\": \"spilcm\", \"parent_id\": \"t1_ckfwxsw\", \"score\": 1, \"approved_by\": null, \"over_18\": false, \"report_reasons\": null, \"controversiality\": 0, \"body\": \"Thank you!\", \"edited\": false, \"author_flair_css_class\": null, \"downs\": 0, \"body_html\": \"&lt;div class=\\\"md\\\"&gt;&lt;p&gt;Thank you!&lt;/p&gt;\\n&lt;/div&gt;\", \"quarantine\": false, \"subreddit\": \"devops\", \"score_hidden\": false, \"name\": \"t1_ckg9hqq\", \"created\": 1410558797.0, \"author_flair_text\": null, \"link_url\": \"http://www.devopsforbeginners.com/\", \"created_utc\": 1410529997.0, \"ups\": 1, \"mod_reports\": [], \"num_reports\": null, \"distinguished\": null}}, {\"kind\": \"t1\", \"data\": {\"subreddit_id\": \"t5_2rzmn\", \"link_title\": \"I just launched a new website created for people that are interested and curious about what DevOps is. I would really appreciate any feedback / comments you guys have on the website.\", \"banned_by\": null, \"removal_reason\": null, \"link_id\": \"t3_2g4p45\", \"link_author\": \"spilcm\", \"likes\": null, \"replies\": \"\", \"user_reports\": [], \"saved\": false, \"id\": \"ckg9gn9\", \"gilded\": 0, \"archived\": true, \"stickied\": false, \"author\": \"spilcm\", \"parent_id\": \"t1_ckg838l\", \"score\": 2, \"approved_by\": null, \"over_18\": false, \"report_reasons\": null, \"controversiality\": 0, \"body\": \"Thank you for your notes. \\nThe content (and the lists) are not even close to be complete. We are just getting started :) Thanks for your suggestion. (removed Bitbucket from the list. )\\n\\n\\n\", \"edited\": false, \"author_flair_css_class\": null, \"downs\": 0, \"body_html\": \"&lt;div class=\\\"md\\\"&gt;&lt;p&gt;Thank you for your notes. \\nThe content (and the lists) are not even close to be complete. We are just getting started :) Thanks for your suggestion. (removed Bitbucket from the list. )&lt;/p&gt;\\n&lt;/div&gt;\", \"quarantine\": false, \"subreddit\": \"devops\", \"score_hidden\": false, \"name\": \"t1_ckg9gn9\", \"created\": 1410558724.0, \"author_flair_text\": null, \"link_url\": \"http://www.devopsforbeginners.com/\", \"created_utc\": 1410529924.0, \"ups\": 2, \"mod_reports\": [], \"num_reports\": null, \"distinguished\": null}}, {\"kind\": \"t1\", \"data\": {\"subreddit_id\": \"t5_2rzmn\", \"link_title\": \"I just launched a new website created for people that are interested and curious about what DevOps is. I would really appreciate any feedback / comments you guys have on the website.\", \"banned_by\": null, \"removal_reason\": null, \"link_id\": \"t3_2g4p45\", \"link_author\": \"spilcm\", \"likes\": null, \"replies\": \"\", \"user_reports\": [], \"saved\": false, \"id\": \"ckfnxlu\", \"gilded\": 0, \"archived\": true, \"stickied\": false, \"author\": \"spilcm\", \"parent_id\": \"t1_ckfnepk\", \"score\": 0, \"approved_by\": null, \"over_18\": false, \"report_reasons\": null, \"controversiality\": 1, \"body\": \"Thank you for the feedback. Vagrant is an important DevOps tool to improve the overall workflow for developers and operation engineers. Our goal is to write about interesting things (tools, news etc.) related to DevOps.\", \"edited\": false, \"author_flair_css_class\": null, \"downs\": 0, \"body_html\": \"&lt;div class=\\\"md\\\"&gt;&lt;p&gt;Thank you for the feedback. Vagrant is an important DevOps tool to improve the overall workflow for developers and operation engineers. Our goal is to write about interesting things (tools, news etc.) related to DevOps.&lt;/p&gt;\\n&lt;/div&gt;\", \"quarantine\": false, \"subreddit\": \"devops\", \"score_hidden\": false, \"name\": \"t1_ckfnxlu\", \"created\": 1410497014.0, \"author_flair_text\": null, \"link_url\": \"http://www.devopsforbeginners.com/\", \"created_utc\": 1410468214.0, \"ups\": 0, \"mod_reports\": [], \"num_reports\": null, \"distinguished\": null}}, {\"kind\": \"t1\", \"data\": {\"subreddit_id\": \"t5_2qh4v\", \"link_title\": \"Fast, searchable Django documentation\", \"banned_by\": null, \"removal_reason\": null, \"link_id\": \"t3_2clzh8\", \"link_author\": \"ThibautCourouble\", \"likes\": null, \"replies\": \"\", \"user_reports\": [], \"saved\": false, \"id\": \"cjgtelt\", \"gilded\": 0, \"archived\": true, \"stickied\": false, \"author\": \"spilcm\", \"parent_id\": \"t3_2clzh8\", \"score\": 1, \"approved_by\": null, \"over_18\": false, \"report_reasons\": null, \"controversiality\": 0, \"body\": \"Pretty neat stuff!\", \"edited\": false, \"author_flair_css_class\": null, \"downs\": 0, \"body_html\": \"&lt;div class=\\\"md\\\"&gt;&lt;p&gt;Pretty neat stuff!&lt;/p&gt;\\n&lt;/div&gt;\", \"quarantine\": false, \"subreddit\": \"django\", \"score_hidden\": false, \"name\": \"t1_cjgtelt\", \"created\": 1407209690.0, \"author_flair_text\": null, \"link_url\": \"http://devdocs.io/django/\", \"created_utc\": 1407180890.0, \"ups\": 1, \"mod_reports\": [], \"num_reports\": null, \"distinguished\": null}}, {\"kind\": \"t1\", \"data\": {\"subreddit_id\": \"t5_2qh4v\", \"link_title\": \"A flexible Django CMS solution?\", \"banned_by\": null, \"removal_reason\": null, \"link_id\": \"t3_2cc36j\", \"link_author\": \"[deleted]\", \"likes\": null, \"replies\": \"\", \"user_reports\": [], \"saved\": false, \"id\": \"cjeapga\", \"gilded\": 0, \"archived\": true, \"stickied\": false, \"author\": \"spilcm\", \"parent_id\": \"t3_2cc36j\", \"score\": 6, \"approved_by\": null, \"over_18\": false, \"report_reasons\": null, \"controversiality\": 0, \"body\": \"Check out Mezzanine (http://mezzanine.jupo.org/)\", \"edited\": false, \"author_flair_css_class\": null, \"downs\": 0, \"body_html\": \"&lt;div class=\\\"md\\\"&gt;&lt;p&gt;Check out Mezzanine (&lt;a href=\\\"http://mezzanine.jupo.org/\\\"&gt;http://mezzanine.jupo.org/&lt;/a&gt;)&lt;/p&gt;\\n&lt;/div&gt;\", \"quarantine\": false, \"subreddit\": \"django\", \"score_hidden\": false, \"name\": \"t1_cjeapga\", \"created\": 1406953576.0, \"author_flair_text\": null, \"link_url\": \"https://www.reddit.com/r/django/comments/2cc36j/a_flexible_django_cms_solution/\", \"created_utc\": 1406924776.0, \"ups\": 6, \"mod_reports\": [], \"num_reports\": null, \"distinguished\": null}}, {\"kind\": \"t1\", \"data\": {\"subreddit_id\": \"t5_2qh4v\", \"link_title\": \"Send email from apache\", \"banned_by\": null, \"removal_reason\": null, \"link_id\": \"t3_28ijjd\", \"link_author\": \"husky11\", \"likes\": null, \"replies\": \"\", \"user_reports\": [], \"saved\": false, \"id\": \"cibihvk\", \"gilded\": 0, \"archived\": true, \"stickied\": false, \"author\": \"spilcm\", \"parent_id\": \"t3_28ijjd\", \"score\": 2, \"approved_by\": null, \"over_18\": false, \"report_reasons\": null, \"controversiality\": 0, \"body\": \"Try to change EMAIL_USE_TLS to True \\n\\nand then add this line:\\nDEFAULT_FROM_EMAIL = EMAIL_HOST_USER\", \"edited\": false, \"author_flair_css_class\": null, \"downs\": 0, \"body_html\": \"&lt;div class=\\\"md\\\"&gt;&lt;p&gt;Try to change EMAIL_USE_TLS to True &lt;/p&gt;\\n\\n&lt;p&gt;and then add this line:\\nDEFAULT_FROM_EMAIL = EMAIL_HOST_USER&lt;/p&gt;\\n&lt;/div&gt;\", \"quarantine\": false, \"subreddit\": \"django\", \"score_hidden\": false, \"name\": \"t1_cibihvk\", \"created\": 1403204854.0, \"author_flair_text\": null, \"link_url\": \"https://www.reddit.com/r/django/comments/28ijjd/send_email_from_apache/\", \"created_utc\": 1403176054.0, \"ups\": 2, \"mod_reports\": [], \"num_reports\": null, \"distinguished\": null}}, {\"kind\": \"t1\", \"data\": {\"subreddit_id\": \"t5_2qh0y\", \"link_title\": \"Announcing the first ever Python Indie Bundle sale!\", \"banned_by\": null, \"removal_reason\": null, \"link_id\": \"t3_1rq7xd\", \"link_author\": \"pydanny\", \"likes\": null, \"replies\": \"\", \"user_reports\": [], \"saved\": false, \"id\": \"cdr6mqv\", \"gilded\": 0, \"archived\": true, \"stickied\": false, \"author\": \"spilcm\", \"parent_id\": \"t3_1rq7xd\", \"score\": 1, \"approved_by\": null, \"over_18\": false, \"report_reasons\": null, \"controversiality\": 0, \"body\": \"I just picked up the bundle. Thanks for putting this together. \", \"edited\": false, \"author_flair_css_class\": null, \"downs\": 0, \"body_html\": \"&lt;div class=\\\"md\\\"&gt;&lt;p&gt;I just picked up the bundle. Thanks for putting this together. &lt;/p&gt;\\n&lt;/div&gt;\", \"quarantine\": false, \"subreddit\": \"Python\", \"score_hidden\": false, \"name\": \"t1_cdr6mqv\", \"created\": 1385962384.0, \"author_flair_text\": null, \"link_url\": \"http://www.pythonindiebundle.com/\", \"created_utc\": 1385933584.0, \"ups\": 1, \"mod_reports\": [], \"num_reports\": null, \"distinguished\": null}}], \"after\": \"t1_cdr6mqv\", \"before\": null}}\n"
     ]
    }
   ],
   "source": [
    "# This doesnt quite work as reddit blocks bots (sic!)\n",
    "r = requests.get(r'http://www.reddit.com/user/spilcm/comments/.json').content\n",
    "\n",
    "print r\n",
    "\n",
    "# x = urllib2.urlopen(\"http://www.reddit.com\") # Opens URLS\n",
    "# htmlSource = x.read()\n",
    "# x.close()\n",
    "# print htmlSource"
   ]
  },
  {
   "cell_type": "raw",
   "metadata": {
    "collapsed": false
   },
   "source": [
    "### prettify()\n",
    "\n",
    "Beautiful Soup gives us a `BeautifulSoup` object, which represents the document as a nested data structure. We can use the `prettify()` function to show the different levels of the HTML code. "
   ]
  },
  {
   "cell_type": "code",
   "execution_count": 12,
   "metadata": {
    "collapsed": false
   },
   "outputs": [
    {
     "name": "stdout",
     "output_type": "stream",
     "text": [
      "<html>\n",
      " <body>\n",
      "  <p>\n",
      "   {\"kind\": \"Listing\", \"data\": {\"modhash\": \"\", \"children\": [{\"kind\": \"t1\", \"data\": {\"subreddit_id\": \"t5_2t1b7\", \"link_title\": \"howcarworks.com - learn all about how cars work\", \"banned_by\": null, \"removal_reason\": null, \"link_id\": \"t3_3wjyyc\", \"link_author\": \"cosmicservant\", \"likes\": null, \"replies\": \"\", \"user_reports\": [], \"saved\": false, \"id\": \"cxz0xn4\", \"gilded\": 0, \"archived\": false, \"stickied\": false, \"author\": \"spilcm\", \"parent_id\": \"t3_3wjyyc\", \"score\": 1, \"approved_by\": null, \"over_18\": false, \"report_reasons\": null, \"controversiality\": 0, \"body\": \"This great for a novice like me :)\", \"edited\": false, \"author_flair_css_class\": null, \"downs\": 0, \"body_html\": \"&lt;div class=\\\"md\\\"&gt;&lt;p&gt;This great for a novice like me :)&lt;/p&gt;\\n&lt;/div&gt;\", \"quarantine\": false, \"subreddit\": \"UsefulWebsites\", \"score_hidden\": false, \"name\": \"t1_cxz0xn4\", \"created\": 1450153738.0, \"author_flair_text\": null, \"link_url\": \"http://www.howacarworks.com\", \"created_utc\": 1450124938.0, \"ups\": 1, \"mod_reports\": [], \"num_reports\": null, \"distinguished\": null}}, {\"kind\": \"t1\", \"data\": {\"subreddit_id\": \"t5_2qh0y\", \"link_title\": \"Pythonapi collects API / wrappers.\", \"banned_by\": null, \"removal_reason\": null, \"link_id\": \"t3_3v73ib\", \"link_author\": \"spilcm\", \"likes\": null, \"replies\": \"\", \"user_reports\": [], \"saved\": false, \"id\": \"cxz0us6\", \"gilded\": 0, \"archived\": false, \"stickied\": false, \"author\": \"spilcm\", \"parent_id\": \"t1_cxok2hy\", \"score\": 1, \"approved_by\": null, \"over_18\": false, \"report_reasons\": null, \"controversiality\": 0, \"body\": \"Updated! \", \"edited\": false, \"author_flair_css_class\": null, \"downs\": 0, \"body_html\": \"&lt;div class=\\\"md\\\"&gt;&lt;p&gt;Updated! &lt;/p&gt;\\n&lt;/div&gt;\", \"quarantine\": false, \"subreddit\": \"Python\", \"score_hidden\": false, \"name\": \"t1_cxz0us6\", \"created\": 1450153612.0, \"author_flair_text\": null, \"link_url\": \"http://www.pythonapi.com/\", \"created_utc\": 1450124812.0, \"ups\": 1, \"mod_reports\": [], \"num_reports\": null, \"distinguished\": null}}, {\"kind\": \"t1\", \"data\": {\"subreddit_id\": \"t5_2t1b7\", \"link_title\": \"Original Air Dates Of TV Shows\", \"banned_by\": null, \"removal_reason\": null, \"link_id\": \"t3_3o07p3\", \"link_author\": \"JustBlue\", \"likes\": null, \"replies\": \"\", \"user_reports\": [], \"saved\": false, \"id\": \"cxmssj6\", \"gilded\": 0, \"archived\": false, \"stickied\": false, \"author\": \"spilcm\", \"parent_id\": \"t3_3o07p3\", \"score\": 1, \"approved_by\": null, \"over_18\": false, \"report_reasons\": null, \"controversiality\": 0, \"body\": \"Looks good! Do you use any API to scrape the information?\", \"edited\": false, \"author_flair_css_class\": null, \"downs\": 0, \"body_html\": \"&lt;div class=\\\"md\\\"&gt;&lt;p&gt;Looks good! Do you use any API to scrape the information?&lt;/p&gt;\\n&lt;/div&gt;\", \"quarantine\": false, \"subreddit\": \"UsefulWebsites\", \"score_hidden\": false, \"name\": \"t1_cxmssj6\", \"created\": 1449254510.0, \"author_flair_text\": null, \"link_url\": \"http://www.airdates.tv/\", \"created_utc\": 1449225710.0, \"ups\": 1, \"mod_reports\": [], \"num_reports\": null, \"distinguished\": null}}, {\"kind\": \"t1\", \"data\": {\"subreddit_id\": \"t5_2t1b7\", \"link_title\": \"Helps you to find out what to eat tonight\", \"banned_by\": null, \"removal_reason\": null, \"link_id\": \"t3_3uuu3g\", \"link_author\": \"spilcm\", \"likes\": null, \"replies\": \"\", \"user_reports\": [], \"saved\": false, \"id\": \"cxlm9mt\", \"gilded\": 0, \"archived\": false, \"stickied\": false, \"author\": \"spilcm\", \"parent_id\": \"t1_cxiwlq9\", \"score\": 1, \"approved_by\": null, \"over_18\": false, \"report_reasons\": null, \"controversiality\": 0, \"body\": \"Sorry for that. \", \"edited\": false, \"author_flair_css_class\": null, \"downs\": 0, \"body_html\": \"&lt;div class=\\\"md\\\"&gt;&lt;p&gt;Sorry for that. &lt;/p&gt;\\n&lt;/div&gt;\", \"quarantine\": false, \"subreddit\": \"UsefulWebsites\", \"score_hidden\": false, \"name\": \"t1_cxlm9mt\", \"created\": 1449178749.0, \"author_flair_text\": null, \"link_url\": \"http://whatamigoingtoeat.com/\", \"created_utc\": 1449149949.0, \"ups\": 1, \"mod_reports\": [], \"num_reports\": null, \"distinguished\": null}}, {\"kind\": \"t1\", \"data\": {\"subreddit_id\": \"t5_2qh0y\", \"link_title\": \"Django 1.9 Released\", \"banned_by\": null, \"removal_reason\": null, \"link_id\": \"t3_3v2n4m\", \"link_author\": \"g-money-cheats\", \"likes\": null, \"replies\": \"\", \"user_reports\": [], \"saved\": false, \"id\": \"cxku2k2\", \"gilded\": 0, \"archived\": false, \"stickied\": false, \"author\": \"spilcm\", \"parent_id\": \"t3_3v2n4m\", \"score\": 1, \"approved_by\": null, \"over_18\": false, \"report_reasons\": null, \"controversiality\": 0, \"body\": \"was just starting to pick up Django again, looks like a good timing. :)\", \"edited\": false, \"author_flair_css_class\": null, \"downs\": 0, \"body_html\": \"&lt;div class=\\\"md\\\"&gt;&lt;p&gt;was just starting to pick up Django again, looks like a good timing. :)&lt;/p&gt;\\n&lt;/div&gt;\", \"quarantine\": false, \"subreddit\": \"Python\", \"score_hidden\": false, \"name\": \"t1_cxku2k2\", \"created\": 1449119135.0, \"author_flair_text\": null, \"link_url\": \"https://www.djangoproject.com/weblog/2015/dec/01/django-19-released/\", \"created_utc\": 1449090335.0, \"ups\": 1, \"mod_reports\": [], \"num_reports\": null, \"distinguished\": null}}, {\"kind\": \"t1\", \"data\": {\"subreddit_id\": \"t5_2qh1i\", \"link_title\": \"What small websites do you visit?\", \"banned_by\": null, \"removal_reason\": null, \"link_id\": \"t3_3hn0a7\", \"link_author\": \"hank_hiIl\", \"likes\": null, \"replies\": \"\", \"user_reports\": [], \"saved\": false, \"id\": \"cxhwj6q\", \"gilded\": 0, \"archived\": false, \"stickied\": false, \"author\": \"spilcm\", \"parent_id\": \"t3_3hn0a7\", \"score\": 1, \"approved_by\": null, \"over_18\": false, \"report_reasons\": null, \"controversiality\": 0, \"body\": \"http://www.whyineedajob.com/ - for finding cool gadgets\\nhttp://searchconcert.com/ - for finding available concert tickets\\nhttp://tvlistr.com/  - for TV shows thats airing today\\n\", \"edited\": false, \"author_flair_css_class\": null, \"downs\": 0, \"body_html\": \"&lt;div class=\\\"md\\\"&gt;&lt;p&gt;&lt;a href=\\\"http://www.whyineedajob.com/\\\"&gt;http://www.whyineedajob.com/&lt;/a&gt; - for finding cool gadgets\\n&lt;a href=\\\"http://searchconcert.com/\\\"&gt;http://searchconcert.com/&lt;/a&gt; - for finding available concert tickets\\n&lt;a href=\\\"http://tvlistr.com/\\\"&gt;http://tvlistr.com/&lt;/a&gt;  - for TV shows thats airing today&lt;/p&gt;\\n&lt;/div&gt;\", \"quarantine\": false, \"subreddit\": \"AskReddit\", \"score_hidden\": false, \"name\": \"t1_cxhwj6q\", \"created\": 1448922342.0, \"author_flair_text\": null, \"link_url\": \"https://www.reddit.com/r/AskReddit/comments/3hn0a7/what_small_websites_do_you_visit/\", \"created_utc\": 1448893542.0, \"ups\": 1, \"mod_reports\": [], \"num_reports\": null, \"distinguished\": null}}, {\"kind\": \"t1\", \"data\": {\"subreddit_id\": \"t5_2qh0y\", \"link_title\": \"TVlistr - TV Shows Airing Today\", \"banned_by\": null, \"removal_reason\": null, \"link_id\": \"t3_3ureqe\", \"link_author\": \"spilcm\", \"likes\": null, \"replies\": \"\", \"user_reports\": [], \"saved\": false, \"id\": \"cxhqtfp\", \"gilded\": 0, \"archived\": false, \"stickied\": false, \"author\": \"spilcm\", \"parent_id\": \"t1_cxhp98m\", \"score\": 1, \"approved_by\": null, \"over_18\": false, \"report_reasons\": null, \"controversiality\": 0, \"body\": \"Thanks. I'm using the API from TMDB.\", \"edited\": false, \"author_flair_css_class\": null, \"downs\": 0, \"body_html\": \"&lt;div class=\\\"md\\\"&gt;&lt;p&gt;Thanks. I&amp;#39;m using the API from TMDB.&lt;/p&gt;\\n&lt;/div&gt;\", \"quarantine\": false, \"subreddit\": \"Python\", \"score_hidden\": false, \"name\": \"t1_cxhqtfp\", \"created\": 1448901306.0, \"author_flair_text\": null, \"link_url\": \"http://tvlistr.com/\", \"created_utc\": 1448872506.0, \"ups\": 1, \"mod_reports\": [], \"num_reports\": null, \"distinguished\": null}}, {\"kind\": \"t1\", \"data\": {\"subreddit_id\": \"t5_31g1m\", \"link_title\": \"bashscanner: scans servers for outdated software and potential exploits.\", \"banned_by\": null, \"removal_reason\": null, \"link_id\": \"t3_3tjtyw\", \"link_author\": \"matvp91\", \"likes\": null, \"replies\": \"\", \"user_reports\": [], \"saved\": false, \"id\": \"cxcj4df\", \"gilded\": 0, \"archived\": true, \"stickied\": false, \"author\": \"spilcm\", \"parent_id\": \"t3_3tjtyw\", \"score\": 1, \"approved_by\": null, \"over_18\": false, \"report_reasons\": null, \"controversiality\": 0, \"body\": \"Pretty neat!\", \"edited\": false, \"author_flair_css_class\": null, \"downs\": 0, \"body_html\": \"&lt;div class=\\\"md\\\"&gt;&lt;p&gt;Pretty neat!&lt;/p&gt;\\n&lt;/div&gt;\", \"quarantine\": false, \"subreddit\": \"coolgithubprojects\", \"score_hidden\": false, \"name\": \"t1_cxcj4df\", \"created\": 1448486074.0, \"author_flair_text\": null, \"link_url\": \"https://github.com/PatrolServer/bashscanner\", \"created_utc\": 1448457274.0, \"ups\": 1, \"mod_reports\": [], \"num_reports\": null, \"distinguished\": null}}, {\"kind\": \"t1\", \"data\": {\"subreddit_id\": \"t5_2r8ot\", \"link_title\": \"Playing with APIs tutorial\", \"banned_by\": null, \"removal_reason\": null, \"link_id\": \"t3_3gmr3h\", \"link_author\": \"kmossco\", \"likes\": null, \"replies\": \"\", \"user_reports\": [], \"saved\": false, \"id\": \"cu1ct2j\", \"gilded\": 0, \"archived\": true, \"stickied\": false, \"author\": \"spilcm\", \"parent_id\": \"t1_ctzpl93\", \"score\": 1, \"approved_by\": null, \"over_18\": false, \"report_reasons\": null, \"controversiality\": 0, \"body\": \"Thanks jwjody, I have updated the posts to use the Requests built-in decoder instead of the JSON module. \", \"edited\": false, \"author_flair_css_class\": null, \"downs\": 0, \"body_html\": \"&lt;div class=\\\"md\\\"&gt;&lt;p&gt;Thanks jwjody, I have updated the posts to use the Requests built-in decoder instead of the JSON module. &lt;/p&gt;\\n&lt;/div&gt;\", \"quarantine\": false, \"subreddit\": \"learnpython\", \"score_hidden\": false, \"name\": \"t1_cu1ct2j\", \"created\": 1439478932.0, \"author_flair_text\": null, \"link_url\": \"https://www.reddit.com/r/learnpython/comments/3gmr3h/playing_with_apis_tutorial/\", \"created_utc\": 1439450132.0, \"ups\": 1, \"mod_reports\": [], \"num_reports\": null, \"distinguished\": null}}, {\"kind\": \"t1\", \"data\": {\"subreddit_id\": \"t5_2r8ot\", \"link_title\": \"Playing with APIs tutorial\", \"banned_by\": null, \"removal_reason\": null, \"link_id\": \"t3_3gmr3h\", \"link_author\": \"kmossco\", \"likes\": null, \"replies\": \"\", \"user_reports\": [], \"saved\": false, \"id\": \"cu0q6sh\", \"gilded\": 0, \"archived\": true, \"stickied\": false, \"author\": \"spilcm\", \"parent_id\": \"t3_3gmr3h\", \"score\": 1, \"approved_by\": null, \"over_18\": false, \"report_reasons\": null, \"controversiality\": 0, \"body\": \"Thanks for posting this. Today I added a new post on how to setup a VPS with nginx on it. (We need nginx later on to serve the Flask application.)\", \"edited\": false, \"author_flair_css_class\": null, \"downs\": 0, \"body_html\": \"&lt;div class=\\\"md\\\"&gt;&lt;p&gt;Thanks for posting this. Today I added a new post on how to setup a VPS with nginx on it. (We need nginx later on to serve the Flask application.)&lt;/p&gt;\\n&lt;/div&gt;\", \"quarantine\": false, \"subreddit\": \"learnpython\", \"score_hidden\": false, \"name\": \"t1_cu0q6sh\", \"created\": 1439436420.0, \"author_flair_text\": null, \"link_url\": \"https://www.reddit.com/r/learnpython/comments/3gmr3h/playing_with_apis_tutorial/\", \"created_utc\": 1439407620.0, \"ups\": 1, \"mod_reports\": [], \"num_reports\": null, \"distinguished\": null}}, {\"kind\": \"t1\", \"data\": {\"subreddit_id\": \"t5_2r8ot\", \"link_title\": \"Playing with APIs tutorial\", \"banned_by\": null, \"removal_reason\": null, \"link_id\": \"t3_3gmr3h\", \"link_author\": \"kmossco\", \"likes\": null, \"replies\": \"\", \"user_reports\": [], \"saved\": false, \"id\": \"cu0q0g0\", \"gilded\": 0, \"archived\": true, \"stickied\": false, \"author\": \"spilcm\", \"parent_id\": \"t1_cu0hpa7\", \"score\": 1, \"approved_by\": null, \"over_18\": false, \"report_reasons\": null, \"controversiality\": 0, \"body\": \"The Flask portion of the tutorial is on its way :)\", \"edited\": false, \"author_flair_css_class\": null, \"downs\": 0, \"body_html\": \"&lt;div class=\\\"md\\\"&gt;&lt;p&gt;The Flask portion of the tutorial is on its way :)&lt;/p&gt;\\n&lt;/div&gt;\", \"quarantine\": false, \"subreddit\": \"learnpython\", \"score_hidden\": false, \"name\": \"t1_cu0q0g0\", \"created\": 1439436174.0, \"author_flair_text\": null, \"link_url\": \"https://www.reddit.com/r/learnpython/comments/3gmr3h/playing_with_apis_tutorial/\", \"created_utc\": 1439407374.0, \"ups\": 1, \"mod_reports\": [], \"num_reports\": null, \"distinguished\": null}}, {\"kind\": \"t1\", \"data\": {\"subreddit_id\": \"t5_2r8ot\", \"link_title\": \"Need help with UnicodeDecodeError\", \"banned_by\": null, \"removal_reason\": null, \"link_id\": \"t3_3gpyho\", \"link_author\": \"[deleted]\", \"likes\": null, \"replies\": \"\", \"user_reports\": [], \"saved\": false, \"id\": \"cu0cl6s\", \"gilded\": 0, \"archived\": true, \"stickied\": false, \"author\": \"spilcm\", \"parent_id\": \"t3_3gpyho\", \"score\": 1, \"approved_by\": null, \"over_18\": false, \"report_reasons\": null, \"controversiality\": 0, \"body\": \"You could try to create a sanitize function. Something like this should do it:\\n\\ndef sanitize(str):\\n    return str.encode('ascii','ignore')\\n\", \"edited\": false, \"author_flair_css_class\": null, \"downs\": 0, \"body_html\": \"&lt;div class=\\\"md\\\"&gt;&lt;p&gt;You could try to create a sanitize function. Something like this should do it:&lt;/p&gt;\\n\\n&lt;p&gt;def sanitize(str):\\n    return str.encode(&amp;#39;ascii&amp;#39;,&amp;#39;ignore&amp;#39;)&lt;/p&gt;\\n&lt;/div&gt;\", \"quarantine\": false, \"subreddit\": \"learnpython\", \"score_hidden\": false, \"name\": \"t1_cu0cl6s\", \"created\": 1439416232.0, \"author_flair_text\": null, \"link_url\": \"https://www.reddit.com/r/learnpython/comments/3gpyho/need_help_with_unicodedecodeerror/\", \"created_utc\": 1439387432.0, \"ups\": 1, \"mod_reports\": [], \"num_reports\": null, \"distinguished\": null}}, {\"kind\": \"t1\", \"data\": {\"subreddit_id\": \"t5_2qh0y\", \"link_title\": \"How to build a website application using Python\", \"banned_by\": null, \"removal_reason\": null, \"link_id\": \"t3_3ggep9\", \"link_author\": \"spilcm\", \"likes\": null, \"replies\": \"\", \"user_reports\": [], \"saved\": false, \"id\": \"cty7s4j\", \"gilded\": 0, \"archived\": true, \"stickied\": false, \"author\": \"spilcm\", \"parent_id\": \"t1_cty7hqy\", \"score\": 5, \"approved_by\": null, \"over_18\": false, \"report_reasons\": null, \"controversiality\": 0, \"body\": \"I'm a huge fan of Django, but for this small project, I went with Flask. \", \"edited\": false, \"author_flair_css_class\": null, \"downs\": 0, \"body_html\": \"&lt;div class=\\\"md\\\"&gt;&lt;p&gt;I&amp;#39;m a huge fan of Django, but for this small project, I went with Flask. &lt;/p&gt;\\n&lt;/div&gt;\", \"quarantine\": false, \"subreddit\": \"Python\", \"score_hidden\": false, \"name\": \"t1_cty7s4j\", \"created\": 1439259737.0, \"author_flair_text\": null, \"link_url\": \"http://superduper.me/how-to-build-a-website-application-using-python/\", \"created_utc\": 1439230937.0, \"ups\": 5, \"mod_reports\": [], \"num_reports\": null, \"distinguished\": null}}, {\"kind\": \"t1\", \"data\": {\"subreddit_id\": \"t5_2r9lc\", \"link_title\": \"How are you handling security updates?\", \"banned_by\": null, \"removal_reason\": null, \"link_id\": \"t3_3ccjcz\", \"link_author\": \"joshlove\", \"likes\": null, \"replies\": \"\", \"user_reports\": [], \"saved\": false, \"id\": \"ctaqh66\", \"gilded\": 0, \"archived\": true, \"stickied\": false, \"author\": \"spilcm\", \"parent_id\": \"t1_csv0mwu\", \"score\": 1, \"approved_by\": null, \"over_18\": false, \"report_reasons\": null, \"controversiality\": 0, \"body\": \"Thanks for all the work! Is there a way to enable the function to apply patches from the UI?\\n\\n\", \"edited\": false, \"author_flair_css_class\": null, \"downs\": 0, \"body_html\": \"&lt;div class=\\\"md\\\"&gt;&lt;p&gt;Thanks for all the work! Is there a way to enable the function to apply patches from the UI?&lt;/p&gt;\\n&lt;/div&gt;\", \"quarantine\": false, \"subreddit\": \"linuxadmin\", \"score_hidden\": false, \"name\": \"t1_ctaqh66\", \"created\": 1437502949.0, \"author_flair_text\": null, \"link_url\": \"https://www.reddit.com/r/linuxadmin/comments/3ccjcz/how_are_you_handling_security_updates/\", \"created_utc\": 1437474149.0, \"ups\": 1, \"mod_reports\": [], \"num_reports\": null, \"distinguished\": null}}, {\"kind\": \"t1\", \"data\": {\"subreddit_id\": \"t5_2qh84\", \"link_title\": \"I just launched a website; a beginners guide to Amazon Web Services. I would really appreciate any feedback / comments.\", \"banned_by\": null, \"removal_reason\": null, \"link_id\": \"t3_3aygzc\", \"link_author\": \"spilcm\", \"likes\": null, \"replies\": \"\", \"user_reports\": [], \"saved\": false, \"id\": \"csigm2y\", \"gilded\": 0, \"archived\": true, \"stickied\": false, \"author\": \"spilcm\", \"parent_id\": \"t1_csh54wk\", \"score\": 1, \"approved_by\": null, \"over_18\": false, \"report_reasons\": null, \"controversiality\": 0, \"body\": \"Thanks for the feedback. I will definitely do that. \", \"edited\": false, \"author_flair_css_class\": null, \"downs\": 0, \"body_html\": \"&lt;div class=\\\"md\\\"&gt;&lt;p&gt;Thanks for the feedback. I will definitely do that. &lt;/p&gt;\\n&lt;/div&gt;\", \"quarantine\": false, \"subreddit\": \"aws\", \"score_hidden\": false, \"name\": \"t1_csigm2y\", \"created\": 1435283126.0, \"author_flair_text\": null, \"link_url\": \"http://awstartup.com/\", \"created_utc\": 1435254326.0, \"ups\": 1, \"mod_reports\": [], \"num_reports\": null, \"distinguished\": null}}, {\"kind\": \"t1\", \"data\": {\"subreddit_id\": \"t5_2qh84\", \"link_title\": \"I just launched a website; a beginners guide to Amazon Web Services. I would really appreciate any feedback / comments.\", \"banned_by\": null, \"removal_reason\": null, \"link_id\": \"t3_3aygzc\", \"link_author\": \"spilcm\", \"likes\": null, \"replies\": \"\", \"user_reports\": [], \"saved\": false, \"id\": \"cshd5xp\", \"gilded\": 0, \"archived\": true, \"stickied\": false, \"author\": \"spilcm\", \"parent_id\": \"t1_cshbxgr\", \"score\": 0, \"approved_by\": null, \"over_18\": false, \"report_reasons\": null, \"controversiality\": 0, \"body\": \"You are right. I am actually writing one, but it takes some time considering all 40+ services AWS is offering ;)\\n\", \"edited\": false, \"author_flair_css_class\": null, \"downs\": 0, \"body_html\": \"&lt;div class=\\\"md\\\"&gt;&lt;p&gt;You are right. I am actually writing one, but it takes some time considering all 40+ services AWS is offering ;)&lt;/p&gt;\\n&lt;/div&gt;\", \"quarantine\": false, \"subreddit\": \"aws\", \"score_hidden\": false, \"name\": \"t1_cshd5xp\", \"created\": 1435201034.0, \"author_flair_text\": null, \"link_url\": \"http://awstartup.com/\", \"created_utc\": 1435172234.0, \"ups\": 0, \"mod_reports\": [], \"num_reports\": null, \"distinguished\": null}}, {\"kind\": \"t1\", \"data\": {\"subreddit_id\": \"t5_2qh84\", \"link_title\": \"I just launched a website; a beginners guide to Amazon Web Services. I would really appreciate any feedback / comments.\", \"banned_by\": null, \"removal_reason\": null, \"link_id\": \"t3_3aygzc\", \"link_author\": \"spilcm\", \"likes\": null, \"replies\": \"\", \"user_reports\": [], \"saved\": false, \"id\": \"cshapwz\", \"gilded\": 0, \"archived\": true, \"stickied\": false, \"author\": \"spilcm\", \"parent_id\": \"t1_csh7tz6\", \"score\": 4, \"approved_by\": null, \"over_18\": false, \"report_reasons\": null, \"controversiality\": 0, \"body\": \"Aws provide excellent documentation and guides, but it can also be a bit overwhelming for beginners. I'll try to make it a bit clearer.\", \"edited\": false, \"author_flair_css_class\": null, \"downs\": 0, \"body_html\": \"&lt;div class=\\\"md\\\"&gt;&lt;p&gt;Aws provide excellent documentation and guides, but it can also be a bit overwhelming for beginners. I&amp;#39;ll try to make it a bit clearer.&lt;/p&gt;\\n&lt;/div&gt;\", \"quarantine\": false, \"subreddit\": \"aws\", \"score_hidden\": false, \"name\": \"t1_cshapwz\", \"created\": 1435197469.0, \"author_flair_text\": null, \"link_url\": \"http://awstartup.com/\", \"created_utc\": 1435168669.0, \"ups\": 4, \"mod_reports\": [], \"num_reports\": null, \"distinguished\": null}}, {\"kind\": \"t1\", \"data\": {\"subreddit_id\": \"t5_2rzmn\", \"link_title\": \"I just launched a new website created for people that are interested and curious about what DevOps is. I would really appreciate any feedback / comments you guys have on the website.\", \"banned_by\": null, \"removal_reason\": null, \"link_id\": \"t3_2g4p45\", \"link_author\": \"spilcm\", \"likes\": null, \"replies\": \"\", \"user_reports\": [], \"saved\": false, \"id\": \"ckg9lk4\", \"gilded\": 0, \"archived\": true, \"stickied\": false, \"author\": \"spilcm\", \"parent_id\": \"t1_ckfv7dw\", \"score\": 1, \"approved_by\": null, \"over_18\": false, \"report_reasons\": null, \"controversiality\": 0, \"body\": \"I may have a bit of a bias of python, so any suggestion of Ruby (or anything else) are \\nvery welcome. :)\", \"edited\": false, \"author_flair_css_class\": null, \"downs\": 0, \"body_html\": \"&lt;div class=\\\"md\\\"&gt;&lt;p&gt;I may have a bit of a bias of python, so any suggestion of Ruby (or anything else) are \\nvery welcome. :)&lt;/p&gt;\\n&lt;/div&gt;\", \"quarantine\": false, \"subreddit\": \"devops\", \"score_hidden\": false, \"name\": \"t1_ckg9lk4\", \"created\": 1410559047.0, \"author_flair_text\": null, \"link_url\": \"http://www.devopsforbeginners.com/\", \"created_utc\": 1410530247.0, \"ups\": 1, \"mod_reports\": [], \"num_reports\": null, \"distinguished\": null}}, {\"kind\": \"t1\", \"data\": {\"subreddit_id\": \"t5_2rzmn\", \"link_title\": \"I just launched a new website created for people that are interested and curious about what DevOps is. I would really appreciate any feedback / comments you guys have on the website.\", \"banned_by\": null, \"removal_reason\": null, \"link_id\": \"t3_2g4p45\", \"link_author\": \"spilcm\", \"likes\": null, \"replies\": \"\", \"user_reports\": [], \"saved\": false, \"id\": \"ckg9hqq\", \"gilded\": 0, \"archived\": true, \"stickied\": false, \"author\": \"spilcm\", \"parent_id\": \"t1_ckfwxsw\", \"score\": 1, \"approved_by\": null, \"over_18\": false, \"report_reasons\": null, \"controversiality\": 0, \"body\": \"Thank you!\", \"edited\": false, \"author_flair_css_class\": null, \"downs\": 0, \"body_html\": \"&lt;div class=\\\"md\\\"&gt;&lt;p&gt;Thank you!&lt;/p&gt;\\n&lt;/div&gt;\", \"quarantine\": false, \"subreddit\": \"devops\", \"score_hidden\": false, \"name\": \"t1_ckg9hqq\", \"created\": 1410558797.0, \"author_flair_text\": null, \"link_url\": \"http://www.devopsforbeginners.com/\", \"created_utc\": 1410529997.0, \"ups\": 1, \"mod_reports\": [], \"num_reports\": null, \"distinguished\": null}}, {\"kind\": \"t1\", \"data\": {\"subreddit_id\": \"t5_2rzmn\", \"link_title\": \"I just launched a new website created for people that are interested and curious about what DevOps is. I would really appreciate any feedback / comments you guys have on the website.\", \"banned_by\": null, \"removal_reason\": null, \"link_id\": \"t3_2g4p45\", \"link_author\": \"spilcm\", \"likes\": null, \"replies\": \"\", \"user_reports\": [], \"saved\": false, \"id\": \"ckg9gn9\", \"gilded\": 0, \"archived\": true, \"stickied\": false, \"author\": \"spilcm\", \"parent_id\": \"t1_ckg838l\", \"score\": 2, \"approved_by\": null, \"over_18\": false, \"report_reasons\": null, \"controversiality\": 0, \"body\": \"Thank you for your notes. \\nThe content (and the lists) are not even close to be complete. We are just getting started :) Thanks for your suggestion. (removed Bitbucket from the list. )\\n\\n\\n\", \"edited\": false, \"author_flair_css_class\": null, \"downs\": 0, \"body_html\": \"&lt;div class=\\\"md\\\"&gt;&lt;p&gt;Thank you for your notes. \\nThe content (and the lists) are not even close to be complete. We are just getting started :) Thanks for your suggestion. (removed Bitbucket from the list. )&lt;/p&gt;\\n&lt;/div&gt;\", \"quarantine\": false, \"subreddit\": \"devops\", \"score_hidden\": false, \"name\": \"t1_ckg9gn9\", \"created\": 1410558724.0, \"author_flair_text\": null, \"link_url\": \"http://www.devopsforbeginners.com/\", \"created_utc\": 1410529924.0, \"ups\": 2, \"mod_reports\": [], \"num_reports\": null, \"distinguished\": null}}, {\"kind\": \"t1\", \"data\": {\"subreddit_id\": \"t5_2rzmn\", \"link_title\": \"I just launched a new website created for people that are interested and curious about what DevOps is. I would really appreciate any feedback / comments you guys have on the website.\", \"banned_by\": null, \"removal_reason\": null, \"link_id\": \"t3_2g4p45\", \"link_author\": \"spilcm\", \"likes\": null, \"replies\": \"\", \"user_reports\": [], \"saved\": false, \"id\": \"ckfnxlu\", \"gilded\": 0, \"archived\": true, \"stickied\": false, \"author\": \"spilcm\", \"parent_id\": \"t1_ckfnepk\", \"score\": 0, \"approved_by\": null, \"over_18\": false, \"report_reasons\": null, \"controversiality\": 1, \"body\": \"Thank you for the feedback. Vagrant is an important DevOps tool to improve the overall workflow for developers and operation engineers. Our goal is to write about interesting things (tools, news etc.) related to DevOps.\", \"edited\": false, \"author_flair_css_class\": null, \"downs\": 0, \"body_html\": \"&lt;div class=\\\"md\\\"&gt;&lt;p&gt;Thank you for the feedback. Vagrant is an important DevOps tool to improve the overall workflow for developers and operation engineers. Our goal is to write about interesting things (tools, news etc.) related to DevOps.&lt;/p&gt;\\n&lt;/div&gt;\", \"quarantine\": false, \"subreddit\": \"devops\", \"score_hidden\": false, \"name\": \"t1_ckfnxlu\", \"created\": 1410497014.0, \"author_flair_text\": null, \"link_url\": \"http://www.devopsforbeginners.com/\", \"created_utc\": 1410468214.0, \"ups\": 0, \"mod_reports\": [], \"num_reports\": null, \"distinguished\": null}}, {\"kind\": \"t1\", \"data\": {\"subreddit_id\": \"t5_2qh4v\", \"link_title\": \"Fast, searchable Django documentation\", \"banned_by\": null, \"removal_reason\": null, \"link_id\": \"t3_2clzh8\", \"link_author\": \"ThibautCourouble\", \"likes\": null, \"replies\": \"\", \"user_reports\": [], \"saved\": false, \"id\": \"cjgtelt\", \"gilded\": 0, \"archived\": true, \"stickied\": false, \"author\": \"spilcm\", \"parent_id\": \"t3_2clzh8\", \"score\": 1, \"approved_by\": null, \"over_18\": false, \"report_reasons\": null, \"controversiality\": 0, \"body\": \"Pretty neat stuff!\", \"edited\": false, \"author_flair_css_class\": null, \"downs\": 0, \"body_html\": \"&lt;div class=\\\"md\\\"&gt;&lt;p&gt;Pretty neat stuff!&lt;/p&gt;\\n&lt;/div&gt;\", \"quarantine\": false, \"subreddit\": \"django\", \"score_hidden\": false, \"name\": \"t1_cjgtelt\", \"created\": 1407209690.0, \"author_flair_text\": null, \"link_url\": \"http://devdocs.io/django/\", \"created_utc\": 1407180890.0, \"ups\": 1, \"mod_reports\": [], \"num_reports\": null, \"distinguished\": null}}, {\"kind\": \"t1\", \"data\": {\"subreddit_id\": \"t5_2qh4v\", \"link_title\": \"A flexible Django CMS solution?\", \"banned_by\": null, \"removal_reason\": null, \"link_id\": \"t3_2cc36j\", \"link_author\": \"[deleted]\", \"likes\": null, \"replies\": \"\", \"user_reports\": [], \"saved\": false, \"id\": \"cjeapga\", \"gilded\": 0, \"archived\": true, \"stickied\": false, \"author\": \"spilcm\", \"parent_id\": \"t3_2cc36j\", \"score\": 6, \"approved_by\": null, \"over_18\": false, \"report_reasons\": null, \"controversiality\": 0, \"body\": \"Check out Mezzanine (http://mezzanine.jupo.org/)\", \"edited\": false, \"author_flair_css_class\": null, \"downs\": 0, \"body_html\": \"&lt;div class=\\\"md\\\"&gt;&lt;p&gt;Check out Mezzanine (&lt;a href=\\\"http://mezzanine.jupo.org/\\\"&gt;http://mezzanine.jupo.org/&lt;/a&gt;)&lt;/p&gt;\\n&lt;/div&gt;\", \"quarantine\": false, \"subreddit\": \"django\", \"score_hidden\": false, \"name\": \"t1_cjeapga\", \"created\": 1406953576.0, \"author_flair_text\": null, \"link_url\": \"https://www.reddit.com/r/django/comments/2cc36j/a_flexible_django_cms_solution/\", \"created_utc\": 1406924776.0, \"ups\": 6, \"mod_reports\": [], \"num_reports\": null, \"distinguished\": null}}, {\"kind\": \"t1\", \"data\": {\"subreddit_id\": \"t5_2qh4v\", \"link_title\": \"Send email from apache\", \"banned_by\": null, \"removal_reason\": null, \"link_id\": \"t3_28ijjd\", \"link_author\": \"husky11\", \"likes\": null, \"replies\": \"\", \"user_reports\": [], \"saved\": false, \"id\": \"cibihvk\", \"gilded\": 0, \"archived\": true, \"stickied\": false, \"author\": \"spilcm\", \"parent_id\": \"t3_28ijjd\", \"score\": 2, \"approved_by\": null, \"over_18\": false, \"report_reasons\": null, \"controversiality\": 0, \"body\": \"Try to change EMAIL_USE_TLS to True \\n\\nand then add this line:\\nDEFAULT_FROM_EMAIL = EMAIL_HOST_USER\", \"edited\": false, \"author_flair_css_class\": null, \"downs\": 0, \"body_html\": \"&lt;div class=\\\"md\\\"&gt;&lt;p&gt;Try to change EMAIL_USE_TLS to True &lt;/p&gt;\\n\\n&lt;p&gt;and then add this line:\\nDEFAULT_FROM_EMAIL = EMAIL_HOST_USER&lt;/p&gt;\\n&lt;/div&gt;\", \"quarantine\": false, \"subreddit\": \"django\", \"score_hidden\": false, \"name\": \"t1_cibihvk\", \"created\": 1403204854.0, \"author_flair_text\": null, \"link_url\": \"https://www.reddit.com/r/django/comments/28ijjd/send_email_from_apache/\", \"created_utc\": 1403176054.0, \"ups\": 2, \"mod_reports\": [], \"num_reports\": null, \"distinguished\": null}}, {\"kind\": \"t1\", \"data\": {\"subreddit_id\": \"t5_2qh0y\", \"link_title\": \"Announcing the first ever Python Indie Bundle sale!\", \"banned_by\": null, \"removal_reason\": null, \"link_id\": \"t3_1rq7xd\", \"link_author\": \"pydanny\", \"likes\": null, \"replies\": \"\", \"user_reports\": [], \"saved\": false, \"id\": \"cdr6mqv\", \"gilded\": 0, \"archived\": true, \"stickied\": false, \"author\": \"spilcm\", \"parent_id\": \"t3_1rq7xd\", \"score\": 1, \"approved_by\": null, \"over_18\": false, \"report_reasons\": null, \"controversiality\": 0, \"body\": \"I just picked up the bundle. Thanks for putting this together. \", \"edited\": false, \"author_flair_css_class\": null, \"downs\": 0, \"body_html\": \"&lt;div class=\\\"md\\\"&gt;&lt;p&gt;I just picked up the bundle. Thanks for putting this together. &lt;/p&gt;\\n&lt;/div&gt;\", \"quarantine\": false, \"subreddit\": \"Python\", \"score_hidden\": false, \"name\": \"t1_cdr6mqv\", \"created\": 1385962384.0, \"author_flair_text\": null, \"link_url\": \"http://www.pythonindiebundle.com/\", \"created_utc\": 1385933584.0, \"ups\": 1, \"mod_reports\": [], \"num_reports\": null, \"distinguished\": null}}], \"after\": \"t1_cdr6mqv\", \"before\": null}}\n",
      "  </p>\n",
      " </body>\n",
      "</html>\n"
     ]
    }
   ],
   "source": [
    "soup = bs4.BeautifulSoup(r, 'lxml')\n",
    "print soup.prettify()"
   ]
  },
  {
   "cell_type": "markdown",
   "metadata": {},
   "source": [
    "### Navigating the tree using tags\n",
    "\n",
    "The simplest way to navigate the parse tree is to say the name of the tag you want. If you want the `<head>` tag, just say `soup.head`:"
   ]
  },
  {
   "cell_type": "code",
   "execution_count": 19,
   "metadata": {
    "collapsed": false
   },
   "outputs": [
    {
     "name": "stdout",
     "output_type": "stream",
     "text": [
      "<body>\n",
      " <p>\n",
      "  {\"kind\": \"Listing\", \"data\": {\"modhash\": \"\", \"children\": [{\"kind\": \"t1\", \"data\": {\"subreddit_id\": \"t5_2t1b7\", \"link_title\": \"howcarworks.com - learn all about how cars work\", \"banned_by\": null, \"removal_reason\": null, \"link_id\": \"t3_3wjyyc\", \"link_author\": \"cosmicservant\", \"likes\": null, \"replies\": \"\", \"user_reports\": [], \"saved\": false, \"id\": \"cxz0xn4\", \"gilded\": 0, \"archived\": false, \"stickied\": false, \"author\": \"spilcm\", \"parent_id\": \"t3_3wjyyc\", \"score\": 1, \"approved_by\": null, \"over_18\": false, \"report_reasons\": null, \"controversiality\": 0, \"body\": \"This great for a novice like me :)\", \"edited\": false, \"author_flair_css_class\": null, \"downs\": 0, \"body_html\": \"&lt;div class=\\\"md\\\"&gt;&lt;p&gt;This great for a novice like me :)&lt;/p&gt;\\n&lt;/div&gt;\", \"quarantine\": false, \"subreddit\": \"UsefulWebsites\", \"score_hidden\": false, \"name\": \"t1_cxz0xn4\", \"created\": 1450153738.0, \"author_flair_text\": null, \"link_url\": \"http://www.howacarworks.com\", \"created_utc\": 1450124938.0, \"ups\": 1, \"mod_reports\": [], \"num_reports\": null, \"distinguished\": null}}, {\"kind\": \"t1\", \"data\": {\"subreddit_id\": \"t5_2qh0y\", \"link_title\": \"Pythonapi collects API / wrappers.\", \"banned_by\": null, \"removal_reason\": null, \"link_id\": \"t3_3v73ib\", \"link_author\": \"spilcm\", \"likes\": null, \"replies\": \"\", \"user_reports\": [], \"saved\": false, \"id\": \"cxz0us6\", \"gilded\": 0, \"archived\": false, \"stickied\": false, \"author\": \"spilcm\", \"parent_id\": \"t1_cxok2hy\", \"score\": 1, \"approved_by\": null, \"over_18\": false, \"report_reasons\": null, \"controversiality\": 0, \"body\": \"Updated! \", \"edited\": false, \"author_flair_css_class\": null, \"downs\": 0, \"body_html\": \"&lt;div class=\\\"md\\\"&gt;&lt;p&gt;Updated! &lt;/p&gt;\\n&lt;/div&gt;\", \"quarantine\": false, \"subreddit\": \"Python\", \"score_hidden\": false, \"name\": \"t1_cxz0us6\", \"created\": 1450153612.0, \"author_flair_text\": null, \"link_url\": \"http://www.pythonapi.com/\", \"created_utc\": 1450124812.0, \"ups\": 1, \"mod_reports\": [], \"num_reports\": null, \"distinguished\": null}}, {\"kind\": \"t1\", \"data\": {\"subreddit_id\": \"t5_2t1b7\", \"link_title\": \"Original Air Dates Of TV Shows\", \"banned_by\": null, \"removal_reason\": null, \"link_id\": \"t3_3o07p3\", \"link_author\": \"JustBlue\", \"likes\": null, \"replies\": \"\", \"user_reports\": [], \"saved\": false, \"id\": \"cxmssj6\", \"gilded\": 0, \"archived\": false, \"stickied\": false, \"author\": \"spilcm\", \"parent_id\": \"t3_3o07p3\", \"score\": 1, \"approved_by\": null, \"over_18\": false, \"report_reasons\": null, \"controversiality\": 0, \"body\": \"Looks good! Do you use any API to scrape the information?\", \"edited\": false, \"author_flair_css_class\": null, \"downs\": 0, \"body_html\": \"&lt;div class=\\\"md\\\"&gt;&lt;p&gt;Looks good! Do you use any API to scrape the information?&lt;/p&gt;\\n&lt;/div&gt;\", \"quarantine\": false, \"subreddit\": \"UsefulWebsites\", \"score_hidden\": false, \"name\": \"t1_cxmssj6\", \"created\": 1449254510.0, \"author_flair_text\": null, \"link_url\": \"http://www.airdates.tv/\", \"created_utc\": 1449225710.0, \"ups\": 1, \"mod_reports\": [], \"num_reports\": null, \"distinguished\": null}}, {\"kind\": \"t1\", \"data\": {\"subreddit_id\": \"t5_2t1b7\", \"link_title\": \"Helps you to find out what to eat tonight\", \"banned_by\": null, \"removal_reason\": null, \"link_id\": \"t3_3uuu3g\", \"link_author\": \"spilcm\", \"likes\": null, \"replies\": \"\", \"user_reports\": [], \"saved\": false, \"id\": \"cxlm9mt\", \"gilded\": 0, \"archived\": false, \"stickied\": false, \"author\": \"spilcm\", \"parent_id\": \"t1_cxiwlq9\", \"score\": 1, \"approved_by\": null, \"over_18\": false, \"report_reasons\": null, \"controversiality\": 0, \"body\": \"Sorry for that. \", \"edited\": false, \"author_flair_css_class\": null, \"downs\": 0, \"body_html\": \"&lt;div class=\\\"md\\\"&gt;&lt;p&gt;Sorry for that. &lt;/p&gt;\\n&lt;/div&gt;\", \"quarantine\": false, \"subreddit\": \"UsefulWebsites\", \"score_hidden\": false, \"name\": \"t1_cxlm9mt\", \"created\": 1449178749.0, \"author_flair_text\": null, \"link_url\": \"http://whatamigoingtoeat.com/\", \"created_utc\": 1449149949.0, \"ups\": 1, \"mod_reports\": [], \"num_reports\": null, \"distinguished\": null}}, {\"kind\": \"t1\", \"data\": {\"subreddit_id\": \"t5_2qh0y\", \"link_title\": \"Django 1.9 Released\", \"banned_by\": null, \"removal_reason\": null, \"link_id\": \"t3_3v2n4m\", \"link_author\": \"g-money-cheats\", \"likes\": null, \"replies\": \"\", \"user_reports\": [], \"saved\": false, \"id\": \"cxku2k2\", \"gilded\": 0, \"archived\": false, \"stickied\": false, \"author\": \"spilcm\", \"parent_id\": \"t3_3v2n4m\", \"score\": 1, \"approved_by\": null, \"over_18\": false, \"report_reasons\": null, \"controversiality\": 0, \"body\": \"was just starting to pick up Django again, looks like a good timing. :)\", \"edited\": false, \"author_flair_css_class\": null, \"downs\": 0, \"body_html\": \"&lt;div class=\\\"md\\\"&gt;&lt;p&gt;was just starting to pick up Django again, looks like a good timing. :)&lt;/p&gt;\\n&lt;/div&gt;\", \"quarantine\": false, \"subreddit\": \"Python\", \"score_hidden\": false, \"name\": \"t1_cxku2k2\", \"created\": 1449119135.0, \"author_flair_text\": null, \"link_url\": \"https://www.djangoproject.com/weblog/2015/dec/01/django-19-released/\", \"created_utc\": 1449090335.0, \"ups\": 1, \"mod_reports\": [], \"num_reports\": null, \"distinguished\": null}}, {\"kind\": \"t1\", \"data\": {\"subreddit_id\": \"t5_2qh1i\", \"link_title\": \"What small websites do you visit?\", \"banned_by\": null, \"removal_reason\": null, \"link_id\": \"t3_3hn0a7\", \"link_author\": \"hank_hiIl\", \"likes\": null, \"replies\": \"\", \"user_reports\": [], \"saved\": false, \"id\": \"cxhwj6q\", \"gilded\": 0, \"archived\": false, \"stickied\": false, \"author\": \"spilcm\", \"parent_id\": \"t3_3hn0a7\", \"score\": 1, \"approved_by\": null, \"over_18\": false, \"report_reasons\": null, \"controversiality\": 0, \"body\": \"http://www.whyineedajob.com/ - for finding cool gadgets\\nhttp://searchconcert.com/ - for finding available concert tickets\\nhttp://tvlistr.com/  - for TV shows thats airing today\\n\", \"edited\": false, \"author_flair_css_class\": null, \"downs\": 0, \"body_html\": \"&lt;div class=\\\"md\\\"&gt;&lt;p&gt;&lt;a href=\\\"http://www.whyineedajob.com/\\\"&gt;http://www.whyineedajob.com/&lt;/a&gt; - for finding cool gadgets\\n&lt;a href=\\\"http://searchconcert.com/\\\"&gt;http://searchconcert.com/&lt;/a&gt; - for finding available concert tickets\\n&lt;a href=\\\"http://tvlistr.com/\\\"&gt;http://tvlistr.com/&lt;/a&gt;  - for TV shows thats airing today&lt;/p&gt;\\n&lt;/div&gt;\", \"quarantine\": false, \"subreddit\": \"AskReddit\", \"score_hidden\": false, \"name\": \"t1_cxhwj6q\", \"created\": 1448922342.0, \"author_flair_text\": null, \"link_url\": \"https://www.reddit.com/r/AskReddit/comments/3hn0a7/what_small_websites_do_you_visit/\", \"created_utc\": 1448893542.0, \"ups\": 1, \"mod_reports\": [], \"num_reports\": null, \"distinguished\": null}}, {\"kind\": \"t1\", \"data\": {\"subreddit_id\": \"t5_2qh0y\", \"link_title\": \"TVlistr - TV Shows Airing Today\", \"banned_by\": null, \"removal_reason\": null, \"link_id\": \"t3_3ureqe\", \"link_author\": \"spilcm\", \"likes\": null, \"replies\": \"\", \"user_reports\": [], \"saved\": false, \"id\": \"cxhqtfp\", \"gilded\": 0, \"archived\": false, \"stickied\": false, \"author\": \"spilcm\", \"parent_id\": \"t1_cxhp98m\", \"score\": 1, \"approved_by\": null, \"over_18\": false, \"report_reasons\": null, \"controversiality\": 0, \"body\": \"Thanks. I'm using the API from TMDB.\", \"edited\": false, \"author_flair_css_class\": null, \"downs\": 0, \"body_html\": \"&lt;div class=\\\"md\\\"&gt;&lt;p&gt;Thanks. I&amp;#39;m using the API from TMDB.&lt;/p&gt;\\n&lt;/div&gt;\", \"quarantine\": false, \"subreddit\": \"Python\", \"score_hidden\": false, \"name\": \"t1_cxhqtfp\", \"created\": 1448901306.0, \"author_flair_text\": null, \"link_url\": \"http://tvlistr.com/\", \"created_utc\": 1448872506.0, \"ups\": 1, \"mod_reports\": [], \"num_reports\": null, \"distinguished\": null}}, {\"kind\": \"t1\", \"data\": {\"subreddit_id\": \"t5_31g1m\", \"link_title\": \"bashscanner: scans servers for outdated software and potential exploits.\", \"banned_by\": null, \"removal_reason\": null, \"link_id\": \"t3_3tjtyw\", \"link_author\": \"matvp91\", \"likes\": null, \"replies\": \"\", \"user_reports\": [], \"saved\": false, \"id\": \"cxcj4df\", \"gilded\": 0, \"archived\": true, \"stickied\": false, \"author\": \"spilcm\", \"parent_id\": \"t3_3tjtyw\", \"score\": 1, \"approved_by\": null, \"over_18\": false, \"report_reasons\": null, \"controversiality\": 0, \"body\": \"Pretty neat!\", \"edited\": false, \"author_flair_css_class\": null, \"downs\": 0, \"body_html\": \"&lt;div class=\\\"md\\\"&gt;&lt;p&gt;Pretty neat!&lt;/p&gt;\\n&lt;/div&gt;\", \"quarantine\": false, \"subreddit\": \"coolgithubprojects\", \"score_hidden\": false, \"name\": \"t1_cxcj4df\", \"created\": 1448486074.0, \"author_flair_text\": null, \"link_url\": \"https://github.com/PatrolServer/bashscanner\", \"created_utc\": 1448457274.0, \"ups\": 1, \"mod_reports\": [], \"num_reports\": null, \"distinguished\": null}}, {\"kind\": \"t1\", \"data\": {\"subreddit_id\": \"t5_2r8ot\", \"link_title\": \"Playing with APIs tutorial\", \"banned_by\": null, \"removal_reason\": null, \"link_id\": \"t3_3gmr3h\", \"link_author\": \"kmossco\", \"likes\": null, \"replies\": \"\", \"user_reports\": [], \"saved\": false, \"id\": \"cu1ct2j\", \"gilded\": 0, \"archived\": true, \"stickied\": false, \"author\": \"spilcm\", \"parent_id\": \"t1_ctzpl93\", \"score\": 1, \"approved_by\": null, \"over_18\": false, \"report_reasons\": null, \"controversiality\": 0, \"body\": \"Thanks jwjody, I have updated the posts to use the Requests built-in decoder instead of the JSON module. \", \"edited\": false, \"author_flair_css_class\": null, \"downs\": 0, \"body_html\": \"&lt;div class=\\\"md\\\"&gt;&lt;p&gt;Thanks jwjody, I have updated the posts to use the Requests built-in decoder instead of the JSON module. &lt;/p&gt;\\n&lt;/div&gt;\", \"quarantine\": false, \"subreddit\": \"learnpython\", \"score_hidden\": false, \"name\": \"t1_cu1ct2j\", \"created\": 1439478932.0, \"author_flair_text\": null, \"link_url\": \"https://www.reddit.com/r/learnpython/comments/3gmr3h/playing_with_apis_tutorial/\", \"created_utc\": 1439450132.0, \"ups\": 1, \"mod_reports\": [], \"num_reports\": null, \"distinguished\": null}}, {\"kind\": \"t1\", \"data\": {\"subreddit_id\": \"t5_2r8ot\", \"link_title\": \"Playing with APIs tutorial\", \"banned_by\": null, \"removal_reason\": null, \"link_id\": \"t3_3gmr3h\", \"link_author\": \"kmossco\", \"likes\": null, \"replies\": \"\", \"user_reports\": [], \"saved\": false, \"id\": \"cu0q6sh\", \"gilded\": 0, \"archived\": true, \"stickied\": false, \"author\": \"spilcm\", \"parent_id\": \"t3_3gmr3h\", \"score\": 1, \"approved_by\": null, \"over_18\": false, \"report_reasons\": null, \"controversiality\": 0, \"body\": \"Thanks for posting this. Today I added a new post on how to setup a VPS with nginx on it. (We need nginx later on to serve the Flask application.)\", \"edited\": false, \"author_flair_css_class\": null, \"downs\": 0, \"body_html\": \"&lt;div class=\\\"md\\\"&gt;&lt;p&gt;Thanks for posting this. Today I added a new post on how to setup a VPS with nginx on it. (We need nginx later on to serve the Flask application.)&lt;/p&gt;\\n&lt;/div&gt;\", \"quarantine\": false, \"subreddit\": \"learnpython\", \"score_hidden\": false, \"name\": \"t1_cu0q6sh\", \"created\": 1439436420.0, \"author_flair_text\": null, \"link_url\": \"https://www.reddit.com/r/learnpython/comments/3gmr3h/playing_with_apis_tutorial/\", \"created_utc\": 1439407620.0, \"ups\": 1, \"mod_reports\": [], \"num_reports\": null, \"distinguished\": null}}, {\"kind\": \"t1\", \"data\": {\"subreddit_id\": \"t5_2r8ot\", \"link_title\": \"Playing with APIs tutorial\", \"banned_by\": null, \"removal_reason\": null, \"link_id\": \"t3_3gmr3h\", \"link_author\": \"kmossco\", \"likes\": null, \"replies\": \"\", \"user_reports\": [], \"saved\": false, \"id\": \"cu0q0g0\", \"gilded\": 0, \"archived\": true, \"stickied\": false, \"author\": \"spilcm\", \"parent_id\": \"t1_cu0hpa7\", \"score\": 1, \"approved_by\": null, \"over_18\": false, \"report_reasons\": null, \"controversiality\": 0, \"body\": \"The Flask portion of the tutorial is on its way :)\", \"edited\": false, \"author_flair_css_class\": null, \"downs\": 0, \"body_html\": \"&lt;div class=\\\"md\\\"&gt;&lt;p&gt;The Flask portion of the tutorial is on its way :)&lt;/p&gt;\\n&lt;/div&gt;\", \"quarantine\": false, \"subreddit\": \"learnpython\", \"score_hidden\": false, \"name\": \"t1_cu0q0g0\", \"created\": 1439436174.0, \"author_flair_text\": null, \"link_url\": \"https://www.reddit.com/r/learnpython/comments/3gmr3h/playing_with_apis_tutorial/\", \"created_utc\": 1439407374.0, \"ups\": 1, \"mod_reports\": [], \"num_reports\": null, \"distinguished\": null}}, {\"kind\": \"t1\", \"data\": {\"subreddit_id\": \"t5_2r8ot\", \"link_title\": \"Need help with UnicodeDecodeError\", \"banned_by\": null, \"removal_reason\": null, \"link_id\": \"t3_3gpyho\", \"link_author\": \"[deleted]\", \"likes\": null, \"replies\": \"\", \"user_reports\": [], \"saved\": false, \"id\": \"cu0cl6s\", \"gilded\": 0, \"archived\": true, \"stickied\": false, \"author\": \"spilcm\", \"parent_id\": \"t3_3gpyho\", \"score\": 1, \"approved_by\": null, \"over_18\": false, \"report_reasons\": null, \"controversiality\": 0, \"body\": \"You could try to create a sanitize function. Something like this should do it:\\n\\ndef sanitize(str):\\n    return str.encode('ascii','ignore')\\n\", \"edited\": false, \"author_flair_css_class\": null, \"downs\": 0, \"body_html\": \"&lt;div class=\\\"md\\\"&gt;&lt;p&gt;You could try to create a sanitize function. Something like this should do it:&lt;/p&gt;\\n\\n&lt;p&gt;def sanitize(str):\\n    return str.encode(&amp;#39;ascii&amp;#39;,&amp;#39;ignore&amp;#39;)&lt;/p&gt;\\n&lt;/div&gt;\", \"quarantine\": false, \"subreddit\": \"learnpython\", \"score_hidden\": false, \"name\": \"t1_cu0cl6s\", \"created\": 1439416232.0, \"author_flair_text\": null, \"link_url\": \"https://www.reddit.com/r/learnpython/comments/3gpyho/need_help_with_unicodedecodeerror/\", \"created_utc\": 1439387432.0, \"ups\": 1, \"mod_reports\": [], \"num_reports\": null, \"distinguished\": null}}, {\"kind\": \"t1\", \"data\": {\"subreddit_id\": \"t5_2qh0y\", \"link_title\": \"How to build a website application using Python\", \"banned_by\": null, \"removal_reason\": null, \"link_id\": \"t3_3ggep9\", \"link_author\": \"spilcm\", \"likes\": null, \"replies\": \"\", \"user_reports\": [], \"saved\": false, \"id\": \"cty7s4j\", \"gilded\": 0, \"archived\": true, \"stickied\": false, \"author\": \"spilcm\", \"parent_id\": \"t1_cty7hqy\", \"score\": 5, \"approved_by\": null, \"over_18\": false, \"report_reasons\": null, \"controversiality\": 0, \"body\": \"I'm a huge fan of Django, but for this small project, I went with Flask. \", \"edited\": false, \"author_flair_css_class\": null, \"downs\": 0, \"body_html\": \"&lt;div class=\\\"md\\\"&gt;&lt;p&gt;I&amp;#39;m a huge fan of Django, but for this small project, I went with Flask. &lt;/p&gt;\\n&lt;/div&gt;\", \"quarantine\": false, \"subreddit\": \"Python\", \"score_hidden\": false, \"name\": \"t1_cty7s4j\", \"created\": 1439259737.0, \"author_flair_text\": null, \"link_url\": \"http://superduper.me/how-to-build-a-website-application-using-python/\", \"created_utc\": 1439230937.0, \"ups\": 5, \"mod_reports\": [], \"num_reports\": null, \"distinguished\": null}}, {\"kind\": \"t1\", \"data\": {\"subreddit_id\": \"t5_2r9lc\", \"link_title\": \"How are you handling security updates?\", \"banned_by\": null, \"removal_reason\": null, \"link_id\": \"t3_3ccjcz\", \"link_author\": \"joshlove\", \"likes\": null, \"replies\": \"\", \"user_reports\": [], \"saved\": false, \"id\": \"ctaqh66\", \"gilded\": 0, \"archived\": true, \"stickied\": false, \"author\": \"spilcm\", \"parent_id\": \"t1_csv0mwu\", \"score\": 1, \"approved_by\": null, \"over_18\": false, \"report_reasons\": null, \"controversiality\": 0, \"body\": \"Thanks for all the work! Is there a way to enable the function to apply patches from the UI?\\n\\n\", \"edited\": false, \"author_flair_css_class\": null, \"downs\": 0, \"body_html\": \"&lt;div class=\\\"md\\\"&gt;&lt;p&gt;Thanks for all the work! Is there a way to enable the function to apply patches from the UI?&lt;/p&gt;\\n&lt;/div&gt;\", \"quarantine\": false, \"subreddit\": \"linuxadmin\", \"score_hidden\": false, \"name\": \"t1_ctaqh66\", \"created\": 1437502949.0, \"author_flair_text\": null, \"link_url\": \"https://www.reddit.com/r/linuxadmin/comments/3ccjcz/how_are_you_handling_security_updates/\", \"created_utc\": 1437474149.0, \"ups\": 1, \"mod_reports\": [], \"num_reports\": null, \"distinguished\": null}}, {\"kind\": \"t1\", \"data\": {\"subreddit_id\": \"t5_2qh84\", \"link_title\": \"I just launched a website; a beginners guide to Amazon Web Services. I would really appreciate any feedback / comments.\", \"banned_by\": null, \"removal_reason\": null, \"link_id\": \"t3_3aygzc\", \"link_author\": \"spilcm\", \"likes\": null, \"replies\": \"\", \"user_reports\": [], \"saved\": false, \"id\": \"csigm2y\", \"gilded\": 0, \"archived\": true, \"stickied\": false, \"author\": \"spilcm\", \"parent_id\": \"t1_csh54wk\", \"score\": 1, \"approved_by\": null, \"over_18\": false, \"report_reasons\": null, \"controversiality\": 0, \"body\": \"Thanks for the feedback. I will definitely do that. \", \"edited\": false, \"author_flair_css_class\": null, \"downs\": 0, \"body_html\": \"&lt;div class=\\\"md\\\"&gt;&lt;p&gt;Thanks for the feedback. I will definitely do that. &lt;/p&gt;\\n&lt;/div&gt;\", \"quarantine\": false, \"subreddit\": \"aws\", \"score_hidden\": false, \"name\": \"t1_csigm2y\", \"created\": 1435283126.0, \"author_flair_text\": null, \"link_url\": \"http://awstartup.com/\", \"created_utc\": 1435254326.0, \"ups\": 1, \"mod_reports\": [], \"num_reports\": null, \"distinguished\": null}}, {\"kind\": \"t1\", \"data\": {\"subreddit_id\": \"t5_2qh84\", \"link_title\": \"I just launched a website; a beginners guide to Amazon Web Services. I would really appreciate any feedback / comments.\", \"banned_by\": null, \"removal_reason\": null, \"link_id\": \"t3_3aygzc\", \"link_author\": \"spilcm\", \"likes\": null, \"replies\": \"\", \"user_reports\": [], \"saved\": false, \"id\": \"cshd5xp\", \"gilded\": 0, \"archived\": true, \"stickied\": false, \"author\": \"spilcm\", \"parent_id\": \"t1_cshbxgr\", \"score\": 0, \"approved_by\": null, \"over_18\": false, \"report_reasons\": null, \"controversiality\": 0, \"body\": \"You are right. I am actually writing one, but it takes some time considering all 40+ services AWS is offering ;)\\n\", \"edited\": false, \"author_flair_css_class\": null, \"downs\": 0, \"body_html\": \"&lt;div class=\\\"md\\\"&gt;&lt;p&gt;You are right. I am actually writing one, but it takes some time considering all 40+ services AWS is offering ;)&lt;/p&gt;\\n&lt;/div&gt;\", \"quarantine\": false, \"subreddit\": \"aws\", \"score_hidden\": false, \"name\": \"t1_cshd5xp\", \"created\": 1435201034.0, \"author_flair_text\": null, \"link_url\": \"http://awstartup.com/\", \"created_utc\": 1435172234.0, \"ups\": 0, \"mod_reports\": [], \"num_reports\": null, \"distinguished\": null}}, {\"kind\": \"t1\", \"data\": {\"subreddit_id\": \"t5_2qh84\", \"link_title\": \"I just launched a website; a beginners guide to Amazon Web Services. I would really appreciate any feedback / comments.\", \"banned_by\": null, \"removal_reason\": null, \"link_id\": \"t3_3aygzc\", \"link_author\": \"spilcm\", \"likes\": null, \"replies\": \"\", \"user_reports\": [], \"saved\": false, \"id\": \"cshapwz\", \"gilded\": 0, \"archived\": true, \"stickied\": false, \"author\": \"spilcm\", \"parent_id\": \"t1_csh7tz6\", \"score\": 4, \"approved_by\": null, \"over_18\": false, \"report_reasons\": null, \"controversiality\": 0, \"body\": \"Aws provide excellent documentation and guides, but it can also be a bit overwhelming for beginners. I'll try to make it a bit clearer.\", \"edited\": false, \"author_flair_css_class\": null, \"downs\": 0, \"body_html\": \"&lt;div class=\\\"md\\\"&gt;&lt;p&gt;Aws provide excellent documentation and guides, but it can also be a bit overwhelming for beginners. I&amp;#39;ll try to make it a bit clearer.&lt;/p&gt;\\n&lt;/div&gt;\", \"quarantine\": false, \"subreddit\": \"aws\", \"score_hidden\": false, \"name\": \"t1_cshapwz\", \"created\": 1435197469.0, \"author_flair_text\": null, \"link_url\": \"http://awstartup.com/\", \"created_utc\": 1435168669.0, \"ups\": 4, \"mod_reports\": [], \"num_reports\": null, \"distinguished\": null}}, {\"kind\": \"t1\", \"data\": {\"subreddit_id\": \"t5_2rzmn\", \"link_title\": \"I just launched a new website created for people that are interested and curious about what DevOps is. I would really appreciate any feedback / comments you guys have on the website.\", \"banned_by\": null, \"removal_reason\": null, \"link_id\": \"t3_2g4p45\", \"link_author\": \"spilcm\", \"likes\": null, \"replies\": \"\", \"user_reports\": [], \"saved\": false, \"id\": \"ckg9lk4\", \"gilded\": 0, \"archived\": true, \"stickied\": false, \"author\": \"spilcm\", \"parent_id\": \"t1_ckfv7dw\", \"score\": 1, \"approved_by\": null, \"over_18\": false, \"report_reasons\": null, \"controversiality\": 0, \"body\": \"I may have a bit of a bias of python, so any suggestion of Ruby (or anything else) are \\nvery welcome. :)\", \"edited\": false, \"author_flair_css_class\": null, \"downs\": 0, \"body_html\": \"&lt;div class=\\\"md\\\"&gt;&lt;p&gt;I may have a bit of a bias of python, so any suggestion of Ruby (or anything else) are \\nvery welcome. :)&lt;/p&gt;\\n&lt;/div&gt;\", \"quarantine\": false, \"subreddit\": \"devops\", \"score_hidden\": false, \"name\": \"t1_ckg9lk4\", \"created\": 1410559047.0, \"author_flair_text\": null, \"link_url\": \"http://www.devopsforbeginners.com/\", \"created_utc\": 1410530247.0, \"ups\": 1, \"mod_reports\": [], \"num_reports\": null, \"distinguished\": null}}, {\"kind\": \"t1\", \"data\": {\"subreddit_id\": \"t5_2rzmn\", \"link_title\": \"I just launched a new website created for people that are interested and curious about what DevOps is. I would really appreciate any feedback / comments you guys have on the website.\", \"banned_by\": null, \"removal_reason\": null, \"link_id\": \"t3_2g4p45\", \"link_author\": \"spilcm\", \"likes\": null, \"replies\": \"\", \"user_reports\": [], \"saved\": false, \"id\": \"ckg9hqq\", \"gilded\": 0, \"archived\": true, \"stickied\": false, \"author\": \"spilcm\", \"parent_id\": \"t1_ckfwxsw\", \"score\": 1, \"approved_by\": null, \"over_18\": false, \"report_reasons\": null, \"controversiality\": 0, \"body\": \"Thank you!\", \"edited\": false, \"author_flair_css_class\": null, \"downs\": 0, \"body_html\": \"&lt;div class=\\\"md\\\"&gt;&lt;p&gt;Thank you!&lt;/p&gt;\\n&lt;/div&gt;\", \"quarantine\": false, \"subreddit\": \"devops\", \"score_hidden\": false, \"name\": \"t1_ckg9hqq\", \"created\": 1410558797.0, \"author_flair_text\": null, \"link_url\": \"http://www.devopsforbeginners.com/\", \"created_utc\": 1410529997.0, \"ups\": 1, \"mod_reports\": [], \"num_reports\": null, \"distinguished\": null}}, {\"kind\": \"t1\", \"data\": {\"subreddit_id\": \"t5_2rzmn\", \"link_title\": \"I just launched a new website created for people that are interested and curious about what DevOps is. I would really appreciate any feedback / comments you guys have on the website.\", \"banned_by\": null, \"removal_reason\": null, \"link_id\": \"t3_2g4p45\", \"link_author\": \"spilcm\", \"likes\": null, \"replies\": \"\", \"user_reports\": [], \"saved\": false, \"id\": \"ckg9gn9\", \"gilded\": 0, \"archived\": true, \"stickied\": false, \"author\": \"spilcm\", \"parent_id\": \"t1_ckg838l\", \"score\": 2, \"approved_by\": null, \"over_18\": false, \"report_reasons\": null, \"controversiality\": 0, \"body\": \"Thank you for your notes. \\nThe content (and the lists) are not even close to be complete. We are just getting started :) Thanks for your suggestion. (removed Bitbucket from the list. )\\n\\n\\n\", \"edited\": false, \"author_flair_css_class\": null, \"downs\": 0, \"body_html\": \"&lt;div class=\\\"md\\\"&gt;&lt;p&gt;Thank you for your notes. \\nThe content (and the lists) are not even close to be complete. We are just getting started :) Thanks for your suggestion. (removed Bitbucket from the list. )&lt;/p&gt;\\n&lt;/div&gt;\", \"quarantine\": false, \"subreddit\": \"devops\", \"score_hidden\": false, \"name\": \"t1_ckg9gn9\", \"created\": 1410558724.0, \"author_flair_text\": null, \"link_url\": \"http://www.devopsforbeginners.com/\", \"created_utc\": 1410529924.0, \"ups\": 2, \"mod_reports\": [], \"num_reports\": null, \"distinguished\": null}}, {\"kind\": \"t1\", \"data\": {\"subreddit_id\": \"t5_2rzmn\", \"link_title\": \"I just launched a new website created for people that are interested and curious about what DevOps is. I would really appreciate any feedback / comments you guys have on the website.\", \"banned_by\": null, \"removal_reason\": null, \"link_id\": \"t3_2g4p45\", \"link_author\": \"spilcm\", \"likes\": null, \"replies\": \"\", \"user_reports\": [], \"saved\": false, \"id\": \"ckfnxlu\", \"gilded\": 0, \"archived\": true, \"stickied\": false, \"author\": \"spilcm\", \"parent_id\": \"t1_ckfnepk\", \"score\": 0, \"approved_by\": null, \"over_18\": false, \"report_reasons\": null, \"controversiality\": 1, \"body\": \"Thank you for the feedback. Vagrant is an important DevOps tool to improve the overall workflow for developers and operation engineers. Our goal is to write about interesting things (tools, news etc.) related to DevOps.\", \"edited\": false, \"author_flair_css_class\": null, \"downs\": 0, \"body_html\": \"&lt;div class=\\\"md\\\"&gt;&lt;p&gt;Thank you for the feedback. Vagrant is an important DevOps tool to improve the overall workflow for developers and operation engineers. Our goal is to write about interesting things (tools, news etc.) related to DevOps.&lt;/p&gt;\\n&lt;/div&gt;\", \"quarantine\": false, \"subreddit\": \"devops\", \"score_hidden\": false, \"name\": \"t1_ckfnxlu\", \"created\": 1410497014.0, \"author_flair_text\": null, \"link_url\": \"http://www.devopsforbeginners.com/\", \"created_utc\": 1410468214.0, \"ups\": 0, \"mod_reports\": [], \"num_reports\": null, \"distinguished\": null}}, {\"kind\": \"t1\", \"data\": {\"subreddit_id\": \"t5_2qh4v\", \"link_title\": \"Fast, searchable Django documentation\", \"banned_by\": null, \"removal_reason\": null, \"link_id\": \"t3_2clzh8\", \"link_author\": \"ThibautCourouble\", \"likes\": null, \"replies\": \"\", \"user_reports\": [], \"saved\": false, \"id\": \"cjgtelt\", \"gilded\": 0, \"archived\": true, \"stickied\": false, \"author\": \"spilcm\", \"parent_id\": \"t3_2clzh8\", \"score\": 1, \"approved_by\": null, \"over_18\": false, \"report_reasons\": null, \"controversiality\": 0, \"body\": \"Pretty neat stuff!\", \"edited\": false, \"author_flair_css_class\": null, \"downs\": 0, \"body_html\": \"&lt;div class=\\\"md\\\"&gt;&lt;p&gt;Pretty neat stuff!&lt;/p&gt;\\n&lt;/div&gt;\", \"quarantine\": false, \"subreddit\": \"django\", \"score_hidden\": false, \"name\": \"t1_cjgtelt\", \"created\": 1407209690.0, \"author_flair_text\": null, \"link_url\": \"http://devdocs.io/django/\", \"created_utc\": 1407180890.0, \"ups\": 1, \"mod_reports\": [], \"num_reports\": null, \"distinguished\": null}}, {\"kind\": \"t1\", \"data\": {\"subreddit_id\": \"t5_2qh4v\", \"link_title\": \"A flexible Django CMS solution?\", \"banned_by\": null, \"removal_reason\": null, \"link_id\": \"t3_2cc36j\", \"link_author\": \"[deleted]\", \"likes\": null, \"replies\": \"\", \"user_reports\": [], \"saved\": false, \"id\": \"cjeapga\", \"gilded\": 0, \"archived\": true, \"stickied\": false, \"author\": \"spilcm\", \"parent_id\": \"t3_2cc36j\", \"score\": 6, \"approved_by\": null, \"over_18\": false, \"report_reasons\": null, \"controversiality\": 0, \"body\": \"Check out Mezzanine (http://mezzanine.jupo.org/)\", \"edited\": false, \"author_flair_css_class\": null, \"downs\": 0, \"body_html\": \"&lt;div class=\\\"md\\\"&gt;&lt;p&gt;Check out Mezzanine (&lt;a href=\\\"http://mezzanine.jupo.org/\\\"&gt;http://mezzanine.jupo.org/&lt;/a&gt;)&lt;/p&gt;\\n&lt;/div&gt;\", \"quarantine\": false, \"subreddit\": \"django\", \"score_hidden\": false, \"name\": \"t1_cjeapga\", \"created\": 1406953576.0, \"author_flair_text\": null, \"link_url\": \"https://www.reddit.com/r/django/comments/2cc36j/a_flexible_django_cms_solution/\", \"created_utc\": 1406924776.0, \"ups\": 6, \"mod_reports\": [], \"num_reports\": null, \"distinguished\": null}}, {\"kind\": \"t1\", \"data\": {\"subreddit_id\": \"t5_2qh4v\", \"link_title\": \"Send email from apache\", \"banned_by\": null, \"removal_reason\": null, \"link_id\": \"t3_28ijjd\", \"link_author\": \"husky11\", \"likes\": null, \"replies\": \"\", \"user_reports\": [], \"saved\": false, \"id\": \"cibihvk\", \"gilded\": 0, \"archived\": true, \"stickied\": false, \"author\": \"spilcm\", \"parent_id\": \"t3_28ijjd\", \"score\": 2, \"approved_by\": null, \"over_18\": false, \"report_reasons\": null, \"controversiality\": 0, \"body\": \"Try to change EMAIL_USE_TLS to True \\n\\nand then add this line:\\nDEFAULT_FROM_EMAIL = EMAIL_HOST_USER\", \"edited\": false, \"author_flair_css_class\": null, \"downs\": 0, \"body_html\": \"&lt;div class=\\\"md\\\"&gt;&lt;p&gt;Try to change EMAIL_USE_TLS to True &lt;/p&gt;\\n\\n&lt;p&gt;and then add this line:\\nDEFAULT_FROM_EMAIL = EMAIL_HOST_USER&lt;/p&gt;\\n&lt;/div&gt;\", \"quarantine\": false, \"subreddit\": \"django\", \"score_hidden\": false, \"name\": \"t1_cibihvk\", \"created\": 1403204854.0, \"author_flair_text\": null, \"link_url\": \"https://www.reddit.com/r/django/comments/28ijjd/send_email_from_apache/\", \"created_utc\": 1403176054.0, \"ups\": 2, \"mod_reports\": [], \"num_reports\": null, \"distinguished\": null}}, {\"kind\": \"t1\", \"data\": {\"subreddit_id\": \"t5_2qh0y\", \"link_title\": \"Announcing the first ever Python Indie Bundle sale!\", \"banned_by\": null, \"removal_reason\": null, \"link_id\": \"t3_1rq7xd\", \"link_author\": \"pydanny\", \"likes\": null, \"replies\": \"\", \"user_reports\": [], \"saved\": false, \"id\": \"cdr6mqv\", \"gilded\": 0, \"archived\": true, \"stickied\": false, \"author\": \"spilcm\", \"parent_id\": \"t3_1rq7xd\", \"score\": 1, \"approved_by\": null, \"over_18\": false, \"report_reasons\": null, \"controversiality\": 0, \"body\": \"I just picked up the bundle. Thanks for putting this together. \", \"edited\": false, \"author_flair_css_class\": null, \"downs\": 0, \"body_html\": \"&lt;div class=\\\"md\\\"&gt;&lt;p&gt;I just picked up the bundle. Thanks for putting this together. &lt;/p&gt;\\n&lt;/div&gt;\", \"quarantine\": false, \"subreddit\": \"Python\", \"score_hidden\": false, \"name\": \"t1_cdr6mqv\", \"created\": 1385962384.0, \"author_flair_text\": null, \"link_url\": \"http://www.pythonindiebundle.com/\", \"created_utc\": 1385933584.0, \"ups\": 1, \"mod_reports\": [], \"num_reports\": null, \"distinguished\": null}}], \"after\": \"t1_cdr6mqv\", \"before\": null}}\n",
      " </p>\n",
      "</body>\n"
     ]
    }
   ],
   "source": [
    "print soup.body.prettify()"
   ]
  },
  {
   "cell_type": "markdown",
   "metadata": {},
   "source": [
    "### .contents and .children\n",
    "\n",
    "A tag’s children are available in a list called `.contents` which returns a list.  "
   ]
  },
  {
   "cell_type": "code",
   "execution_count": 20,
   "metadata": {
    "collapsed": false
   },
   "outputs": [
    {
     "data": {
      "text/plain": [
       "[<p>{\"kind\": \"Listing\", \"data\": {\"modhash\": \"\", \"children\": [{\"kind\": \"t1\", \"data\": {\"subreddit_id\": \"t5_2t1b7\", \"link_title\": \"howcarworks.com - learn all about how cars work\", \"banned_by\": null, \"removal_reason\": null, \"link_id\": \"t3_3wjyyc\", \"link_author\": \"cosmicservant\", \"likes\": null, \"replies\": \"\", \"user_reports\": [], \"saved\": false, \"id\": \"cxz0xn4\", \"gilded\": 0, \"archived\": false, \"stickied\": false, \"author\": \"spilcm\", \"parent_id\": \"t3_3wjyyc\", \"score\": 1, \"approved_by\": null, \"over_18\": false, \"report_reasons\": null, \"controversiality\": 0, \"body\": \"This great for a novice like me :)\", \"edited\": false, \"author_flair_css_class\": null, \"downs\": 0, \"body_html\": \"&lt;div class=\\\\\"md\\\\\"&gt;&lt;p&gt;This great for a novice like me :)&lt;/p&gt;\\\\n&lt;/div&gt;\", \"quarantine\": false, \"subreddit\": \"UsefulWebsites\", \"score_hidden\": false, \"name\": \"t1_cxz0xn4\", \"created\": 1450153738.0, \"author_flair_text\": null, \"link_url\": \"http://www.howacarworks.com\", \"created_utc\": 1450124938.0, \"ups\": 1, \"mod_reports\": [], \"num_reports\": null, \"distinguished\": null}}, {\"kind\": \"t1\", \"data\": {\"subreddit_id\": \"t5_2qh0y\", \"link_title\": \"Pythonapi collects API / wrappers.\", \"banned_by\": null, \"removal_reason\": null, \"link_id\": \"t3_3v73ib\", \"link_author\": \"spilcm\", \"likes\": null, \"replies\": \"\", \"user_reports\": [], \"saved\": false, \"id\": \"cxz0us6\", \"gilded\": 0, \"archived\": false, \"stickied\": false, \"author\": \"spilcm\", \"parent_id\": \"t1_cxok2hy\", \"score\": 1, \"approved_by\": null, \"over_18\": false, \"report_reasons\": null, \"controversiality\": 0, \"body\": \"Updated! \", \"edited\": false, \"author_flair_css_class\": null, \"downs\": 0, \"body_html\": \"&lt;div class=\\\\\"md\\\\\"&gt;&lt;p&gt;Updated! &lt;/p&gt;\\\\n&lt;/div&gt;\", \"quarantine\": false, \"subreddit\": \"Python\", \"score_hidden\": false, \"name\": \"t1_cxz0us6\", \"created\": 1450153612.0, \"author_flair_text\": null, \"link_url\": \"http://www.pythonapi.com/\", \"created_utc\": 1450124812.0, \"ups\": 1, \"mod_reports\": [], \"num_reports\": null, \"distinguished\": null}}, {\"kind\": \"t1\", \"data\": {\"subreddit_id\": \"t5_2t1b7\", \"link_title\": \"Original Air Dates Of TV Shows\", \"banned_by\": null, \"removal_reason\": null, \"link_id\": \"t3_3o07p3\", \"link_author\": \"JustBlue\", \"likes\": null, \"replies\": \"\", \"user_reports\": [], \"saved\": false, \"id\": \"cxmssj6\", \"gilded\": 0, \"archived\": false, \"stickied\": false, \"author\": \"spilcm\", \"parent_id\": \"t3_3o07p3\", \"score\": 1, \"approved_by\": null, \"over_18\": false, \"report_reasons\": null, \"controversiality\": 0, \"body\": \"Looks good! Do you use any API to scrape the information?\", \"edited\": false, \"author_flair_css_class\": null, \"downs\": 0, \"body_html\": \"&lt;div class=\\\\\"md\\\\\"&gt;&lt;p&gt;Looks good! Do you use any API to scrape the information?&lt;/p&gt;\\\\n&lt;/div&gt;\", \"quarantine\": false, \"subreddit\": \"UsefulWebsites\", \"score_hidden\": false, \"name\": \"t1_cxmssj6\", \"created\": 1449254510.0, \"author_flair_text\": null, \"link_url\": \"http://www.airdates.tv/\", \"created_utc\": 1449225710.0, \"ups\": 1, \"mod_reports\": [], \"num_reports\": null, \"distinguished\": null}}, {\"kind\": \"t1\", \"data\": {\"subreddit_id\": \"t5_2t1b7\", \"link_title\": \"Helps you to find out what to eat tonight\", \"banned_by\": null, \"removal_reason\": null, \"link_id\": \"t3_3uuu3g\", \"link_author\": \"spilcm\", \"likes\": null, \"replies\": \"\", \"user_reports\": [], \"saved\": false, \"id\": \"cxlm9mt\", \"gilded\": 0, \"archived\": false, \"stickied\": false, \"author\": \"spilcm\", \"parent_id\": \"t1_cxiwlq9\", \"score\": 1, \"approved_by\": null, \"over_18\": false, \"report_reasons\": null, \"controversiality\": 0, \"body\": \"Sorry for that. \", \"edited\": false, \"author_flair_css_class\": null, \"downs\": 0, \"body_html\": \"&lt;div class=\\\\\"md\\\\\"&gt;&lt;p&gt;Sorry for that. &lt;/p&gt;\\\\n&lt;/div&gt;\", \"quarantine\": false, \"subreddit\": \"UsefulWebsites\", \"score_hidden\": false, \"name\": \"t1_cxlm9mt\", \"created\": 1449178749.0, \"author_flair_text\": null, \"link_url\": \"http://whatamigoingtoeat.com/\", \"created_utc\": 1449149949.0, \"ups\": 1, \"mod_reports\": [], \"num_reports\": null, \"distinguished\": null}}, {\"kind\": \"t1\", \"data\": {\"subreddit_id\": \"t5_2qh0y\", \"link_title\": \"Django 1.9 Released\", \"banned_by\": null, \"removal_reason\": null, \"link_id\": \"t3_3v2n4m\", \"link_author\": \"g-money-cheats\", \"likes\": null, \"replies\": \"\", \"user_reports\": [], \"saved\": false, \"id\": \"cxku2k2\", \"gilded\": 0, \"archived\": false, \"stickied\": false, \"author\": \"spilcm\", \"parent_id\": \"t3_3v2n4m\", \"score\": 1, \"approved_by\": null, \"over_18\": false, \"report_reasons\": null, \"controversiality\": 0, \"body\": \"was just starting to pick up Django again, looks like a good timing. :)\", \"edited\": false, \"author_flair_css_class\": null, \"downs\": 0, \"body_html\": \"&lt;div class=\\\\\"md\\\\\"&gt;&lt;p&gt;was just starting to pick up Django again, looks like a good timing. :)&lt;/p&gt;\\\\n&lt;/div&gt;\", \"quarantine\": false, \"subreddit\": \"Python\", \"score_hidden\": false, \"name\": \"t1_cxku2k2\", \"created\": 1449119135.0, \"author_flair_text\": null, \"link_url\": \"https://www.djangoproject.com/weblog/2015/dec/01/django-19-released/\", \"created_utc\": 1449090335.0, \"ups\": 1, \"mod_reports\": [], \"num_reports\": null, \"distinguished\": null}}, {\"kind\": \"t1\", \"data\": {\"subreddit_id\": \"t5_2qh1i\", \"link_title\": \"What small websites do you visit?\", \"banned_by\": null, \"removal_reason\": null, \"link_id\": \"t3_3hn0a7\", \"link_author\": \"hank_hiIl\", \"likes\": null, \"replies\": \"\", \"user_reports\": [], \"saved\": false, \"id\": \"cxhwj6q\", \"gilded\": 0, \"archived\": false, \"stickied\": false, \"author\": \"spilcm\", \"parent_id\": \"t3_3hn0a7\", \"score\": 1, \"approved_by\": null, \"over_18\": false, \"report_reasons\": null, \"controversiality\": 0, \"body\": \"http://www.whyineedajob.com/ - for finding cool gadgets\\\\nhttp://searchconcert.com/ - for finding available concert tickets\\\\nhttp://tvlistr.com/  - for TV shows thats airing today\\\\n\", \"edited\": false, \"author_flair_css_class\": null, \"downs\": 0, \"body_html\": \"&lt;div class=\\\\\"md\\\\\"&gt;&lt;p&gt;&lt;a href=\\\\\"http://www.whyineedajob.com/\\\\\"&gt;http://www.whyineedajob.com/&lt;/a&gt; - for finding cool gadgets\\\\n&lt;a href=\\\\\"http://searchconcert.com/\\\\\"&gt;http://searchconcert.com/&lt;/a&gt; - for finding available concert tickets\\\\n&lt;a href=\\\\\"http://tvlistr.com/\\\\\"&gt;http://tvlistr.com/&lt;/a&gt;  - for TV shows thats airing today&lt;/p&gt;\\\\n&lt;/div&gt;\", \"quarantine\": false, \"subreddit\": \"AskReddit\", \"score_hidden\": false, \"name\": \"t1_cxhwj6q\", \"created\": 1448922342.0, \"author_flair_text\": null, \"link_url\": \"https://www.reddit.com/r/AskReddit/comments/3hn0a7/what_small_websites_do_you_visit/\", \"created_utc\": 1448893542.0, \"ups\": 1, \"mod_reports\": [], \"num_reports\": null, \"distinguished\": null}}, {\"kind\": \"t1\", \"data\": {\"subreddit_id\": \"t5_2qh0y\", \"link_title\": \"TVlistr - TV Shows Airing Today\", \"banned_by\": null, \"removal_reason\": null, \"link_id\": \"t3_3ureqe\", \"link_author\": \"spilcm\", \"likes\": null, \"replies\": \"\", \"user_reports\": [], \"saved\": false, \"id\": \"cxhqtfp\", \"gilded\": 0, \"archived\": false, \"stickied\": false, \"author\": \"spilcm\", \"parent_id\": \"t1_cxhp98m\", \"score\": 1, \"approved_by\": null, \"over_18\": false, \"report_reasons\": null, \"controversiality\": 0, \"body\": \"Thanks. I'm using the API from TMDB.\", \"edited\": false, \"author_flair_css_class\": null, \"downs\": 0, \"body_html\": \"&lt;div class=\\\\\"md\\\\\"&gt;&lt;p&gt;Thanks. I&amp;#39;m using the API from TMDB.&lt;/p&gt;\\\\n&lt;/div&gt;\", \"quarantine\": false, \"subreddit\": \"Python\", \"score_hidden\": false, \"name\": \"t1_cxhqtfp\", \"created\": 1448901306.0, \"author_flair_text\": null, \"link_url\": \"http://tvlistr.com/\", \"created_utc\": 1448872506.0, \"ups\": 1, \"mod_reports\": [], \"num_reports\": null, \"distinguished\": null}}, {\"kind\": \"t1\", \"data\": {\"subreddit_id\": \"t5_31g1m\", \"link_title\": \"bashscanner: scans servers for outdated software and potential exploits.\", \"banned_by\": null, \"removal_reason\": null, \"link_id\": \"t3_3tjtyw\", \"link_author\": \"matvp91\", \"likes\": null, \"replies\": \"\", \"user_reports\": [], \"saved\": false, \"id\": \"cxcj4df\", \"gilded\": 0, \"archived\": true, \"stickied\": false, \"author\": \"spilcm\", \"parent_id\": \"t3_3tjtyw\", \"score\": 1, \"approved_by\": null, \"over_18\": false, \"report_reasons\": null, \"controversiality\": 0, \"body\": \"Pretty neat!\", \"edited\": false, \"author_flair_css_class\": null, \"downs\": 0, \"body_html\": \"&lt;div class=\\\\\"md\\\\\"&gt;&lt;p&gt;Pretty neat!&lt;/p&gt;\\\\n&lt;/div&gt;\", \"quarantine\": false, \"subreddit\": \"coolgithubprojects\", \"score_hidden\": false, \"name\": \"t1_cxcj4df\", \"created\": 1448486074.0, \"author_flair_text\": null, \"link_url\": \"https://github.com/PatrolServer/bashscanner\", \"created_utc\": 1448457274.0, \"ups\": 1, \"mod_reports\": [], \"num_reports\": null, \"distinguished\": null}}, {\"kind\": \"t1\", \"data\": {\"subreddit_id\": \"t5_2r8ot\", \"link_title\": \"Playing with APIs tutorial\", \"banned_by\": null, \"removal_reason\": null, \"link_id\": \"t3_3gmr3h\", \"link_author\": \"kmossco\", \"likes\": null, \"replies\": \"\", \"user_reports\": [], \"saved\": false, \"id\": \"cu1ct2j\", \"gilded\": 0, \"archived\": true, \"stickied\": false, \"author\": \"spilcm\", \"parent_id\": \"t1_ctzpl93\", \"score\": 1, \"approved_by\": null, \"over_18\": false, \"report_reasons\": null, \"controversiality\": 0, \"body\": \"Thanks jwjody, I have updated the posts to use the Requests built-in decoder instead of the JSON module. \", \"edited\": false, \"author_flair_css_class\": null, \"downs\": 0, \"body_html\": \"&lt;div class=\\\\\"md\\\\\"&gt;&lt;p&gt;Thanks jwjody, I have updated the posts to use the Requests built-in decoder instead of the JSON module. &lt;/p&gt;\\\\n&lt;/div&gt;\", \"quarantine\": false, \"subreddit\": \"learnpython\", \"score_hidden\": false, \"name\": \"t1_cu1ct2j\", \"created\": 1439478932.0, \"author_flair_text\": null, \"link_url\": \"https://www.reddit.com/r/learnpython/comments/3gmr3h/playing_with_apis_tutorial/\", \"created_utc\": 1439450132.0, \"ups\": 1, \"mod_reports\": [], \"num_reports\": null, \"distinguished\": null}}, {\"kind\": \"t1\", \"data\": {\"subreddit_id\": \"t5_2r8ot\", \"link_title\": \"Playing with APIs tutorial\", \"banned_by\": null, \"removal_reason\": null, \"link_id\": \"t3_3gmr3h\", \"link_author\": \"kmossco\", \"likes\": null, \"replies\": \"\", \"user_reports\": [], \"saved\": false, \"id\": \"cu0q6sh\", \"gilded\": 0, \"archived\": true, \"stickied\": false, \"author\": \"spilcm\", \"parent_id\": \"t3_3gmr3h\", \"score\": 1, \"approved_by\": null, \"over_18\": false, \"report_reasons\": null, \"controversiality\": 0, \"body\": \"Thanks for posting this. Today I added a new post on how to setup a VPS with nginx on it. (We need nginx later on to serve the Flask application.)\", \"edited\": false, \"author_flair_css_class\": null, \"downs\": 0, \"body_html\": \"&lt;div class=\\\\\"md\\\\\"&gt;&lt;p&gt;Thanks for posting this. Today I added a new post on how to setup a VPS with nginx on it. (We need nginx later on to serve the Flask application.)&lt;/p&gt;\\\\n&lt;/div&gt;\", \"quarantine\": false, \"subreddit\": \"learnpython\", \"score_hidden\": false, \"name\": \"t1_cu0q6sh\", \"created\": 1439436420.0, \"author_flair_text\": null, \"link_url\": \"https://www.reddit.com/r/learnpython/comments/3gmr3h/playing_with_apis_tutorial/\", \"created_utc\": 1439407620.0, \"ups\": 1, \"mod_reports\": [], \"num_reports\": null, \"distinguished\": null}}, {\"kind\": \"t1\", \"data\": {\"subreddit_id\": \"t5_2r8ot\", \"link_title\": \"Playing with APIs tutorial\", \"banned_by\": null, \"removal_reason\": null, \"link_id\": \"t3_3gmr3h\", \"link_author\": \"kmossco\", \"likes\": null, \"replies\": \"\", \"user_reports\": [], \"saved\": false, \"id\": \"cu0q0g0\", \"gilded\": 0, \"archived\": true, \"stickied\": false, \"author\": \"spilcm\", \"parent_id\": \"t1_cu0hpa7\", \"score\": 1, \"approved_by\": null, \"over_18\": false, \"report_reasons\": null, \"controversiality\": 0, \"body\": \"The Flask portion of the tutorial is on its way :)\", \"edited\": false, \"author_flair_css_class\": null, \"downs\": 0, \"body_html\": \"&lt;div class=\\\\\"md\\\\\"&gt;&lt;p&gt;The Flask portion of the tutorial is on its way :)&lt;/p&gt;\\\\n&lt;/div&gt;\", \"quarantine\": false, \"subreddit\": \"learnpython\", \"score_hidden\": false, \"name\": \"t1_cu0q0g0\", \"created\": 1439436174.0, \"author_flair_text\": null, \"link_url\": \"https://www.reddit.com/r/learnpython/comments/3gmr3h/playing_with_apis_tutorial/\", \"created_utc\": 1439407374.0, \"ups\": 1, \"mod_reports\": [], \"num_reports\": null, \"distinguished\": null}}, {\"kind\": \"t1\", \"data\": {\"subreddit_id\": \"t5_2r8ot\", \"link_title\": \"Need help with UnicodeDecodeError\", \"banned_by\": null, \"removal_reason\": null, \"link_id\": \"t3_3gpyho\", \"link_author\": \"[deleted]\", \"likes\": null, \"replies\": \"\", \"user_reports\": [], \"saved\": false, \"id\": \"cu0cl6s\", \"gilded\": 0, \"archived\": true, \"stickied\": false, \"author\": \"spilcm\", \"parent_id\": \"t3_3gpyho\", \"score\": 1, \"approved_by\": null, \"over_18\": false, \"report_reasons\": null, \"controversiality\": 0, \"body\": \"You could try to create a sanitize function. Something like this should do it:\\\\n\\\\ndef sanitize(str):\\\\n    return str.encode('ascii','ignore')\\\\n\", \"edited\": false, \"author_flair_css_class\": null, \"downs\": 0, \"body_html\": \"&lt;div class=\\\\\"md\\\\\"&gt;&lt;p&gt;You could try to create a sanitize function. Something like this should do it:&lt;/p&gt;\\\\n\\\\n&lt;p&gt;def sanitize(str):\\\\n    return str.encode(&amp;#39;ascii&amp;#39;,&amp;#39;ignore&amp;#39;)&lt;/p&gt;\\\\n&lt;/div&gt;\", \"quarantine\": false, \"subreddit\": \"learnpython\", \"score_hidden\": false, \"name\": \"t1_cu0cl6s\", \"created\": 1439416232.0, \"author_flair_text\": null, \"link_url\": \"https://www.reddit.com/r/learnpython/comments/3gpyho/need_help_with_unicodedecodeerror/\", \"created_utc\": 1439387432.0, \"ups\": 1, \"mod_reports\": [], \"num_reports\": null, \"distinguished\": null}}, {\"kind\": \"t1\", \"data\": {\"subreddit_id\": \"t5_2qh0y\", \"link_title\": \"How to build a website application using Python\", \"banned_by\": null, \"removal_reason\": null, \"link_id\": \"t3_3ggep9\", \"link_author\": \"spilcm\", \"likes\": null, \"replies\": \"\", \"user_reports\": [], \"saved\": false, \"id\": \"cty7s4j\", \"gilded\": 0, \"archived\": true, \"stickied\": false, \"author\": \"spilcm\", \"parent_id\": \"t1_cty7hqy\", \"score\": 5, \"approved_by\": null, \"over_18\": false, \"report_reasons\": null, \"controversiality\": 0, \"body\": \"I'm a huge fan of Django, but for this small project, I went with Flask. \", \"edited\": false, \"author_flair_css_class\": null, \"downs\": 0, \"body_html\": \"&lt;div class=\\\\\"md\\\\\"&gt;&lt;p&gt;I&amp;#39;m a huge fan of Django, but for this small project, I went with Flask. &lt;/p&gt;\\\\n&lt;/div&gt;\", \"quarantine\": false, \"subreddit\": \"Python\", \"score_hidden\": false, \"name\": \"t1_cty7s4j\", \"created\": 1439259737.0, \"author_flair_text\": null, \"link_url\": \"http://superduper.me/how-to-build-a-website-application-using-python/\", \"created_utc\": 1439230937.0, \"ups\": 5, \"mod_reports\": [], \"num_reports\": null, \"distinguished\": null}}, {\"kind\": \"t1\", \"data\": {\"subreddit_id\": \"t5_2r9lc\", \"link_title\": \"How are you handling security updates?\", \"banned_by\": null, \"removal_reason\": null, \"link_id\": \"t3_3ccjcz\", \"link_author\": \"joshlove\", \"likes\": null, \"replies\": \"\", \"user_reports\": [], \"saved\": false, \"id\": \"ctaqh66\", \"gilded\": 0, \"archived\": true, \"stickied\": false, \"author\": \"spilcm\", \"parent_id\": \"t1_csv0mwu\", \"score\": 1, \"approved_by\": null, \"over_18\": false, \"report_reasons\": null, \"controversiality\": 0, \"body\": \"Thanks for all the work! Is there a way to enable the function to apply patches from the UI?\\\\n\\\\n\", \"edited\": false, \"author_flair_css_class\": null, \"downs\": 0, \"body_html\": \"&lt;div class=\\\\\"md\\\\\"&gt;&lt;p&gt;Thanks for all the work! Is there a way to enable the function to apply patches from the UI?&lt;/p&gt;\\\\n&lt;/div&gt;\", \"quarantine\": false, \"subreddit\": \"linuxadmin\", \"score_hidden\": false, \"name\": \"t1_ctaqh66\", \"created\": 1437502949.0, \"author_flair_text\": null, \"link_url\": \"https://www.reddit.com/r/linuxadmin/comments/3ccjcz/how_are_you_handling_security_updates/\", \"created_utc\": 1437474149.0, \"ups\": 1, \"mod_reports\": [], \"num_reports\": null, \"distinguished\": null}}, {\"kind\": \"t1\", \"data\": {\"subreddit_id\": \"t5_2qh84\", \"link_title\": \"I just launched a website; a beginners guide to Amazon Web Services. I would really appreciate any feedback / comments.\", \"banned_by\": null, \"removal_reason\": null, \"link_id\": \"t3_3aygzc\", \"link_author\": \"spilcm\", \"likes\": null, \"replies\": \"\", \"user_reports\": [], \"saved\": false, \"id\": \"csigm2y\", \"gilded\": 0, \"archived\": true, \"stickied\": false, \"author\": \"spilcm\", \"parent_id\": \"t1_csh54wk\", \"score\": 1, \"approved_by\": null, \"over_18\": false, \"report_reasons\": null, \"controversiality\": 0, \"body\": \"Thanks for the feedback. I will definitely do that. \", \"edited\": false, \"author_flair_css_class\": null, \"downs\": 0, \"body_html\": \"&lt;div class=\\\\\"md\\\\\"&gt;&lt;p&gt;Thanks for the feedback. I will definitely do that. &lt;/p&gt;\\\\n&lt;/div&gt;\", \"quarantine\": false, \"subreddit\": \"aws\", \"score_hidden\": false, \"name\": \"t1_csigm2y\", \"created\": 1435283126.0, \"author_flair_text\": null, \"link_url\": \"http://awstartup.com/\", \"created_utc\": 1435254326.0, \"ups\": 1, \"mod_reports\": [], \"num_reports\": null, \"distinguished\": null}}, {\"kind\": \"t1\", \"data\": {\"subreddit_id\": \"t5_2qh84\", \"link_title\": \"I just launched a website; a beginners guide to Amazon Web Services. I would really appreciate any feedback / comments.\", \"banned_by\": null, \"removal_reason\": null, \"link_id\": \"t3_3aygzc\", \"link_author\": \"spilcm\", \"likes\": null, \"replies\": \"\", \"user_reports\": [], \"saved\": false, \"id\": \"cshd5xp\", \"gilded\": 0, \"archived\": true, \"stickied\": false, \"author\": \"spilcm\", \"parent_id\": \"t1_cshbxgr\", \"score\": 0, \"approved_by\": null, \"over_18\": false, \"report_reasons\": null, \"controversiality\": 0, \"body\": \"You are right. I am actually writing one, but it takes some time considering all 40+ services AWS is offering ;)\\\\n\", \"edited\": false, \"author_flair_css_class\": null, \"downs\": 0, \"body_html\": \"&lt;div class=\\\\\"md\\\\\"&gt;&lt;p&gt;You are right. I am actually writing one, but it takes some time considering all 40+ services AWS is offering ;)&lt;/p&gt;\\\\n&lt;/div&gt;\", \"quarantine\": false, \"subreddit\": \"aws\", \"score_hidden\": false, \"name\": \"t1_cshd5xp\", \"created\": 1435201034.0, \"author_flair_text\": null, \"link_url\": \"http://awstartup.com/\", \"created_utc\": 1435172234.0, \"ups\": 0, \"mod_reports\": [], \"num_reports\": null, \"distinguished\": null}}, {\"kind\": \"t1\", \"data\": {\"subreddit_id\": \"t5_2qh84\", \"link_title\": \"I just launched a website; a beginners guide to Amazon Web Services. I would really appreciate any feedback / comments.\", \"banned_by\": null, \"removal_reason\": null, \"link_id\": \"t3_3aygzc\", \"link_author\": \"spilcm\", \"likes\": null, \"replies\": \"\", \"user_reports\": [], \"saved\": false, \"id\": \"cshapwz\", \"gilded\": 0, \"archived\": true, \"stickied\": false, \"author\": \"spilcm\", \"parent_id\": \"t1_csh7tz6\", \"score\": 4, \"approved_by\": null, \"over_18\": false, \"report_reasons\": null, \"controversiality\": 0, \"body\": \"Aws provide excellent documentation and guides, but it can also be a bit overwhelming for beginners. I'll try to make it a bit clearer.\", \"edited\": false, \"author_flair_css_class\": null, \"downs\": 0, \"body_html\": \"&lt;div class=\\\\\"md\\\\\"&gt;&lt;p&gt;Aws provide excellent documentation and guides, but it can also be a bit overwhelming for beginners. I&amp;#39;ll try to make it a bit clearer.&lt;/p&gt;\\\\n&lt;/div&gt;\", \"quarantine\": false, \"subreddit\": \"aws\", \"score_hidden\": false, \"name\": \"t1_cshapwz\", \"created\": 1435197469.0, \"author_flair_text\": null, \"link_url\": \"http://awstartup.com/\", \"created_utc\": 1435168669.0, \"ups\": 4, \"mod_reports\": [], \"num_reports\": null, \"distinguished\": null}}, {\"kind\": \"t1\", \"data\": {\"subreddit_id\": \"t5_2rzmn\", \"link_title\": \"I just launched a new website created for people that are interested and curious about what DevOps is. I would really appreciate any feedback / comments you guys have on the website.\", \"banned_by\": null, \"removal_reason\": null, \"link_id\": \"t3_2g4p45\", \"link_author\": \"spilcm\", \"likes\": null, \"replies\": \"\", \"user_reports\": [], \"saved\": false, \"id\": \"ckg9lk4\", \"gilded\": 0, \"archived\": true, \"stickied\": false, \"author\": \"spilcm\", \"parent_id\": \"t1_ckfv7dw\", \"score\": 1, \"approved_by\": null, \"over_18\": false, \"report_reasons\": null, \"controversiality\": 0, \"body\": \"I may have a bit of a bias of python, so any suggestion of Ruby (or anything else) are \\\\nvery welcome. :)\", \"edited\": false, \"author_flair_css_class\": null, \"downs\": 0, \"body_html\": \"&lt;div class=\\\\\"md\\\\\"&gt;&lt;p&gt;I may have a bit of a bias of python, so any suggestion of Ruby (or anything else) are \\\\nvery welcome. :)&lt;/p&gt;\\\\n&lt;/div&gt;\", \"quarantine\": false, \"subreddit\": \"devops\", \"score_hidden\": false, \"name\": \"t1_ckg9lk4\", \"created\": 1410559047.0, \"author_flair_text\": null, \"link_url\": \"http://www.devopsforbeginners.com/\", \"created_utc\": 1410530247.0, \"ups\": 1, \"mod_reports\": [], \"num_reports\": null, \"distinguished\": null}}, {\"kind\": \"t1\", \"data\": {\"subreddit_id\": \"t5_2rzmn\", \"link_title\": \"I just launched a new website created for people that are interested and curious about what DevOps is. I would really appreciate any feedback / comments you guys have on the website.\", \"banned_by\": null, \"removal_reason\": null, \"link_id\": \"t3_2g4p45\", \"link_author\": \"spilcm\", \"likes\": null, \"replies\": \"\", \"user_reports\": [], \"saved\": false, \"id\": \"ckg9hqq\", \"gilded\": 0, \"archived\": true, \"stickied\": false, \"author\": \"spilcm\", \"parent_id\": \"t1_ckfwxsw\", \"score\": 1, \"approved_by\": null, \"over_18\": false, \"report_reasons\": null, \"controversiality\": 0, \"body\": \"Thank you!\", \"edited\": false, \"author_flair_css_class\": null, \"downs\": 0, \"body_html\": \"&lt;div class=\\\\\"md\\\\\"&gt;&lt;p&gt;Thank you!&lt;/p&gt;\\\\n&lt;/div&gt;\", \"quarantine\": false, \"subreddit\": \"devops\", \"score_hidden\": false, \"name\": \"t1_ckg9hqq\", \"created\": 1410558797.0, \"author_flair_text\": null, \"link_url\": \"http://www.devopsforbeginners.com/\", \"created_utc\": 1410529997.0, \"ups\": 1, \"mod_reports\": [], \"num_reports\": null, \"distinguished\": null}}, {\"kind\": \"t1\", \"data\": {\"subreddit_id\": \"t5_2rzmn\", \"link_title\": \"I just launched a new website created for people that are interested and curious about what DevOps is. I would really appreciate any feedback / comments you guys have on the website.\", \"banned_by\": null, \"removal_reason\": null, \"link_id\": \"t3_2g4p45\", \"link_author\": \"spilcm\", \"likes\": null, \"replies\": \"\", \"user_reports\": [], \"saved\": false, \"id\": \"ckg9gn9\", \"gilded\": 0, \"archived\": true, \"stickied\": false, \"author\": \"spilcm\", \"parent_id\": \"t1_ckg838l\", \"score\": 2, \"approved_by\": null, \"over_18\": false, \"report_reasons\": null, \"controversiality\": 0, \"body\": \"Thank you for your notes. \\\\nThe content (and the lists) are not even close to be complete. We are just getting started :) Thanks for your suggestion. (removed Bitbucket from the list. )\\\\n\\\\n\\\\n\", \"edited\": false, \"author_flair_css_class\": null, \"downs\": 0, \"body_html\": \"&lt;div class=\\\\\"md\\\\\"&gt;&lt;p&gt;Thank you for your notes. \\\\nThe content (and the lists) are not even close to be complete. We are just getting started :) Thanks for your suggestion. (removed Bitbucket from the list. )&lt;/p&gt;\\\\n&lt;/div&gt;\", \"quarantine\": false, \"subreddit\": \"devops\", \"score_hidden\": false, \"name\": \"t1_ckg9gn9\", \"created\": 1410558724.0, \"author_flair_text\": null, \"link_url\": \"http://www.devopsforbeginners.com/\", \"created_utc\": 1410529924.0, \"ups\": 2, \"mod_reports\": [], \"num_reports\": null, \"distinguished\": null}}, {\"kind\": \"t1\", \"data\": {\"subreddit_id\": \"t5_2rzmn\", \"link_title\": \"I just launched a new website created for people that are interested and curious about what DevOps is. I would really appreciate any feedback / comments you guys have on the website.\", \"banned_by\": null, \"removal_reason\": null, \"link_id\": \"t3_2g4p45\", \"link_author\": \"spilcm\", \"likes\": null, \"replies\": \"\", \"user_reports\": [], \"saved\": false, \"id\": \"ckfnxlu\", \"gilded\": 0, \"archived\": true, \"stickied\": false, \"author\": \"spilcm\", \"parent_id\": \"t1_ckfnepk\", \"score\": 0, \"approved_by\": null, \"over_18\": false, \"report_reasons\": null, \"controversiality\": 1, \"body\": \"Thank you for the feedback. Vagrant is an important DevOps tool to improve the overall workflow for developers and operation engineers. Our goal is to write about interesting things (tools, news etc.) related to DevOps.\", \"edited\": false, \"author_flair_css_class\": null, \"downs\": 0, \"body_html\": \"&lt;div class=\\\\\"md\\\\\"&gt;&lt;p&gt;Thank you for the feedback. Vagrant is an important DevOps tool to improve the overall workflow for developers and operation engineers. Our goal is to write about interesting things (tools, news etc.) related to DevOps.&lt;/p&gt;\\\\n&lt;/div&gt;\", \"quarantine\": false, \"subreddit\": \"devops\", \"score_hidden\": false, \"name\": \"t1_ckfnxlu\", \"created\": 1410497014.0, \"author_flair_text\": null, \"link_url\": \"http://www.devopsforbeginners.com/\", \"created_utc\": 1410468214.0, \"ups\": 0, \"mod_reports\": [], \"num_reports\": null, \"distinguished\": null}}, {\"kind\": \"t1\", \"data\": {\"subreddit_id\": \"t5_2qh4v\", \"link_title\": \"Fast, searchable Django documentation\", \"banned_by\": null, \"removal_reason\": null, \"link_id\": \"t3_2clzh8\", \"link_author\": \"ThibautCourouble\", \"likes\": null, \"replies\": \"\", \"user_reports\": [], \"saved\": false, \"id\": \"cjgtelt\", \"gilded\": 0, \"archived\": true, \"stickied\": false, \"author\": \"spilcm\", \"parent_id\": \"t3_2clzh8\", \"score\": 1, \"approved_by\": null, \"over_18\": false, \"report_reasons\": null, \"controversiality\": 0, \"body\": \"Pretty neat stuff!\", \"edited\": false, \"author_flair_css_class\": null, \"downs\": 0, \"body_html\": \"&lt;div class=\\\\\"md\\\\\"&gt;&lt;p&gt;Pretty neat stuff!&lt;/p&gt;\\\\n&lt;/div&gt;\", \"quarantine\": false, \"subreddit\": \"django\", \"score_hidden\": false, \"name\": \"t1_cjgtelt\", \"created\": 1407209690.0, \"author_flair_text\": null, \"link_url\": \"http://devdocs.io/django/\", \"created_utc\": 1407180890.0, \"ups\": 1, \"mod_reports\": [], \"num_reports\": null, \"distinguished\": null}}, {\"kind\": \"t1\", \"data\": {\"subreddit_id\": \"t5_2qh4v\", \"link_title\": \"A flexible Django CMS solution?\", \"banned_by\": null, \"removal_reason\": null, \"link_id\": \"t3_2cc36j\", \"link_author\": \"[deleted]\", \"likes\": null, \"replies\": \"\", \"user_reports\": [], \"saved\": false, \"id\": \"cjeapga\", \"gilded\": 0, \"archived\": true, \"stickied\": false, \"author\": \"spilcm\", \"parent_id\": \"t3_2cc36j\", \"score\": 6, \"approved_by\": null, \"over_18\": false, \"report_reasons\": null, \"controversiality\": 0, \"body\": \"Check out Mezzanine (http://mezzanine.jupo.org/)\", \"edited\": false, \"author_flair_css_class\": null, \"downs\": 0, \"body_html\": \"&lt;div class=\\\\\"md\\\\\"&gt;&lt;p&gt;Check out Mezzanine (&lt;a href=\\\\\"http://mezzanine.jupo.org/\\\\\"&gt;http://mezzanine.jupo.org/&lt;/a&gt;)&lt;/p&gt;\\\\n&lt;/div&gt;\", \"quarantine\": false, \"subreddit\": \"django\", \"score_hidden\": false, \"name\": \"t1_cjeapga\", \"created\": 1406953576.0, \"author_flair_text\": null, \"link_url\": \"https://www.reddit.com/r/django/comments/2cc36j/a_flexible_django_cms_solution/\", \"created_utc\": 1406924776.0, \"ups\": 6, \"mod_reports\": [], \"num_reports\": null, \"distinguished\": null}}, {\"kind\": \"t1\", \"data\": {\"subreddit_id\": \"t5_2qh4v\", \"link_title\": \"Send email from apache\", \"banned_by\": null, \"removal_reason\": null, \"link_id\": \"t3_28ijjd\", \"link_author\": \"husky11\", \"likes\": null, \"replies\": \"\", \"user_reports\": [], \"saved\": false, \"id\": \"cibihvk\", \"gilded\": 0, \"archived\": true, \"stickied\": false, \"author\": \"spilcm\", \"parent_id\": \"t3_28ijjd\", \"score\": 2, \"approved_by\": null, \"over_18\": false, \"report_reasons\": null, \"controversiality\": 0, \"body\": \"Try to change EMAIL_USE_TLS to True \\\\n\\\\nand then add this line:\\\\nDEFAULT_FROM_EMAIL = EMAIL_HOST_USER\", \"edited\": false, \"author_flair_css_class\": null, \"downs\": 0, \"body_html\": \"&lt;div class=\\\\\"md\\\\\"&gt;&lt;p&gt;Try to change EMAIL_USE_TLS to True &lt;/p&gt;\\\\n\\\\n&lt;p&gt;and then add this line:\\\\nDEFAULT_FROM_EMAIL = EMAIL_HOST_USER&lt;/p&gt;\\\\n&lt;/div&gt;\", \"quarantine\": false, \"subreddit\": \"django\", \"score_hidden\": false, \"name\": \"t1_cibihvk\", \"created\": 1403204854.0, \"author_flair_text\": null, \"link_url\": \"https://www.reddit.com/r/django/comments/28ijjd/send_email_from_apache/\", \"created_utc\": 1403176054.0, \"ups\": 2, \"mod_reports\": [], \"num_reports\": null, \"distinguished\": null}}, {\"kind\": \"t1\", \"data\": {\"subreddit_id\": \"t5_2qh0y\", \"link_title\": \"Announcing the first ever Python Indie Bundle sale!\", \"banned_by\": null, \"removal_reason\": null, \"link_id\": \"t3_1rq7xd\", \"link_author\": \"pydanny\", \"likes\": null, \"replies\": \"\", \"user_reports\": [], \"saved\": false, \"id\": \"cdr6mqv\", \"gilded\": 0, \"archived\": true, \"stickied\": false, \"author\": \"spilcm\", \"parent_id\": \"t3_1rq7xd\", \"score\": 1, \"approved_by\": null, \"over_18\": false, \"report_reasons\": null, \"controversiality\": 0, \"body\": \"I just picked up the bundle. Thanks for putting this together. \", \"edited\": false, \"author_flair_css_class\": null, \"downs\": 0, \"body_html\": \"&lt;div class=\\\\\"md\\\\\"&gt;&lt;p&gt;I just picked up the bundle. Thanks for putting this together. &lt;/p&gt;\\\\n&lt;/div&gt;\", \"quarantine\": false, \"subreddit\": \"Python\", \"score_hidden\": false, \"name\": \"t1_cdr6mqv\", \"created\": 1385962384.0, \"author_flair_text\": null, \"link_url\": \"http://www.pythonindiebundle.com/\", \"created_utc\": 1385933584.0, \"ups\": 1, \"mod_reports\": [], \"num_reports\": null, \"distinguished\": null}}], \"after\": \"t1_cdr6mqv\", \"before\": null}}</p>]"
      ]
     },
     "execution_count": 20,
     "metadata": {},
     "output_type": "execute_result"
    }
   ],
   "source": [
    "soup.body.contents"
   ]
  },
  {
   "cell_type": "code",
   "execution_count": 21,
   "metadata": {
    "collapsed": false
   },
   "outputs": [
    {
     "data": {
      "text/plain": [
       "1"
      ]
     },
     "execution_count": 21,
     "metadata": {},
     "output_type": "execute_result"
    }
   ],
   "source": [
    "len(soup.body.contents)"
   ]
  },
  {
   "cell_type": "code",
   "execution_count": 22,
   "metadata": {
    "collapsed": false
   },
   "outputs": [
    {
     "data": {
      "text/plain": [
       "[<p>{\"kind\": \"Listing\", \"data\": {\"modhash\": \"\", \"children\": [{\"kind\": \"t1\", \"data\": {\"subreddit_id\": \"t5_2t1b7\", \"link_title\": \"howcarworks.com - learn all about how cars work\", \"banned_by\": null, \"removal_reason\": null, \"link_id\": \"t3_3wjyyc\", \"link_author\": \"cosmicservant\", \"likes\": null, \"replies\": \"\", \"user_reports\": [], \"saved\": false, \"id\": \"cxz0xn4\", \"gilded\": 0, \"archived\": false, \"stickied\": false, \"author\": \"spilcm\", \"parent_id\": \"t3_3wjyyc\", \"score\": 1, \"approved_by\": null, \"over_18\": false, \"report_reasons\": null, \"controversiality\": 0, \"body\": \"This great for a novice like me :)\", \"edited\": false, \"author_flair_css_class\": null, \"downs\": 0, \"body_html\": \"&lt;div class=\\\\\"md\\\\\"&gt;&lt;p&gt;This great for a novice like me :)&lt;/p&gt;\\\\n&lt;/div&gt;\", \"quarantine\": false, \"subreddit\": \"UsefulWebsites\", \"score_hidden\": false, \"name\": \"t1_cxz0xn4\", \"created\": 1450153738.0, \"author_flair_text\": null, \"link_url\": \"http://www.howacarworks.com\", \"created_utc\": 1450124938.0, \"ups\": 1, \"mod_reports\": [], \"num_reports\": null, \"distinguished\": null}}, {\"kind\": \"t1\", \"data\": {\"subreddit_id\": \"t5_2qh0y\", \"link_title\": \"Pythonapi collects API / wrappers.\", \"banned_by\": null, \"removal_reason\": null, \"link_id\": \"t3_3v73ib\", \"link_author\": \"spilcm\", \"likes\": null, \"replies\": \"\", \"user_reports\": [], \"saved\": false, \"id\": \"cxz0us6\", \"gilded\": 0, \"archived\": false, \"stickied\": false, \"author\": \"spilcm\", \"parent_id\": \"t1_cxok2hy\", \"score\": 1, \"approved_by\": null, \"over_18\": false, \"report_reasons\": null, \"controversiality\": 0, \"body\": \"Updated! \", \"edited\": false, \"author_flair_css_class\": null, \"downs\": 0, \"body_html\": \"&lt;div class=\\\\\"md\\\\\"&gt;&lt;p&gt;Updated! &lt;/p&gt;\\\\n&lt;/div&gt;\", \"quarantine\": false, \"subreddit\": \"Python\", \"score_hidden\": false, \"name\": \"t1_cxz0us6\", \"created\": 1450153612.0, \"author_flair_text\": null, \"link_url\": \"http://www.pythonapi.com/\", \"created_utc\": 1450124812.0, \"ups\": 1, \"mod_reports\": [], \"num_reports\": null, \"distinguished\": null}}, {\"kind\": \"t1\", \"data\": {\"subreddit_id\": \"t5_2t1b7\", \"link_title\": \"Original Air Dates Of TV Shows\", \"banned_by\": null, \"removal_reason\": null, \"link_id\": \"t3_3o07p3\", \"link_author\": \"JustBlue\", \"likes\": null, \"replies\": \"\", \"user_reports\": [], \"saved\": false, \"id\": \"cxmssj6\", \"gilded\": 0, \"archived\": false, \"stickied\": false, \"author\": \"spilcm\", \"parent_id\": \"t3_3o07p3\", \"score\": 1, \"approved_by\": null, \"over_18\": false, \"report_reasons\": null, \"controversiality\": 0, \"body\": \"Looks good! Do you use any API to scrape the information?\", \"edited\": false, \"author_flair_css_class\": null, \"downs\": 0, \"body_html\": \"&lt;div class=\\\\\"md\\\\\"&gt;&lt;p&gt;Looks good! Do you use any API to scrape the information?&lt;/p&gt;\\\\n&lt;/div&gt;\", \"quarantine\": false, \"subreddit\": \"UsefulWebsites\", \"score_hidden\": false, \"name\": \"t1_cxmssj6\", \"created\": 1449254510.0, \"author_flair_text\": null, \"link_url\": \"http://www.airdates.tv/\", \"created_utc\": 1449225710.0, \"ups\": 1, \"mod_reports\": [], \"num_reports\": null, \"distinguished\": null}}, {\"kind\": \"t1\", \"data\": {\"subreddit_id\": \"t5_2t1b7\", \"link_title\": \"Helps you to find out what to eat tonight\", \"banned_by\": null, \"removal_reason\": null, \"link_id\": \"t3_3uuu3g\", \"link_author\": \"spilcm\", \"likes\": null, \"replies\": \"\", \"user_reports\": [], \"saved\": false, \"id\": \"cxlm9mt\", \"gilded\": 0, \"archived\": false, \"stickied\": false, \"author\": \"spilcm\", \"parent_id\": \"t1_cxiwlq9\", \"score\": 1, \"approved_by\": null, \"over_18\": false, \"report_reasons\": null, \"controversiality\": 0, \"body\": \"Sorry for that. \", \"edited\": false, \"author_flair_css_class\": null, \"downs\": 0, \"body_html\": \"&lt;div class=\\\\\"md\\\\\"&gt;&lt;p&gt;Sorry for that. &lt;/p&gt;\\\\n&lt;/div&gt;\", \"quarantine\": false, \"subreddit\": \"UsefulWebsites\", \"score_hidden\": false, \"name\": \"t1_cxlm9mt\", \"created\": 1449178749.0, \"author_flair_text\": null, \"link_url\": \"http://whatamigoingtoeat.com/\", \"created_utc\": 1449149949.0, \"ups\": 1, \"mod_reports\": [], \"num_reports\": null, \"distinguished\": null}}, {\"kind\": \"t1\", \"data\": {\"subreddit_id\": \"t5_2qh0y\", \"link_title\": \"Django 1.9 Released\", \"banned_by\": null, \"removal_reason\": null, \"link_id\": \"t3_3v2n4m\", \"link_author\": \"g-money-cheats\", \"likes\": null, \"replies\": \"\", \"user_reports\": [], \"saved\": false, \"id\": \"cxku2k2\", \"gilded\": 0, \"archived\": false, \"stickied\": false, \"author\": \"spilcm\", \"parent_id\": \"t3_3v2n4m\", \"score\": 1, \"approved_by\": null, \"over_18\": false, \"report_reasons\": null, \"controversiality\": 0, \"body\": \"was just starting to pick up Django again, looks like a good timing. :)\", \"edited\": false, \"author_flair_css_class\": null, \"downs\": 0, \"body_html\": \"&lt;div class=\\\\\"md\\\\\"&gt;&lt;p&gt;was just starting to pick up Django again, looks like a good timing. :)&lt;/p&gt;\\\\n&lt;/div&gt;\", \"quarantine\": false, \"subreddit\": \"Python\", \"score_hidden\": false, \"name\": \"t1_cxku2k2\", \"created\": 1449119135.0, \"author_flair_text\": null, \"link_url\": \"https://www.djangoproject.com/weblog/2015/dec/01/django-19-released/\", \"created_utc\": 1449090335.0, \"ups\": 1, \"mod_reports\": [], \"num_reports\": null, \"distinguished\": null}}, {\"kind\": \"t1\", \"data\": {\"subreddit_id\": \"t5_2qh1i\", \"link_title\": \"What small websites do you visit?\", \"banned_by\": null, \"removal_reason\": null, \"link_id\": \"t3_3hn0a7\", \"link_author\": \"hank_hiIl\", \"likes\": null, \"replies\": \"\", \"user_reports\": [], \"saved\": false, \"id\": \"cxhwj6q\", \"gilded\": 0, \"archived\": false, \"stickied\": false, \"author\": \"spilcm\", \"parent_id\": \"t3_3hn0a7\", \"score\": 1, \"approved_by\": null, \"over_18\": false, \"report_reasons\": null, \"controversiality\": 0, \"body\": \"http://www.whyineedajob.com/ - for finding cool gadgets\\\\nhttp://searchconcert.com/ - for finding available concert tickets\\\\nhttp://tvlistr.com/  - for TV shows thats airing today\\\\n\", \"edited\": false, \"author_flair_css_class\": null, \"downs\": 0, \"body_html\": \"&lt;div class=\\\\\"md\\\\\"&gt;&lt;p&gt;&lt;a href=\\\\\"http://www.whyineedajob.com/\\\\\"&gt;http://www.whyineedajob.com/&lt;/a&gt; - for finding cool gadgets\\\\n&lt;a href=\\\\\"http://searchconcert.com/\\\\\"&gt;http://searchconcert.com/&lt;/a&gt; - for finding available concert tickets\\\\n&lt;a href=\\\\\"http://tvlistr.com/\\\\\"&gt;http://tvlistr.com/&lt;/a&gt;  - for TV shows thats airing today&lt;/p&gt;\\\\n&lt;/div&gt;\", \"quarantine\": false, \"subreddit\": \"AskReddit\", \"score_hidden\": false, \"name\": \"t1_cxhwj6q\", \"created\": 1448922342.0, \"author_flair_text\": null, \"link_url\": \"https://www.reddit.com/r/AskReddit/comments/3hn0a7/what_small_websites_do_you_visit/\", \"created_utc\": 1448893542.0, \"ups\": 1, \"mod_reports\": [], \"num_reports\": null, \"distinguished\": null}}, {\"kind\": \"t1\", \"data\": {\"subreddit_id\": \"t5_2qh0y\", \"link_title\": \"TVlistr - TV Shows Airing Today\", \"banned_by\": null, \"removal_reason\": null, \"link_id\": \"t3_3ureqe\", \"link_author\": \"spilcm\", \"likes\": null, \"replies\": \"\", \"user_reports\": [], \"saved\": false, \"id\": \"cxhqtfp\", \"gilded\": 0, \"archived\": false, \"stickied\": false, \"author\": \"spilcm\", \"parent_id\": \"t1_cxhp98m\", \"score\": 1, \"approved_by\": null, \"over_18\": false, \"report_reasons\": null, \"controversiality\": 0, \"body\": \"Thanks. I'm using the API from TMDB.\", \"edited\": false, \"author_flair_css_class\": null, \"downs\": 0, \"body_html\": \"&lt;div class=\\\\\"md\\\\\"&gt;&lt;p&gt;Thanks. I&amp;#39;m using the API from TMDB.&lt;/p&gt;\\\\n&lt;/div&gt;\", \"quarantine\": false, \"subreddit\": \"Python\", \"score_hidden\": false, \"name\": \"t1_cxhqtfp\", \"created\": 1448901306.0, \"author_flair_text\": null, \"link_url\": \"http://tvlistr.com/\", \"created_utc\": 1448872506.0, \"ups\": 1, \"mod_reports\": [], \"num_reports\": null, \"distinguished\": null}}, {\"kind\": \"t1\", \"data\": {\"subreddit_id\": \"t5_31g1m\", \"link_title\": \"bashscanner: scans servers for outdated software and potential exploits.\", \"banned_by\": null, \"removal_reason\": null, \"link_id\": \"t3_3tjtyw\", \"link_author\": \"matvp91\", \"likes\": null, \"replies\": \"\", \"user_reports\": [], \"saved\": false, \"id\": \"cxcj4df\", \"gilded\": 0, \"archived\": true, \"stickied\": false, \"author\": \"spilcm\", \"parent_id\": \"t3_3tjtyw\", \"score\": 1, \"approved_by\": null, \"over_18\": false, \"report_reasons\": null, \"controversiality\": 0, \"body\": \"Pretty neat!\", \"edited\": false, \"author_flair_css_class\": null, \"downs\": 0, \"body_html\": \"&lt;div class=\\\\\"md\\\\\"&gt;&lt;p&gt;Pretty neat!&lt;/p&gt;\\\\n&lt;/div&gt;\", \"quarantine\": false, \"subreddit\": \"coolgithubprojects\", \"score_hidden\": false, \"name\": \"t1_cxcj4df\", \"created\": 1448486074.0, \"author_flair_text\": null, \"link_url\": \"https://github.com/PatrolServer/bashscanner\", \"created_utc\": 1448457274.0, \"ups\": 1, \"mod_reports\": [], \"num_reports\": null, \"distinguished\": null}}, {\"kind\": \"t1\", \"data\": {\"subreddit_id\": \"t5_2r8ot\", \"link_title\": \"Playing with APIs tutorial\", \"banned_by\": null, \"removal_reason\": null, \"link_id\": \"t3_3gmr3h\", \"link_author\": \"kmossco\", \"likes\": null, \"replies\": \"\", \"user_reports\": [], \"saved\": false, \"id\": \"cu1ct2j\", \"gilded\": 0, \"archived\": true, \"stickied\": false, \"author\": \"spilcm\", \"parent_id\": \"t1_ctzpl93\", \"score\": 1, \"approved_by\": null, \"over_18\": false, \"report_reasons\": null, \"controversiality\": 0, \"body\": \"Thanks jwjody, I have updated the posts to use the Requests built-in decoder instead of the JSON module. \", \"edited\": false, \"author_flair_css_class\": null, \"downs\": 0, \"body_html\": \"&lt;div class=\\\\\"md\\\\\"&gt;&lt;p&gt;Thanks jwjody, I have updated the posts to use the Requests built-in decoder instead of the JSON module. &lt;/p&gt;\\\\n&lt;/div&gt;\", \"quarantine\": false, \"subreddit\": \"learnpython\", \"score_hidden\": false, \"name\": \"t1_cu1ct2j\", \"created\": 1439478932.0, \"author_flair_text\": null, \"link_url\": \"https://www.reddit.com/r/learnpython/comments/3gmr3h/playing_with_apis_tutorial/\", \"created_utc\": 1439450132.0, \"ups\": 1, \"mod_reports\": [], \"num_reports\": null, \"distinguished\": null}}, {\"kind\": \"t1\", \"data\": {\"subreddit_id\": \"t5_2r8ot\", \"link_title\": \"Playing with APIs tutorial\", \"banned_by\": null, \"removal_reason\": null, \"link_id\": \"t3_3gmr3h\", \"link_author\": \"kmossco\", \"likes\": null, \"replies\": \"\", \"user_reports\": [], \"saved\": false, \"id\": \"cu0q6sh\", \"gilded\": 0, \"archived\": true, \"stickied\": false, \"author\": \"spilcm\", \"parent_id\": \"t3_3gmr3h\", \"score\": 1, \"approved_by\": null, \"over_18\": false, \"report_reasons\": null, \"controversiality\": 0, \"body\": \"Thanks for posting this. Today I added a new post on how to setup a VPS with nginx on it. (We need nginx later on to serve the Flask application.)\", \"edited\": false, \"author_flair_css_class\": null, \"downs\": 0, \"body_html\": \"&lt;div class=\\\\\"md\\\\\"&gt;&lt;p&gt;Thanks for posting this. Today I added a new post on how to setup a VPS with nginx on it. (We need nginx later on to serve the Flask application.)&lt;/p&gt;\\\\n&lt;/div&gt;\", \"quarantine\": false, \"subreddit\": \"learnpython\", \"score_hidden\": false, \"name\": \"t1_cu0q6sh\", \"created\": 1439436420.0, \"author_flair_text\": null, \"link_url\": \"https://www.reddit.com/r/learnpython/comments/3gmr3h/playing_with_apis_tutorial/\", \"created_utc\": 1439407620.0, \"ups\": 1, \"mod_reports\": [], \"num_reports\": null, \"distinguished\": null}}, {\"kind\": \"t1\", \"data\": {\"subreddit_id\": \"t5_2r8ot\", \"link_title\": \"Playing with APIs tutorial\", \"banned_by\": null, \"removal_reason\": null, \"link_id\": \"t3_3gmr3h\", \"link_author\": \"kmossco\", \"likes\": null, \"replies\": \"\", \"user_reports\": [], \"saved\": false, \"id\": \"cu0q0g0\", \"gilded\": 0, \"archived\": true, \"stickied\": false, \"author\": \"spilcm\", \"parent_id\": \"t1_cu0hpa7\", \"score\": 1, \"approved_by\": null, \"over_18\": false, \"report_reasons\": null, \"controversiality\": 0, \"body\": \"The Flask portion of the tutorial is on its way :)\", \"edited\": false, \"author_flair_css_class\": null, \"downs\": 0, \"body_html\": \"&lt;div class=\\\\\"md\\\\\"&gt;&lt;p&gt;The Flask portion of the tutorial is on its way :)&lt;/p&gt;\\\\n&lt;/div&gt;\", \"quarantine\": false, \"subreddit\": \"learnpython\", \"score_hidden\": false, \"name\": \"t1_cu0q0g0\", \"created\": 1439436174.0, \"author_flair_text\": null, \"link_url\": \"https://www.reddit.com/r/learnpython/comments/3gmr3h/playing_with_apis_tutorial/\", \"created_utc\": 1439407374.0, \"ups\": 1, \"mod_reports\": [], \"num_reports\": null, \"distinguished\": null}}, {\"kind\": \"t1\", \"data\": {\"subreddit_id\": \"t5_2r8ot\", \"link_title\": \"Need help with UnicodeDecodeError\", \"banned_by\": null, \"removal_reason\": null, \"link_id\": \"t3_3gpyho\", \"link_author\": \"[deleted]\", \"likes\": null, \"replies\": \"\", \"user_reports\": [], \"saved\": false, \"id\": \"cu0cl6s\", \"gilded\": 0, \"archived\": true, \"stickied\": false, \"author\": \"spilcm\", \"parent_id\": \"t3_3gpyho\", \"score\": 1, \"approved_by\": null, \"over_18\": false, \"report_reasons\": null, \"controversiality\": 0, \"body\": \"You could try to create a sanitize function. Something like this should do it:\\\\n\\\\ndef sanitize(str):\\\\n    return str.encode('ascii','ignore')\\\\n\", \"edited\": false, \"author_flair_css_class\": null, \"downs\": 0, \"body_html\": \"&lt;div class=\\\\\"md\\\\\"&gt;&lt;p&gt;You could try to create a sanitize function. Something like this should do it:&lt;/p&gt;\\\\n\\\\n&lt;p&gt;def sanitize(str):\\\\n    return str.encode(&amp;#39;ascii&amp;#39;,&amp;#39;ignore&amp;#39;)&lt;/p&gt;\\\\n&lt;/div&gt;\", \"quarantine\": false, \"subreddit\": \"learnpython\", \"score_hidden\": false, \"name\": \"t1_cu0cl6s\", \"created\": 1439416232.0, \"author_flair_text\": null, \"link_url\": \"https://www.reddit.com/r/learnpython/comments/3gpyho/need_help_with_unicodedecodeerror/\", \"created_utc\": 1439387432.0, \"ups\": 1, \"mod_reports\": [], \"num_reports\": null, \"distinguished\": null}}, {\"kind\": \"t1\", \"data\": {\"subreddit_id\": \"t5_2qh0y\", \"link_title\": \"How to build a website application using Python\", \"banned_by\": null, \"removal_reason\": null, \"link_id\": \"t3_3ggep9\", \"link_author\": \"spilcm\", \"likes\": null, \"replies\": \"\", \"user_reports\": [], \"saved\": false, \"id\": \"cty7s4j\", \"gilded\": 0, \"archived\": true, \"stickied\": false, \"author\": \"spilcm\", \"parent_id\": \"t1_cty7hqy\", \"score\": 5, \"approved_by\": null, \"over_18\": false, \"report_reasons\": null, \"controversiality\": 0, \"body\": \"I'm a huge fan of Django, but for this small project, I went with Flask. \", \"edited\": false, \"author_flair_css_class\": null, \"downs\": 0, \"body_html\": \"&lt;div class=\\\\\"md\\\\\"&gt;&lt;p&gt;I&amp;#39;m a huge fan of Django, but for this small project, I went with Flask. &lt;/p&gt;\\\\n&lt;/div&gt;\", \"quarantine\": false, \"subreddit\": \"Python\", \"score_hidden\": false, \"name\": \"t1_cty7s4j\", \"created\": 1439259737.0, \"author_flair_text\": null, \"link_url\": \"http://superduper.me/how-to-build-a-website-application-using-python/\", \"created_utc\": 1439230937.0, \"ups\": 5, \"mod_reports\": [], \"num_reports\": null, \"distinguished\": null}}, {\"kind\": \"t1\", \"data\": {\"subreddit_id\": \"t5_2r9lc\", \"link_title\": \"How are you handling security updates?\", \"banned_by\": null, \"removal_reason\": null, \"link_id\": \"t3_3ccjcz\", \"link_author\": \"joshlove\", \"likes\": null, \"replies\": \"\", \"user_reports\": [], \"saved\": false, \"id\": \"ctaqh66\", \"gilded\": 0, \"archived\": true, \"stickied\": false, \"author\": \"spilcm\", \"parent_id\": \"t1_csv0mwu\", \"score\": 1, \"approved_by\": null, \"over_18\": false, \"report_reasons\": null, \"controversiality\": 0, \"body\": \"Thanks for all the work! Is there a way to enable the function to apply patches from the UI?\\\\n\\\\n\", \"edited\": false, \"author_flair_css_class\": null, \"downs\": 0, \"body_html\": \"&lt;div class=\\\\\"md\\\\\"&gt;&lt;p&gt;Thanks for all the work! Is there a way to enable the function to apply patches from the UI?&lt;/p&gt;\\\\n&lt;/div&gt;\", \"quarantine\": false, \"subreddit\": \"linuxadmin\", \"score_hidden\": false, \"name\": \"t1_ctaqh66\", \"created\": 1437502949.0, \"author_flair_text\": null, \"link_url\": \"https://www.reddit.com/r/linuxadmin/comments/3ccjcz/how_are_you_handling_security_updates/\", \"created_utc\": 1437474149.0, \"ups\": 1, \"mod_reports\": [], \"num_reports\": null, \"distinguished\": null}}, {\"kind\": \"t1\", \"data\": {\"subreddit_id\": \"t5_2qh84\", \"link_title\": \"I just launched a website; a beginners guide to Amazon Web Services. I would really appreciate any feedback / comments.\", \"banned_by\": null, \"removal_reason\": null, \"link_id\": \"t3_3aygzc\", \"link_author\": \"spilcm\", \"likes\": null, \"replies\": \"\", \"user_reports\": [], \"saved\": false, \"id\": \"csigm2y\", \"gilded\": 0, \"archived\": true, \"stickied\": false, \"author\": \"spilcm\", \"parent_id\": \"t1_csh54wk\", \"score\": 1, \"approved_by\": null, \"over_18\": false, \"report_reasons\": null, \"controversiality\": 0, \"body\": \"Thanks for the feedback. I will definitely do that. \", \"edited\": false, \"author_flair_css_class\": null, \"downs\": 0, \"body_html\": \"&lt;div class=\\\\\"md\\\\\"&gt;&lt;p&gt;Thanks for the feedback. I will definitely do that. &lt;/p&gt;\\\\n&lt;/div&gt;\", \"quarantine\": false, \"subreddit\": \"aws\", \"score_hidden\": false, \"name\": \"t1_csigm2y\", \"created\": 1435283126.0, \"author_flair_text\": null, \"link_url\": \"http://awstartup.com/\", \"created_utc\": 1435254326.0, \"ups\": 1, \"mod_reports\": [], \"num_reports\": null, \"distinguished\": null}}, {\"kind\": \"t1\", \"data\": {\"subreddit_id\": \"t5_2qh84\", \"link_title\": \"I just launched a website; a beginners guide to Amazon Web Services. I would really appreciate any feedback / comments.\", \"banned_by\": null, \"removal_reason\": null, \"link_id\": \"t3_3aygzc\", \"link_author\": \"spilcm\", \"likes\": null, \"replies\": \"\", \"user_reports\": [], \"saved\": false, \"id\": \"cshd5xp\", \"gilded\": 0, \"archived\": true, \"stickied\": false, \"author\": \"spilcm\", \"parent_id\": \"t1_cshbxgr\", \"score\": 0, \"approved_by\": null, \"over_18\": false, \"report_reasons\": null, \"controversiality\": 0, \"body\": \"You are right. I am actually writing one, but it takes some time considering all 40+ services AWS is offering ;)\\\\n\", \"edited\": false, \"author_flair_css_class\": null, \"downs\": 0, \"body_html\": \"&lt;div class=\\\\\"md\\\\\"&gt;&lt;p&gt;You are right. I am actually writing one, but it takes some time considering all 40+ services AWS is offering ;)&lt;/p&gt;\\\\n&lt;/div&gt;\", \"quarantine\": false, \"subreddit\": \"aws\", \"score_hidden\": false, \"name\": \"t1_cshd5xp\", \"created\": 1435201034.0, \"author_flair_text\": null, \"link_url\": \"http://awstartup.com/\", \"created_utc\": 1435172234.0, \"ups\": 0, \"mod_reports\": [], \"num_reports\": null, \"distinguished\": null}}, {\"kind\": \"t1\", \"data\": {\"subreddit_id\": \"t5_2qh84\", \"link_title\": \"I just launched a website; a beginners guide to Amazon Web Services. I would really appreciate any feedback / comments.\", \"banned_by\": null, \"removal_reason\": null, \"link_id\": \"t3_3aygzc\", \"link_author\": \"spilcm\", \"likes\": null, \"replies\": \"\", \"user_reports\": [], \"saved\": false, \"id\": \"cshapwz\", \"gilded\": 0, \"archived\": true, \"stickied\": false, \"author\": \"spilcm\", \"parent_id\": \"t1_csh7tz6\", \"score\": 4, \"approved_by\": null, \"over_18\": false, \"report_reasons\": null, \"controversiality\": 0, \"body\": \"Aws provide excellent documentation and guides, but it can also be a bit overwhelming for beginners. I'll try to make it a bit clearer.\", \"edited\": false, \"author_flair_css_class\": null, \"downs\": 0, \"body_html\": \"&lt;div class=\\\\\"md\\\\\"&gt;&lt;p&gt;Aws provide excellent documentation and guides, but it can also be a bit overwhelming for beginners. I&amp;#39;ll try to make it a bit clearer.&lt;/p&gt;\\\\n&lt;/div&gt;\", \"quarantine\": false, \"subreddit\": \"aws\", \"score_hidden\": false, \"name\": \"t1_cshapwz\", \"created\": 1435197469.0, \"author_flair_text\": null, \"link_url\": \"http://awstartup.com/\", \"created_utc\": 1435168669.0, \"ups\": 4, \"mod_reports\": [], \"num_reports\": null, \"distinguished\": null}}, {\"kind\": \"t1\", \"data\": {\"subreddit_id\": \"t5_2rzmn\", \"link_title\": \"I just launched a new website created for people that are interested and curious about what DevOps is. I would really appreciate any feedback / comments you guys have on the website.\", \"banned_by\": null, \"removal_reason\": null, \"link_id\": \"t3_2g4p45\", \"link_author\": \"spilcm\", \"likes\": null, \"replies\": \"\", \"user_reports\": [], \"saved\": false, \"id\": \"ckg9lk4\", \"gilded\": 0, \"archived\": true, \"stickied\": false, \"author\": \"spilcm\", \"parent_id\": \"t1_ckfv7dw\", \"score\": 1, \"approved_by\": null, \"over_18\": false, \"report_reasons\": null, \"controversiality\": 0, \"body\": \"I may have a bit of a bias of python, so any suggestion of Ruby (or anything else) are \\\\nvery welcome. :)\", \"edited\": false, \"author_flair_css_class\": null, \"downs\": 0, \"body_html\": \"&lt;div class=\\\\\"md\\\\\"&gt;&lt;p&gt;I may have a bit of a bias of python, so any suggestion of Ruby (or anything else) are \\\\nvery welcome. :)&lt;/p&gt;\\\\n&lt;/div&gt;\", \"quarantine\": false, \"subreddit\": \"devops\", \"score_hidden\": false, \"name\": \"t1_ckg9lk4\", \"created\": 1410559047.0, \"author_flair_text\": null, \"link_url\": \"http://www.devopsforbeginners.com/\", \"created_utc\": 1410530247.0, \"ups\": 1, \"mod_reports\": [], \"num_reports\": null, \"distinguished\": null}}, {\"kind\": \"t1\", \"data\": {\"subreddit_id\": \"t5_2rzmn\", \"link_title\": \"I just launched a new website created for people that are interested and curious about what DevOps is. I would really appreciate any feedback / comments you guys have on the website.\", \"banned_by\": null, \"removal_reason\": null, \"link_id\": \"t3_2g4p45\", \"link_author\": \"spilcm\", \"likes\": null, \"replies\": \"\", \"user_reports\": [], \"saved\": false, \"id\": \"ckg9hqq\", \"gilded\": 0, \"archived\": true, \"stickied\": false, \"author\": \"spilcm\", \"parent_id\": \"t1_ckfwxsw\", \"score\": 1, \"approved_by\": null, \"over_18\": false, \"report_reasons\": null, \"controversiality\": 0, \"body\": \"Thank you!\", \"edited\": false, \"author_flair_css_class\": null, \"downs\": 0, \"body_html\": \"&lt;div class=\\\\\"md\\\\\"&gt;&lt;p&gt;Thank you!&lt;/p&gt;\\\\n&lt;/div&gt;\", \"quarantine\": false, \"subreddit\": \"devops\", \"score_hidden\": false, \"name\": \"t1_ckg9hqq\", \"created\": 1410558797.0, \"author_flair_text\": null, \"link_url\": \"http://www.devopsforbeginners.com/\", \"created_utc\": 1410529997.0, \"ups\": 1, \"mod_reports\": [], \"num_reports\": null, \"distinguished\": null}}, {\"kind\": \"t1\", \"data\": {\"subreddit_id\": \"t5_2rzmn\", \"link_title\": \"I just launched a new website created for people that are interested and curious about what DevOps is. I would really appreciate any feedback / comments you guys have on the website.\", \"banned_by\": null, \"removal_reason\": null, \"link_id\": \"t3_2g4p45\", \"link_author\": \"spilcm\", \"likes\": null, \"replies\": \"\", \"user_reports\": [], \"saved\": false, \"id\": \"ckg9gn9\", \"gilded\": 0, \"archived\": true, \"stickied\": false, \"author\": \"spilcm\", \"parent_id\": \"t1_ckg838l\", \"score\": 2, \"approved_by\": null, \"over_18\": false, \"report_reasons\": null, \"controversiality\": 0, \"body\": \"Thank you for your notes. \\\\nThe content (and the lists) are not even close to be complete. We are just getting started :) Thanks for your suggestion. (removed Bitbucket from the list. )\\\\n\\\\n\\\\n\", \"edited\": false, \"author_flair_css_class\": null, \"downs\": 0, \"body_html\": \"&lt;div class=\\\\\"md\\\\\"&gt;&lt;p&gt;Thank you for your notes. \\\\nThe content (and the lists) are not even close to be complete. We are just getting started :) Thanks for your suggestion. (removed Bitbucket from the list. )&lt;/p&gt;\\\\n&lt;/div&gt;\", \"quarantine\": false, \"subreddit\": \"devops\", \"score_hidden\": false, \"name\": \"t1_ckg9gn9\", \"created\": 1410558724.0, \"author_flair_text\": null, \"link_url\": \"http://www.devopsforbeginners.com/\", \"created_utc\": 1410529924.0, \"ups\": 2, \"mod_reports\": [], \"num_reports\": null, \"distinguished\": null}}, {\"kind\": \"t1\", \"data\": {\"subreddit_id\": \"t5_2rzmn\", \"link_title\": \"I just launched a new website created for people that are interested and curious about what DevOps is. I would really appreciate any feedback / comments you guys have on the website.\", \"banned_by\": null, \"removal_reason\": null, \"link_id\": \"t3_2g4p45\", \"link_author\": \"spilcm\", \"likes\": null, \"replies\": \"\", \"user_reports\": [], \"saved\": false, \"id\": \"ckfnxlu\", \"gilded\": 0, \"archived\": true, \"stickied\": false, \"author\": \"spilcm\", \"parent_id\": \"t1_ckfnepk\", \"score\": 0, \"approved_by\": null, \"over_18\": false, \"report_reasons\": null, \"controversiality\": 1, \"body\": \"Thank you for the feedback. Vagrant is an important DevOps tool to improve the overall workflow for developers and operation engineers. Our goal is to write about interesting things (tools, news etc.) related to DevOps.\", \"edited\": false, \"author_flair_css_class\": null, \"downs\": 0, \"body_html\": \"&lt;div class=\\\\\"md\\\\\"&gt;&lt;p&gt;Thank you for the feedback. Vagrant is an important DevOps tool to improve the overall workflow for developers and operation engineers. Our goal is to write about interesting things (tools, news etc.) related to DevOps.&lt;/p&gt;\\\\n&lt;/div&gt;\", \"quarantine\": false, \"subreddit\": \"devops\", \"score_hidden\": false, \"name\": \"t1_ckfnxlu\", \"created\": 1410497014.0, \"author_flair_text\": null, \"link_url\": \"http://www.devopsforbeginners.com/\", \"created_utc\": 1410468214.0, \"ups\": 0, \"mod_reports\": [], \"num_reports\": null, \"distinguished\": null}}, {\"kind\": \"t1\", \"data\": {\"subreddit_id\": \"t5_2qh4v\", \"link_title\": \"Fast, searchable Django documentation\", \"banned_by\": null, \"removal_reason\": null, \"link_id\": \"t3_2clzh8\", \"link_author\": \"ThibautCourouble\", \"likes\": null, \"replies\": \"\", \"user_reports\": [], \"saved\": false, \"id\": \"cjgtelt\", \"gilded\": 0, \"archived\": true, \"stickied\": false, \"author\": \"spilcm\", \"parent_id\": \"t3_2clzh8\", \"score\": 1, \"approved_by\": null, \"over_18\": false, \"report_reasons\": null, \"controversiality\": 0, \"body\": \"Pretty neat stuff!\", \"edited\": false, \"author_flair_css_class\": null, \"downs\": 0, \"body_html\": \"&lt;div class=\\\\\"md\\\\\"&gt;&lt;p&gt;Pretty neat stuff!&lt;/p&gt;\\\\n&lt;/div&gt;\", \"quarantine\": false, \"subreddit\": \"django\", \"score_hidden\": false, \"name\": \"t1_cjgtelt\", \"created\": 1407209690.0, \"author_flair_text\": null, \"link_url\": \"http://devdocs.io/django/\", \"created_utc\": 1407180890.0, \"ups\": 1, \"mod_reports\": [], \"num_reports\": null, \"distinguished\": null}}, {\"kind\": \"t1\", \"data\": {\"subreddit_id\": \"t5_2qh4v\", \"link_title\": \"A flexible Django CMS solution?\", \"banned_by\": null, \"removal_reason\": null, \"link_id\": \"t3_2cc36j\", \"link_author\": \"[deleted]\", \"likes\": null, \"replies\": \"\", \"user_reports\": [], \"saved\": false, \"id\": \"cjeapga\", \"gilded\": 0, \"archived\": true, \"stickied\": false, \"author\": \"spilcm\", \"parent_id\": \"t3_2cc36j\", \"score\": 6, \"approved_by\": null, \"over_18\": false, \"report_reasons\": null, \"controversiality\": 0, \"body\": \"Check out Mezzanine (http://mezzanine.jupo.org/)\", \"edited\": false, \"author_flair_css_class\": null, \"downs\": 0, \"body_html\": \"&lt;div class=\\\\\"md\\\\\"&gt;&lt;p&gt;Check out Mezzanine (&lt;a href=\\\\\"http://mezzanine.jupo.org/\\\\\"&gt;http://mezzanine.jupo.org/&lt;/a&gt;)&lt;/p&gt;\\\\n&lt;/div&gt;\", \"quarantine\": false, \"subreddit\": \"django\", \"score_hidden\": false, \"name\": \"t1_cjeapga\", \"created\": 1406953576.0, \"author_flair_text\": null, \"link_url\": \"https://www.reddit.com/r/django/comments/2cc36j/a_flexible_django_cms_solution/\", \"created_utc\": 1406924776.0, \"ups\": 6, \"mod_reports\": [], \"num_reports\": null, \"distinguished\": null}}, {\"kind\": \"t1\", \"data\": {\"subreddit_id\": \"t5_2qh4v\", \"link_title\": \"Send email from apache\", \"banned_by\": null, \"removal_reason\": null, \"link_id\": \"t3_28ijjd\", \"link_author\": \"husky11\", \"likes\": null, \"replies\": \"\", \"user_reports\": [], \"saved\": false, \"id\": \"cibihvk\", \"gilded\": 0, \"archived\": true, \"stickied\": false, \"author\": \"spilcm\", \"parent_id\": \"t3_28ijjd\", \"score\": 2, \"approved_by\": null, \"over_18\": false, \"report_reasons\": null, \"controversiality\": 0, \"body\": \"Try to change EMAIL_USE_TLS to True \\\\n\\\\nand then add this line:\\\\nDEFAULT_FROM_EMAIL = EMAIL_HOST_USER\", \"edited\": false, \"author_flair_css_class\": null, \"downs\": 0, \"body_html\": \"&lt;div class=\\\\\"md\\\\\"&gt;&lt;p&gt;Try to change EMAIL_USE_TLS to True &lt;/p&gt;\\\\n\\\\n&lt;p&gt;and then add this line:\\\\nDEFAULT_FROM_EMAIL = EMAIL_HOST_USER&lt;/p&gt;\\\\n&lt;/div&gt;\", \"quarantine\": false, \"subreddit\": \"django\", \"score_hidden\": false, \"name\": \"t1_cibihvk\", \"created\": 1403204854.0, \"author_flair_text\": null, \"link_url\": \"https://www.reddit.com/r/django/comments/28ijjd/send_email_from_apache/\", \"created_utc\": 1403176054.0, \"ups\": 2, \"mod_reports\": [], \"num_reports\": null, \"distinguished\": null}}, {\"kind\": \"t1\", \"data\": {\"subreddit_id\": \"t5_2qh0y\", \"link_title\": \"Announcing the first ever Python Indie Bundle sale!\", \"banned_by\": null, \"removal_reason\": null, \"link_id\": \"t3_1rq7xd\", \"link_author\": \"pydanny\", \"likes\": null, \"replies\": \"\", \"user_reports\": [], \"saved\": false, \"id\": \"cdr6mqv\", \"gilded\": 0, \"archived\": true, \"stickied\": false, \"author\": \"spilcm\", \"parent_id\": \"t3_1rq7xd\", \"score\": 1, \"approved_by\": null, \"over_18\": false, \"report_reasons\": null, \"controversiality\": 0, \"body\": \"I just picked up the bundle. Thanks for putting this together. \", \"edited\": false, \"author_flair_css_class\": null, \"downs\": 0, \"body_html\": \"&lt;div class=\\\\\"md\\\\\"&gt;&lt;p&gt;I just picked up the bundle. Thanks for putting this together. &lt;/p&gt;\\\\n&lt;/div&gt;\", \"quarantine\": false, \"subreddit\": \"Python\", \"score_hidden\": false, \"name\": \"t1_cdr6mqv\", \"created\": 1385962384.0, \"author_flair_text\": null, \"link_url\": \"http://www.pythonindiebundle.com/\", \"created_utc\": 1385933584.0, \"ups\": 1, \"mod_reports\": [], \"num_reports\": null, \"distinguished\": null}}], \"after\": \"t1_cdr6mqv\", \"before\": null}}</p>]"
      ]
     },
     "execution_count": 22,
     "metadata": {},
     "output_type": "execute_result"
    }
   ],
   "source": [
    "# Extract first three elements from the list of contents\n",
    "soup.body.contents[0:3]"
   ]
  },
  {
   "cell_type": "markdown",
   "metadata": {},
   "source": [
    "Instead of getting them as a list, you can iterate over a tag’s children using the .children generator:"
   ]
  },
  {
   "cell_type": "code",
   "execution_count": 23,
   "metadata": {
    "collapsed": false
   },
   "outputs": [
    {
     "data": {
      "text/plain": [
       "<listiterator at 0x114cb9d50>"
      ]
     },
     "execution_count": 23,
     "metadata": {},
     "output_type": "execute_result"
    }
   ],
   "source": [
    "soup.body.children"
   ]
  },
  {
   "cell_type": "code",
   "execution_count": 24,
   "metadata": {
    "collapsed": false
   },
   "outputs": [
    {
     "name": "stdout",
     "output_type": "stream",
     "text": [
      "<p>{\"kind\": \"Listing\", \"data\": {\"modhash\": \"\", \"children\": [{\"kind\": \"t1\", \"data\": {\"subreddit_id\": \"t5_2t1b7\", \"link_title\": \"howcarworks.com - learn all about how cars work\", \"banned_by\": null, \"removal_reason\": null, \"link_id\": \"t3_3wjyyc\", \"link_author\": \"cosmicservant\", \"likes\": null, \"replies\": \"\", \"user_reports\": [], \"saved\": false, \"id\": \"cxz0xn4\", \"gilded\": 0, \"archived\": false, \"stickied\": false, \"author\": \"spilcm\", \"parent_id\": \"t3_3wjyyc\", \"score\": 1, \"approved_by\": null, \"over_18\": false, \"report_reasons\": null, \"controversiality\": 0, \"body\": \"This great for a novice like me :)\", \"edited\": false, \"author_flair_css_class\": null, \"downs\": 0, \"body_html\": \"&lt;div class=\\\"md\\\"&gt;&lt;p&gt;This great for a novice like me :)&lt;/p&gt;\\n&lt;/div&gt;\", \"quarantine\": false, \"subreddit\": \"UsefulWebsites\", \"score_hidden\": false, \"name\": \"t1_cxz0xn4\", \"created\": 1450153738.0, \"author_flair_text\": null, \"link_url\": \"http://www.howacarworks.com\", \"created_utc\": 1450124938.0, \"ups\": 1, \"mod_reports\": [], \"num_reports\": null, \"distinguished\": null}}, {\"kind\": \"t1\", \"data\": {\"subreddit_id\": \"t5_2qh0y\", \"link_title\": \"Pythonapi collects API / wrappers.\", \"banned_by\": null, \"removal_reason\": null, \"link_id\": \"t3_3v73ib\", \"link_author\": \"spilcm\", \"likes\": null, \"replies\": \"\", \"user_reports\": [], \"saved\": false, \"id\": \"cxz0us6\", \"gilded\": 0, \"archived\": false, \"stickied\": false, \"author\": \"spilcm\", \"parent_id\": \"t1_cxok2hy\", \"score\": 1, \"approved_by\": null, \"over_18\": false, \"report_reasons\": null, \"controversiality\": 0, \"body\": \"Updated! \", \"edited\": false, \"author_flair_css_class\": null, \"downs\": 0, \"body_html\": \"&lt;div class=\\\"md\\\"&gt;&lt;p&gt;Updated! &lt;/p&gt;\\n&lt;/div&gt;\", \"quarantine\": false, \"subreddit\": \"Python\", \"score_hidden\": false, \"name\": \"t1_cxz0us6\", \"created\": 1450153612.0, \"author_flair_text\": null, \"link_url\": \"http://www.pythonapi.com/\", \"created_utc\": 1450124812.0, \"ups\": 1, \"mod_reports\": [], \"num_reports\": null, \"distinguished\": null}}, {\"kind\": \"t1\", \"data\": {\"subreddit_id\": \"t5_2t1b7\", \"link_title\": \"Original Air Dates Of TV Shows\", \"banned_by\": null, \"removal_reason\": null, \"link_id\": \"t3_3o07p3\", \"link_author\": \"JustBlue\", \"likes\": null, \"replies\": \"\", \"user_reports\": [], \"saved\": false, \"id\": \"cxmssj6\", \"gilded\": 0, \"archived\": false, \"stickied\": false, \"author\": \"spilcm\", \"parent_id\": \"t3_3o07p3\", \"score\": 1, \"approved_by\": null, \"over_18\": false, \"report_reasons\": null, \"controversiality\": 0, \"body\": \"Looks good! Do you use any API to scrape the information?\", \"edited\": false, \"author_flair_css_class\": null, \"downs\": 0, \"body_html\": \"&lt;div class=\\\"md\\\"&gt;&lt;p&gt;Looks good! Do you use any API to scrape the information?&lt;/p&gt;\\n&lt;/div&gt;\", \"quarantine\": false, \"subreddit\": \"UsefulWebsites\", \"score_hidden\": false, \"name\": \"t1_cxmssj6\", \"created\": 1449254510.0, \"author_flair_text\": null, \"link_url\": \"http://www.airdates.tv/\", \"created_utc\": 1449225710.0, \"ups\": 1, \"mod_reports\": [], \"num_reports\": null, \"distinguished\": null}}, {\"kind\": \"t1\", \"data\": {\"subreddit_id\": \"t5_2t1b7\", \"link_title\": \"Helps you to find out what to eat tonight\", \"banned_by\": null, \"removal_reason\": null, \"link_id\": \"t3_3uuu3g\", \"link_author\": \"spilcm\", \"likes\": null, \"replies\": \"\", \"user_reports\": [], \"saved\": false, \"id\": \"cxlm9mt\", \"gilded\": 0, \"archived\": false, \"stickied\": false, \"author\": \"spilcm\", \"parent_id\": \"t1_cxiwlq9\", \"score\": 1, \"approved_by\": null, \"over_18\": false, \"report_reasons\": null, \"controversiality\": 0, \"body\": \"Sorry for that. \", \"edited\": false, \"author_flair_css_class\": null, \"downs\": 0, \"body_html\": \"&lt;div class=\\\"md\\\"&gt;&lt;p&gt;Sorry for that. &lt;/p&gt;\\n&lt;/div&gt;\", \"quarantine\": false, \"subreddit\": \"UsefulWebsites\", \"score_hidden\": false, \"name\": \"t1_cxlm9mt\", \"created\": 1449178749.0, \"author_flair_text\": null, \"link_url\": \"http://whatamigoingtoeat.com/\", \"created_utc\": 1449149949.0, \"ups\": 1, \"mod_reports\": [], \"num_reports\": null, \"distinguished\": null}}, {\"kind\": \"t1\", \"data\": {\"subreddit_id\": \"t5_2qh0y\", \"link_title\": \"Django 1.9 Released\", \"banned_by\": null, \"removal_reason\": null, \"link_id\": \"t3_3v2n4m\", \"link_author\": \"g-money-cheats\", \"likes\": null, \"replies\": \"\", \"user_reports\": [], \"saved\": false, \"id\": \"cxku2k2\", \"gilded\": 0, \"archived\": false, \"stickied\": false, \"author\": \"spilcm\", \"parent_id\": \"t3_3v2n4m\", \"score\": 1, \"approved_by\": null, \"over_18\": false, \"report_reasons\": null, \"controversiality\": 0, \"body\": \"was just starting to pick up Django again, looks like a good timing. :)\", \"edited\": false, \"author_flair_css_class\": null, \"downs\": 0, \"body_html\": \"&lt;div class=\\\"md\\\"&gt;&lt;p&gt;was just starting to pick up Django again, looks like a good timing. :)&lt;/p&gt;\\n&lt;/div&gt;\", \"quarantine\": false, \"subreddit\": \"Python\", \"score_hidden\": false, \"name\": \"t1_cxku2k2\", \"created\": 1449119135.0, \"author_flair_text\": null, \"link_url\": \"https://www.djangoproject.com/weblog/2015/dec/01/django-19-released/\", \"created_utc\": 1449090335.0, \"ups\": 1, \"mod_reports\": [], \"num_reports\": null, \"distinguished\": null}}, {\"kind\": \"t1\", \"data\": {\"subreddit_id\": \"t5_2qh1i\", \"link_title\": \"What small websites do you visit?\", \"banned_by\": null, \"removal_reason\": null, \"link_id\": \"t3_3hn0a7\", \"link_author\": \"hank_hiIl\", \"likes\": null, \"replies\": \"\", \"user_reports\": [], \"saved\": false, \"id\": \"cxhwj6q\", \"gilded\": 0, \"archived\": false, \"stickied\": false, \"author\": \"spilcm\", \"parent_id\": \"t3_3hn0a7\", \"score\": 1, \"approved_by\": null, \"over_18\": false, \"report_reasons\": null, \"controversiality\": 0, \"body\": \"http://www.whyineedajob.com/ - for finding cool gadgets\\nhttp://searchconcert.com/ - for finding available concert tickets\\nhttp://tvlistr.com/  - for TV shows thats airing today\\n\", \"edited\": false, \"author_flair_css_class\": null, \"downs\": 0, \"body_html\": \"&lt;div class=\\\"md\\\"&gt;&lt;p&gt;&lt;a href=\\\"http://www.whyineedajob.com/\\\"&gt;http://www.whyineedajob.com/&lt;/a&gt; - for finding cool gadgets\\n&lt;a href=\\\"http://searchconcert.com/\\\"&gt;http://searchconcert.com/&lt;/a&gt; - for finding available concert tickets\\n&lt;a href=\\\"http://tvlistr.com/\\\"&gt;http://tvlistr.com/&lt;/a&gt;  - for TV shows thats airing today&lt;/p&gt;\\n&lt;/div&gt;\", \"quarantine\": false, \"subreddit\": \"AskReddit\", \"score_hidden\": false, \"name\": \"t1_cxhwj6q\", \"created\": 1448922342.0, \"author_flair_text\": null, \"link_url\": \"https://www.reddit.com/r/AskReddit/comments/3hn0a7/what_small_websites_do_you_visit/\", \"created_utc\": 1448893542.0, \"ups\": 1, \"mod_reports\": [], \"num_reports\": null, \"distinguished\": null}}, {\"kind\": \"t1\", \"data\": {\"subreddit_id\": \"t5_2qh0y\", \"link_title\": \"TVlistr - TV Shows Airing Today\", \"banned_by\": null, \"removal_reason\": null, \"link_id\": \"t3_3ureqe\", \"link_author\": \"spilcm\", \"likes\": null, \"replies\": \"\", \"user_reports\": [], \"saved\": false, \"id\": \"cxhqtfp\", \"gilded\": 0, \"archived\": false, \"stickied\": false, \"author\": \"spilcm\", \"parent_id\": \"t1_cxhp98m\", \"score\": 1, \"approved_by\": null, \"over_18\": false, \"report_reasons\": null, \"controversiality\": 0, \"body\": \"Thanks. I'm using the API from TMDB.\", \"edited\": false, \"author_flair_css_class\": null, \"downs\": 0, \"body_html\": \"&lt;div class=\\\"md\\\"&gt;&lt;p&gt;Thanks. I&amp;#39;m using the API from TMDB.&lt;/p&gt;\\n&lt;/div&gt;\", \"quarantine\": false, \"subreddit\": \"Python\", \"score_hidden\": false, \"name\": \"t1_cxhqtfp\", \"created\": 1448901306.0, \"author_flair_text\": null, \"link_url\": \"http://tvlistr.com/\", \"created_utc\": 1448872506.0, \"ups\": 1, \"mod_reports\": [], \"num_reports\": null, \"distinguished\": null}}, {\"kind\": \"t1\", \"data\": {\"subreddit_id\": \"t5_31g1m\", \"link_title\": \"bashscanner: scans servers for outdated software and potential exploits.\", \"banned_by\": null, \"removal_reason\": null, \"link_id\": \"t3_3tjtyw\", \"link_author\": \"matvp91\", \"likes\": null, \"replies\": \"\", \"user_reports\": [], \"saved\": false, \"id\": \"cxcj4df\", \"gilded\": 0, \"archived\": true, \"stickied\": false, \"author\": \"spilcm\", \"parent_id\": \"t3_3tjtyw\", \"score\": 1, \"approved_by\": null, \"over_18\": false, \"report_reasons\": null, \"controversiality\": 0, \"body\": \"Pretty neat!\", \"edited\": false, \"author_flair_css_class\": null, \"downs\": 0, \"body_html\": \"&lt;div class=\\\"md\\\"&gt;&lt;p&gt;Pretty neat!&lt;/p&gt;\\n&lt;/div&gt;\", \"quarantine\": false, \"subreddit\": \"coolgithubprojects\", \"score_hidden\": false, \"name\": \"t1_cxcj4df\", \"created\": 1448486074.0, \"author_flair_text\": null, \"link_url\": \"https://github.com/PatrolServer/bashscanner\", \"created_utc\": 1448457274.0, \"ups\": 1, \"mod_reports\": [], \"num_reports\": null, \"distinguished\": null}}, {\"kind\": \"t1\", \"data\": {\"subreddit_id\": \"t5_2r8ot\", \"link_title\": \"Playing with APIs tutorial\", \"banned_by\": null, \"removal_reason\": null, \"link_id\": \"t3_3gmr3h\", \"link_author\": \"kmossco\", \"likes\": null, \"replies\": \"\", \"user_reports\": [], \"saved\": false, \"id\": \"cu1ct2j\", \"gilded\": 0, \"archived\": true, \"stickied\": false, \"author\": \"spilcm\", \"parent_id\": \"t1_ctzpl93\", \"score\": 1, \"approved_by\": null, \"over_18\": false, \"report_reasons\": null, \"controversiality\": 0, \"body\": \"Thanks jwjody, I have updated the posts to use the Requests built-in decoder instead of the JSON module. \", \"edited\": false, \"author_flair_css_class\": null, \"downs\": 0, \"body_html\": \"&lt;div class=\\\"md\\\"&gt;&lt;p&gt;Thanks jwjody, I have updated the posts to use the Requests built-in decoder instead of the JSON module. &lt;/p&gt;\\n&lt;/div&gt;\", \"quarantine\": false, \"subreddit\": \"learnpython\", \"score_hidden\": false, \"name\": \"t1_cu1ct2j\", \"created\": 1439478932.0, \"author_flair_text\": null, \"link_url\": \"https://www.reddit.com/r/learnpython/comments/3gmr3h/playing_with_apis_tutorial/\", \"created_utc\": 1439450132.0, \"ups\": 1, \"mod_reports\": [], \"num_reports\": null, \"distinguished\": null}}, {\"kind\": \"t1\", \"data\": {\"subreddit_id\": \"t5_2r8ot\", \"link_title\": \"Playing with APIs tutorial\", \"banned_by\": null, \"removal_reason\": null, \"link_id\": \"t3_3gmr3h\", \"link_author\": \"kmossco\", \"likes\": null, \"replies\": \"\", \"user_reports\": [], \"saved\": false, \"id\": \"cu0q6sh\", \"gilded\": 0, \"archived\": true, \"stickied\": false, \"author\": \"spilcm\", \"parent_id\": \"t3_3gmr3h\", \"score\": 1, \"approved_by\": null, \"over_18\": false, \"report_reasons\": null, \"controversiality\": 0, \"body\": \"Thanks for posting this. Today I added a new post on how to setup a VPS with nginx on it. (We need nginx later on to serve the Flask application.)\", \"edited\": false, \"author_flair_css_class\": null, \"downs\": 0, \"body_html\": \"&lt;div class=\\\"md\\\"&gt;&lt;p&gt;Thanks for posting this. Today I added a new post on how to setup a VPS with nginx on it. (We need nginx later on to serve the Flask application.)&lt;/p&gt;\\n&lt;/div&gt;\", \"quarantine\": false, \"subreddit\": \"learnpython\", \"score_hidden\": false, \"name\": \"t1_cu0q6sh\", \"created\": 1439436420.0, \"author_flair_text\": null, \"link_url\": \"https://www.reddit.com/r/learnpython/comments/3gmr3h/playing_with_apis_tutorial/\", \"created_utc\": 1439407620.0, \"ups\": 1, \"mod_reports\": [], \"num_reports\": null, \"distinguished\": null}}, {\"kind\": \"t1\", \"data\": {\"subreddit_id\": \"t5_2r8ot\", \"link_title\": \"Playing with APIs tutorial\", \"banned_by\": null, \"removal_reason\": null, \"link_id\": \"t3_3gmr3h\", \"link_author\": \"kmossco\", \"likes\": null, \"replies\": \"\", \"user_reports\": [], \"saved\": false, \"id\": \"cu0q0g0\", \"gilded\": 0, \"archived\": true, \"stickied\": false, \"author\": \"spilcm\", \"parent_id\": \"t1_cu0hpa7\", \"score\": 1, \"approved_by\": null, \"over_18\": false, \"report_reasons\": null, \"controversiality\": 0, \"body\": \"The Flask portion of the tutorial is on its way :)\", \"edited\": false, \"author_flair_css_class\": null, \"downs\": 0, \"body_html\": \"&lt;div class=\\\"md\\\"&gt;&lt;p&gt;The Flask portion of the tutorial is on its way :)&lt;/p&gt;\\n&lt;/div&gt;\", \"quarantine\": false, \"subreddit\": \"learnpython\", \"score_hidden\": false, \"name\": \"t1_cu0q0g0\", \"created\": 1439436174.0, \"author_flair_text\": null, \"link_url\": \"https://www.reddit.com/r/learnpython/comments/3gmr3h/playing_with_apis_tutorial/\", \"created_utc\": 1439407374.0, \"ups\": 1, \"mod_reports\": [], \"num_reports\": null, \"distinguished\": null}}, {\"kind\": \"t1\", \"data\": {\"subreddit_id\": \"t5_2r8ot\", \"link_title\": \"Need help with UnicodeDecodeError\", \"banned_by\": null, \"removal_reason\": null, \"link_id\": \"t3_3gpyho\", \"link_author\": \"[deleted]\", \"likes\": null, \"replies\": \"\", \"user_reports\": [], \"saved\": false, \"id\": \"cu0cl6s\", \"gilded\": 0, \"archived\": true, \"stickied\": false, \"author\": \"spilcm\", \"parent_id\": \"t3_3gpyho\", \"score\": 1, \"approved_by\": null, \"over_18\": false, \"report_reasons\": null, \"controversiality\": 0, \"body\": \"You could try to create a sanitize function. Something like this should do it:\\n\\ndef sanitize(str):\\n    return str.encode('ascii','ignore')\\n\", \"edited\": false, \"author_flair_css_class\": null, \"downs\": 0, \"body_html\": \"&lt;div class=\\\"md\\\"&gt;&lt;p&gt;You could try to create a sanitize function. Something like this should do it:&lt;/p&gt;\\n\\n&lt;p&gt;def sanitize(str):\\n    return str.encode(&amp;#39;ascii&amp;#39;,&amp;#39;ignore&amp;#39;)&lt;/p&gt;\\n&lt;/div&gt;\", \"quarantine\": false, \"subreddit\": \"learnpython\", \"score_hidden\": false, \"name\": \"t1_cu0cl6s\", \"created\": 1439416232.0, \"author_flair_text\": null, \"link_url\": \"https://www.reddit.com/r/learnpython/comments/3gpyho/need_help_with_unicodedecodeerror/\", \"created_utc\": 1439387432.0, \"ups\": 1, \"mod_reports\": [], \"num_reports\": null, \"distinguished\": null}}, {\"kind\": \"t1\", \"data\": {\"subreddit_id\": \"t5_2qh0y\", \"link_title\": \"How to build a website application using Python\", \"banned_by\": null, \"removal_reason\": null, \"link_id\": \"t3_3ggep9\", \"link_author\": \"spilcm\", \"likes\": null, \"replies\": \"\", \"user_reports\": [], \"saved\": false, \"id\": \"cty7s4j\", \"gilded\": 0, \"archived\": true, \"stickied\": false, \"author\": \"spilcm\", \"parent_id\": \"t1_cty7hqy\", \"score\": 5, \"approved_by\": null, \"over_18\": false, \"report_reasons\": null, \"controversiality\": 0, \"body\": \"I'm a huge fan of Django, but for this small project, I went with Flask. \", \"edited\": false, \"author_flair_css_class\": null, \"downs\": 0, \"body_html\": \"&lt;div class=\\\"md\\\"&gt;&lt;p&gt;I&amp;#39;m a huge fan of Django, but for this small project, I went with Flask. &lt;/p&gt;\\n&lt;/div&gt;\", \"quarantine\": false, \"subreddit\": \"Python\", \"score_hidden\": false, \"name\": \"t1_cty7s4j\", \"created\": 1439259737.0, \"author_flair_text\": null, \"link_url\": \"http://superduper.me/how-to-build-a-website-application-using-python/\", \"created_utc\": 1439230937.0, \"ups\": 5, \"mod_reports\": [], \"num_reports\": null, \"distinguished\": null}}, {\"kind\": \"t1\", \"data\": {\"subreddit_id\": \"t5_2r9lc\", \"link_title\": \"How are you handling security updates?\", \"banned_by\": null, \"removal_reason\": null, \"link_id\": \"t3_3ccjcz\", \"link_author\": \"joshlove\", \"likes\": null, \"replies\": \"\", \"user_reports\": [], \"saved\": false, \"id\": \"ctaqh66\", \"gilded\": 0, \"archived\": true, \"stickied\": false, \"author\": \"spilcm\", \"parent_id\": \"t1_csv0mwu\", \"score\": 1, \"approved_by\": null, \"over_18\": false, \"report_reasons\": null, \"controversiality\": 0, \"body\": \"Thanks for all the work! Is there a way to enable the function to apply patches from the UI?\\n\\n\", \"edited\": false, \"author_flair_css_class\": null, \"downs\": 0, \"body_html\": \"&lt;div class=\\\"md\\\"&gt;&lt;p&gt;Thanks for all the work! Is there a way to enable the function to apply patches from the UI?&lt;/p&gt;\\n&lt;/div&gt;\", \"quarantine\": false, \"subreddit\": \"linuxadmin\", \"score_hidden\": false, \"name\": \"t1_ctaqh66\", \"created\": 1437502949.0, \"author_flair_text\": null, \"link_url\": \"https://www.reddit.com/r/linuxadmin/comments/3ccjcz/how_are_you_handling_security_updates/\", \"created_utc\": 1437474149.0, \"ups\": 1, \"mod_reports\": [], \"num_reports\": null, \"distinguished\": null}}, {\"kind\": \"t1\", \"data\": {\"subreddit_id\": \"t5_2qh84\", \"link_title\": \"I just launched a website; a beginners guide to Amazon Web Services. I would really appreciate any feedback / comments.\", \"banned_by\": null, \"removal_reason\": null, \"link_id\": \"t3_3aygzc\", \"link_author\": \"spilcm\", \"likes\": null, \"replies\": \"\", \"user_reports\": [], \"saved\": false, \"id\": \"csigm2y\", \"gilded\": 0, \"archived\": true, \"stickied\": false, \"author\": \"spilcm\", \"parent_id\": \"t1_csh54wk\", \"score\": 1, \"approved_by\": null, \"over_18\": false, \"report_reasons\": null, \"controversiality\": 0, \"body\": \"Thanks for the feedback. I will definitely do that. \", \"edited\": false, \"author_flair_css_class\": null, \"downs\": 0, \"body_html\": \"&lt;div class=\\\"md\\\"&gt;&lt;p&gt;Thanks for the feedback. I will definitely do that. &lt;/p&gt;\\n&lt;/div&gt;\", \"quarantine\": false, \"subreddit\": \"aws\", \"score_hidden\": false, \"name\": \"t1_csigm2y\", \"created\": 1435283126.0, \"author_flair_text\": null, \"link_url\": \"http://awstartup.com/\", \"created_utc\": 1435254326.0, \"ups\": 1, \"mod_reports\": [], \"num_reports\": null, \"distinguished\": null}}, {\"kind\": \"t1\", \"data\": {\"subreddit_id\": \"t5_2qh84\", \"link_title\": \"I just launched a website; a beginners guide to Amazon Web Services. I would really appreciate any feedback / comments.\", \"banned_by\": null, \"removal_reason\": null, \"link_id\": \"t3_3aygzc\", \"link_author\": \"spilcm\", \"likes\": null, \"replies\": \"\", \"user_reports\": [], \"saved\": false, \"id\": \"cshd5xp\", \"gilded\": 0, \"archived\": true, \"stickied\": false, \"author\": \"spilcm\", \"parent_id\": \"t1_cshbxgr\", \"score\": 0, \"approved_by\": null, \"over_18\": false, \"report_reasons\": null, \"controversiality\": 0, \"body\": \"You are right. I am actually writing one, but it takes some time considering all 40+ services AWS is offering ;)\\n\", \"edited\": false, \"author_flair_css_class\": null, \"downs\": 0, \"body_html\": \"&lt;div class=\\\"md\\\"&gt;&lt;p&gt;You are right. I am actually writing one, but it takes some time considering all 40+ services AWS is offering ;)&lt;/p&gt;\\n&lt;/div&gt;\", \"quarantine\": false, \"subreddit\": \"aws\", \"score_hidden\": false, \"name\": \"t1_cshd5xp\", \"created\": 1435201034.0, \"author_flair_text\": null, \"link_url\": \"http://awstartup.com/\", \"created_utc\": 1435172234.0, \"ups\": 0, \"mod_reports\": [], \"num_reports\": null, \"distinguished\": null}}, {\"kind\": \"t1\", \"data\": {\"subreddit_id\": \"t5_2qh84\", \"link_title\": \"I just launched a website; a beginners guide to Amazon Web Services. I would really appreciate any feedback / comments.\", \"banned_by\": null, \"removal_reason\": null, \"link_id\": \"t3_3aygzc\", \"link_author\": \"spilcm\", \"likes\": null, \"replies\": \"\", \"user_reports\": [], \"saved\": false, \"id\": \"cshapwz\", \"gilded\": 0, \"archived\": true, \"stickied\": false, \"author\": \"spilcm\", \"parent_id\": \"t1_csh7tz6\", \"score\": 4, \"approved_by\": null, \"over_18\": false, \"report_reasons\": null, \"controversiality\": 0, \"body\": \"Aws provide excellent documentation and guides, but it can also be a bit overwhelming for beginners. I'll try to make it a bit clearer.\", \"edited\": false, \"author_flair_css_class\": null, \"downs\": 0, \"body_html\": \"&lt;div class=\\\"md\\\"&gt;&lt;p&gt;Aws provide excellent documentation and guides, but it can also be a bit overwhelming for beginners. I&amp;#39;ll try to make it a bit clearer.&lt;/p&gt;\\n&lt;/div&gt;\", \"quarantine\": false, \"subreddit\": \"aws\", \"score_hidden\": false, \"name\": \"t1_cshapwz\", \"created\": 1435197469.0, \"author_flair_text\": null, \"link_url\": \"http://awstartup.com/\", \"created_utc\": 1435168669.0, \"ups\": 4, \"mod_reports\": [], \"num_reports\": null, \"distinguished\": null}}, {\"kind\": \"t1\", \"data\": {\"subreddit_id\": \"t5_2rzmn\", \"link_title\": \"I just launched a new website created for people that are interested and curious about what DevOps is. I would really appreciate any feedback / comments you guys have on the website.\", \"banned_by\": null, \"removal_reason\": null, \"link_id\": \"t3_2g4p45\", \"link_author\": \"spilcm\", \"likes\": null, \"replies\": \"\", \"user_reports\": [], \"saved\": false, \"id\": \"ckg9lk4\", \"gilded\": 0, \"archived\": true, \"stickied\": false, \"author\": \"spilcm\", \"parent_id\": \"t1_ckfv7dw\", \"score\": 1, \"approved_by\": null, \"over_18\": false, \"report_reasons\": null, \"controversiality\": 0, \"body\": \"I may have a bit of a bias of python, so any suggestion of Ruby (or anything else) are \\nvery welcome. :)\", \"edited\": false, \"author_flair_css_class\": null, \"downs\": 0, \"body_html\": \"&lt;div class=\\\"md\\\"&gt;&lt;p&gt;I may have a bit of a bias of python, so any suggestion of Ruby (or anything else) are \\nvery welcome. :)&lt;/p&gt;\\n&lt;/div&gt;\", \"quarantine\": false, \"subreddit\": \"devops\", \"score_hidden\": false, \"name\": \"t1_ckg9lk4\", \"created\": 1410559047.0, \"author_flair_text\": null, \"link_url\": \"http://www.devopsforbeginners.com/\", \"created_utc\": 1410530247.0, \"ups\": 1, \"mod_reports\": [], \"num_reports\": null, \"distinguished\": null}}, {\"kind\": \"t1\", \"data\": {\"subreddit_id\": \"t5_2rzmn\", \"link_title\": \"I just launched a new website created for people that are interested and curious about what DevOps is. I would really appreciate any feedback / comments you guys have on the website.\", \"banned_by\": null, \"removal_reason\": null, \"link_id\": \"t3_2g4p45\", \"link_author\": \"spilcm\", \"likes\": null, \"replies\": \"\", \"user_reports\": [], \"saved\": false, \"id\": \"ckg9hqq\", \"gilded\": 0, \"archived\": true, \"stickied\": false, \"author\": \"spilcm\", \"parent_id\": \"t1_ckfwxsw\", \"score\": 1, \"approved_by\": null, \"over_18\": false, \"report_reasons\": null, \"controversiality\": 0, \"body\": \"Thank you!\", \"edited\": false, \"author_flair_css_class\": null, \"downs\": 0, \"body_html\": \"&lt;div class=\\\"md\\\"&gt;&lt;p&gt;Thank you!&lt;/p&gt;\\n&lt;/div&gt;\", \"quarantine\": false, \"subreddit\": \"devops\", \"score_hidden\": false, \"name\": \"t1_ckg9hqq\", \"created\": 1410558797.0, \"author_flair_text\": null, \"link_url\": \"http://www.devopsforbeginners.com/\", \"created_utc\": 1410529997.0, \"ups\": 1, \"mod_reports\": [], \"num_reports\": null, \"distinguished\": null}}, {\"kind\": \"t1\", \"data\": {\"subreddit_id\": \"t5_2rzmn\", \"link_title\": \"I just launched a new website created for people that are interested and curious about what DevOps is. I would really appreciate any feedback / comments you guys have on the website.\", \"banned_by\": null, \"removal_reason\": null, \"link_id\": \"t3_2g4p45\", \"link_author\": \"spilcm\", \"likes\": null, \"replies\": \"\", \"user_reports\": [], \"saved\": false, \"id\": \"ckg9gn9\", \"gilded\": 0, \"archived\": true, \"stickied\": false, \"author\": \"spilcm\", \"parent_id\": \"t1_ckg838l\", \"score\": 2, \"approved_by\": null, \"over_18\": false, \"report_reasons\": null, \"controversiality\": 0, \"body\": \"Thank you for your notes. \\nThe content (and the lists) are not even close to be complete. We are just getting started :) Thanks for your suggestion. (removed Bitbucket from the list. )\\n\\n\\n\", \"edited\": false, \"author_flair_css_class\": null, \"downs\": 0, \"body_html\": \"&lt;div class=\\\"md\\\"&gt;&lt;p&gt;Thank you for your notes. \\nThe content (and the lists) are not even close to be complete. We are just getting started :) Thanks for your suggestion. (removed Bitbucket from the list. )&lt;/p&gt;\\n&lt;/div&gt;\", \"quarantine\": false, \"subreddit\": \"devops\", \"score_hidden\": false, \"name\": \"t1_ckg9gn9\", \"created\": 1410558724.0, \"author_flair_text\": null, \"link_url\": \"http://www.devopsforbeginners.com/\", \"created_utc\": 1410529924.0, \"ups\": 2, \"mod_reports\": [], \"num_reports\": null, \"distinguished\": null}}, {\"kind\": \"t1\", \"data\": {\"subreddit_id\": \"t5_2rzmn\", \"link_title\": \"I just launched a new website created for people that are interested and curious about what DevOps is. I would really appreciate any feedback / comments you guys have on the website.\", \"banned_by\": null, \"removal_reason\": null, \"link_id\": \"t3_2g4p45\", \"link_author\": \"spilcm\", \"likes\": null, \"replies\": \"\", \"user_reports\": [], \"saved\": false, \"id\": \"ckfnxlu\", \"gilded\": 0, \"archived\": true, \"stickied\": false, \"author\": \"spilcm\", \"parent_id\": \"t1_ckfnepk\", \"score\": 0, \"approved_by\": null, \"over_18\": false, \"report_reasons\": null, \"controversiality\": 1, \"body\": \"Thank you for the feedback. Vagrant is an important DevOps tool to improve the overall workflow for developers and operation engineers. Our goal is to write about interesting things (tools, news etc.) related to DevOps.\", \"edited\": false, \"author_flair_css_class\": null, \"downs\": 0, \"body_html\": \"&lt;div class=\\\"md\\\"&gt;&lt;p&gt;Thank you for the feedback. Vagrant is an important DevOps tool to improve the overall workflow for developers and operation engineers. Our goal is to write about interesting things (tools, news etc.) related to DevOps.&lt;/p&gt;\\n&lt;/div&gt;\", \"quarantine\": false, \"subreddit\": \"devops\", \"score_hidden\": false, \"name\": \"t1_ckfnxlu\", \"created\": 1410497014.0, \"author_flair_text\": null, \"link_url\": \"http://www.devopsforbeginners.com/\", \"created_utc\": 1410468214.0, \"ups\": 0, \"mod_reports\": [], \"num_reports\": null, \"distinguished\": null}}, {\"kind\": \"t1\", \"data\": {\"subreddit_id\": \"t5_2qh4v\", \"link_title\": \"Fast, searchable Django documentation\", \"banned_by\": null, \"removal_reason\": null, \"link_id\": \"t3_2clzh8\", \"link_author\": \"ThibautCourouble\", \"likes\": null, \"replies\": \"\", \"user_reports\": [], \"saved\": false, \"id\": \"cjgtelt\", \"gilded\": 0, \"archived\": true, \"stickied\": false, \"author\": \"spilcm\", \"parent_id\": \"t3_2clzh8\", \"score\": 1, \"approved_by\": null, \"over_18\": false, \"report_reasons\": null, \"controversiality\": 0, \"body\": \"Pretty neat stuff!\", \"edited\": false, \"author_flair_css_class\": null, \"downs\": 0, \"body_html\": \"&lt;div class=\\\"md\\\"&gt;&lt;p&gt;Pretty neat stuff!&lt;/p&gt;\\n&lt;/div&gt;\", \"quarantine\": false, \"subreddit\": \"django\", \"score_hidden\": false, \"name\": \"t1_cjgtelt\", \"created\": 1407209690.0, \"author_flair_text\": null, \"link_url\": \"http://devdocs.io/django/\", \"created_utc\": 1407180890.0, \"ups\": 1, \"mod_reports\": [], \"num_reports\": null, \"distinguished\": null}}, {\"kind\": \"t1\", \"data\": {\"subreddit_id\": \"t5_2qh4v\", \"link_title\": \"A flexible Django CMS solution?\", \"banned_by\": null, \"removal_reason\": null, \"link_id\": \"t3_2cc36j\", \"link_author\": \"[deleted]\", \"likes\": null, \"replies\": \"\", \"user_reports\": [], \"saved\": false, \"id\": \"cjeapga\", \"gilded\": 0, \"archived\": true, \"stickied\": false, \"author\": \"spilcm\", \"parent_id\": \"t3_2cc36j\", \"score\": 6, \"approved_by\": null, \"over_18\": false, \"report_reasons\": null, \"controversiality\": 0, \"body\": \"Check out Mezzanine (http://mezzanine.jupo.org/)\", \"edited\": false, \"author_flair_css_class\": null, \"downs\": 0, \"body_html\": \"&lt;div class=\\\"md\\\"&gt;&lt;p&gt;Check out Mezzanine (&lt;a href=\\\"http://mezzanine.jupo.org/\\\"&gt;http://mezzanine.jupo.org/&lt;/a&gt;)&lt;/p&gt;\\n&lt;/div&gt;\", \"quarantine\": false, \"subreddit\": \"django\", \"score_hidden\": false, \"name\": \"t1_cjeapga\", \"created\": 1406953576.0, \"author_flair_text\": null, \"link_url\": \"https://www.reddit.com/r/django/comments/2cc36j/a_flexible_django_cms_solution/\", \"created_utc\": 1406924776.0, \"ups\": 6, \"mod_reports\": [], \"num_reports\": null, \"distinguished\": null}}, {\"kind\": \"t1\", \"data\": {\"subreddit_id\": \"t5_2qh4v\", \"link_title\": \"Send email from apache\", \"banned_by\": null, \"removal_reason\": null, \"link_id\": \"t3_28ijjd\", \"link_author\": \"husky11\", \"likes\": null, \"replies\": \"\", \"user_reports\": [], \"saved\": false, \"id\": \"cibihvk\", \"gilded\": 0, \"archived\": true, \"stickied\": false, \"author\": \"spilcm\", \"parent_id\": \"t3_28ijjd\", \"score\": 2, \"approved_by\": null, \"over_18\": false, \"report_reasons\": null, \"controversiality\": 0, \"body\": \"Try to change EMAIL_USE_TLS to True \\n\\nand then add this line:\\nDEFAULT_FROM_EMAIL = EMAIL_HOST_USER\", \"edited\": false, \"author_flair_css_class\": null, \"downs\": 0, \"body_html\": \"&lt;div class=\\\"md\\\"&gt;&lt;p&gt;Try to change EMAIL_USE_TLS to True &lt;/p&gt;\\n\\n&lt;p&gt;and then add this line:\\nDEFAULT_FROM_EMAIL = EMAIL_HOST_USER&lt;/p&gt;\\n&lt;/div&gt;\", \"quarantine\": false, \"subreddit\": \"django\", \"score_hidden\": false, \"name\": \"t1_cibihvk\", \"created\": 1403204854.0, \"author_flair_text\": null, \"link_url\": \"https://www.reddit.com/r/django/comments/28ijjd/send_email_from_apache/\", \"created_utc\": 1403176054.0, \"ups\": 2, \"mod_reports\": [], \"num_reports\": null, \"distinguished\": null}}, {\"kind\": \"t1\", \"data\": {\"subreddit_id\": \"t5_2qh0y\", \"link_title\": \"Announcing the first ever Python Indie Bundle sale!\", \"banned_by\": null, \"removal_reason\": null, \"link_id\": \"t3_1rq7xd\", \"link_author\": \"pydanny\", \"likes\": null, \"replies\": \"\", \"user_reports\": [], \"saved\": false, \"id\": \"cdr6mqv\", \"gilded\": 0, \"archived\": true, \"stickied\": false, \"author\": \"spilcm\", \"parent_id\": \"t3_1rq7xd\", \"score\": 1, \"approved_by\": null, \"over_18\": false, \"report_reasons\": null, \"controversiality\": 0, \"body\": \"I just picked up the bundle. Thanks for putting this together. \", \"edited\": false, \"author_flair_css_class\": null, \"downs\": 0, \"body_html\": \"&lt;div class=\\\"md\\\"&gt;&lt;p&gt;I just picked up the bundle. Thanks for putting this together. &lt;/p&gt;\\n&lt;/div&gt;\", \"quarantine\": false, \"subreddit\": \"Python\", \"score_hidden\": false, \"name\": \"t1_cdr6mqv\", \"created\": 1385962384.0, \"author_flair_text\": null, \"link_url\": \"http://www.pythonindiebundle.com/\", \"created_utc\": 1385933584.0, \"ups\": 1, \"mod_reports\": [], \"num_reports\": null, \"distinguished\": null}}], \"after\": \"t1_cdr6mqv\", \"before\": null}}</p>\n"
     ]
    }
   ],
   "source": [
    "for child in soup.body.children:\n",
    "    print(child)"
   ]
  },
  {
   "cell_type": "code",
   "execution_count": 26,
   "metadata": {
    "collapsed": false
   },
   "outputs": [],
   "source": [
    "# print the title of reddit\n",
    "soup.body.title"
   ]
  },
  {
   "cell_type": "code",
   "execution_count": null,
   "metadata": {
    "collapsed": false
   },
   "outputs": [],
   "source": [
    "# print the string in the title\n",
    "soup.head.title.string"
   ]
  },
  {
   "cell_type": "markdown",
   "metadata": {},
   "source": [
    "### .descendants\n",
    "\n",
    "Attribute lets you iterate over all of a tag’s children, recursively: its direct children, the children of its direct children, and so on:"
   ]
  },
  {
   "cell_type": "code",
   "execution_count": null,
   "metadata": {
    "collapsed": false
   },
   "outputs": [],
   "source": [
    "for child in soup.head.descendants:\n",
    "    print child"
   ]
  },
  {
   "cell_type": "markdown",
   "metadata": {},
   "source": [
    "### .strings\n",
    "\n",
    "If there’s more than one thing inside a tag, you can still look at just the strings. Use the .strings generator"
   ]
  },
  {
   "cell_type": "code",
   "execution_count": null,
   "metadata": {
    "collapsed": false
   },
   "outputs": [],
   "source": [
    "for string in soup.strings:\n",
    "    print(repr(string))"
   ]
  },
  {
   "cell_type": "markdown",
   "metadata": {},
   "source": [
    "### .stripped_strings\n",
    "\n",
    "These strings tend to have a lot of extra whitespace, which you can remove by using the .stripped_strings generator instead"
   ]
  },
  {
   "cell_type": "code",
   "execution_count": null,
   "metadata": {
    "collapsed": false
   },
   "outputs": [],
   "source": [
    "for string in soup.stripped_strings:\n",
    "    print(repr(string))"
   ]
  },
  {
   "cell_type": "markdown",
   "metadata": {},
   "source": [
    "### .parent\n",
    "\n",
    "You can access an element’s parent with the `.parent` attribute. In the example “three sisters” document, the `<head>` tag is the parent of the `<title>` tag:"
   ]
  },
  {
   "cell_type": "code",
   "execution_count": null,
   "metadata": {
    "collapsed": false
   },
   "outputs": [],
   "source": [
    "soup.title"
   ]
  },
  {
   "cell_type": "code",
   "execution_count": null,
   "metadata": {
    "collapsed": false
   },
   "outputs": [],
   "source": [
    "soup.title.string"
   ]
  },
  {
   "cell_type": "code",
   "execution_count": null,
   "metadata": {
    "collapsed": false
   },
   "outputs": [],
   "source": [
    "soup.title.string.parent"
   ]
  },
  {
   "cell_type": "markdown",
   "metadata": {},
   "source": [
    "# Searching the Tree\n",
    "\n",
    "Now, let's consider examples of different filters you can use to search this nested tree of HTML. These filters show up again and again, throughout the search API. You can use them to filter based on a tag’s name, on its attributes, on the text of a string, or on some combination of these.\n",
    "\n",
    "#### Use `find_all()` to find all tags"
   ]
  },
  {
   "cell_type": "markdown",
   "metadata": {},
   "source": [
    "One common task is extracting all the URLs found within a page's tags:"
   ]
  },
  {
   "cell_type": "code",
   "execution_count": 27,
   "metadata": {
    "collapsed": false
   },
   "outputs": [
    {
     "data": {
      "text/plain": [
       "[]"
      ]
     },
     "execution_count": 27,
     "metadata": {},
     "output_type": "execute_result"
    }
   ],
   "source": [
    "# search for all <a> tags; returns a list\n",
    "soup.find_all('a')"
   ]
  },
  {
   "cell_type": "code",
   "execution_count": null,
   "metadata": {
    "collapsed": false
   },
   "outputs": [],
   "source": [
    "# your turn\n",
    "# search for all the paragragh tags"
   ]
  },
  {
   "cell_type": "code",
   "execution_count": null,
   "metadata": {
    "collapsed": false
   },
   "outputs": [],
   "source": [
    "# your turn\n",
    "# search for all the table tags"
   ]
  },
  {
   "cell_type": "markdown",
   "metadata": {},
   "source": [
    "Other arguments to the `.find_all()` function include `limit` and `text`. What do those do? "
   ]
  },
  {
   "cell_type": "code",
   "execution_count": null,
   "metadata": {
    "collapsed": false
   },
   "outputs": [],
   "source": [
    "# your turn \n",
    "# search for all the <a> tags and use the limit argument "
   ]
  },
  {
   "cell_type": "code",
   "execution_count": null,
   "metadata": {
    "collapsed": false
   },
   "outputs": [],
   "source": [
    "# your turn \n",
    "# What does the using the text argument do? "
   ]
  },
  {
   "cell_type": "markdown",
   "metadata": {},
   "source": [
    "#### Use `.get()` to extract an attribute"
   ]
  },
  {
   "cell_type": "code",
   "execution_count": null,
   "metadata": {
    "collapsed": false
   },
   "outputs": [],
   "source": [
    "soup.find_all('a')[1].get('href')"
   ]
  },
  {
   "cell_type": "markdown",
   "metadata": {},
   "source": [
    "#### Looping through tags"
   ]
  },
  {
   "cell_type": "code",
   "execution_count": null,
   "metadata": {
    "collapsed": false
   },
   "outputs": [],
   "source": [
    "# your turn\n",
    "# write a for loop printing all the links from reddit"
   ]
  },
  {
   "cell_type": "code",
   "execution_count": null,
   "metadata": {
    "collapsed": false
   },
   "outputs": [],
   "source": [
    "# your turn\n",
    "# write a for loop, but use a list comprehension this time\n",
    "# show the first 5 elements"
   ]
  },
  {
   "cell_type": "code",
   "execution_count": null,
   "metadata": {
    "collapsed": false
   },
   "outputs": [],
   "source": [
    "# your turn\n",
    "# split the first url by \"/\""
   ]
  },
  {
   "cell_type": "markdown",
   "metadata": {},
   "source": [
    "Another common task is extracting all the text from a page:"
   ]
  },
  {
   "cell_type": "code",
   "execution_count": null,
   "metadata": {
    "collapsed": false
   },
   "outputs": [],
   "source": [
    "print(soup.get_text())"
   ]
  },
  {
   "cell_type": "markdown",
   "metadata": {},
   "source": [
    "# JSON\n",
    "\n",
    "#### Working with Web APIs\n",
    "Web APIs are a more convenient way for programs to interact with websites. Many webistes now have a nice API that gives access to it's data in JSON format.\n"
   ]
  },
  {
   "cell_type": "code",
   "execution_count": 28,
   "metadata": {
    "collapsed": false
   },
   "outputs": [],
   "source": [
    "a = {'a': 1, 'b':2}\n",
    "s = json.dumps(a)\n",
    "a2 = json.loads(s)"
   ]
  },
  {
   "cell_type": "code",
   "execution_count": 29,
   "metadata": {
    "collapsed": false
   },
   "outputs": [
    {
     "data": {
      "text/plain": [
       "{'a': 1, 'b': 2}"
      ]
     },
     "execution_count": 29,
     "metadata": {},
     "output_type": "execute_result"
    }
   ],
   "source": [
    "a # a dictionary"
   ]
  },
  {
   "cell_type": "code",
   "execution_count": 30,
   "metadata": {
    "collapsed": false
   },
   "outputs": [
    {
     "data": {
      "text/plain": [
       "'{\"a\": 1, \"b\": 2}'"
      ]
     },
     "execution_count": 30,
     "metadata": {},
     "output_type": "execute_result"
    }
   ],
   "source": [
    "s # s is a string containing a in JSON encoding"
   ]
  },
  {
   "cell_type": "code",
   "execution_count": 31,
   "metadata": {
    "collapsed": false
   },
   "outputs": [
    {
     "data": {
      "text/plain": [
       "{u'a': 1, u'b': 2}"
      ]
     },
     "execution_count": 31,
     "metadata": {},
     "output_type": "execute_result"
    }
   ],
   "source": [
    "a2 # reading back the keys are now in unicode"
   ]
  },
  {
   "cell_type": "markdown",
   "metadata": {},
   "source": [
    "## World Cup in JSON!\n",
    "\n",
    "The [2014 FIFA World Cup](http://en.wikipedia.org/wiki/2014_FIFA_World_Cup) was held this summer in Brazil at several different venues.  There was an [API created for the World Cup](http://worldcup.sfg.io) that scraped current match results and output match data as JSON. Possible output includes events such as goals, substitutions, and cards. The [actual matches are listed here](http://worldcup.sfg.io/matches) in JSON. \n",
    "\n",
    "* Example from [Fernando Masanori](https://gist.github.com/fmasanori/1288160dad16cc473a53)"
   ]
  },
  {
   "cell_type": "code",
   "execution_count": 32,
   "metadata": {
    "collapsed": false
   },
   "outputs": [],
   "source": [
    "url = \"http://worldcup.sfg.io/matches\"\n",
    "data = urllib2.urlopen(url).read()\n",
    "wc = json.loads(data.decode('utf-8'))"
   ]
  },
  {
   "cell_type": "code",
   "execution_count": 33,
   "metadata": {
    "collapsed": false
   },
   "outputs": [
    {
     "data": {
      "text/plain": [
       "'Number of matches in 2014 World Cup: 52'"
      ]
     },
     "execution_count": 33,
     "metadata": {},
     "output_type": "execute_result"
    }
   ],
   "source": [
    "\"Number of matches in 2014 World Cup: %i\" % len(wc)"
   ]
  },
  {
   "cell_type": "code",
   "execution_count": 35,
   "metadata": {
    "collapsed": false
   },
   "outputs": [
    {
     "data": {
      "text/plain": [
       "[u'status',\n",
       " u'match_number',\n",
       " u'home_team',\n",
       " u'away_team',\n",
       " u'winner_code',\n",
       " u'winner',\n",
       " u'away_team_events',\n",
       " u'datetime',\n",
       " u'location',\n",
       " u'home_team_events']"
      ]
     },
     "execution_count": 35,
     "metadata": {},
     "output_type": "execute_result"
    }
   ],
   "source": [
    "# Print keys in first match\n",
    "gameIndex = 0\n",
    "wc[gameIndex].keys()"
   ]
  },
  {
   "cell_type": "code",
   "execution_count": 41,
   "metadata": {
    "collapsed": false
   },
   "outputs": [
    {
     "data": {
      "text/plain": [
       "{u'code': u'CAN', u'country': u'Canada', u'goals': 1}"
      ]
     },
     "execution_count": 41,
     "metadata": {},
     "output_type": "execute_result"
    }
   ],
   "source": [
    "wc[gameIndex]['home_team']"
   ]
  },
  {
   "cell_type": "code",
   "execution_count": 37,
   "metadata": {
    "collapsed": false
   },
   "outputs": [
    {
     "data": {
      "text/plain": [
       "1"
      ]
     },
     "execution_count": 37,
     "metadata": {},
     "output_type": "execute_result"
    }
   ],
   "source": [
    "wc[gameIndex]['match_number']"
   ]
  },
  {
   "cell_type": "code",
   "execution_count": 38,
   "metadata": {
    "collapsed": false
   },
   "outputs": [
    {
     "data": {
      "text/plain": [
       "{u'code': u'CHN', u'country': u'China', u'goals': 0}"
      ]
     },
     "execution_count": 38,
     "metadata": {},
     "output_type": "execute_result"
    }
   ],
   "source": [
    "wc[gameIndex]['away_team']"
   ]
  },
  {
   "cell_type": "code",
   "execution_count": 39,
   "metadata": {
    "collapsed": false
   },
   "outputs": [
    {
     "data": {
      "text/plain": [
       "[{u'id': 11,\n",
       "  u'player': u'Wang L S',\n",
       "  u'time': u'42',\n",
       "  u'type_of_event': u'substitution-out'},\n",
       " {u'id': 13,\n",
       "  u'player': u'Han P',\n",
       "  u'time': u'42',\n",
       "  u'type_of_event': u'substitution-in'},\n",
       " {u'id': 9,\n",
       "  u'player': u'Li Y',\n",
       "  u'time': u'62',\n",
       "  u'type_of_event': u'substitution-out'},\n",
       " {u'id': 14,\n",
       "  u'player': u'Zhang R',\n",
       "  u'time': u'62',\n",
       "  u'type_of_event': u'substitution-in'},\n",
       " {u'id': 10,\n",
       "  u'player': u'Gu Ys',\n",
       "  u'time': u'87',\n",
       "  u'type_of_event': u'substitution-out'},\n",
       " {u'id': 12,\n",
       "  u'player': u'Ma J',\n",
       "  u'time': u'87',\n",
       "  u'type_of_event': u'substitution-in'}]"
      ]
     },
     "execution_count": 39,
     "metadata": {},
     "output_type": "execute_result"
    }
   ],
   "source": [
    "wc[gameIndex]['away_team_events']"
   ]
  },
  {
   "cell_type": "code",
   "execution_count": 42,
   "metadata": {
    "collapsed": false
   },
   "outputs": [
    {
     "data": {
      "text/plain": [
       "{u'code': u'BRA', u'country': u'Brazil', u'goals': 1}"
      ]
     },
     "execution_count": 42,
     "metadata": {},
     "output_type": "execute_result"
    }
   ],
   "source": [
    "wc[gameIndex]['home_team']"
   ]
  },
  {
   "cell_type": "markdown",
   "metadata": {},
   "source": [
    "The [Brazil v Germany (2014 FIFA World Cup)](http://en.wikipedia.org/wiki/Brazil_v_Germany_(2014_FIFA_World_Cup) match on July 8, 2014 where Germany score the most goals in World Cup tournament history.  Germany led 5–0 at half time, with 4 goals scored in a span of 6 minutes, and subsequently brought the score up to 7–0 in the second half. Brazil scored a goal at the last minute, ending the match 7–1. "
   ]
  },
  {
   "cell_type": "markdown",
   "metadata": {},
   "source": [
    "Print the team names and goals scored for each match"
   ]
  },
  {
   "cell_type": "code",
   "execution_count": 42,
   "metadata": {
    "collapsed": false
   },
   "outputs": [
    {
     "name": "stdout",
     "output_type": "stream",
     "text": [
      "Canada 1 China 0\n",
      "New Zealand 0 Netherlands 1\n",
      "Germany 10 Ivory Coast 0\n",
      "Norway 4 Thailand 0\n",
      "Japan 1 Switzerland 0\n",
      "Cameroon 6 Ecuador 0\n",
      "United States 3 Australia 1\n",
      "Sweden 3 Nigeria 3\n",
      "Brazil 2 Korea Republic 0\n",
      "Spain 1 Costa Rica 1\n",
      "France 1 England 0\n",
      "Colombia 1 Mexico 1\n",
      "Canada 0 New Zealand 0\n",
      "China 1 Netherlands 0\n",
      "Germany 1 Norway 1\n",
      "Ivory Coast 2 Thailand 3\n",
      "Japan 2 Cameroon 1\n",
      "Switzerland 10 Ecuador 1\n",
      "United States 0 Sweden 0\n",
      "Australia 2 Nigeria 0\n",
      "Brazil 1 Spain 0\n",
      "Korea Republic 2 Costa Rica 2\n",
      "France 0 Colombia 2\n",
      "England 2 Mexico 1\n",
      "Netherlands 1 Canada 1\n",
      "China 2 New Zealand 2\n",
      "Thailand 0 Germany 4\n",
      "Ivory Coast 1 Norway 3\n",
      "Ecuador 0 Japan 1\n",
      "Switzerland 1 Cameroon 2\n",
      "Nigeria 0 United States 1\n",
      "Australia 1 Sweden 1\n",
      "Costa Rica 0 Brazil 1\n",
      "Korea Republic 2 Spain 1\n",
      "Mexico 0 France 5\n",
      "England 2 Colombia 1\n",
      "China 1 Cameroon 0\n",
      "United States 2 Colombia 0\n",
      "Germany 4 Sweden 1\n",
      "France 3 Korea Republic 0\n",
      "Brazil 0 Australia 1\n",
      "Japan 2 Netherlands 1\n",
      "Norway 1 England 2\n",
      "Canada 1 Switzerland 0\n",
      "China 0 United States 1\n",
      "Germany 1 France 1\n",
      "Australia 0 Japan 1\n",
      "England 2 Canada 1\n",
      "United States 2 Germany 0\n",
      "Japan 2 England 1\n",
      "Germany 0 England 1\n",
      "United States 5 Japan 2\n"
     ]
    }
   ],
   "source": [
    "for elem in wc:\n",
    "    print elem['home_team']['country'], elem['home_team']['goals'], elem['away_team']['country'], elem['away_team']['goals']"
   ]
  },
  {
   "cell_type": "markdown",
   "metadata": {},
   "source": [
    "### Create a pandas DataFrame from JSON"
   ]
  },
  {
   "cell_type": "code",
   "execution_count": 121,
   "metadata": {
    "collapsed": false
   },
   "outputs": [
    {
     "data": {
      "text/html": [
       "<div>\n",
       "<table border=\"1\" class=\"dataframe\">\n",
       "  <thead>\n",
       "    <tr style=\"text-align: right;\">\n",
       "      <th></th>\n",
       "      <th>match_number</th>\n",
       "      <th>location</th>\n",
       "      <th>datetime</th>\n",
       "      <th>home_team</th>\n",
       "      <th>away_team</th>\n",
       "      <th>winner</th>\n",
       "      <th>home_team_events</th>\n",
       "      <th>away_team_events</th>\n",
       "    </tr>\n",
       "  </thead>\n",
       "  <tbody>\n",
       "    <tr>\n",
       "      <th>0</th>\n",
       "      <td>1</td>\n",
       "      <td>Commonwealth Stadium</td>\n",
       "      <td>2015-06-06T15:00:00.000-05:00</td>\n",
       "      <td>{u'country': u'Canada', u'code': u'CAN', u'goa...</td>\n",
       "      <td>{u'country': u'China', u'code': u'CHN', u'goal...</td>\n",
       "      <td>Canada</td>\n",
       "      <td>[{u'type_of_event': u'yellow-card', u'player':...</td>\n",
       "      <td>[{u'type_of_event': u'substitution-out', u'pla...</td>\n",
       "    </tr>\n",
       "    <tr>\n",
       "      <th>1</th>\n",
       "      <td>2</td>\n",
       "      <td>Commonwealth Stadium</td>\n",
       "      <td>2015-06-06T18:00:00.000-05:00</td>\n",
       "      <td>{u'country': u'New Zealand', u'code': u'NZL', ...</td>\n",
       "      <td>{u'country': u'Netherlands', u'code': u'NED', ...</td>\n",
       "      <td>Netherlands</td>\n",
       "      <td>[{u'type_of_event': u'substitution-out', u'pla...</td>\n",
       "      <td>[{u'type_of_event': u'yellow-card', u'player':...</td>\n",
       "    </tr>\n",
       "    <tr>\n",
       "      <th>2</th>\n",
       "      <td>3</td>\n",
       "      <td>Lansdowne Stadium</td>\n",
       "      <td>2015-06-07T15:00:00.000-05:00</td>\n",
       "      <td>{u'country': u'Germany', u'code': u'GER', u'go...</td>\n",
       "      <td>{u'country': u'Ivory Coast', u'code': u'CIV', ...</td>\n",
       "      <td>Germany</td>\n",
       "      <td>[{u'type_of_event': u'goal', u'player': u'Sasi...</td>\n",
       "      <td>[{u'type_of_event': u'yellow-card', u'player':...</td>\n",
       "    </tr>\n",
       "    <tr>\n",
       "      <th>3</th>\n",
       "      <td>4</td>\n",
       "      <td>Lansdowne Stadium</td>\n",
       "      <td>2015-06-07T12:00:00.000-05:00</td>\n",
       "      <td>{u'country': u'Norway', u'code': u'NOR', u'goa...</td>\n",
       "      <td>{u'country': u'Thailand', u'code': u'THA', u'g...</td>\n",
       "      <td>Norway</td>\n",
       "      <td>[{u'type_of_event': u'goal', u'player': u'Rønn...</td>\n",
       "      <td>[{u'type_of_event': u'yellow-card', u'player':...</td>\n",
       "    </tr>\n",
       "    <tr>\n",
       "      <th>4</th>\n",
       "      <td>5</td>\n",
       "      <td>BC Place Stadium</td>\n",
       "      <td>2015-06-08T18:00:00.000-05:00</td>\n",
       "      <td>{u'country': u'Japan', u'code': u'JPN', u'goal...</td>\n",
       "      <td>{u'country': u'Switzerland', u'code': u'SUI', ...</td>\n",
       "      <td>Japan</td>\n",
       "      <td>[{u'type_of_event': u'goal-penalty', u'player'...</td>\n",
       "      <td>[{u'type_of_event': u'yellow-card', u'player':...</td>\n",
       "    </tr>\n",
       "  </tbody>\n",
       "</table>\n",
       "</div>"
      ],
      "text/plain": [
       "   match_number              location                       datetime  \\\n",
       "0             1  Commonwealth Stadium  2015-06-06T15:00:00.000-05:00   \n",
       "1             2  Commonwealth Stadium  2015-06-06T18:00:00.000-05:00   \n",
       "2             3     Lansdowne Stadium  2015-06-07T15:00:00.000-05:00   \n",
       "3             4     Lansdowne Stadium  2015-06-07T12:00:00.000-05:00   \n",
       "4             5      BC Place Stadium  2015-06-08T18:00:00.000-05:00   \n",
       "\n",
       "                                           home_team  \\\n",
       "0  {u'country': u'Canada', u'code': u'CAN', u'goa...   \n",
       "1  {u'country': u'New Zealand', u'code': u'NZL', ...   \n",
       "2  {u'country': u'Germany', u'code': u'GER', u'go...   \n",
       "3  {u'country': u'Norway', u'code': u'NOR', u'goa...   \n",
       "4  {u'country': u'Japan', u'code': u'JPN', u'goal...   \n",
       "\n",
       "                                           away_team       winner  \\\n",
       "0  {u'country': u'China', u'code': u'CHN', u'goal...       Canada   \n",
       "1  {u'country': u'Netherlands', u'code': u'NED', ...  Netherlands   \n",
       "2  {u'country': u'Ivory Coast', u'code': u'CIV', ...      Germany   \n",
       "3  {u'country': u'Thailand', u'code': u'THA', u'g...       Norway   \n",
       "4  {u'country': u'Switzerland', u'code': u'SUI', ...        Japan   \n",
       "\n",
       "                                    home_team_events  \\\n",
       "0  [{u'type_of_event': u'yellow-card', u'player':...   \n",
       "1  [{u'type_of_event': u'substitution-out', u'pla...   \n",
       "2  [{u'type_of_event': u'goal', u'player': u'Sasi...   \n",
       "3  [{u'type_of_event': u'goal', u'player': u'Rønn...   \n",
       "4  [{u'type_of_event': u'goal-penalty', u'player'...   \n",
       "\n",
       "                                    away_team_events  \n",
       "0  [{u'type_of_event': u'substitution-out', u'pla...  \n",
       "1  [{u'type_of_event': u'yellow-card', u'player':...  \n",
       "2  [{u'type_of_event': u'yellow-card', u'player':...  \n",
       "3  [{u'type_of_event': u'yellow-card', u'player':...  \n",
       "4  [{u'type_of_event': u'yellow-card', u'player':...  "
      ]
     },
     "execution_count": 121,
     "metadata": {},
     "output_type": "execute_result"
    }
   ],
   "source": [
    "data = pd.DataFrame(wc, columns = ['match_number', 'location', 'datetime', 'home_team', 'away_team', 'winner', 'home_team_events', 'away_team_events'])\n",
    "data.head()"
   ]
  },
  {
   "cell_type": "markdown",
   "metadata": {},
   "source": [
    "#### Convert format of a column\n",
    "\n",
    "Here we pandas [DatetimeIndex](http://pandas.pydata.org/pandas-docs/stable/generated/pandas.DatetimeIndex.html) to convert the `datetime` column to two seperate columns: a date and a time for each match."
   ]
  },
  {
   "cell_type": "code",
   "execution_count": 122,
   "metadata": {
    "collapsed": false
   },
   "outputs": [
    {
     "data": {
      "text/html": [
       "<div>\n",
       "<table border=\"1\" class=\"dataframe\">\n",
       "  <thead>\n",
       "    <tr style=\"text-align: right;\">\n",
       "      <th></th>\n",
       "      <th>match_number</th>\n",
       "      <th>location</th>\n",
       "      <th>datetime</th>\n",
       "      <th>home_team</th>\n",
       "      <th>away_team</th>\n",
       "      <th>winner</th>\n",
       "      <th>home_team_events</th>\n",
       "      <th>away_team_events</th>\n",
       "      <th>game_date</th>\n",
       "      <th>game_time</th>\n",
       "    </tr>\n",
       "  </thead>\n",
       "  <tbody>\n",
       "    <tr>\n",
       "      <th>0</th>\n",
       "      <td>1</td>\n",
       "      <td>Commonwealth Stadium</td>\n",
       "      <td>2015-06-06T15:00:00.000-05:00</td>\n",
       "      <td>{u'country': u'Canada', u'code': u'CAN', u'goa...</td>\n",
       "      <td>{u'country': u'China', u'code': u'CHN', u'goal...</td>\n",
       "      <td>Canada</td>\n",
       "      <td>[{u'type_of_event': u'yellow-card', u'player':...</td>\n",
       "      <td>[{u'type_of_event': u'substitution-out', u'pla...</td>\n",
       "      <td>2015-06-06</td>\n",
       "      <td>20:00:00</td>\n",
       "    </tr>\n",
       "    <tr>\n",
       "      <th>1</th>\n",
       "      <td>2</td>\n",
       "      <td>Commonwealth Stadium</td>\n",
       "      <td>2015-06-06T18:00:00.000-05:00</td>\n",
       "      <td>{u'country': u'New Zealand', u'code': u'NZL', ...</td>\n",
       "      <td>{u'country': u'Netherlands', u'code': u'NED', ...</td>\n",
       "      <td>Netherlands</td>\n",
       "      <td>[{u'type_of_event': u'substitution-out', u'pla...</td>\n",
       "      <td>[{u'type_of_event': u'yellow-card', u'player':...</td>\n",
       "      <td>2015-06-06</td>\n",
       "      <td>23:00:00</td>\n",
       "    </tr>\n",
       "    <tr>\n",
       "      <th>2</th>\n",
       "      <td>3</td>\n",
       "      <td>Lansdowne Stadium</td>\n",
       "      <td>2015-06-07T15:00:00.000-05:00</td>\n",
       "      <td>{u'country': u'Germany', u'code': u'GER', u'go...</td>\n",
       "      <td>{u'country': u'Ivory Coast', u'code': u'CIV', ...</td>\n",
       "      <td>Germany</td>\n",
       "      <td>[{u'type_of_event': u'goal', u'player': u'Sasi...</td>\n",
       "      <td>[{u'type_of_event': u'yellow-card', u'player':...</td>\n",
       "      <td>2015-06-07</td>\n",
       "      <td>20:00:00</td>\n",
       "    </tr>\n",
       "    <tr>\n",
       "      <th>3</th>\n",
       "      <td>4</td>\n",
       "      <td>Lansdowne Stadium</td>\n",
       "      <td>2015-06-07T12:00:00.000-05:00</td>\n",
       "      <td>{u'country': u'Norway', u'code': u'NOR', u'goa...</td>\n",
       "      <td>{u'country': u'Thailand', u'code': u'THA', u'g...</td>\n",
       "      <td>Norway</td>\n",
       "      <td>[{u'type_of_event': u'goal', u'player': u'Rønn...</td>\n",
       "      <td>[{u'type_of_event': u'yellow-card', u'player':...</td>\n",
       "      <td>2015-06-07</td>\n",
       "      <td>17:00:00</td>\n",
       "    </tr>\n",
       "    <tr>\n",
       "      <th>4</th>\n",
       "      <td>5</td>\n",
       "      <td>BC Place Stadium</td>\n",
       "      <td>2015-06-08T18:00:00.000-05:00</td>\n",
       "      <td>{u'country': u'Japan', u'code': u'JPN', u'goal...</td>\n",
       "      <td>{u'country': u'Switzerland', u'code': u'SUI', ...</td>\n",
       "      <td>Japan</td>\n",
       "      <td>[{u'type_of_event': u'goal-penalty', u'player'...</td>\n",
       "      <td>[{u'type_of_event': u'yellow-card', u'player':...</td>\n",
       "      <td>2015-06-08</td>\n",
       "      <td>23:00:00</td>\n",
       "    </tr>\n",
       "  </tbody>\n",
       "</table>\n",
       "</div>"
      ],
      "text/plain": [
       "   match_number              location                       datetime  \\\n",
       "0             1  Commonwealth Stadium  2015-06-06T15:00:00.000-05:00   \n",
       "1             2  Commonwealth Stadium  2015-06-06T18:00:00.000-05:00   \n",
       "2             3     Lansdowne Stadium  2015-06-07T15:00:00.000-05:00   \n",
       "3             4     Lansdowne Stadium  2015-06-07T12:00:00.000-05:00   \n",
       "4             5      BC Place Stadium  2015-06-08T18:00:00.000-05:00   \n",
       "\n",
       "                                           home_team  \\\n",
       "0  {u'country': u'Canada', u'code': u'CAN', u'goa...   \n",
       "1  {u'country': u'New Zealand', u'code': u'NZL', ...   \n",
       "2  {u'country': u'Germany', u'code': u'GER', u'go...   \n",
       "3  {u'country': u'Norway', u'code': u'NOR', u'goa...   \n",
       "4  {u'country': u'Japan', u'code': u'JPN', u'goal...   \n",
       "\n",
       "                                           away_team       winner  \\\n",
       "0  {u'country': u'China', u'code': u'CHN', u'goal...       Canada   \n",
       "1  {u'country': u'Netherlands', u'code': u'NED', ...  Netherlands   \n",
       "2  {u'country': u'Ivory Coast', u'code': u'CIV', ...      Germany   \n",
       "3  {u'country': u'Thailand', u'code': u'THA', u'g...       Norway   \n",
       "4  {u'country': u'Switzerland', u'code': u'SUI', ...        Japan   \n",
       "\n",
       "                                    home_team_events  \\\n",
       "0  [{u'type_of_event': u'yellow-card', u'player':...   \n",
       "1  [{u'type_of_event': u'substitution-out', u'pla...   \n",
       "2  [{u'type_of_event': u'goal', u'player': u'Sasi...   \n",
       "3  [{u'type_of_event': u'goal', u'player': u'Rønn...   \n",
       "4  [{u'type_of_event': u'goal-penalty', u'player'...   \n",
       "\n",
       "                                    away_team_events   game_date game_time  \n",
       "0  [{u'type_of_event': u'substitution-out', u'pla...  2015-06-06  20:00:00  \n",
       "1  [{u'type_of_event': u'yellow-card', u'player':...  2015-06-06  23:00:00  \n",
       "2  [{u'type_of_event': u'yellow-card', u'player':...  2015-06-07  20:00:00  \n",
       "3  [{u'type_of_event': u'yellow-card', u'player':...  2015-06-07  17:00:00  \n",
       "4  [{u'type_of_event': u'yellow-card', u'player':...  2015-06-08  23:00:00  "
      ]
     },
     "execution_count": 122,
     "metadata": {},
     "output_type": "execute_result"
    }
   ],
   "source": [
    "data['game_date'] = pd.DatetimeIndex(data.datetime).date\n",
    "data['game_time'] = pd.DatetimeIndex(data.datetime).time\n",
    "data.head()"
   ]
  },
  {
   "cell_type": "code",
   "execution_count": 123,
   "metadata": {
    "collapsed": false
   },
   "outputs": [
    {
     "data": {
      "text/html": [
       "<div>\n",
       "<table border=\"1\" class=\"dataframe\">\n",
       "  <thead>\n",
       "    <tr style=\"text-align: right;\">\n",
       "      <th></th>\n",
       "      <th>match_number</th>\n",
       "      <th>location</th>\n",
       "      <th>home_team</th>\n",
       "      <th>away_team</th>\n",
       "      <th>winner</th>\n",
       "      <th>home_team_events</th>\n",
       "      <th>away_team_events</th>\n",
       "      <th>game_date</th>\n",
       "      <th>game_time</th>\n",
       "    </tr>\n",
       "  </thead>\n",
       "  <tbody>\n",
       "    <tr>\n",
       "      <th>0</th>\n",
       "      <td>1</td>\n",
       "      <td>Commonwealth Stadium</td>\n",
       "      <td>{u'country': u'Canada', u'code': u'CAN', u'goa...</td>\n",
       "      <td>{u'country': u'China', u'code': u'CHN', u'goal...</td>\n",
       "      <td>Canada</td>\n",
       "      <td>[{u'type_of_event': u'yellow-card', u'player':...</td>\n",
       "      <td>[{u'type_of_event': u'substitution-out', u'pla...</td>\n",
       "      <td>2015-06-06</td>\n",
       "      <td>20:00:00</td>\n",
       "    </tr>\n",
       "    <tr>\n",
       "      <th>1</th>\n",
       "      <td>2</td>\n",
       "      <td>Commonwealth Stadium</td>\n",
       "      <td>{u'country': u'New Zealand', u'code': u'NZL', ...</td>\n",
       "      <td>{u'country': u'Netherlands', u'code': u'NED', ...</td>\n",
       "      <td>Netherlands</td>\n",
       "      <td>[{u'type_of_event': u'substitution-out', u'pla...</td>\n",
       "      <td>[{u'type_of_event': u'yellow-card', u'player':...</td>\n",
       "      <td>2015-06-06</td>\n",
       "      <td>23:00:00</td>\n",
       "    </tr>\n",
       "    <tr>\n",
       "      <th>2</th>\n",
       "      <td>3</td>\n",
       "      <td>Lansdowne Stadium</td>\n",
       "      <td>{u'country': u'Germany', u'code': u'GER', u'go...</td>\n",
       "      <td>{u'country': u'Ivory Coast', u'code': u'CIV', ...</td>\n",
       "      <td>Germany</td>\n",
       "      <td>[{u'type_of_event': u'goal', u'player': u'Sasi...</td>\n",
       "      <td>[{u'type_of_event': u'yellow-card', u'player':...</td>\n",
       "      <td>2015-06-07</td>\n",
       "      <td>20:00:00</td>\n",
       "    </tr>\n",
       "    <tr>\n",
       "      <th>3</th>\n",
       "      <td>4</td>\n",
       "      <td>Lansdowne Stadium</td>\n",
       "      <td>{u'country': u'Norway', u'code': u'NOR', u'goa...</td>\n",
       "      <td>{u'country': u'Thailand', u'code': u'THA', u'g...</td>\n",
       "      <td>Norway</td>\n",
       "      <td>[{u'type_of_event': u'goal', u'player': u'Rønn...</td>\n",
       "      <td>[{u'type_of_event': u'yellow-card', u'player':...</td>\n",
       "      <td>2015-06-07</td>\n",
       "      <td>17:00:00</td>\n",
       "    </tr>\n",
       "    <tr>\n",
       "      <th>4</th>\n",
       "      <td>5</td>\n",
       "      <td>BC Place Stadium</td>\n",
       "      <td>{u'country': u'Japan', u'code': u'JPN', u'goal...</td>\n",
       "      <td>{u'country': u'Switzerland', u'code': u'SUI', ...</td>\n",
       "      <td>Japan</td>\n",
       "      <td>[{u'type_of_event': u'goal-penalty', u'player'...</td>\n",
       "      <td>[{u'type_of_event': u'yellow-card', u'player':...</td>\n",
       "      <td>2015-06-08</td>\n",
       "      <td>23:00:00</td>\n",
       "    </tr>\n",
       "  </tbody>\n",
       "</table>\n",
       "</div>"
      ],
      "text/plain": [
       "   match_number              location  \\\n",
       "0             1  Commonwealth Stadium   \n",
       "1             2  Commonwealth Stadium   \n",
       "2             3     Lansdowne Stadium   \n",
       "3             4     Lansdowne Stadium   \n",
       "4             5      BC Place Stadium   \n",
       "\n",
       "                                           home_team  \\\n",
       "0  {u'country': u'Canada', u'code': u'CAN', u'goa...   \n",
       "1  {u'country': u'New Zealand', u'code': u'NZL', ...   \n",
       "2  {u'country': u'Germany', u'code': u'GER', u'go...   \n",
       "3  {u'country': u'Norway', u'code': u'NOR', u'goa...   \n",
       "4  {u'country': u'Japan', u'code': u'JPN', u'goal...   \n",
       "\n",
       "                                           away_team       winner  \\\n",
       "0  {u'country': u'China', u'code': u'CHN', u'goal...       Canada   \n",
       "1  {u'country': u'Netherlands', u'code': u'NED', ...  Netherlands   \n",
       "2  {u'country': u'Ivory Coast', u'code': u'CIV', ...      Germany   \n",
       "3  {u'country': u'Thailand', u'code': u'THA', u'g...       Norway   \n",
       "4  {u'country': u'Switzerland', u'code': u'SUI', ...        Japan   \n",
       "\n",
       "                                    home_team_events  \\\n",
       "0  [{u'type_of_event': u'yellow-card', u'player':...   \n",
       "1  [{u'type_of_event': u'substitution-out', u'pla...   \n",
       "2  [{u'type_of_event': u'goal', u'player': u'Sasi...   \n",
       "3  [{u'type_of_event': u'goal', u'player': u'Rønn...   \n",
       "4  [{u'type_of_event': u'goal-penalty', u'player'...   \n",
       "\n",
       "                                    away_team_events   game_date game_time  \n",
       "0  [{u'type_of_event': u'substitution-out', u'pla...  2015-06-06  20:00:00  \n",
       "1  [{u'type_of_event': u'yellow-card', u'player':...  2015-06-06  23:00:00  \n",
       "2  [{u'type_of_event': u'yellow-card', u'player':...  2015-06-07  20:00:00  \n",
       "3  [{u'type_of_event': u'yellow-card', u'player':...  2015-06-07  17:00:00  \n",
       "4  [{u'type_of_event': u'yellow-card', u'player':...  2015-06-08  23:00:00  "
      ]
     },
     "execution_count": 123,
     "metadata": {},
     "output_type": "execute_result"
    }
   ],
   "source": [
    "data = data.drop('datetime', axis=1)\n",
    "data.head()"
   ]
  },
  {
   "cell_type": "code",
   "execution_count": 126,
   "metadata": {
    "collapsed": false
   },
   "outputs": [
    {
     "data": {
      "text/plain": [
       "numpy.int64"
      ]
     },
     "execution_count": 126,
     "metadata": {},
     "output_type": "execute_result"
    }
   ],
   "source": [
    "# Split data from teams\n",
    "for team in ['home', 'away']:\n",
    "    extract = np.array([[elem['country'], elem['code'], elem['goals']] for elem in data['%s_team' %team]])\n",
    "    data['%s' %team] = extract[:,0]\n",
    "    data['%s_code' %team] = extract[:,1]\n",
    "    data['%s_goals' %team] = extract[:,2].astype(np.int)\n",
    "    data = data.drop('%s_team' %team, axis=1)\n",
    "\n",
    "data.head()"
   ]
  },
  {
   "cell_type": "code",
   "execution_count": 127,
   "metadata": {
    "collapsed": false
   },
   "outputs": [
    {
     "data": {
      "text/html": [
       "<div>\n",
       "<table border=\"1\" class=\"dataframe\">\n",
       "  <thead>\n",
       "    <tr style=\"text-align: right;\">\n",
       "      <th></th>\n",
       "      <th>match_number</th>\n",
       "      <th>home</th>\n",
       "      <th>home_goals</th>\n",
       "      <th>away</th>\n",
       "      <th>away_goals</th>\n",
       "      <th>winner</th>\n",
       "      <th>location</th>\n",
       "      <th>game_date</th>\n",
       "      <th>game_time</th>\n",
       "      <th>home_code</th>\n",
       "      <th>home_team_events</th>\n",
       "      <th>away_code</th>\n",
       "      <th>away_team_events</th>\n",
       "    </tr>\n",
       "  </thead>\n",
       "  <tbody>\n",
       "    <tr>\n",
       "      <th>0</th>\n",
       "      <td>1</td>\n",
       "      <td>Canada</td>\n",
       "      <td>1</td>\n",
       "      <td>China</td>\n",
       "      <td>0</td>\n",
       "      <td>Canada</td>\n",
       "      <td>Commonwealth Stadium</td>\n",
       "      <td>2015-06-06</td>\n",
       "      <td>20:00:00</td>\n",
       "      <td>CAN</td>\n",
       "      <td>[{u'type_of_event': u'yellow-card', u'player':...</td>\n",
       "      <td>CHN</td>\n",
       "      <td>[{u'type_of_event': u'substitution-out', u'pla...</td>\n",
       "    </tr>\n",
       "    <tr>\n",
       "      <th>1</th>\n",
       "      <td>2</td>\n",
       "      <td>New Zealand</td>\n",
       "      <td>0</td>\n",
       "      <td>Netherlands</td>\n",
       "      <td>1</td>\n",
       "      <td>Netherlands</td>\n",
       "      <td>Commonwealth Stadium</td>\n",
       "      <td>2015-06-06</td>\n",
       "      <td>23:00:00</td>\n",
       "      <td>NZL</td>\n",
       "      <td>[{u'type_of_event': u'substitution-out', u'pla...</td>\n",
       "      <td>NED</td>\n",
       "      <td>[{u'type_of_event': u'yellow-card', u'player':...</td>\n",
       "    </tr>\n",
       "    <tr>\n",
       "      <th>2</th>\n",
       "      <td>3</td>\n",
       "      <td>Germany</td>\n",
       "      <td>10</td>\n",
       "      <td>Ivory Coast</td>\n",
       "      <td>0</td>\n",
       "      <td>Germany</td>\n",
       "      <td>Lansdowne Stadium</td>\n",
       "      <td>2015-06-07</td>\n",
       "      <td>20:00:00</td>\n",
       "      <td>GER</td>\n",
       "      <td>[{u'type_of_event': u'goal', u'player': u'Sasi...</td>\n",
       "      <td>CIV</td>\n",
       "      <td>[{u'type_of_event': u'yellow-card', u'player':...</td>\n",
       "    </tr>\n",
       "    <tr>\n",
       "      <th>3</th>\n",
       "      <td>4</td>\n",
       "      <td>Norway</td>\n",
       "      <td>4</td>\n",
       "      <td>Thailand</td>\n",
       "      <td>0</td>\n",
       "      <td>Norway</td>\n",
       "      <td>Lansdowne Stadium</td>\n",
       "      <td>2015-06-07</td>\n",
       "      <td>17:00:00</td>\n",
       "      <td>NOR</td>\n",
       "      <td>[{u'type_of_event': u'goal', u'player': u'Rønn...</td>\n",
       "      <td>THA</td>\n",
       "      <td>[{u'type_of_event': u'yellow-card', u'player':...</td>\n",
       "    </tr>\n",
       "    <tr>\n",
       "      <th>4</th>\n",
       "      <td>5</td>\n",
       "      <td>Japan</td>\n",
       "      <td>1</td>\n",
       "      <td>Switzerland</td>\n",
       "      <td>0</td>\n",
       "      <td>Japan</td>\n",
       "      <td>BC Place Stadium</td>\n",
       "      <td>2015-06-08</td>\n",
       "      <td>23:00:00</td>\n",
       "      <td>JPN</td>\n",
       "      <td>[{u'type_of_event': u'goal-penalty', u'player'...</td>\n",
       "      <td>SUI</td>\n",
       "      <td>[{u'type_of_event': u'yellow-card', u'player':...</td>\n",
       "    </tr>\n",
       "  </tbody>\n",
       "</table>\n",
       "</div>"
      ],
      "text/plain": [
       "   match_number         home  home_goals         away  away_goals  \\\n",
       "0             1       Canada           1        China           0   \n",
       "1             2  New Zealand           0  Netherlands           1   \n",
       "2             3      Germany          10  Ivory Coast           0   \n",
       "3             4       Norway           4     Thailand           0   \n",
       "4             5        Japan           1  Switzerland           0   \n",
       "\n",
       "        winner              location   game_date game_time home_code  \\\n",
       "0       Canada  Commonwealth Stadium  2015-06-06  20:00:00       CAN   \n",
       "1  Netherlands  Commonwealth Stadium  2015-06-06  23:00:00       NZL   \n",
       "2      Germany     Lansdowne Stadium  2015-06-07  20:00:00       GER   \n",
       "3       Norway     Lansdowne Stadium  2015-06-07  17:00:00       NOR   \n",
       "4        Japan      BC Place Stadium  2015-06-08  23:00:00       JPN   \n",
       "\n",
       "                                    home_team_events away_code  \\\n",
       "0  [{u'type_of_event': u'yellow-card', u'player':...       CHN   \n",
       "1  [{u'type_of_event': u'substitution-out', u'pla...       NED   \n",
       "2  [{u'type_of_event': u'goal', u'player': u'Sasi...       CIV   \n",
       "3  [{u'type_of_event': u'goal', u'player': u'Rønn...       THA   \n",
       "4  [{u'type_of_event': u'goal-penalty', u'player'...       SUI   \n",
       "\n",
       "                                    away_team_events  \n",
       "0  [{u'type_of_event': u'substitution-out', u'pla...  \n",
       "1  [{u'type_of_event': u'yellow-card', u'player':...  \n",
       "2  [{u'type_of_event': u'yellow-card', u'player':...  \n",
       "3  [{u'type_of_event': u'yellow-card', u'player':...  \n",
       "4  [{u'type_of_event': u'yellow-card', u'player':...  "
      ]
     },
     "execution_count": 127,
     "metadata": {},
     "output_type": "execute_result"
    }
   ],
   "source": [
    "# Rearrange elements for easier reading\n",
    "data = data.ix[:, ['match_number', 'home', 'home_goals', 'away', 'away_goals', 'winner',  'location', 'game_date',\n",
    "                   'game_time', 'home_code', 'home_team_events', 'away_code', 'away_team_events']]\n",
    "data.head()"
   ]
  },
  {
   "cell_type": "code",
   "execution_count": 159,
   "metadata": {
    "collapsed": false
   },
   "outputs": [
    {
     "data": {
      "text/plain": [
       "(-1, 20)"
      ]
     },
     "execution_count": 159,
     "metadata": {},
     "output_type": "execute_result"
    },
    {
     "data": {
      "image/png": "[encoded data removed]",
      "text/plain": [
       "<matplotlib.figure.Figure at 0x1187b5390>"
      ]
     },
     "metadata": {},
     "output_type": "display_data"
    }
   ],
   "source": [
    "home = pd.DataFrame(data.groupby('home')['home_goals'].sum())\n",
    "away = pd.DataFrame(data.groupby('away')['away_goals'].sum())\n",
    "goals = pd.merge(home, away, left_index='home', right_index='away')\n",
    "# goals.plot(x=goals['home_goals'].values, y=goals['away_goals'].values, kind='scatter')\n",
    "goals.plot('home_goals', 'away_goals', kind='scatter')\n",
    "plt.ylim(-1, 20)\n",
    "plt.xlim(-1, 20)"
   ]
  }
 ],
 "metadata": {
  "kernelspec": {
   "display_name": "Python 2",
   "language": "python",
   "name": "python2"
  },
  "language_info": {
   "codemirror_mode": {
    "name": "ipython",
    "version": 2
   },
   "file_extension": ".py",
   "mimetype": "text/x-python",
   "name": "python",
   "nbconvert_exporter": "python",
   "pygments_lexer": "ipython2",
   "version": "2.7.11"
  }
 },
 "nbformat": 4,
 "nbformat_minor": 0
}
